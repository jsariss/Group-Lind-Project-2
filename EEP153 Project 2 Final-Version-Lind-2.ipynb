{
 "cells": [
  {
   "cell_type": "markdown",
   "id": "ad2ddcc8",
   "metadata": {},
   "source": [
    "## EEP 153 Team Lind Project 2\n",
    "\n",
    "### Mediterranean Diets and the Minimum-Cost Diets\n",
    "\n",
    "The following code helps us visualize what constitutes a minimum-cost mediterranean diet looks like. This will help build our basis to answer our main question: is a mediterranean diet attainable given regional variability, namely in California— looking at Berkeley, a relatively well-off community and a CalEnviroScreen disadvantaged community in Fresno.\n",
    "\n",
    "We will first begin by installing the modules given to us in lecture."
   ]
  },
  {
   "cell_type": "code",
   "execution_count": 3,
   "id": "9d0d1b15",
   "metadata": {},
   "outputs": [
    {
     "name": "stdout",
     "output_type": "stream",
     "text": [
      "Requirement already satisfied: numpy>=1.20.3 in /opt/conda/lib/python3.9/site-packages (from -r requirements.txt (line 4)) (1.21.5)\n",
      "Requirement already satisfied: pandas>=1.2.5 in /opt/conda/lib/python3.9/site-packages (from -r requirements.txt (line 7)) (1.3.5)\n",
      "Collecting pint>=0.18\n",
      "  Using cached Pint-0.18-py2.py3-none-any.whl (209 kB)\n",
      "Requirement already satisfied: requests>=2.26.0 in /opt/conda/lib/python3.9/site-packages (from -r requirements.txt (line 13)) (2.26.0)\n",
      "Collecting eep153_tools\n",
      "  Using cached eep153_tools-0.11-py2.py3-none-any.whl (4.4 kB)\n",
      "Processing /home/jovyan/.cache/pip/wheels/20/7e/30/7d702acd6a1e89911301cd9dbf9cb9870ca80c0e64bc2cde23/gnupg-2.3.1-py3-none-any.whl\n",
      "Requirement already satisfied: python-dateutil>=2.7.3 in /opt/conda/lib/python3.9/site-packages (from pandas>=1.2.5->-r requirements.txt (line 7)) (2.8.0)\n",
      "Requirement already satisfied: pytz>=2017.3 in /opt/conda/lib/python3.9/site-packages (from pandas>=1.2.5->-r requirements.txt (line 7)) (2021.1)\n",
      "Requirement already satisfied: packaging in /opt/conda/lib/python3.9/site-packages (from pint>=0.18->-r requirements.txt (line 10)) (21.3)\n",
      "Requirement already satisfied: charset-normalizer~=2.0.0; python_version >= \"3\" in /opt/conda/lib/python3.9/site-packages (from requests>=2.26.0->-r requirements.txt (line 13)) (2.0.0)\n",
      "Requirement already satisfied: certifi>=2017.4.17 in /opt/conda/lib/python3.9/site-packages (from requests>=2.26.0->-r requirements.txt (line 13)) (2019.11.28)\n",
      "Requirement already satisfied: urllib3<1.27,>=1.21.1 in /opt/conda/lib/python3.9/site-packages (from requests>=2.26.0->-r requirements.txt (line 13)) (1.25.7)\n",
      "Requirement already satisfied: idna<4,>=2.5; python_version >= \"3\" in /opt/conda/lib/python3.9/site-packages (from requests>=2.26.0->-r requirements.txt (line 13)) (2.8)\n",
      "Requirement already satisfied: psutil>=1.2.1 in /opt/conda/lib/python3.9/site-packages (from gnupg->-r requirements.txt (line 17)) (5.9.0)\n",
      "Requirement already satisfied: six>=1.5 in /opt/conda/lib/python3.9/site-packages (from python-dateutil>=2.7.3->pandas>=1.2.5->-r requirements.txt (line 7)) (1.16.0)\n",
      "Requirement already satisfied: pyparsing!=3.0.5,>=2.0.2 in /opt/conda/lib/python3.9/site-packages (from packaging->pint>=0.18->-r requirements.txt (line 10)) (3.0.7)\n",
      "Installing collected packages: pint, eep153-tools, gnupg\n",
      "  Attempting uninstall: pint\n",
      "    Found existing installation: Pint 0.17\n",
      "    Uninstalling Pint-0.17:\n",
      "      Successfully uninstalled Pint-0.17\n",
      "Successfully installed eep153-tools-0.11 gnupg-2.3.1 pint-0.18\n"
     ]
    }
   ],
   "source": [
    "!pip install -r requirements.txt"
   ]
  },
  {
   "cell_type": "markdown",
   "id": "48d6c147",
   "metadata": {},
   "source": [
    "Now we can assign our API key from the USDA Food Central DataBase that we will use to assign food items with an FDC ID and according nutritional information."
   ]
  },
  {
   "cell_type": "code",
   "execution_count": 4,
   "id": "181d0ead",
   "metadata": {},
   "outputs": [],
   "source": [
    "apikey = \"mcahDx8n8FkXewC5PNO9wlSX64zLwktGoSChuixa\" #API Key for Project Group James Lind"
   ]
  },
  {
   "cell_type": "code",
   "execution_count": 5,
   "id": "3b3f3f9e",
   "metadata": {},
   "outputs": [],
   "source": [
    "#Load in the USDA Food Central DataBase and other necessary packages\n",
    "import fooddatacentral as fdc\n",
    "import pandas as pd"
   ]
  },
  {
   "cell_type": "markdown",
   "id": "75689f29",
   "metadata": {},
   "source": [
    "After researching the mediterranean diet, we came up with a grocery list we would apply to our populations of interest. Our food items include: olive oil, chickpeas, eggs, canned tuna, milk, feta, greek yogurt, oranges, avocado, broccoli, spinach, sweet potato, rice, and bread.\n",
    "\n",
    "Now we can assign our all of our food items their corresponding FDC ID number that will provide us the necessary information to understand their nutrients. "
   ]
  },
  {
   "cell_type": "code",
   "execution_count": 6,
   "id": "8e113fd3",
   "metadata": {},
   "outputs": [],
   "source": [
    "id1 = 1582039 #Olive oil \n",
    "id2 = 1100433 #Chickpeas\n",
    "id3 = 747997 #Eggs\n",
    "id4 = 334194 #Canned tuna\n",
    "id5 = 1904187 #Milk\n",
    "id6 = 173420 #Feta\n",
    "id7 = 170903 #Greek yogurt\n",
    "id8 = 1102597 #Oranges\n",
    "id9 = 1102652 # Avocado\n",
    "id10 = 1103278 #Tomato\n",
    "id11 = 1103177 #Broccoli\n",
    "id12 = 1103136 #Spinach\n",
    "id13 = 1103249 #Sweet potato\n",
    "id14 = 2077766 #Rice\n",
    "id15 = 1100740 #Bread"
   ]
  },
  {
   "cell_type": "markdown",
   "id": "dc7cf327",
   "metadata": {},
   "source": [
    "Now that we have assgined our food items with their FDC ID, we will organize the called information before creating a dataframe. This entails dropping repetitive columns."
   ]
  },
  {
   "cell_type": "code",
   "execution_count": 9,
   "id": "2b9d3f91",
   "metadata": {},
   "outputs": [],
   "source": [
    "#Calling each food item into a data frame and dropping the units column\n",
    "oliveoil = fdc.nutrients(apikey, fdc_id = id1).drop([\"Units\"], axis = 1)\n",
    "\n",
    "chickpea = fdc.nutrients(apikey, fdc_id = id2).drop([\"Units\"], axis = 1)\n",
    "\n",
    "egg = fdc.nutrients(apikey, fdc_id = id3).drop([\"Units\"], axis = 1)\n",
    "\n",
    "tuna = fdc.nutrients(apikey,fdc_id = id4).drop([\"Units\"], axis = 1)\n",
    "\n",
    "milk = fdc.nutrients(apikey,fdc_id = id5).drop([\"Units\"], axis = 1)\n",
    "\n",
    "feta = fdc.nutrients(apikey,fdc_id = id6).drop([\"Units\"], axis = 1)\n",
    "\n",
    "yogurt = fdc.nutrients(apikey,fdc_id=id7).drop([\"Units\"], axis=1)\n",
    "\n",
    "orange = fdc.nutrients(apikey,fdc_id=id8).drop([\"Units\"], axis=1)\n",
    "\n",
    "avocado = fdc.nutrients(apikey,fdc_id=id9).drop([\"Units\"], axis=1)\n",
    "\n",
    "tomato = fdc.nutrients(apikey,fdc_id=id10).drop([\"Units\"], axis=1)\n",
    "\n",
    "broccoli = fdc.nutrients(apikey,fdc_id=id11).drop([\"Units\"], axis=1)\n",
    "\n",
    "spinach = fdc.nutrients(apikey,fdc_id=id12).drop([\"Units\"], axis=1)\n",
    "\n",
    "potato = fdc.nutrients(apikey,fdc_id=id13).drop([\"Units\"], axis=1)\n",
    "\n",
    "rice = fdc.nutrients(apikey,fdc_id=id14).drop([\"Units\"], axis=1)\n",
    "\n",
    "bread = fdc.nutrients(apikey,fdc_id=id15).drop([\"Units\"], axis=1)\n",
    "\n",
    "#Renaming of Columns into the actual food items\n",
    "units = fdc.nutrients(apikey,fdc_id = id3).drop([\"Quantity\"], axis = 1)\n",
    "\n",
    "oliveoil.rename(columns = {'Quantity':'Olive oil'}, inplace = True)\n",
    "\n",
    "chickpea.rename(columns = {'Quantity':'Chickpeas'}, inplace = True)\n",
    "\n",
    "egg.rename(columns = {'Quantity':'Eggs'}, inplace = True)\n",
    "\n",
    "tuna.rename(columns = {'Quantity':'Canned tuna'}, inplace = True)\n",
    "\n",
    "milk.rename(columns = {'Quantity':'Milk'}, inplace = True)\n",
    "\n",
    "feta.rename(columns = {'Quantity':'Feta'}, inplace = True)\n",
    "\n",
    "yogurt.rename(columns = {'Quantity':'Greek yogurt'}, inplace = True)\n",
    "\n",
    "orange.rename(columns = {'Quantity':'Oranges'}, inplace = True)\n",
    "\n",
    "avocado.rename(columns = {'Quantity':'Avocado'}, inplace = True)\n",
    "\n",
    "tomato.rename(columns = {'Quantity':'Tomato'}, inplace = True)\n",
    "\n",
    "broccoli.rename(columns = {'Quantity':'Broccoli'}, inplace = True)\n",
    "\n",
    "spinach.rename(columns = {'Quantity':'Spinach'}, inplace = True)\n",
    "\n",
    "potato.rename(columns = {'Quantity':'Sweet potatoes'}, inplace = True)\n",
    "\n",
    "rice.rename(columns = {'Quantity':'Rice'}, inplace = True)\n",
    "\n",
    "bread.rename(columns = {'Quantity':'Whole Wheat Bread'}, inplace = True)"
   ]
  },
  {
   "cell_type": "markdown",
   "id": "c8d5dcff",
   "metadata": {},
   "source": [
    "We will now create a matrix *A* with A min and A max array to correst to diet inequalities. "
   ]
  },
  {
   "cell_type": "code",
   "execution_count": 10,
   "id": "562cbb1a",
   "metadata": {},
   "outputs": [
    {
     "data": {
      "text/html": [
       "<div>\n",
       "<style scoped>\n",
       "    .dataframe tbody tr th:only-of-type {\n",
       "        vertical-align: middle;\n",
       "    }\n",
       "\n",
       "    .dataframe tbody tr th {\n",
       "        vertical-align: top;\n",
       "    }\n",
       "\n",
       "    .dataframe thead th {\n",
       "        text-align: right;\n",
       "    }\n",
       "</style>\n",
       "<table border=\"1\" class=\"dataframe\">\n",
       "  <thead>\n",
       "    <tr style=\"text-align: right;\">\n",
       "      <th></th>\n",
       "      <th>Units</th>\n",
       "      <th>Olive oil</th>\n",
       "      <th>Chickpeas</th>\n",
       "      <th>Eggs</th>\n",
       "      <th>Canned tuna</th>\n",
       "      <th>Milk</th>\n",
       "      <th>Feta</th>\n",
       "      <th>Greek yogurt</th>\n",
       "      <th>Oranges</th>\n",
       "      <th>Avocado</th>\n",
       "      <th>Tomato</th>\n",
       "      <th>Broccoli</th>\n",
       "      <th>Spinach</th>\n",
       "      <th>Sweet potatoes</th>\n",
       "      <th>Rice</th>\n",
       "      <th>Whole Wheat Bread</th>\n",
       "    </tr>\n",
       "  </thead>\n",
       "  <tbody>\n",
       "    <tr>\n",
       "      <th>Proximates</th>\n",
       "      <td>g</td>\n",
       "      <td>0.0</td>\n",
       "      <td>0.00</td>\n",
       "      <td>0.00</td>\n",
       "      <td>0.00</td>\n",
       "      <td>0.00</td>\n",
       "      <td>0.000</td>\n",
       "      <td>0.000</td>\n",
       "      <td>0.00</td>\n",
       "      <td>0.00</td>\n",
       "      <td>0.00</td>\n",
       "      <td>0.00</td>\n",
       "      <td>0.00</td>\n",
       "      <td>0.00</td>\n",
       "      <td>0.00</td>\n",
       "      <td>0.0</td>\n",
       "    </tr>\n",
       "    <tr>\n",
       "      <th>Water</th>\n",
       "      <td>g</td>\n",
       "      <td>0.0</td>\n",
       "      <td>64.03</td>\n",
       "      <td>86.30</td>\n",
       "      <td>79.00</td>\n",
       "      <td>0.00</td>\n",
       "      <td>55.220</td>\n",
       "      <td>83.560</td>\n",
       "      <td>86.75</td>\n",
       "      <td>73.23</td>\n",
       "      <td>89.79</td>\n",
       "      <td>85.88</td>\n",
       "      <td>91.40</td>\n",
       "      <td>76.03</td>\n",
       "      <td>0.00</td>\n",
       "      <td>38.7</td>\n",
       "    </tr>\n",
       "    <tr>\n",
       "      <th>Energy</th>\n",
       "      <td>kJ</td>\n",
       "      <td>800.0</td>\n",
       "      <td>146.00</td>\n",
       "      <td>231.00</td>\n",
       "      <td>376.00</td>\n",
       "      <td>62.00</td>\n",
       "      <td>1107.000</td>\n",
       "      <td>305.000</td>\n",
       "      <td>47.00</td>\n",
       "      <td>160.00</td>\n",
       "      <td>50.00</td>\n",
       "      <td>61.00</td>\n",
       "      <td>23.00</td>\n",
       "      <td>114.00</td>\n",
       "      <td>356.00</td>\n",
       "      <td>254.0</td>\n",
       "    </tr>\n",
       "    <tr>\n",
       "      <th>Nitrogen</th>\n",
       "      <td>g</td>\n",
       "      <td>0.0</td>\n",
       "      <td>0.00</td>\n",
       "      <td>1.71</td>\n",
       "      <td>3.04</td>\n",
       "      <td>0.00</td>\n",
       "      <td>0.000</td>\n",
       "      <td>0.000</td>\n",
       "      <td>0.00</td>\n",
       "      <td>0.00</td>\n",
       "      <td>0.00</td>\n",
       "      <td>0.00</td>\n",
       "      <td>0.00</td>\n",
       "      <td>0.00</td>\n",
       "      <td>0.00</td>\n",
       "      <td>0.0</td>\n",
       "    </tr>\n",
       "    <tr>\n",
       "      <th>Protein</th>\n",
       "      <td>g</td>\n",
       "      <td>0.0</td>\n",
       "      <td>8.19</td>\n",
       "      <td>10.70</td>\n",
       "      <td>19.00</td>\n",
       "      <td>3.33</td>\n",
       "      <td>14.210</td>\n",
       "      <td>9.950</td>\n",
       "      <td>0.94</td>\n",
       "      <td>2.00</td>\n",
       "      <td>1.08</td>\n",
       "      <td>2.84</td>\n",
       "      <td>2.86</td>\n",
       "      <td>1.30</td>\n",
       "      <td>6.67</td>\n",
       "      <td>12.3</td>\n",
       "    </tr>\n",
       "    <tr>\n",
       "      <th>...</th>\n",
       "      <td>...</td>\n",
       "      <td>...</td>\n",
       "      <td>...</td>\n",
       "      <td>...</td>\n",
       "      <td>...</td>\n",
       "      <td>...</td>\n",
       "      <td>...</td>\n",
       "      <td>...</td>\n",
       "      <td>...</td>\n",
       "      <td>...</td>\n",
       "      <td>...</td>\n",
       "      <td>...</td>\n",
       "      <td>...</td>\n",
       "      <td>...</td>\n",
       "      <td>...</td>\n",
       "      <td>...</td>\n",
       "    </tr>\n",
       "    <tr>\n",
       "      <th>Cystine</th>\n",
       "      <td>0</td>\n",
       "      <td>0.0</td>\n",
       "      <td>0.00</td>\n",
       "      <td>0.00</td>\n",
       "      <td>0.00</td>\n",
       "      <td>0.00</td>\n",
       "      <td>0.083</td>\n",
       "      <td>0.048</td>\n",
       "      <td>0.00</td>\n",
       "      <td>0.00</td>\n",
       "      <td>0.00</td>\n",
       "      <td>0.00</td>\n",
       "      <td>0.00</td>\n",
       "      <td>0.00</td>\n",
       "      <td>0.00</td>\n",
       "      <td>0.0</td>\n",
       "    </tr>\n",
       "    <tr>\n",
       "      <th>Starch</th>\n",
       "      <td>0</td>\n",
       "      <td>0.0</td>\n",
       "      <td>0.00</td>\n",
       "      <td>0.00</td>\n",
       "      <td>0.00</td>\n",
       "      <td>0.00</td>\n",
       "      <td>0.000</td>\n",
       "      <td>0.000</td>\n",
       "      <td>0.00</td>\n",
       "      <td>0.00</td>\n",
       "      <td>0.00</td>\n",
       "      <td>0.00</td>\n",
       "      <td>0.00</td>\n",
       "      <td>0.00</td>\n",
       "      <td>0.00</td>\n",
       "      <td>0.0</td>\n",
       "    </tr>\n",
       "    <tr>\n",
       "      <th>MUFA 14:1</th>\n",
       "      <td>0</td>\n",
       "      <td>0.0</td>\n",
       "      <td>0.00</td>\n",
       "      <td>0.00</td>\n",
       "      <td>0.00</td>\n",
       "      <td>0.00</td>\n",
       "      <td>0.000</td>\n",
       "      <td>0.021</td>\n",
       "      <td>0.00</td>\n",
       "      <td>0.00</td>\n",
       "      <td>0.00</td>\n",
       "      <td>0.00</td>\n",
       "      <td>0.00</td>\n",
       "      <td>0.00</td>\n",
       "      <td>0.00</td>\n",
       "      <td>0.0</td>\n",
       "    </tr>\n",
       "    <tr>\n",
       "      <th>PUFA 18:3i</th>\n",
       "      <td>0</td>\n",
       "      <td>0.0</td>\n",
       "      <td>0.00</td>\n",
       "      <td>0.00</td>\n",
       "      <td>0.00</td>\n",
       "      <td>0.00</td>\n",
       "      <td>0.000</td>\n",
       "      <td>0.000</td>\n",
       "      <td>0.00</td>\n",
       "      <td>0.00</td>\n",
       "      <td>0.00</td>\n",
       "      <td>0.00</td>\n",
       "      <td>0.00</td>\n",
       "      <td>0.00</td>\n",
       "      <td>0.00</td>\n",
       "      <td>0.0</td>\n",
       "    </tr>\n",
       "    <tr>\n",
       "      <th>PUFA 20:3</th>\n",
       "      <td>0</td>\n",
       "      <td>0.0</td>\n",
       "      <td>0.00</td>\n",
       "      <td>0.00</td>\n",
       "      <td>0.00</td>\n",
       "      <td>0.00</td>\n",
       "      <td>0.000</td>\n",
       "      <td>0.002</td>\n",
       "      <td>0.00</td>\n",
       "      <td>0.00</td>\n",
       "      <td>0.00</td>\n",
       "      <td>0.00</td>\n",
       "      <td>0.00</td>\n",
       "      <td>0.00</td>\n",
       "      <td>0.00</td>\n",
       "      <td>0.0</td>\n",
       "    </tr>\n",
       "  </tbody>\n",
       "</table>\n",
       "<p>166 rows × 16 columns</p>\n",
       "</div>"
      ],
      "text/plain": [
       "           Units  Olive oil  Chickpeas    Eggs  Canned tuna   Milk      Feta  \\\n",
       "Proximates     g        0.0       0.00    0.00         0.00   0.00     0.000   \n",
       "Water          g        0.0      64.03   86.30        79.00   0.00    55.220   \n",
       "Energy        kJ      800.0     146.00  231.00       376.00  62.00  1107.000   \n",
       "Nitrogen       g        0.0       0.00    1.71         3.04   0.00     0.000   \n",
       "Protein        g        0.0       8.19   10.70        19.00   3.33    14.210   \n",
       "...          ...        ...        ...     ...          ...    ...       ...   \n",
       "Cystine        0        0.0       0.00    0.00         0.00   0.00     0.083   \n",
       "Starch         0        0.0       0.00    0.00         0.00   0.00     0.000   \n",
       "MUFA 14:1      0        0.0       0.00    0.00         0.00   0.00     0.000   \n",
       "PUFA 18:3i     0        0.0       0.00    0.00         0.00   0.00     0.000   \n",
       "PUFA 20:3      0        0.0       0.00    0.00         0.00   0.00     0.000   \n",
       "\n",
       "            Greek yogurt  Oranges  Avocado  Tomato  Broccoli  Spinach  \\\n",
       "Proximates         0.000     0.00     0.00    0.00      0.00     0.00   \n",
       "Water             83.560    86.75    73.23   89.79     85.88    91.40   \n",
       "Energy           305.000    47.00   160.00   50.00     61.00    23.00   \n",
       "Nitrogen           0.000     0.00     0.00    0.00      0.00     0.00   \n",
       "Protein            9.950     0.94     2.00    1.08      2.84     2.86   \n",
       "...                  ...      ...      ...     ...       ...      ...   \n",
       "Cystine            0.048     0.00     0.00    0.00      0.00     0.00   \n",
       "Starch             0.000     0.00     0.00    0.00      0.00     0.00   \n",
       "MUFA 14:1          0.021     0.00     0.00    0.00      0.00     0.00   \n",
       "PUFA 18:3i         0.000     0.00     0.00    0.00      0.00     0.00   \n",
       "PUFA 20:3          0.002     0.00     0.00    0.00      0.00     0.00   \n",
       "\n",
       "            Sweet potatoes    Rice  Whole Wheat Bread  \n",
       "Proximates            0.00    0.00                0.0  \n",
       "Water                76.03    0.00               38.7  \n",
       "Energy              114.00  356.00              254.0  \n",
       "Nitrogen              0.00    0.00                0.0  \n",
       "Protein               1.30    6.67               12.3  \n",
       "...                    ...     ...                ...  \n",
       "Cystine               0.00    0.00                0.0  \n",
       "Starch                0.00    0.00                0.0  \n",
       "MUFA 14:1             0.00    0.00                0.0  \n",
       "PUFA 18:3i            0.00    0.00                0.0  \n",
       "PUFA 20:3             0.00    0.00                0.0  \n",
       "\n",
       "[166 rows x 16 columns]"
      ]
     },
     "execution_count": 10,
     "metadata": {},
     "output_type": "execute_result"
    }
   ],
   "source": [
    "#Need to convert NaN into 0s via professors lecture code\n",
    "df = pd.concat([units, oliveoil,chickpea, egg, tuna, milk, feta, yogurt, orange, avocado, \n",
    "                tomato, broccoli, spinach, potato, rice, bread], axis = 1)\n",
    "\n",
    "FoodNutrients= df.fillna(0)\n",
    "\n",
    "FoodNutrients"
   ]
  },
  {
   "cell_type": "markdown",
   "id": "4c8458c7",
   "metadata": {},
   "source": [
    "### Deliverable [A] Dietary Reference Intakes\n",
    "\n",
    "#### Function that takes arguments of characteristics of person (age, sex, weight, etc.) and  return a pandas.Series of Dietary Reference Intakes (DRIs) or Recommended Daily Allowances RDA \n",
    "\n",
    "Now we can begin writing the function for Deliverable A. We start by defining the min and max nutritional requirements by importing the csv files."
   ]
  },
  {
   "cell_type": "code",
   "execution_count": 11,
   "id": "e8558853",
   "metadata": {},
   "outputs": [],
   "source": [
    "def person(age, sex):\n",
    "    bmin = pd.read_csv('./diet_minimums.csv').set_index('Nutrition').iloc[:,2:]\n",
    "    bmax = pd.read_csv('./diet_maximums.csv').set_index('Nutrition').iloc[:,2:]\n",
    "    return"
   ]
  },
  {
   "cell_type": "code",
   "execution_count": 12,
   "id": "621983ba",
   "metadata": {},
   "outputs": [
    {
     "data": {
      "text/html": [
       "<div>\n",
       "<style scoped>\n",
       "    .dataframe tbody tr th:only-of-type {\n",
       "        vertical-align: middle;\n",
       "    }\n",
       "\n",
       "    .dataframe tbody tr th {\n",
       "        vertical-align: top;\n",
       "    }\n",
       "\n",
       "    .dataframe thead th {\n",
       "        text-align: right;\n",
       "    }\n",
       "</style>\n",
       "<table border=\"1\" class=\"dataframe\">\n",
       "  <thead>\n",
       "    <tr style=\"text-align: right;\">\n",
       "      <th></th>\n",
       "      <th>C 1-3</th>\n",
       "      <th>F 4-8</th>\n",
       "      <th>M 4-8</th>\n",
       "      <th>F 9-13</th>\n",
       "      <th>M 9-13</th>\n",
       "      <th>F 14-18</th>\n",
       "      <th>M 14-18</th>\n",
       "      <th>F 19-30</th>\n",
       "      <th>M 19-30</th>\n",
       "      <th>F 31-50</th>\n",
       "      <th>M 31-50</th>\n",
       "      <th>F 51+</th>\n",
       "      <th>M 51+</th>\n",
       "    </tr>\n",
       "    <tr>\n",
       "      <th>Nutrition</th>\n",
       "      <th></th>\n",
       "      <th></th>\n",
       "      <th></th>\n",
       "      <th></th>\n",
       "      <th></th>\n",
       "      <th></th>\n",
       "      <th></th>\n",
       "      <th></th>\n",
       "      <th></th>\n",
       "      <th></th>\n",
       "      <th></th>\n",
       "      <th></th>\n",
       "      <th></th>\n",
       "    </tr>\n",
       "  </thead>\n",
       "  <tbody>\n",
       "    <tr>\n",
       "      <th>Energy</th>\n",
       "      <td>1000.0</td>\n",
       "      <td>1200.0</td>\n",
       "      <td>1400.0</td>\n",
       "      <td>1600.0</td>\n",
       "      <td>1800.0</td>\n",
       "      <td>1800.0</td>\n",
       "      <td>2200.0</td>\n",
       "      <td>2000.0</td>\n",
       "      <td>2400.0</td>\n",
       "      <td>1800.0</td>\n",
       "      <td>2200.0</td>\n",
       "      <td>1600.0</td>\n",
       "      <td>2000.0</td>\n",
       "    </tr>\n",
       "    <tr>\n",
       "      <th>Protein</th>\n",
       "      <td>13.0</td>\n",
       "      <td>19.0</td>\n",
       "      <td>19.0</td>\n",
       "      <td>34.0</td>\n",
       "      <td>34.0</td>\n",
       "      <td>46.0</td>\n",
       "      <td>52.0</td>\n",
       "      <td>46.0</td>\n",
       "      <td>56.0</td>\n",
       "      <td>46.0</td>\n",
       "      <td>56.0</td>\n",
       "      <td>46.0</td>\n",
       "      <td>56.0</td>\n",
       "    </tr>\n",
       "    <tr>\n",
       "      <th>Fiber, total dietary</th>\n",
       "      <td>14.0</td>\n",
       "      <td>16.8</td>\n",
       "      <td>19.6</td>\n",
       "      <td>22.4</td>\n",
       "      <td>25.2</td>\n",
       "      <td>25.2</td>\n",
       "      <td>30.8</td>\n",
       "      <td>28.0</td>\n",
       "      <td>33.6</td>\n",
       "      <td>25.2</td>\n",
       "      <td>30.8</td>\n",
       "      <td>22.4</td>\n",
       "      <td>28.0</td>\n",
       "    </tr>\n",
       "    <tr>\n",
       "      <th>Folate, DFE</th>\n",
       "      <td>150.0</td>\n",
       "      <td>200.0</td>\n",
       "      <td>200.0</td>\n",
       "      <td>300.0</td>\n",
       "      <td>300.0</td>\n",
       "      <td>400.0</td>\n",
       "      <td>400.0</td>\n",
       "      <td>400.0</td>\n",
       "      <td>400.0</td>\n",
       "      <td>400.0</td>\n",
       "      <td>400.0</td>\n",
       "      <td>400.0</td>\n",
       "      <td>400.0</td>\n",
       "    </tr>\n",
       "    <tr>\n",
       "      <th>Calcium, Ca</th>\n",
       "      <td>700.0</td>\n",
       "      <td>1000.0</td>\n",
       "      <td>1000.0</td>\n",
       "      <td>1300.0</td>\n",
       "      <td>1300.0</td>\n",
       "      <td>1300.0</td>\n",
       "      <td>1300.0</td>\n",
       "      <td>1000.0</td>\n",
       "      <td>1000.0</td>\n",
       "      <td>1000.0</td>\n",
       "      <td>1000.0</td>\n",
       "      <td>1200.0</td>\n",
       "      <td>1000.0</td>\n",
       "    </tr>\n",
       "    <tr>\n",
       "      <th>Carbohydrate, by difference</th>\n",
       "      <td>130.0</td>\n",
       "      <td>130.0</td>\n",
       "      <td>130.0</td>\n",
       "      <td>130.0</td>\n",
       "      <td>130.0</td>\n",
       "      <td>130.0</td>\n",
       "      <td>130.0</td>\n",
       "      <td>130.0</td>\n",
       "      <td>130.0</td>\n",
       "      <td>130.0</td>\n",
       "      <td>130.0</td>\n",
       "      <td>130.0</td>\n",
       "      <td>130.0</td>\n",
       "    </tr>\n",
       "    <tr>\n",
       "      <th>Iron, Fe</th>\n",
       "      <td>7.0</td>\n",
       "      <td>10.0</td>\n",
       "      <td>10.0</td>\n",
       "      <td>8.0</td>\n",
       "      <td>8.0</td>\n",
       "      <td>15.0</td>\n",
       "      <td>11.0</td>\n",
       "      <td>18.0</td>\n",
       "      <td>8.0</td>\n",
       "      <td>18.0</td>\n",
       "      <td>8.0</td>\n",
       "      <td>8.0</td>\n",
       "      <td>8.0</td>\n",
       "    </tr>\n",
       "    <tr>\n",
       "      <th>Magnesium, Mg</th>\n",
       "      <td>80.0</td>\n",
       "      <td>130.0</td>\n",
       "      <td>130.0</td>\n",
       "      <td>240.0</td>\n",
       "      <td>240.0</td>\n",
       "      <td>360.0</td>\n",
       "      <td>410.0</td>\n",
       "      <td>310.0</td>\n",
       "      <td>400.0</td>\n",
       "      <td>320.0</td>\n",
       "      <td>420.0</td>\n",
       "      <td>320.0</td>\n",
       "      <td>420.0</td>\n",
       "    </tr>\n",
       "    <tr>\n",
       "      <th>Niacin</th>\n",
       "      <td>6.0</td>\n",
       "      <td>8.0</td>\n",
       "      <td>8.0</td>\n",
       "      <td>12.0</td>\n",
       "      <td>12.0</td>\n",
       "      <td>14.0</td>\n",
       "      <td>16.0</td>\n",
       "      <td>14.0</td>\n",
       "      <td>16.0</td>\n",
       "      <td>14.0</td>\n",
       "      <td>16.0</td>\n",
       "      <td>14.0</td>\n",
       "      <td>16.0</td>\n",
       "    </tr>\n",
       "    <tr>\n",
       "      <th>Phosphorus, P</th>\n",
       "      <td>460.0</td>\n",
       "      <td>500.0</td>\n",
       "      <td>500.0</td>\n",
       "      <td>1250.0</td>\n",
       "      <td>1250.0</td>\n",
       "      <td>1250.0</td>\n",
       "      <td>1250.0</td>\n",
       "      <td>700.0</td>\n",
       "      <td>700.0</td>\n",
       "      <td>700.0</td>\n",
       "      <td>700.0</td>\n",
       "      <td>700.0</td>\n",
       "      <td>700.0</td>\n",
       "    </tr>\n",
       "    <tr>\n",
       "      <th>Potassium, K</th>\n",
       "      <td>3000.0</td>\n",
       "      <td>3800.0</td>\n",
       "      <td>3800.0</td>\n",
       "      <td>4500.0</td>\n",
       "      <td>4500.0</td>\n",
       "      <td>4700.0</td>\n",
       "      <td>4700.0</td>\n",
       "      <td>4700.0</td>\n",
       "      <td>4700.0</td>\n",
       "      <td>4700.0</td>\n",
       "      <td>4700.0</td>\n",
       "      <td>4700.0</td>\n",
       "      <td>4700.0</td>\n",
       "    </tr>\n",
       "    <tr>\n",
       "      <th>Riboflavin</th>\n",
       "      <td>0.5</td>\n",
       "      <td>0.6</td>\n",
       "      <td>0.6</td>\n",
       "      <td>0.9</td>\n",
       "      <td>0.9</td>\n",
       "      <td>1.0</td>\n",
       "      <td>1.3</td>\n",
       "      <td>1.1</td>\n",
       "      <td>1.3</td>\n",
       "      <td>1.1</td>\n",
       "      <td>1.3</td>\n",
       "      <td>1.1</td>\n",
       "      <td>1.3</td>\n",
       "    </tr>\n",
       "    <tr>\n",
       "      <th>Thiamin</th>\n",
       "      <td>0.5</td>\n",
       "      <td>0.6</td>\n",
       "      <td>0.6</td>\n",
       "      <td>0.9</td>\n",
       "      <td>0.9</td>\n",
       "      <td>1.0</td>\n",
       "      <td>1.2</td>\n",
       "      <td>1.1</td>\n",
       "      <td>1.2</td>\n",
       "      <td>1.1</td>\n",
       "      <td>1.2</td>\n",
       "      <td>1.1</td>\n",
       "      <td>1.2</td>\n",
       "    </tr>\n",
       "    <tr>\n",
       "      <th>Vitamin A, RAE</th>\n",
       "      <td>300.0</td>\n",
       "      <td>400.0</td>\n",
       "      <td>400.0</td>\n",
       "      <td>600.0</td>\n",
       "      <td>600.0</td>\n",
       "      <td>700.0</td>\n",
       "      <td>900.0</td>\n",
       "      <td>700.0</td>\n",
       "      <td>900.0</td>\n",
       "      <td>700.0</td>\n",
       "      <td>900.0</td>\n",
       "      <td>700.0</td>\n",
       "      <td>900.0</td>\n",
       "    </tr>\n",
       "    <tr>\n",
       "      <th>Vitamin B-12</th>\n",
       "      <td>0.9</td>\n",
       "      <td>1.2</td>\n",
       "      <td>1.2</td>\n",
       "      <td>1.8</td>\n",
       "      <td>1.8</td>\n",
       "      <td>2.4</td>\n",
       "      <td>2.4</td>\n",
       "      <td>2.4</td>\n",
       "      <td>2.4</td>\n",
       "      <td>2.4</td>\n",
       "      <td>2.4</td>\n",
       "      <td>2.4</td>\n",
       "      <td>2.4</td>\n",
       "    </tr>\n",
       "    <tr>\n",
       "      <th>Vitamin B-6</th>\n",
       "      <td>0.5</td>\n",
       "      <td>0.6</td>\n",
       "      <td>0.6</td>\n",
       "      <td>1.0</td>\n",
       "      <td>1.0</td>\n",
       "      <td>1.2</td>\n",
       "      <td>1.3</td>\n",
       "      <td>1.3</td>\n",
       "      <td>1.3</td>\n",
       "      <td>1.3</td>\n",
       "      <td>1.3</td>\n",
       "      <td>1.5</td>\n",
       "      <td>1.7</td>\n",
       "    </tr>\n",
       "    <tr>\n",
       "      <th>Vitamin C, total ascorbic acid</th>\n",
       "      <td>15.0</td>\n",
       "      <td>25.0</td>\n",
       "      <td>25.0</td>\n",
       "      <td>45.0</td>\n",
       "      <td>45.0</td>\n",
       "      <td>65.0</td>\n",
       "      <td>75.0</td>\n",
       "      <td>75.0</td>\n",
       "      <td>90.0</td>\n",
       "      <td>75.0</td>\n",
       "      <td>90.0</td>\n",
       "      <td>75.0</td>\n",
       "      <td>90.0</td>\n",
       "    </tr>\n",
       "    <tr>\n",
       "      <th>Vitamin E (alpha-tocopherol)</th>\n",
       "      <td>6.0</td>\n",
       "      <td>7.0</td>\n",
       "      <td>7.0</td>\n",
       "      <td>11.0</td>\n",
       "      <td>11.0</td>\n",
       "      <td>15.0</td>\n",
       "      <td>15.0</td>\n",
       "      <td>15.0</td>\n",
       "      <td>15.0</td>\n",
       "      <td>15.0</td>\n",
       "      <td>15.0</td>\n",
       "      <td>15.0</td>\n",
       "      <td>15.0</td>\n",
       "    </tr>\n",
       "    <tr>\n",
       "      <th>Vitamin K (phylloquinone)</th>\n",
       "      <td>30.0</td>\n",
       "      <td>55.0</td>\n",
       "      <td>55.0</td>\n",
       "      <td>60.0</td>\n",
       "      <td>60.0</td>\n",
       "      <td>75.0</td>\n",
       "      <td>75.0</td>\n",
       "      <td>90.0</td>\n",
       "      <td>120.0</td>\n",
       "      <td>90.0</td>\n",
       "      <td>120.0</td>\n",
       "      <td>90.0</td>\n",
       "      <td>120.0</td>\n",
       "    </tr>\n",
       "    <tr>\n",
       "      <th>Zinc, Zn</th>\n",
       "      <td>3.0</td>\n",
       "      <td>5.0</td>\n",
       "      <td>5.0</td>\n",
       "      <td>8.0</td>\n",
       "      <td>8.0</td>\n",
       "      <td>9.0</td>\n",
       "      <td>11.0</td>\n",
       "      <td>8.0</td>\n",
       "      <td>11.0</td>\n",
       "      <td>8.0</td>\n",
       "      <td>11.0</td>\n",
       "      <td>8.0</td>\n",
       "      <td>11.0</td>\n",
       "    </tr>\n",
       "  </tbody>\n",
       "</table>\n",
       "</div>"
      ],
      "text/plain": [
       "                                 C 1-3   F 4-8   M 4-8  F 9-13  M 9-13  \\\n",
       "Nutrition                                                                \n",
       "Energy                          1000.0  1200.0  1400.0  1600.0  1800.0   \n",
       "Protein                           13.0    19.0    19.0    34.0    34.0   \n",
       "Fiber, total dietary              14.0    16.8    19.6    22.4    25.2   \n",
       "Folate, DFE                      150.0   200.0   200.0   300.0   300.0   \n",
       "Calcium, Ca                      700.0  1000.0  1000.0  1300.0  1300.0   \n",
       "Carbohydrate, by difference      130.0   130.0   130.0   130.0   130.0   \n",
       "Iron, Fe                           7.0    10.0    10.0     8.0     8.0   \n",
       "Magnesium, Mg                     80.0   130.0   130.0   240.0   240.0   \n",
       "Niacin                             6.0     8.0     8.0    12.0    12.0   \n",
       "Phosphorus, P                    460.0   500.0   500.0  1250.0  1250.0   \n",
       "Potassium, K                    3000.0  3800.0  3800.0  4500.0  4500.0   \n",
       "Riboflavin                         0.5     0.6     0.6     0.9     0.9   \n",
       "Thiamin                            0.5     0.6     0.6     0.9     0.9   \n",
       "Vitamin A, RAE                   300.0   400.0   400.0   600.0   600.0   \n",
       "Vitamin B-12                       0.9     1.2     1.2     1.8     1.8   \n",
       "Vitamin B-6                        0.5     0.6     0.6     1.0     1.0   \n",
       "Vitamin C, total ascorbic acid    15.0    25.0    25.0    45.0    45.0   \n",
       "Vitamin E (alpha-tocopherol)       6.0     7.0     7.0    11.0    11.0   \n",
       "Vitamin K (phylloquinone)         30.0    55.0    55.0    60.0    60.0   \n",
       "Zinc, Zn                           3.0     5.0     5.0     8.0     8.0   \n",
       "\n",
       "                                F 14-18  M 14-18  F 19-30  M 19-30  F 31-50  \\\n",
       "Nutrition                                                                     \n",
       "Energy                           1800.0   2200.0   2000.0   2400.0   1800.0   \n",
       "Protein                            46.0     52.0     46.0     56.0     46.0   \n",
       "Fiber, total dietary               25.2     30.8     28.0     33.6     25.2   \n",
       "Folate, DFE                       400.0    400.0    400.0    400.0    400.0   \n",
       "Calcium, Ca                      1300.0   1300.0   1000.0   1000.0   1000.0   \n",
       "Carbohydrate, by difference       130.0    130.0    130.0    130.0    130.0   \n",
       "Iron, Fe                           15.0     11.0     18.0      8.0     18.0   \n",
       "Magnesium, Mg                     360.0    410.0    310.0    400.0    320.0   \n",
       "Niacin                             14.0     16.0     14.0     16.0     14.0   \n",
       "Phosphorus, P                    1250.0   1250.0    700.0    700.0    700.0   \n",
       "Potassium, K                     4700.0   4700.0   4700.0   4700.0   4700.0   \n",
       "Riboflavin                          1.0      1.3      1.1      1.3      1.1   \n",
       "Thiamin                             1.0      1.2      1.1      1.2      1.1   \n",
       "Vitamin A, RAE                    700.0    900.0    700.0    900.0    700.0   \n",
       "Vitamin B-12                        2.4      2.4      2.4      2.4      2.4   \n",
       "Vitamin B-6                         1.2      1.3      1.3      1.3      1.3   \n",
       "Vitamin C, total ascorbic acid     65.0     75.0     75.0     90.0     75.0   \n",
       "Vitamin E (alpha-tocopherol)       15.0     15.0     15.0     15.0     15.0   \n",
       "Vitamin K (phylloquinone)          75.0     75.0     90.0    120.0     90.0   \n",
       "Zinc, Zn                            9.0     11.0      8.0     11.0      8.0   \n",
       "\n",
       "                                M 31-50   F 51+   M 51+  \n",
       "Nutrition                                                \n",
       "Energy                           2200.0  1600.0  2000.0  \n",
       "Protein                            56.0    46.0    56.0  \n",
       "Fiber, total dietary               30.8    22.4    28.0  \n",
       "Folate, DFE                       400.0   400.0   400.0  \n",
       "Calcium, Ca                      1000.0  1200.0  1000.0  \n",
       "Carbohydrate, by difference       130.0   130.0   130.0  \n",
       "Iron, Fe                            8.0     8.0     8.0  \n",
       "Magnesium, Mg                     420.0   320.0   420.0  \n",
       "Niacin                             16.0    14.0    16.0  \n",
       "Phosphorus, P                     700.0   700.0   700.0  \n",
       "Potassium, K                     4700.0  4700.0  4700.0  \n",
       "Riboflavin                          1.3     1.1     1.3  \n",
       "Thiamin                             1.2     1.1     1.2  \n",
       "Vitamin A, RAE                    900.0   700.0   900.0  \n",
       "Vitamin B-12                        2.4     2.4     2.4  \n",
       "Vitamin B-6                         1.3     1.5     1.7  \n",
       "Vitamin C, total ascorbic acid     90.0    75.0    90.0  \n",
       "Vitamin E (alpha-tocopherol)       15.0    15.0    15.0  \n",
       "Vitamin K (phylloquinone)         120.0    90.0   120.0  \n",
       "Zinc, Zn                           11.0     8.0    11.0  "
      ]
     },
     "execution_count": 12,
     "metadata": {},
     "output_type": "execute_result"
    }
   ],
   "source": [
    "bmin = pd.read_csv('./diet_minimums.csv').set_index('Nutrition').iloc[:,2:]\n",
    "\n",
    "bmax = pd.read_csv('./diet_maximums.csv').set_index('Nutrition').iloc[:,2:]\n",
    "\n",
    "bmin #prints table for min nutritional requirements for ages and gender"
   ]
  },
  {
   "cell_type": "code",
   "execution_count": 13,
   "id": "dc704a22",
   "metadata": {},
   "outputs": [
    {
     "data": {
      "text/html": [
       "<div>\n",
       "<style scoped>\n",
       "    .dataframe tbody tr th:only-of-type {\n",
       "        vertical-align: middle;\n",
       "    }\n",
       "\n",
       "    .dataframe tbody tr th {\n",
       "        vertical-align: top;\n",
       "    }\n",
       "\n",
       "    .dataframe thead th {\n",
       "        text-align: right;\n",
       "    }\n",
       "</style>\n",
       "<table border=\"1\" class=\"dataframe\">\n",
       "  <thead>\n",
       "    <tr style=\"text-align: right;\">\n",
       "      <th></th>\n",
       "      <th>C 1-3</th>\n",
       "      <th>F 4-8</th>\n",
       "      <th>M 4-8</th>\n",
       "      <th>F 9-13</th>\n",
       "      <th>M 9-13</th>\n",
       "      <th>F 14-18</th>\n",
       "      <th>M 14-18</th>\n",
       "      <th>F 19-30</th>\n",
       "      <th>M 19-30</th>\n",
       "      <th>F 31-50</th>\n",
       "      <th>M 31-50</th>\n",
       "      <th>F 51+</th>\n",
       "      <th>M 51+</th>\n",
       "    </tr>\n",
       "    <tr>\n",
       "      <th>Nutrition</th>\n",
       "      <th></th>\n",
       "      <th></th>\n",
       "      <th></th>\n",
       "      <th></th>\n",
       "      <th></th>\n",
       "      <th></th>\n",
       "      <th></th>\n",
       "      <th></th>\n",
       "      <th></th>\n",
       "      <th></th>\n",
       "      <th></th>\n",
       "      <th></th>\n",
       "      <th></th>\n",
       "    </tr>\n",
       "  </thead>\n",
       "  <tbody>\n",
       "    <tr>\n",
       "      <th>Sodium, Na</th>\n",
       "      <td>1500</td>\n",
       "      <td>1900</td>\n",
       "      <td>1900</td>\n",
       "      <td>2200</td>\n",
       "      <td>2200</td>\n",
       "      <td>2300</td>\n",
       "      <td>2300</td>\n",
       "      <td>2300</td>\n",
       "      <td>2300</td>\n",
       "      <td>2300</td>\n",
       "      <td>2300</td>\n",
       "      <td>2300</td>\n",
       "      <td>2300</td>\n",
       "    </tr>\n",
       "  </tbody>\n",
       "</table>\n",
       "</div>"
      ],
      "text/plain": [
       "            C 1-3  F 4-8  M 4-8  F 9-13  M 9-13  F 14-18  M 14-18  F 19-30  \\\n",
       "Nutrition                                                                    \n",
       "Sodium, Na   1500   1900   1900    2200    2200     2300     2300     2300   \n",
       "\n",
       "            M 19-30  F 31-50  M 31-50  F 51+  M 51+  \n",
       "Nutrition                                            \n",
       "Sodium, Na     2300     2300     2300   2300   2300  "
      ]
     },
     "execution_count": 13,
     "metadata": {},
     "output_type": "execute_result"
    }
   ],
   "source": [
    "bmax #prints max requirement for Sodium"
   ]
  },
  {
   "cell_type": "markdown",
   "id": "e68415ea",
   "metadata": {},
   "source": [
    "Next, we will pull individual minimum nutrient strings from data frame for genders and ages and assigns them to dri variables."
   ]
  },
  {
   "cell_type": "code",
   "execution_count": 14,
   "id": "5a4efee5",
   "metadata": {},
   "outputs": [
    {
     "data": {
      "text/plain": [
       "Nutrition\n",
       "Energy                            1400.0\n",
       "Protein                             19.0\n",
       "Fiber, total dietary                19.6\n",
       "Folate, DFE                        200.0\n",
       "Calcium, Ca                       1000.0\n",
       "Carbohydrate, by difference        130.0\n",
       "Iron, Fe                            10.0\n",
       "Magnesium, Mg                      130.0\n",
       "Niacin                               8.0\n",
       "Phosphorus, P                      500.0\n",
       "Potassium, K                      3800.0\n",
       "Riboflavin                           0.6\n",
       "Thiamin                              0.6\n",
       "Vitamin A, RAE                     400.0\n",
       "Vitamin B-12                         1.2\n",
       "Vitamin B-6                          0.6\n",
       "Vitamin C, total ascorbic acid      25.0\n",
       "Vitamin E (alpha-tocopherol)         7.0\n",
       "Vitamin K (phylloquinone)           55.0\n",
       "Zinc, Zn                             5.0\n",
       "Name: M 4-8, dtype: float64"
      ]
     },
     "execution_count": 14,
     "metadata": {},
     "output_type": "execute_result"
    }
   ],
   "source": [
    "def dri_female_min(age):\n",
    "    if age in range(1,4):\n",
    "        return bmin.iloc[:, 0]\n",
    "    if age in range(4,9):\n",
    "        return bmin.iloc[:, 1]\n",
    "    if age in range(9,14):\n",
    "        return bmin.iloc[:, 3]\n",
    "    if age in range(14,19):\n",
    "        return bmin.iloc[:, 5]\n",
    "    if age in range(19,31): \n",
    "        return bmin.iloc[:, 7]\n",
    "    if age in range(31,51):\n",
    "        return bmin.iloc[:, 9]\n",
    "    if age >= 51:\n",
    "        return bmin.iloc[:, 11]\n",
    "    \n",
    "def dri_male_min(age):\n",
    "    if age in range(1,4):\n",
    "        return bmin.iloc[:, 0]\n",
    "    if age in range(4,9):\n",
    "        return bmin.iloc[:, 2]\n",
    "    if age in range(9,14):\n",
    "        return bmin.iloc[:, 4]\n",
    "    if age in range(14,19):\n",
    "        return bmin.iloc[:, 6]\n",
    "    if age in range(19,31): \n",
    "        return bmin.iloc[:, 8]\n",
    "    if age in range(31,51):\n",
    "        return bmin.iloc[:, 10]\n",
    "    if age >= 51:\n",
    "        return bmin.iloc[:, 12]\n",
    "    \n",
    "def get_dri_min(age, sex):\n",
    "    if sex == \"M\":\n",
    "        return dri_male_min(age)\n",
    "    else:\n",
    "        return dri_female_min(age)\n",
    "get_dri_min(5, 'M')"
   ]
  },
  {
   "cell_type": "markdown",
   "id": "20d58781",
   "metadata": {},
   "source": [
    "Now we can pull the nutritional requirements based on different ages and sexes. Here we are checking the nutritional requirements for a 22 year old female and a 22 year old male."
   ]
  },
  {
   "cell_type": "code",
   "execution_count": 15,
   "id": "f68a5145",
   "metadata": {},
   "outputs": [
    {
     "data": {
      "text/plain": [
       "Nutrition\n",
       "Energy                            2000.0\n",
       "Protein                             46.0\n",
       "Fiber, total dietary                28.0\n",
       "Folate, DFE                        400.0\n",
       "Calcium, Ca                       1000.0\n",
       "Carbohydrate, by difference        130.0\n",
       "Iron, Fe                            18.0\n",
       "Magnesium, Mg                      310.0\n",
       "Niacin                              14.0\n",
       "Phosphorus, P                      700.0\n",
       "Potassium, K                      4700.0\n",
       "Riboflavin                           1.1\n",
       "Thiamin                              1.1\n",
       "Vitamin A, RAE                     700.0\n",
       "Vitamin B-12                         2.4\n",
       "Vitamin B-6                          1.3\n",
       "Vitamin C, total ascorbic acid      75.0\n",
       "Vitamin E (alpha-tocopherol)        15.0\n",
       "Vitamin K (phylloquinone)           90.0\n",
       "Zinc, Zn                             8.0\n",
       "Name: F 19-30, dtype: float64"
      ]
     },
     "execution_count": 15,
     "metadata": {},
     "output_type": "execute_result"
    }
   ],
   "source": [
    "get_dri_min(22, 'F')"
   ]
  },
  {
   "cell_type": "code",
   "execution_count": 16,
   "id": "9fa4a9dc",
   "metadata": {},
   "outputs": [
    {
     "data": {
      "text/plain": [
       "Nutrition\n",
       "Energy                            2400.0\n",
       "Protein                             56.0\n",
       "Fiber, total dietary                33.6\n",
       "Folate, DFE                        400.0\n",
       "Calcium, Ca                       1000.0\n",
       "Carbohydrate, by difference        130.0\n",
       "Iron, Fe                             8.0\n",
       "Magnesium, Mg                      400.0\n",
       "Niacin                              16.0\n",
       "Phosphorus, P                      700.0\n",
       "Potassium, K                      4700.0\n",
       "Riboflavin                           1.3\n",
       "Thiamin                              1.2\n",
       "Vitamin A, RAE                     900.0\n",
       "Vitamin B-12                         2.4\n",
       "Vitamin B-6                          1.3\n",
       "Vitamin C, total ascorbic acid      90.0\n",
       "Vitamin E (alpha-tocopherol)        15.0\n",
       "Vitamin K (phylloquinone)          120.0\n",
       "Zinc, Zn                            11.0\n",
       "Name: M 19-30, dtype: float64"
      ]
     },
     "execution_count": 16,
     "metadata": {},
     "output_type": "execute_result"
    }
   ],
   "source": [
    "get_dri_min(22, 'M')"
   ]
  },
  {
   "cell_type": "markdown",
   "id": "252ac21a",
   "metadata": {},
   "source": [
    "We are checking the nutritional requirements for a 30 year old female and a 30 year old male."
   ]
  },
  {
   "cell_type": "code",
   "execution_count": 17,
   "id": "cd419852",
   "metadata": {},
   "outputs": [
    {
     "data": {
      "text/plain": [
       "Nutrition\n",
       "Energy                            2000.0\n",
       "Protein                             46.0\n",
       "Fiber, total dietary                28.0\n",
       "Folate, DFE                        400.0\n",
       "Calcium, Ca                       1000.0\n",
       "Carbohydrate, by difference        130.0\n",
       "Iron, Fe                            18.0\n",
       "Magnesium, Mg                      310.0\n",
       "Niacin                              14.0\n",
       "Phosphorus, P                      700.0\n",
       "Potassium, K                      4700.0\n",
       "Riboflavin                           1.1\n",
       "Thiamin                              1.1\n",
       "Vitamin A, RAE                     700.0\n",
       "Vitamin B-12                         2.4\n",
       "Vitamin B-6                          1.3\n",
       "Vitamin C, total ascorbic acid      75.0\n",
       "Vitamin E (alpha-tocopherol)        15.0\n",
       "Vitamin K (phylloquinone)           90.0\n",
       "Zinc, Zn                             8.0\n",
       "Name: F 19-30, dtype: float64"
      ]
     },
     "execution_count": 17,
     "metadata": {},
     "output_type": "execute_result"
    }
   ],
   "source": [
    "get_dri_min(30, 'F')"
   ]
  },
  {
   "cell_type": "code",
   "execution_count": 18,
   "id": "168eaa01",
   "metadata": {},
   "outputs": [
    {
     "data": {
      "text/plain": [
       "Nutrition\n",
       "Energy                            2400.0\n",
       "Protein                             56.0\n",
       "Fiber, total dietary                33.6\n",
       "Folate, DFE                        400.0\n",
       "Calcium, Ca                       1000.0\n",
       "Carbohydrate, by difference        130.0\n",
       "Iron, Fe                             8.0\n",
       "Magnesium, Mg                      400.0\n",
       "Niacin                              16.0\n",
       "Phosphorus, P                      700.0\n",
       "Potassium, K                      4700.0\n",
       "Riboflavin                           1.3\n",
       "Thiamin                              1.2\n",
       "Vitamin A, RAE                     900.0\n",
       "Vitamin B-12                         2.4\n",
       "Vitamin B-6                          1.3\n",
       "Vitamin C, total ascorbic acid      90.0\n",
       "Vitamin E (alpha-tocopherol)        15.0\n",
       "Vitamin K (phylloquinone)          120.0\n",
       "Zinc, Zn                            11.0\n",
       "Name: M 19-30, dtype: float64"
      ]
     },
     "execution_count": 18,
     "metadata": {},
     "output_type": "execute_result"
    }
   ],
   "source": [
    "get_dri_min(30, 'M')"
   ]
  },
  {
   "cell_type": "markdown",
   "id": "6793693a",
   "metadata": {},
   "source": [
    "Next, we define a function that grabs individual maximum strings and assigns them to the dri_male(female)_max variable."
   ]
  },
  {
   "cell_type": "code",
   "execution_count": 19,
   "id": "dbb4694c",
   "metadata": {},
   "outputs": [],
   "source": [
    "def dri_female_max(age): \n",
    "    if age in range(1,4):\n",
    "        return bmax.iloc[:, 0]\n",
    "    if age in range(4,9):\n",
    "        return bmax.iloc[:, 1]\n",
    "    if age in range(9,14):\n",
    "        return bmax.iloc[:, 3]\n",
    "    if age in range(14,19):\n",
    "        return bmax.iloc[:, 5]\n",
    "    if age in range(19,31): \n",
    "        return bmax.iloc[:, 7]\n",
    "    if age in range(31,51):\n",
    "        return bmax.iloc[:, 9]\n",
    "    if age >= 51:\n",
    "        return bmax.iloc[:, 11]\n",
    "    \n",
    "def dri_male_max(age):\n",
    "    if age in range(1,4):\n",
    "        return bmax.iloc[:, 0]\n",
    "    if age in range(4,9):\n",
    "        return bmax.iloc[:, 2]\n",
    "    if age in range(9,14):\n",
    "        return bmax.iloc[:, 4]\n",
    "    if age in range(14,19):\n",
    "        return bmax.iloc[:, 6]\n",
    "    if age in range(19,31): \n",
    "        return bmax.iloc[:, 8]\n",
    "    if age in range(31,51):\n",
    "        return bmax.iloc[:, 10]\n",
    "    if age >= 51:\n",
    "        return bmax.iloc[:, 12]\n",
    "def get_dri_max(age, sex):\n",
    "    if sex == \"M\":\n",
    "        return dri_male_max(age)\n",
    "    else:\n",
    "        return dri_female_max(age)"
   ]
  },
  {
   "cell_type": "markdown",
   "id": "2b22b695",
   "metadata": {},
   "source": [
    "We will check the function for a 22 year old male."
   ]
  },
  {
   "cell_type": "code",
   "execution_count": 20,
   "id": "e5f7f16c",
   "metadata": {},
   "outputs": [
    {
     "data": {
      "text/plain": [
       "Nutrition\n",
       "Sodium, Na    2300\n",
       "Name: M 19-30, dtype: int64"
      ]
     },
     "execution_count": 20,
     "metadata": {},
     "output_type": "execute_result"
    }
   ],
   "source": [
    "get_dri_max(22, 'M')"
   ]
  },
  {
   "cell_type": "markdown",
   "id": "7c582aa8",
   "metadata": {},
   "source": [
    "### Deliverable [A] Data on prices for different foods\n",
    "\n",
    "#### Construct a google spreadsheet of different prices of different foods.\n",
    "\n",
    "Before we begin importing our spreadsheet, we are first checking that the nutrients for our food items the FCD ID is working."
   ]
  },
  {
   "cell_type": "code",
   "execution_count": 21,
   "id": "96f94eec",
   "metadata": {},
   "outputs": [
    {
     "data": {
      "text/html": [
       "<div>\n",
       "<style scoped>\n",
       "    .dataframe tbody tr th:only-of-type {\n",
       "        vertical-align: middle;\n",
       "    }\n",
       "\n",
       "    .dataframe tbody tr th {\n",
       "        vertical-align: top;\n",
       "    }\n",
       "\n",
       "    .dataframe thead th {\n",
       "        text-align: right;\n",
       "    }\n",
       "</style>\n",
       "<table border=\"1\" class=\"dataframe\">\n",
       "  <thead>\n",
       "    <tr style=\"text-align: right;\">\n",
       "      <th></th>\n",
       "      <th>Quantity</th>\n",
       "      <th>Units</th>\n",
       "    </tr>\n",
       "  </thead>\n",
       "  <tbody>\n",
       "    <tr>\n",
       "      <th>Fatty acids, total saturated</th>\n",
       "      <td>13.33</td>\n",
       "      <td>g</td>\n",
       "    </tr>\n",
       "    <tr>\n",
       "      <th>Fatty acids, total monounsaturated</th>\n",
       "      <td>66.67</td>\n",
       "      <td>g</td>\n",
       "    </tr>\n",
       "    <tr>\n",
       "      <th>Fatty acids, total trans</th>\n",
       "      <td>0.00</td>\n",
       "      <td>g</td>\n",
       "    </tr>\n",
       "    <tr>\n",
       "      <th>Carbohydrate, by difference</th>\n",
       "      <td>0.00</td>\n",
       "      <td>g</td>\n",
       "    </tr>\n",
       "    <tr>\n",
       "      <th>Total lipid (fat)</th>\n",
       "      <td>93.33</td>\n",
       "      <td>g</td>\n",
       "    </tr>\n",
       "    <tr>\n",
       "      <th>Sodium, Na</th>\n",
       "      <td>0.00</td>\n",
       "      <td>mg</td>\n",
       "    </tr>\n",
       "    <tr>\n",
       "      <th>Energy</th>\n",
       "      <td>800.00</td>\n",
       "      <td>kcal</td>\n",
       "    </tr>\n",
       "    <tr>\n",
       "      <th>Cholesterol</th>\n",
       "      <td>0.00</td>\n",
       "      <td>mg</td>\n",
       "    </tr>\n",
       "    <tr>\n",
       "      <th>Fatty acids, total polyunsaturated</th>\n",
       "      <td>10.00</td>\n",
       "      <td>g</td>\n",
       "    </tr>\n",
       "    <tr>\n",
       "      <th>Protein</th>\n",
       "      <td>0.00</td>\n",
       "      <td>g</td>\n",
       "    </tr>\n",
       "  </tbody>\n",
       "</table>\n",
       "</div>"
      ],
      "text/plain": [
       "                                    Quantity Units\n",
       "Fatty acids, total saturated           13.33     g\n",
       "Fatty acids, total monounsaturated     66.67     g\n",
       "Fatty acids, total trans                0.00     g\n",
       "Carbohydrate, by difference             0.00     g\n",
       "Total lipid (fat)                      93.33     g\n",
       "Sodium, Na                              0.00    mg\n",
       "Energy                                800.00  kcal\n",
       "Cholesterol                             0.00    mg\n",
       "Fatty acids, total polyunsaturated     10.00     g\n",
       "Protein                                 0.00     g"
      ]
     },
     "execution_count": 21,
     "metadata": {},
     "output_type": "execute_result"
    }
   ],
   "source": [
    "id = id1 #Checking nutrition for id 1\n",
    "nutrition = fdc.nutrients(apikey,fdc_id = id)\n",
    "\n",
    "pd.set_option(\"display.max_rows\", 500,\"display.max_columns\", 500)\n",
    "\n",
    "nutrition"
   ]
  },
  {
   "cell_type": "code",
   "execution_count": 22,
   "id": "6119e603",
   "metadata": {},
   "outputs": [
    {
     "data": {
      "text/html": [
       "<div>\n",
       "<style scoped>\n",
       "    .dataframe tbody tr th:only-of-type {\n",
       "        vertical-align: middle;\n",
       "    }\n",
       "\n",
       "    .dataframe tbody tr th {\n",
       "        vertical-align: top;\n",
       "    }\n",
       "\n",
       "    .dataframe thead th {\n",
       "        text-align: right;\n",
       "    }\n",
       "</style>\n",
       "<table border=\"1\" class=\"dataframe\">\n",
       "  <thead>\n",
       "    <tr style=\"text-align: right;\">\n",
       "      <th></th>\n",
       "      <th>Quantity</th>\n",
       "      <th>Units</th>\n",
       "    </tr>\n",
       "  </thead>\n",
       "  <tbody>\n",
       "    <tr>\n",
       "      <th>Proximates</th>\n",
       "      <td>0.000</td>\n",
       "      <td>g</td>\n",
       "    </tr>\n",
       "    <tr>\n",
       "      <th>Water</th>\n",
       "      <td>64.030</td>\n",
       "      <td>g</td>\n",
       "    </tr>\n",
       "    <tr>\n",
       "      <th>Energy</th>\n",
       "      <td>146.000</td>\n",
       "      <td>kcal</td>\n",
       "    </tr>\n",
       "    <tr>\n",
       "      <th>Protein</th>\n",
       "      <td>8.190</td>\n",
       "      <td>g</td>\n",
       "    </tr>\n",
       "    <tr>\n",
       "      <th>Total lipid (fat)</th>\n",
       "      <td>3.240</td>\n",
       "      <td>g</td>\n",
       "    </tr>\n",
       "    <tr>\n",
       "      <th>Carbohydrates</th>\n",
       "      <td>0.000</td>\n",
       "      <td>g</td>\n",
       "    </tr>\n",
       "    <tr>\n",
       "      <th>Carbohydrate, by difference</th>\n",
       "      <td>22.450</td>\n",
       "      <td>g</td>\n",
       "    </tr>\n",
       "    <tr>\n",
       "      <th>Fiber, total dietary</th>\n",
       "      <td>7.300</td>\n",
       "      <td>g</td>\n",
       "    </tr>\n",
       "    <tr>\n",
       "      <th>Sugars, total including NLEA</th>\n",
       "      <td>4.310</td>\n",
       "      <td>g</td>\n",
       "    </tr>\n",
       "    <tr>\n",
       "      <th>Minerals</th>\n",
       "      <td>0.000</td>\n",
       "      <td>mg</td>\n",
       "    </tr>\n",
       "    <tr>\n",
       "      <th>Calcium, Ca</th>\n",
       "      <td>58.000</td>\n",
       "      <td>mg</td>\n",
       "    </tr>\n",
       "    <tr>\n",
       "      <th>Iron, Fe</th>\n",
       "      <td>2.050</td>\n",
       "      <td>mg</td>\n",
       "    </tr>\n",
       "    <tr>\n",
       "      <th>Magnesium, Mg</th>\n",
       "      <td>45.000</td>\n",
       "      <td>mg</td>\n",
       "    </tr>\n",
       "    <tr>\n",
       "      <th>Phosphorus, P</th>\n",
       "      <td>133.000</td>\n",
       "      <td>mg</td>\n",
       "    </tr>\n",
       "    <tr>\n",
       "      <th>Potassium, K</th>\n",
       "      <td>240.000</td>\n",
       "      <td>mg</td>\n",
       "    </tr>\n",
       "    <tr>\n",
       "      <th>Sodium, Na</th>\n",
       "      <td>327.000</td>\n",
       "      <td>mg</td>\n",
       "    </tr>\n",
       "    <tr>\n",
       "      <th>Zinc, Zn</th>\n",
       "      <td>1.150</td>\n",
       "      <td>mg</td>\n",
       "    </tr>\n",
       "    <tr>\n",
       "      <th>Copper, Cu</th>\n",
       "      <td>0.255</td>\n",
       "      <td>mg</td>\n",
       "    </tr>\n",
       "    <tr>\n",
       "      <th>Selenium, Se</th>\n",
       "      <td>3.300</td>\n",
       "      <td>µg</td>\n",
       "    </tr>\n",
       "    <tr>\n",
       "      <th>Vitamins and Other Components</th>\n",
       "      <td>0.000</td>\n",
       "      <td>g</td>\n",
       "    </tr>\n",
       "    <tr>\n",
       "      <th>Vitamin C, total ascorbic acid</th>\n",
       "      <td>0.200</td>\n",
       "      <td>mg</td>\n",
       "    </tr>\n",
       "    <tr>\n",
       "      <th>Thiamin</th>\n",
       "      <td>0.051</td>\n",
       "      <td>mg</td>\n",
       "    </tr>\n",
       "    <tr>\n",
       "      <th>Riboflavin</th>\n",
       "      <td>0.024</td>\n",
       "      <td>mg</td>\n",
       "    </tr>\n",
       "    <tr>\n",
       "      <th>Niacin</th>\n",
       "      <td>0.205</td>\n",
       "      <td>mg</td>\n",
       "    </tr>\n",
       "    <tr>\n",
       "      <th>Vitamin B-6</th>\n",
       "      <td>0.748</td>\n",
       "      <td>mg</td>\n",
       "    </tr>\n",
       "    <tr>\n",
       "      <th>Folate, total</th>\n",
       "      <td>40.000</td>\n",
       "      <td>µg</td>\n",
       "    </tr>\n",
       "    <tr>\n",
       "      <th>Folic acid</th>\n",
       "      <td>0.000</td>\n",
       "      <td>µg</td>\n",
       "    </tr>\n",
       "    <tr>\n",
       "      <th>Folate, food</th>\n",
       "      <td>40.000</td>\n",
       "      <td>µg</td>\n",
       "    </tr>\n",
       "    <tr>\n",
       "      <th>Folate, DFE</th>\n",
       "      <td>40.000</td>\n",
       "      <td>µg</td>\n",
       "    </tr>\n",
       "    <tr>\n",
       "      <th>Choline, total</th>\n",
       "      <td>38.400</td>\n",
       "      <td>mg</td>\n",
       "    </tr>\n",
       "    <tr>\n",
       "      <th>Vitamin B-12</th>\n",
       "      <td>0.000</td>\n",
       "      <td>µg</td>\n",
       "    </tr>\n",
       "    <tr>\n",
       "      <th>Vitamin B-12, added</th>\n",
       "      <td>0.000</td>\n",
       "      <td>µg</td>\n",
       "    </tr>\n",
       "    <tr>\n",
       "      <th>Vitamin A, RAE</th>\n",
       "      <td>2.000</td>\n",
       "      <td>µg</td>\n",
       "    </tr>\n",
       "    <tr>\n",
       "      <th>Retinol</th>\n",
       "      <td>0.000</td>\n",
       "      <td>µg</td>\n",
       "    </tr>\n",
       "    <tr>\n",
       "      <th>Carotene, beta</th>\n",
       "      <td>15.000</td>\n",
       "      <td>µg</td>\n",
       "    </tr>\n",
       "    <tr>\n",
       "      <th>Carotene, alpha</th>\n",
       "      <td>0.000</td>\n",
       "      <td>µg</td>\n",
       "    </tr>\n",
       "    <tr>\n",
       "      <th>Cryptoxanthin, beta</th>\n",
       "      <td>0.000</td>\n",
       "      <td>µg</td>\n",
       "    </tr>\n",
       "    <tr>\n",
       "      <th>Lycopene</th>\n",
       "      <td>0.000</td>\n",
       "      <td>µg</td>\n",
       "    </tr>\n",
       "    <tr>\n",
       "      <th>Lutein + zeaxanthin</th>\n",
       "      <td>0.000</td>\n",
       "      <td>µg</td>\n",
       "    </tr>\n",
       "    <tr>\n",
       "      <th>Vitamin E (alpha-tocopherol)</th>\n",
       "      <td>0.320</td>\n",
       "      <td>mg</td>\n",
       "    </tr>\n",
       "    <tr>\n",
       "      <th>Vitamin E, added</th>\n",
       "      <td>0.000</td>\n",
       "      <td>mg</td>\n",
       "    </tr>\n",
       "    <tr>\n",
       "      <th>Vitamin D (D2 + D3)</th>\n",
       "      <td>0.000</td>\n",
       "      <td>µg</td>\n",
       "    </tr>\n",
       "    <tr>\n",
       "      <th>Vitamin K (phylloquinone)</th>\n",
       "      <td>3.700</td>\n",
       "      <td>µg</td>\n",
       "    </tr>\n",
       "    <tr>\n",
       "      <th>Lipids</th>\n",
       "      <td>0.000</td>\n",
       "      <td>g</td>\n",
       "    </tr>\n",
       "    <tr>\n",
       "      <th>Fatty acids, total saturated</th>\n",
       "      <td>0.339</td>\n",
       "      <td>g</td>\n",
       "    </tr>\n",
       "    <tr>\n",
       "      <th>SFA 4:0</th>\n",
       "      <td>0.000</td>\n",
       "      <td>g</td>\n",
       "    </tr>\n",
       "    <tr>\n",
       "      <th>SFA 6:0</th>\n",
       "      <td>0.000</td>\n",
       "      <td>g</td>\n",
       "    </tr>\n",
       "    <tr>\n",
       "      <th>SFA 8:0</th>\n",
       "      <td>0.000</td>\n",
       "      <td>g</td>\n",
       "    </tr>\n",
       "    <tr>\n",
       "      <th>SFA 10:0</th>\n",
       "      <td>0.000</td>\n",
       "      <td>g</td>\n",
       "    </tr>\n",
       "    <tr>\n",
       "      <th>SFA 12:0</th>\n",
       "      <td>0.000</td>\n",
       "      <td>g</td>\n",
       "    </tr>\n",
       "    <tr>\n",
       "      <th>SFA 14:0</th>\n",
       "      <td>0.005</td>\n",
       "      <td>g</td>\n",
       "    </tr>\n",
       "    <tr>\n",
       "      <th>SFA 16:0</th>\n",
       "      <td>0.273</td>\n",
       "      <td>g</td>\n",
       "    </tr>\n",
       "    <tr>\n",
       "      <th>SFA 18:0</th>\n",
       "      <td>0.047</td>\n",
       "      <td>g</td>\n",
       "    </tr>\n",
       "    <tr>\n",
       "      <th>Fatty acids, total monounsaturated</th>\n",
       "      <td>0.739</td>\n",
       "      <td>g</td>\n",
       "    </tr>\n",
       "    <tr>\n",
       "      <th>MUFA 16:1</th>\n",
       "      <td>0.005</td>\n",
       "      <td>g</td>\n",
       "    </tr>\n",
       "    <tr>\n",
       "      <th>MUFA 18:1</th>\n",
       "      <td>0.734</td>\n",
       "      <td>g</td>\n",
       "    </tr>\n",
       "    <tr>\n",
       "      <th>MUFA 20:1</th>\n",
       "      <td>0.000</td>\n",
       "      <td>g</td>\n",
       "    </tr>\n",
       "    <tr>\n",
       "      <th>MUFA 22:1</th>\n",
       "      <td>0.000</td>\n",
       "      <td>g</td>\n",
       "    </tr>\n",
       "    <tr>\n",
       "      <th>Fatty acids, total polyunsaturated</th>\n",
       "      <td>1.466</td>\n",
       "      <td>g</td>\n",
       "    </tr>\n",
       "    <tr>\n",
       "      <th>PUFA 18:2</th>\n",
       "      <td>1.413</td>\n",
       "      <td>g</td>\n",
       "    </tr>\n",
       "    <tr>\n",
       "      <th>PUFA 18:3</th>\n",
       "      <td>0.055</td>\n",
       "      <td>g</td>\n",
       "    </tr>\n",
       "    <tr>\n",
       "      <th>PUFA 18:4</th>\n",
       "      <td>0.000</td>\n",
       "      <td>g</td>\n",
       "    </tr>\n",
       "    <tr>\n",
       "      <th>PUFA 20:4</th>\n",
       "      <td>0.000</td>\n",
       "      <td>g</td>\n",
       "    </tr>\n",
       "    <tr>\n",
       "      <th>PUFA 2:5 n-3 (EPA)</th>\n",
       "      <td>0.000</td>\n",
       "      <td>g</td>\n",
       "    </tr>\n",
       "    <tr>\n",
       "      <th>PUFA 22:5 n-3 (DPA)</th>\n",
       "      <td>0.000</td>\n",
       "      <td>g</td>\n",
       "    </tr>\n",
       "    <tr>\n",
       "      <th>PUFA 22:6 n-3 (DHA)</th>\n",
       "      <td>0.000</td>\n",
       "      <td>g</td>\n",
       "    </tr>\n",
       "    <tr>\n",
       "      <th>Cholesterol</th>\n",
       "      <td>0.000</td>\n",
       "      <td>mg</td>\n",
       "    </tr>\n",
       "    <tr>\n",
       "      <th>Amino acids</th>\n",
       "      <td>0.000</td>\n",
       "      <td>g</td>\n",
       "    </tr>\n",
       "    <tr>\n",
       "      <th>Alcohol, ethyl</th>\n",
       "      <td>0.000</td>\n",
       "      <td>g</td>\n",
       "    </tr>\n",
       "    <tr>\n",
       "      <th>Caffeine</th>\n",
       "      <td>0.000</td>\n",
       "      <td>mg</td>\n",
       "    </tr>\n",
       "    <tr>\n",
       "      <th>Theobromine</th>\n",
       "      <td>0.000</td>\n",
       "      <td>mg</td>\n",
       "    </tr>\n",
       "  </tbody>\n",
       "</table>\n",
       "</div>"
      ],
      "text/plain": [
       "                                    Quantity Units\n",
       "Proximates                             0.000     g\n",
       "Water                                 64.030     g\n",
       "Energy                               146.000  kcal\n",
       "Protein                                8.190     g\n",
       "Total lipid (fat)                      3.240     g\n",
       "Carbohydrates                          0.000     g\n",
       "Carbohydrate, by difference           22.450     g\n",
       "Fiber, total dietary                   7.300     g\n",
       "Sugars, total including NLEA           4.310     g\n",
       "Minerals                               0.000    mg\n",
       "Calcium, Ca                           58.000    mg\n",
       "Iron, Fe                               2.050    mg\n",
       "Magnesium, Mg                         45.000    mg\n",
       "Phosphorus, P                        133.000    mg\n",
       "Potassium, K                         240.000    mg\n",
       "Sodium, Na                           327.000    mg\n",
       "Zinc, Zn                               1.150    mg\n",
       "Copper, Cu                             0.255    mg\n",
       "Selenium, Se                           3.300    µg\n",
       "Vitamins and Other Components          0.000     g\n",
       "Vitamin C, total ascorbic acid         0.200    mg\n",
       "Thiamin                                0.051    mg\n",
       "Riboflavin                             0.024    mg\n",
       "Niacin                                 0.205    mg\n",
       "Vitamin B-6                            0.748    mg\n",
       "Folate, total                         40.000    µg\n",
       "Folic acid                             0.000    µg\n",
       "Folate, food                          40.000    µg\n",
       "Folate, DFE                           40.000    µg\n",
       "Choline, total                        38.400    mg\n",
       "Vitamin B-12                           0.000    µg\n",
       "Vitamin B-12, added                    0.000    µg\n",
       "Vitamin A, RAE                         2.000    µg\n",
       "Retinol                                0.000    µg\n",
       "Carotene, beta                        15.000    µg\n",
       "Carotene, alpha                        0.000    µg\n",
       "Cryptoxanthin, beta                    0.000    µg\n",
       "Lycopene                               0.000    µg\n",
       "Lutein + zeaxanthin                    0.000    µg\n",
       "Vitamin E (alpha-tocopherol)           0.320    mg\n",
       "Vitamin E, added                       0.000    mg\n",
       "Vitamin D (D2 + D3)                    0.000    µg\n",
       "Vitamin K (phylloquinone)              3.700    µg\n",
       "Lipids                                 0.000     g\n",
       "Fatty acids, total saturated           0.339     g\n",
       "SFA 4:0                                0.000     g\n",
       "SFA 6:0                                0.000     g\n",
       "SFA 8:0                                0.000     g\n",
       "SFA 10:0                               0.000     g\n",
       "SFA 12:0                               0.000     g\n",
       "SFA 14:0                               0.005     g\n",
       "SFA 16:0                               0.273     g\n",
       "SFA 18:0                               0.047     g\n",
       "Fatty acids, total monounsaturated     0.739     g\n",
       "MUFA 16:1                              0.005     g\n",
       "MUFA 18:1                              0.734     g\n",
       "MUFA 20:1                              0.000     g\n",
       "MUFA 22:1                              0.000     g\n",
       "Fatty acids, total polyunsaturated     1.466     g\n",
       "PUFA 18:2                              1.413     g\n",
       "PUFA 18:3                              0.055     g\n",
       "PUFA 18:4                              0.000     g\n",
       "PUFA 20:4                              0.000     g\n",
       "PUFA 2:5 n-3 (EPA)                     0.000     g\n",
       "PUFA 22:5 n-3 (DPA)                    0.000     g\n",
       "PUFA 22:6 n-3 (DHA)                    0.000     g\n",
       "Cholesterol                            0.000    mg\n",
       "Amino acids                            0.000     g\n",
       "Alcohol, ethyl                         0.000     g\n",
       "Caffeine                               0.000    mg\n",
       "Theobromine                            0.000    mg"
      ]
     },
     "execution_count": 22,
     "metadata": {},
     "output_type": "execute_result"
    }
   ],
   "source": [
    "id = id2\n",
    "nutrition = fdc.nutrients(apikey,fdc_id = id)\n",
    "\n",
    "pd.set_option(\"display.max_rows\", 500,\"display.max_columns\", 500)\n",
    "\n",
    "nutrition"
   ]
  },
  {
   "cell_type": "markdown",
   "id": "8c7e5715",
   "metadata": {},
   "source": [
    "We created three spreadsheets for price data on our food items from locations accessible to our populations of interest: Berkeley and Fresno in California and a small province in Greece. \n",
    "\n",
    "We first import our spreadsheet and create a dataframe from Berkeley Bowl for our Berkeley population of interest."
   ]
  },
  {
   "cell_type": "code",
   "execution_count": 28,
   "id": "93563756",
   "metadata": {},
   "outputs": [
    {
     "data": {
      "text/html": [
       "<div>\n",
       "<style scoped>\n",
       "    .dataframe tbody tr th:only-of-type {\n",
       "        vertical-align: middle;\n",
       "    }\n",
       "\n",
       "    .dataframe tbody tr th {\n",
       "        vertical-align: top;\n",
       "    }\n",
       "\n",
       "    .dataframe thead th {\n",
       "        text-align: right;\n",
       "    }\n",
       "</style>\n",
       "<table border=\"1\" class=\"dataframe\">\n",
       "  <thead>\n",
       "    <tr style=\"text-align: right;\">\n",
       "      <th></th>\n",
       "      <th>Food Type</th>\n",
       "      <th>Quantity</th>\n",
       "      <th>Units</th>\n",
       "      <th>Price (pretax)</th>\n",
       "      <th>Price per gram</th>\n",
       "      <th>Date</th>\n",
       "      <th>Location</th>\n",
       "      <th>FDCID</th>\n",
       "      <th>Description?</th>\n",
       "    </tr>\n",
       "    <tr>\n",
       "      <th>Food</th>\n",
       "      <th></th>\n",
       "      <th></th>\n",
       "      <th></th>\n",
       "      <th></th>\n",
       "      <th></th>\n",
       "      <th></th>\n",
       "      <th></th>\n",
       "      <th></th>\n",
       "      <th></th>\n",
       "    </tr>\n",
       "  </thead>\n",
       "  <tbody>\n",
       "    <tr>\n",
       "      <th>Whole Wheat Bread</th>\n",
       "      <td>Whole Grain</td>\n",
       "      <td>25.0</td>\n",
       "      <td>oz</td>\n",
       "      <td>8.29</td>\n",
       "      <td>0.011690</td>\n",
       "      <td>2/27/22</td>\n",
       "      <td>Berkeley Bowl</td>\n",
       "      <td>1100740</td>\n",
       "      <td>1 loaf</td>\n",
       "    </tr>\n",
       "    <tr>\n",
       "      <th>Rice</th>\n",
       "      <td>Whole Grain</td>\n",
       "      <td>32.0</td>\n",
       "      <td>oz</td>\n",
       "      <td>8.79</td>\n",
       "      <td>0.009138</td>\n",
       "      <td>2/27/22</td>\n",
       "      <td>Berkeley Bowl</td>\n",
       "      <td>2077766</td>\n",
       "      <td>1 Bag = 2lbs</td>\n",
       "    </tr>\n",
       "    <tr>\n",
       "      <th>Sweet potatoes</th>\n",
       "      <td>Vegetable</td>\n",
       "      <td>4.0</td>\n",
       "      <td>lbs</td>\n",
       "      <td>8.76</td>\n",
       "      <td>0.004828</td>\n",
       "      <td>2/27/22</td>\n",
       "      <td>Berkeley Bowl</td>\n",
       "      <td>1103249</td>\n",
       "      <td>sweet potato, boiled, made with oil</td>\n",
       "    </tr>\n",
       "    <tr>\n",
       "      <th>Spinach</th>\n",
       "      <td>Vegetable</td>\n",
       "      <td>10.0</td>\n",
       "      <td>oz</td>\n",
       "      <td>2.39</td>\n",
       "      <td>0.008430</td>\n",
       "      <td>2/27/22</td>\n",
       "      <td>Berkeley Bowl</td>\n",
       "      <td>1103136</td>\n",
       "      <td>Raw(1 bag)</td>\n",
       "    </tr>\n",
       "    <tr>\n",
       "      <th>Broccoli</th>\n",
       "      <td>Vegetable</td>\n",
       "      <td>1.5</td>\n",
       "      <td>lbs</td>\n",
       "      <td>3.28</td>\n",
       "      <td>0.004821</td>\n",
       "      <td>2/27/22</td>\n",
       "      <td>Berkeley Bowl</td>\n",
       "      <td>1103177</td>\n",
       "      <td>cooked with oil</td>\n",
       "    </tr>\n",
       "    <tr>\n",
       "      <th>Tomato</th>\n",
       "      <td>Fruit</td>\n",
       "      <td>1.0</td>\n",
       "      <td>lbs</td>\n",
       "      <td>4.39</td>\n",
       "      <td>0.009678</td>\n",
       "      <td>2/27/22</td>\n",
       "      <td>Berkeley Bowl</td>\n",
       "      <td>1103278</td>\n",
       "      <td>tomatoes, fresh, cooked</td>\n",
       "    </tr>\n",
       "    <tr>\n",
       "      <th>Avocado</th>\n",
       "      <td>Fruit</td>\n",
       "      <td>6.0</td>\n",
       "      <td>oz</td>\n",
       "      <td>2.19</td>\n",
       "      <td>0.012882</td>\n",
       "      <td>2/27/22</td>\n",
       "      <td>Berkeley Bowl</td>\n",
       "      <td>1102652</td>\n",
       "      <td>raw</td>\n",
       "    </tr>\n",
       "    <tr>\n",
       "      <th>Oranges</th>\n",
       "      <td>Fruit</td>\n",
       "      <td>2.0</td>\n",
       "      <td>lbs</td>\n",
       "      <td>4.18</td>\n",
       "      <td>0.004609</td>\n",
       "      <td>2/27/22</td>\n",
       "      <td>Berkeley Bowl</td>\n",
       "      <td>1102597</td>\n",
       "      <td>raw</td>\n",
       "    </tr>\n",
       "    <tr>\n",
       "      <th>Greek yogurt</th>\n",
       "      <td>Milk/Dairy</td>\n",
       "      <td>32.0</td>\n",
       "      <td>oz</td>\n",
       "      <td>7.69</td>\n",
       "      <td>0.008479</td>\n",
       "      <td>2/27/22</td>\n",
       "      <td>Berkeley Bowl</td>\n",
       "      <td>170903</td>\n",
       "      <td>yogurt, greek, plain, lowfat</td>\n",
       "    </tr>\n",
       "    <tr>\n",
       "      <th>Feta</th>\n",
       "      <td>Milk/Dairy</td>\n",
       "      <td>6.0</td>\n",
       "      <td>oz</td>\n",
       "      <td>4.99</td>\n",
       "      <td>0.029353</td>\n",
       "      <td>2/27/22</td>\n",
       "      <td>Berkeley Bowl</td>\n",
       "      <td>173420</td>\n",
       "      <td>NaN</td>\n",
       "    </tr>\n",
       "    <tr>\n",
       "      <th>Milk</th>\n",
       "      <td>Milk/Dairy</td>\n",
       "      <td>128.0</td>\n",
       "      <td>oz</td>\n",
       "      <td>6.59</td>\n",
       "      <td>0.001816</td>\n",
       "      <td>2/27/22</td>\n",
       "      <td>Berkeley Bowl</td>\n",
       "      <td>1904187</td>\n",
       "      <td>NaN</td>\n",
       "    </tr>\n",
       "    <tr>\n",
       "      <th>Canned tuna</th>\n",
       "      <td>Seafood</td>\n",
       "      <td>12.0</td>\n",
       "      <td>oz</td>\n",
       "      <td>4.39</td>\n",
       "      <td>0.012912</td>\n",
       "      <td>2/27/22</td>\n",
       "      <td>Berkeley Bowl</td>\n",
       "      <td>334194</td>\n",
       "      <td>NaN</td>\n",
       "    </tr>\n",
       "    <tr>\n",
       "      <th>Eggs</th>\n",
       "      <td>Eggs</td>\n",
       "      <td>21.0</td>\n",
       "      <td>oz</td>\n",
       "      <td>4.09</td>\n",
       "      <td>0.006874</td>\n",
       "      <td>2/27/22</td>\n",
       "      <td>Berkeley Bowl</td>\n",
       "      <td>747997</td>\n",
       "      <td>NaN</td>\n",
       "    </tr>\n",
       "    <tr>\n",
       "      <th>Chickpeas</th>\n",
       "      <td>Fat/oils/nuts</td>\n",
       "      <td>15.5</td>\n",
       "      <td>oz</td>\n",
       "      <td>1.89</td>\n",
       "      <td>0.004305</td>\n",
       "      <td>2/27/22</td>\n",
       "      <td>Berkeley Bowl</td>\n",
       "      <td>1100433</td>\n",
       "      <td>canned</td>\n",
       "    </tr>\n",
       "    <tr>\n",
       "      <th>Olive oil</th>\n",
       "      <td>Fat/oils/nuts</td>\n",
       "      <td>25.4</td>\n",
       "      <td>oz</td>\n",
       "      <td>15.39</td>\n",
       "      <td>0.021375</td>\n",
       "      <td>2/27/22</td>\n",
       "      <td>Berkeley Bowl</td>\n",
       "      <td>1582039</td>\n",
       "      <td>NaN</td>\n",
       "    </tr>\n",
       "  </tbody>\n",
       "</table>\n",
       "</div>"
      ],
      "text/plain": [
       "                       Food Type  Quantity Units  Price (pretax)  \\\n",
       "Food                                                               \n",
       "Whole Wheat Bread    Whole Grain      25.0    oz            8.29   \n",
       "Rice                 Whole Grain      32.0    oz            8.79   \n",
       "Sweet potatoes         Vegetable       4.0   lbs            8.76   \n",
       "Spinach                Vegetable      10.0    oz            2.39   \n",
       "Broccoli               Vegetable       1.5   lbs            3.28   \n",
       "Tomato                     Fruit       1.0   lbs            4.39   \n",
       "Avocado                    Fruit       6.0    oz            2.19   \n",
       "Oranges                    Fruit       2.0   lbs            4.18   \n",
       "Greek yogurt         Milk/Dairy       32.0    oz            7.69   \n",
       "Feta                 Milk/Dairy        6.0    oz            4.99   \n",
       "Milk                 Milk/Dairy      128.0    oz            6.59   \n",
       "Canned tuna              Seafood      12.0    oz            4.39   \n",
       "Eggs                        Eggs      21.0    oz            4.09   \n",
       "Chickpeas          Fat/oils/nuts      15.5    oz            1.89   \n",
       "Olive oil          Fat/oils/nuts      25.4    oz           15.39   \n",
       "\n",
       "                   Price per gram     Date       Location    FDCID  \\\n",
       "Food                                                                 \n",
       "Whole Wheat Bread        0.011690  2/27/22  Berkeley Bowl  1100740   \n",
       "Rice                     0.009138  2/27/22  Berkeley Bowl  2077766   \n",
       "Sweet potatoes           0.004828  2/27/22  Berkeley Bowl  1103249   \n",
       "Spinach                  0.008430  2/27/22  Berkeley Bowl  1103136   \n",
       "Broccoli                 0.004821  2/27/22  Berkeley Bowl  1103177   \n",
       "Tomato                   0.009678  2/27/22  Berkeley Bowl  1103278   \n",
       "Avocado                  0.012882  2/27/22  Berkeley Bowl  1102652   \n",
       "Oranges                  0.004609  2/27/22  Berkeley Bowl  1102597   \n",
       "Greek yogurt             0.008479  2/27/22  Berkeley Bowl   170903   \n",
       "Feta                     0.029353  2/27/22  Berkeley Bowl   173420   \n",
       "Milk                     0.001816  2/27/22  Berkeley Bowl  1904187   \n",
       "Canned tuna              0.012912  2/27/22  Berkeley Bowl   334194   \n",
       "Eggs                     0.006874  2/27/22  Berkeley Bowl   747997   \n",
       "Chickpeas                0.004305  2/27/22  Berkeley Bowl  1100433   \n",
       "Olive oil                0.021375  2/27/22  Berkeley Bowl  1582039   \n",
       "\n",
       "                                          Description?  \n",
       "Food                                                    \n",
       "Whole Wheat Bread                               1 loaf  \n",
       "Rice                                      1 Bag = 2lbs  \n",
       "Sweet potatoes     sweet potato, boiled, made with oil  \n",
       "Spinach                                     Raw(1 bag)  \n",
       "Broccoli                               cooked with oil  \n",
       "Tomato                         tomatoes, fresh, cooked  \n",
       "Avocado                                            raw  \n",
       "Oranges                                            raw  \n",
       "Greek yogurt              yogurt, greek, plain, lowfat  \n",
       "Feta                                               NaN  \n",
       "Milk                                               NaN  \n",
       "Canned tuna                                        NaN  \n",
       "Eggs                                               NaN  \n",
       "Chickpeas                                       canned  \n",
       "Olive oil                                          NaN  "
      ]
     },
     "execution_count": 28,
     "metadata": {},
     "output_type": "execute_result"
    }
   ],
   "source": [
    "#Reads in .csv file (Mediterranean Diet Cost Sheet - Berkeley Bowl.csv file needs to be uploaded to data folder before cell can run)\n",
    "BerkBowl = pd.read_csv('./Mediterranean Diet Cost Sheet - Berkeley Bowl.csv',index_col=0)\n",
    "dtype={'Price':float,'Quantity':float, 'FDC':int}\n",
    "\n",
    "BerkBowl.reset_index(inplace=True)\n",
    "BerkBowl.head()\n",
    "BerkBowl.drop(columns=[\"Food Type\"])\n",
    "BerkBowl.set_index(\"Food\", inplace = True)\n",
    "BerkBowl"
   ]
  },
  {
   "cell_type": "markdown",
   "id": "532d419d",
   "metadata": {},
   "source": [
    "Next, we are just checking the function that converts our data units into hectograms."
   ]
  },
  {
   "cell_type": "code",
   "execution_count": 24,
   "id": "004246cb",
   "metadata": {},
   "outputs": [
    {
     "name": "stdout",
     "output_type": "stream",
     "text": [
      "22.679618500000004 hectogram\n",
      "2.8349523125000005 hectogram\n"
     ]
    }
   ],
   "source": [
    "print(fdc.units(5,'lbs')) #FDC Units hectograms\n",
    "print(fdc.units(10,'oz'))"
   ]
  },
  {
   "cell_type": "markdown",
   "id": "cb675204",
   "metadata": {},
   "source": [
    "Now we complete the conversion for our Berkeley Bowl data into price/hectograms."
   ]
  },
  {
   "cell_type": "code",
   "execution_count": 29,
   "id": "681a85ad",
   "metadata": {},
   "outputs": [
    {
     "name": "stderr",
     "output_type": "stream",
     "text": [
      "/opt/conda/lib/python3.9/site-packages/pandas/core/dtypes/cast.py:1990: UnitStrippedWarning: The unit of the quantity is stripped when downcasting to ndarray.\n",
      "  result[:] = values\n"
     ]
    },
    {
     "data": {
      "text/plain": [
       "Food\n",
       "Avocado                1.287499611159685 / hectogram\n",
       "Broccoli              0.4820774799775989 / hectogram\n",
       "Canned tuna           1.2904391079888167 / hectogram\n",
       "Chickpeas             0.4301147618368192 / hectogram\n",
       "Eggs                  0.6870024017799231 / hectogram\n",
       "Feta                  2.9336178354734375 / hectogram\n",
       "Greek yogurt          0.8476773981008542 / hectogram\n",
       "Milk                  0.1816057884747929 / hectogram\n",
       "Olive oil              2.137268796866309 / hectogram\n",
       "Oranges              0.46076612796639405 / hectogram\n",
       "Rice                  0.9689316423025367 / hectogram\n",
       "Spinach               0.8430476905949718 / hectogram\n",
       "Sweet potatoes       0.48281235418488183 / hectogram\n",
       "Tomato                0.9678293309916124 / hectogram\n",
       "Whole Wheat Bread     1.1696845782480862 / hectogram\n",
       "Name: FDC Price, dtype: object"
      ]
     },
     "execution_count": 29,
     "metadata": {},
     "output_type": "execute_result"
    }
   ],
   "source": [
    "#Conversion code for Berkeley Bowl quantities to hectograms\n",
    "BerkBowl['FDC Quantity'] = BerkBowl[['Quantity','Units']].T.apply(lambda x : fdc.units(x['Quantity'],x['Units']))\n",
    "\n",
    "BerkBowl['FDC Price'] = BerkBowl['Price (pretax)']/BerkBowl['FDC Quantity']\n",
    "\n",
    "BerkBowl.dropna(how='any') \n",
    "\n",
    "BerkBowlPrices = BerkBowl.groupby('Food')['FDC Price'].min()\n",
    "\n",
    "BerkBowlPrices"
   ]
  },
  {
   "cell_type": "markdown",
   "id": "cef2a7e7",
   "metadata": {},
   "source": [
    "We complete the same process for our next dataframe is from the Stockton Walmart for our Fresno location."
   ]
  },
  {
   "cell_type": "code",
   "execution_count": 30,
   "id": "d9c90869",
   "metadata": {},
   "outputs": [
    {
     "data": {
      "text/html": [
       "<div>\n",
       "<style scoped>\n",
       "    .dataframe tbody tr th:only-of-type {\n",
       "        vertical-align: middle;\n",
       "    }\n",
       "\n",
       "    .dataframe tbody tr th {\n",
       "        vertical-align: top;\n",
       "    }\n",
       "\n",
       "    .dataframe thead th {\n",
       "        text-align: right;\n",
       "    }\n",
       "</style>\n",
       "<table border=\"1\" class=\"dataframe\">\n",
       "  <thead>\n",
       "    <tr style=\"text-align: right;\">\n",
       "      <th></th>\n",
       "      <th>Food</th>\n",
       "      <th>Quantity</th>\n",
       "      <th>Units</th>\n",
       "      <th>Highest Price (Pretax)</th>\n",
       "      <th>Lowest P (Pretax)</th>\n",
       "      <th>Price Per Gram / Litre</th>\n",
       "      <th>Price per hectograms</th>\n",
       "      <th>Date</th>\n",
       "      <th>FDCID</th>\n",
       "      <th>Description?</th>\n",
       "    </tr>\n",
       "    <tr>\n",
       "      <th>Food Type</th>\n",
       "      <th></th>\n",
       "      <th></th>\n",
       "      <th></th>\n",
       "      <th></th>\n",
       "      <th></th>\n",
       "      <th></th>\n",
       "      <th></th>\n",
       "      <th></th>\n",
       "      <th></th>\n",
       "      <th></th>\n",
       "    </tr>\n",
       "  </thead>\n",
       "  <tbody>\n",
       "    <tr>\n",
       "      <th>Whole Grain</th>\n",
       "      <td>Whole Wheat Bread</td>\n",
       "      <td>27.000</td>\n",
       "      <td>oz</td>\n",
       "      <td>18.99</td>\n",
       "      <td>4.78</td>\n",
       "      <td>0.006245</td>\n",
       "      <td>0.000000</td>\n",
       "      <td>2/27/22</td>\n",
       "      <td>1100740</td>\n",
       "      <td>NaN</td>\n",
       "    </tr>\n",
       "    <tr>\n",
       "      <th>Whole Grain</th>\n",
       "      <td>Rice</td>\n",
       "      <td>16.000</td>\n",
       "      <td>oz</td>\n",
       "      <td>7.18</td>\n",
       "      <td>0.78</td>\n",
       "      <td>0.001720</td>\n",
       "      <td>0.000017</td>\n",
       "      <td>2/27/22</td>\n",
       "      <td>2077766</td>\n",
       "      <td>NaN</td>\n",
       "    </tr>\n",
       "    <tr>\n",
       "      <th>Vegetable</th>\n",
       "      <td>Sweet potatoes</td>\n",
       "      <td>1.500</td>\n",
       "      <td>Ibs</td>\n",
       "      <td>2.94</td>\n",
       "      <td>2.94</td>\n",
       "      <td>0.004324</td>\n",
       "      <td>0.000043</td>\n",
       "      <td>2/27/22</td>\n",
       "      <td>1103249</td>\n",
       "      <td>sweet potato, boiled, made with oil</td>\n",
       "    </tr>\n",
       "    <tr>\n",
       "      <th>Vegetable</th>\n",
       "      <td>Spinach</td>\n",
       "      <td>16.000</td>\n",
       "      <td>oz</td>\n",
       "      <td>4.98</td>\n",
       "      <td>1.92</td>\n",
       "      <td>0.004238</td>\n",
       "      <td>0.000042</td>\n",
       "      <td>2/27/22</td>\n",
       "      <td>1103136</td>\n",
       "      <td>raw</td>\n",
       "    </tr>\n",
       "    <tr>\n",
       "      <th>Vegetable</th>\n",
       "      <td>Broccoli</td>\n",
       "      <td>12.000</td>\n",
       "      <td>oz</td>\n",
       "      <td>2.78</td>\n",
       "      <td>1.00</td>\n",
       "      <td>0.002939</td>\n",
       "      <td>0.000029</td>\n",
       "      <td>2/27/22</td>\n",
       "      <td>1103177</td>\n",
       "      <td>cooked with oil</td>\n",
       "    </tr>\n",
       "    <tr>\n",
       "      <th>Fruit</th>\n",
       "      <td>Tomato</td>\n",
       "      <td>16.000</td>\n",
       "      <td>oz</td>\n",
       "      <td>2.98</td>\n",
       "      <td>1.50</td>\n",
       "      <td>0.003311</td>\n",
       "      <td>0.000033</td>\n",
       "      <td>2/27/22</td>\n",
       "      <td>1103278</td>\n",
       "      <td>tomatoes, fresh, cooked</td>\n",
       "    </tr>\n",
       "    <tr>\n",
       "      <th>Fruit</th>\n",
       "      <td>Avocado</td>\n",
       "      <td>6.000</td>\n",
       "      <td>oz</td>\n",
       "      <td>2.48</td>\n",
       "      <td>0.88</td>\n",
       "      <td>0.005176</td>\n",
       "      <td>0.000052</td>\n",
       "      <td>2/27/22</td>\n",
       "      <td>1102652</td>\n",
       "      <td>1 avocado, raw</td>\n",
       "    </tr>\n",
       "    <tr>\n",
       "      <th>Fruit</th>\n",
       "      <td>Oranges</td>\n",
       "      <td>3.000</td>\n",
       "      <td>lbs</td>\n",
       "      <td>4.93</td>\n",
       "      <td>3.89</td>\n",
       "      <td>0.002860</td>\n",
       "      <td>0.000029</td>\n",
       "      <td>2/27/22</td>\n",
       "      <td>1102597</td>\n",
       "      <td>raw</td>\n",
       "    </tr>\n",
       "    <tr>\n",
       "      <th>Milk/Dairy</th>\n",
       "      <td>Greek yogurt</td>\n",
       "      <td>5.300</td>\n",
       "      <td>oz</td>\n",
       "      <td>1.24</td>\n",
       "      <td>0.64</td>\n",
       "      <td>0.004260</td>\n",
       "      <td>0.000043</td>\n",
       "      <td>2/27/22</td>\n",
       "      <td>170903</td>\n",
       "      <td>yogurt, greek, plain, lowfat</td>\n",
       "    </tr>\n",
       "    <tr>\n",
       "      <th>Milk/Dairy</th>\n",
       "      <td>Feta</td>\n",
       "      <td>5.000</td>\n",
       "      <td>oz</td>\n",
       "      <td>3.98</td>\n",
       "      <td>2.54</td>\n",
       "      <td>0.017919</td>\n",
       "      <td>0.000179</td>\n",
       "      <td>2/27/22</td>\n",
       "      <td>173420</td>\n",
       "      <td>NaN</td>\n",
       "    </tr>\n",
       "    <tr>\n",
       "      <th>Milk/Dairy</th>\n",
       "      <td>Milk</td>\n",
       "      <td>68.766</td>\n",
       "      <td>oz</td>\n",
       "      <td>5.47</td>\n",
       "      <td>2.22</td>\n",
       "      <td>0.001173</td>\n",
       "      <td>0.000012</td>\n",
       "      <td>2/27/22</td>\n",
       "      <td>1904187</td>\n",
       "      <td>NaN</td>\n",
       "    </tr>\n",
       "    <tr>\n",
       "      <th>Seafood</th>\n",
       "      <td>Canned tuna</td>\n",
       "      <td>5.000</td>\n",
       "      <td>Ibs</td>\n",
       "      <td>2.28</td>\n",
       "      <td>0.72</td>\n",
       "      <td>0.005143</td>\n",
       "      <td>0.000051</td>\n",
       "      <td>2/27/22</td>\n",
       "      <td>334194</td>\n",
       "      <td>NaN</td>\n",
       "    </tr>\n",
       "    <tr>\n",
       "      <th>Eggs</th>\n",
       "      <td>Eggs</td>\n",
       "      <td>20.500</td>\n",
       "      <td>oz</td>\n",
       "      <td>8.11</td>\n",
       "      <td>0.21</td>\n",
       "      <td>0.003818</td>\n",
       "      <td>0.000038</td>\n",
       "      <td>2/27/22</td>\n",
       "      <td>747997</td>\n",
       "      <td>1 egg</td>\n",
       "    </tr>\n",
       "    <tr>\n",
       "      <th>Fat/oils/nuts</th>\n",
       "      <td>Chickpeas</td>\n",
       "      <td>15.000</td>\n",
       "      <td>oz</td>\n",
       "      <td>2.30</td>\n",
       "      <td>0.94</td>\n",
       "      <td>0.002211</td>\n",
       "      <td>0.000022</td>\n",
       "      <td>2/27/22</td>\n",
       "      <td>1100433</td>\n",
       "      <td>canned</td>\n",
       "    </tr>\n",
       "    <tr>\n",
       "      <th>Fat/oils/nuts</th>\n",
       "      <td>Olive oil</td>\n",
       "      <td>24.419</td>\n",
       "      <td>oz</td>\n",
       "      <td>15.94</td>\n",
       "      <td>4.13</td>\n",
       "      <td>0.005477</td>\n",
       "      <td>0.000055</td>\n",
       "      <td>2/27/22</td>\n",
       "      <td>1582039</td>\n",
       "      <td>NaN</td>\n",
       "    </tr>\n",
       "  </tbody>\n",
       "</table>\n",
       "</div>"
      ],
      "text/plain": [
       "                            Food  Quantity Units  Highest Price (Pretax)  \\\n",
       "Food Type                                                                  \n",
       "Whole Grain    Whole Wheat Bread    27.000    oz                   18.99   \n",
       "Whole Grain                 Rice    16.000    oz                    7.18   \n",
       "Vegetable         Sweet potatoes     1.500   Ibs                    2.94   \n",
       "Vegetable                Spinach    16.000    oz                    4.98   \n",
       "Vegetable               Broccoli    12.000    oz                    2.78   \n",
       "Fruit                    Tomato     16.000    oz                    2.98   \n",
       "Fruit                    Avocado     6.000    oz                    2.48   \n",
       "Fruit                    Oranges     3.000   lbs                    4.93   \n",
       "Milk/Dairy          Greek yogurt     5.300    oz                    1.24   \n",
       "Milk/Dairy                  Feta     5.000    oz                    3.98   \n",
       "Milk/Dairy                  Milk    68.766    oz                    5.47   \n",
       "Seafood              Canned tuna     5.000   Ibs                    2.28   \n",
       "Eggs                        Eggs    20.500    oz                    8.11   \n",
       "Fat/oils/nuts          Chickpeas    15.000    oz                    2.30   \n",
       "Fat/oils/nuts          Olive oil    24.419    oz                   15.94   \n",
       "\n",
       "               Lowest P (Pretax)  Price Per Gram / Litre  \\\n",
       "Food Type                                                  \n",
       "Whole Grain                 4.78                0.006245   \n",
       "Whole Grain                 0.78                0.001720   \n",
       "Vegetable                   2.94                0.004324   \n",
       "Vegetable                   1.92                0.004238   \n",
       "Vegetable                   1.00                0.002939   \n",
       "Fruit                       1.50                0.003311   \n",
       "Fruit                       0.88                0.005176   \n",
       "Fruit                       3.89                0.002860   \n",
       "Milk/Dairy                  0.64                0.004260   \n",
       "Milk/Dairy                  2.54                0.017919   \n",
       "Milk/Dairy                  2.22                0.001173   \n",
       "Seafood                     0.72                0.005143   \n",
       "Eggs                        0.21                0.003818   \n",
       "Fat/oils/nuts               0.94                0.002211   \n",
       "Fat/oils/nuts               4.13                0.005477   \n",
       "\n",
       "               Price per hectograms      Date    FDCID  \\\n",
       "Food Type                                                \n",
       "Whole Grain                 0.000000  2/27/22  1100740   \n",
       "Whole Grain                 0.000017  2/27/22  2077766   \n",
       "Vegetable                   0.000043  2/27/22  1103249   \n",
       "Vegetable                   0.000042  2/27/22  1103136   \n",
       "Vegetable                   0.000029  2/27/22  1103177   \n",
       "Fruit                       0.000033  2/27/22  1103278   \n",
       "Fruit                       0.000052  2/27/22  1102652   \n",
       "Fruit                       0.000029  2/27/22  1102597   \n",
       "Milk/Dairy                  0.000043  2/27/22   170903   \n",
       "Milk/Dairy                  0.000179  2/27/22   173420   \n",
       "Milk/Dairy                  0.000012  2/27/22  1904187   \n",
       "Seafood                     0.000051  2/27/22   334194   \n",
       "Eggs                        0.000038  2/27/22   747997   \n",
       "Fat/oils/nuts               0.000022  2/27/22  1100433   \n",
       "Fat/oils/nuts               0.000055  2/27/22  1582039   \n",
       "\n",
       "                                      Description?  \n",
       "Food Type                                           \n",
       "Whole Grain                                    NaN  \n",
       "Whole Grain                                    NaN  \n",
       "Vegetable      sweet potato, boiled, made with oil  \n",
       "Vegetable                                      raw  \n",
       "Vegetable                          cooked with oil  \n",
       "Fruit                      tomatoes, fresh, cooked  \n",
       "Fruit                               1 avocado, raw  \n",
       "Fruit                                          raw  \n",
       "Milk/Dairy            yogurt, greek, plain, lowfat  \n",
       "Milk/Dairy                                     NaN  \n",
       "Milk/Dairy                                     NaN  \n",
       "Seafood                                        NaN  \n",
       "Eggs                                         1 egg  \n",
       "Fat/oils/nuts                               canned  \n",
       "Fat/oils/nuts                                  NaN  "
      ]
     },
     "execution_count": 30,
     "metadata": {},
     "output_type": "execute_result"
    }
   ],
   "source": [
    "#Creates data frame for Walmart quantities from excel sheet/.csv) (Mediterranean Diet Cost Sheet - Rural Walmart.csv file needs to be uploaded to data folder before cell can run)\n",
    "\n",
    "WalmartData = pd.read_csv('./Mediterranean Diet Cost Sheet - Rural Walmart.csv',index_col=0)\n",
    "dtype={'Price':float,'Quantity':float, 'FDC':int}\n",
    " \n",
    "WalmartData"
   ]
  },
  {
   "cell_type": "code",
   "execution_count": 31,
   "id": "56766abf",
   "metadata": {},
   "outputs": [
    {
     "name": "stdout",
     "output_type": "stream",
     "text": [
      "4.535923700000001 hectogram\n",
      "0.28349523125000003 hectogram\n",
      "0.01 hectogram\n"
     ]
    }
   ],
   "source": [
    "print(fdc.units(1,'lbs'))\n",
    "print(fdc.units(1,'oz'))\n",
    "print(fdc.units(1,'grams'))"
   ]
  },
  {
   "cell_type": "code",
   "execution_count": 32,
   "id": "32793679",
   "metadata": {
    "scrolled": true
   },
   "outputs": [
    {
     "name": "stderr",
     "output_type": "stream",
     "text": [
      "/opt/conda/lib/python3.9/site-packages/pandas/core/dtypes/cast.py:1990: UnitStrippedWarning: The unit of the quantity is stripped when downcasting to ndarray.\n",
      "  result[:] = values\n"
     ]
    },
    {
     "data": {
      "text/plain": [
       "Food\n",
       "Avocado               0.5173514419271794 / hectogram\n",
       "Broccoli              0.2939496829131701 / hectogram\n",
       "Canned tuna                         nan / milliliter\n",
       "Chickpeas            0.22105016155070387 / hectogram\n",
       "Eggs                 0.03613430248493603 / hectogram\n",
       "Feta                  1.7919172670386847 / hectogram\n",
       "Greek yogurt          0.4259497292024805 / hectogram\n",
       "Milk                 0.11387632773182751 / hectogram\n",
       "Olive oil             0.5965906173543842 / hectogram\n",
       "Oranges               0.2858660666330579 / hectogram\n",
       "Rice                  0.1719605645042045 / hectogram\n",
       "Spinach               0.4232875433949649 / hectogram\n",
       "Sweet potatoes                      nan / milliliter\n",
       "Tomato               0.33069339327731634 / hectogram\n",
       "Whole Wheat Bread     0.6244797708110902 / hectogram\n",
       "Name: FDC Price, dtype: object"
      ]
     },
     "execution_count": 32,
     "metadata": {},
     "output_type": "execute_result"
    }
   ],
   "source": [
    "#Conversion code from quanitity/units to hectorgrams\n",
    "WalmartData['FDC Quantity'] = WalmartData[['Quantity','Units']].T.apply(lambda x : fdc.units(x['Quantity'],x['Units']))\n",
    "\n",
    "WalmartData['FDC Price'] = WalmartData['Lowest P (Pretax)']/WalmartData['FDC Quantity']\n",
    "\n",
    "WalmartData.dropna(how = 'any') \n",
    "\n",
    "WalmartPrices = WalmartData.groupby('Food')['FDC Price'].min()\n",
    "\n",
    "WalmartPrices"
   ]
  },
  {
   "cell_type": "markdown",
   "id": "dc829cc3",
   "metadata": {},
   "source": [
    "Our last spreadsheet is from an online market accessible to locations in Greece. We will complete the process of creating a dataframe and converting to price/hectogram as done previously."
   ]
  },
  {
   "cell_type": "code",
   "execution_count": 33,
   "id": "a26a9d66",
   "metadata": {},
   "outputs": [
    {
     "data": {
      "text/html": [
       "<div>\n",
       "<style scoped>\n",
       "    .dataframe tbody tr th:only-of-type {\n",
       "        vertical-align: middle;\n",
       "    }\n",
       "\n",
       "    .dataframe tbody tr th {\n",
       "        vertical-align: top;\n",
       "    }\n",
       "\n",
       "    .dataframe thead th {\n",
       "        text-align: right;\n",
       "    }\n",
       "</style>\n",
       "<table border=\"1\" class=\"dataframe\">\n",
       "  <thead>\n",
       "    <tr style=\"text-align: right;\">\n",
       "      <th></th>\n",
       "      <th>Food</th>\n",
       "      <th>Quantity</th>\n",
       "      <th>Units</th>\n",
       "      <th>Price Per Kg</th>\n",
       "      <th>Price (pretax) U.S</th>\n",
       "      <th>Price per gram</th>\n",
       "      <th>Price per hectograms</th>\n",
       "      <th>Date</th>\n",
       "      <th>Location</th>\n",
       "      <th>FDCID</th>\n",
       "      <th>Description?</th>\n",
       "    </tr>\n",
       "    <tr>\n",
       "      <th>FDCID</th>\n",
       "      <th></th>\n",
       "      <th></th>\n",
       "      <th></th>\n",
       "      <th></th>\n",
       "      <th></th>\n",
       "      <th></th>\n",
       "      <th></th>\n",
       "      <th></th>\n",
       "      <th></th>\n",
       "      <th></th>\n",
       "      <th></th>\n",
       "    </tr>\n",
       "  </thead>\n",
       "  <tbody>\n",
       "    <tr>\n",
       "      <th>1100740</th>\n",
       "      <td>Whole Wheat Bread</td>\n",
       "      <td>720</td>\n",
       "      <td>grams</td>\n",
       "      <td>€3,11 EUR / kg</td>\n",
       "      <td>2.51</td>\n",
       "      <td>0,00311 ($0.0035 USD)</td>\n",
       "      <td>0.3461</td>\n",
       "      <td>26/02/2022</td>\n",
       "      <td>Alfa-Beta Vassilopoulos, Online Shop</td>\n",
       "      <td>1100740</td>\n",
       "      <td>Whole Wheat (used Google Translate) 1 bag</td>\n",
       "    </tr>\n",
       "    <tr>\n",
       "      <th>2116789</th>\n",
       "      <td>Rice</td>\n",
       "      <td>500</td>\n",
       "      <td>grams</td>\n",
       "      <td>€5,76/ Kg</td>\n",
       "      <td>3.23</td>\n",
       "      <td>0,00576 (0.0065 USD)</td>\n",
       "      <td>9.9690</td>\n",
       "      <td>26/02/2022</td>\n",
       "      <td>Alfa-Beta Vassilopoulos, Online Shop</td>\n",
       "      <td>2077766</td>\n",
       "      <td>Wild Rice</td>\n",
       "    </tr>\n",
       "    <tr>\n",
       "      <th>1103249</th>\n",
       "      <td>Sweet potatoes</td>\n",
       "      <td>3</td>\n",
       "      <td>kilograms</td>\n",
       "      <td>€1,16 EUR / kg</td>\n",
       "      <td>3.90</td>\n",
       "      <td>0,00116 ($0.0013 USD)</td>\n",
       "      <td>1.1300</td>\n",
       "      <td>26/02/2022</td>\n",
       "      <td>Alfa-Beta Vassilopoulos, Online Shop</td>\n",
       "      <td>1103249</td>\n",
       "      <td>The market only had regular potatoes (sweet po...</td>\n",
       "    </tr>\n",
       "    <tr>\n",
       "      <th>1103136</th>\n",
       "      <td>Spinach</td>\n",
       "      <td>450</td>\n",
       "      <td>grams</td>\n",
       "      <td>€3,96 EUR / kg</td>\n",
       "      <td>2.00</td>\n",
       "      <td>0,00396 ($0.0044 USD)</td>\n",
       "      <td>6.8588</td>\n",
       "      <td>26/02/2022</td>\n",
       "      <td>Alfa-Beta Vassilopoulos, Online Shop</td>\n",
       "      <td>1103136</td>\n",
       "      <td>raw 1 bag</td>\n",
       "    </tr>\n",
       "    <tr>\n",
       "      <th>1103177</th>\n",
       "      <td>Broccoli</td>\n",
       "      <td>600</td>\n",
       "      <td>grams</td>\n",
       "      <td>€4,48 EUR / kg</td>\n",
       "      <td>3.02</td>\n",
       "      <td>0,00448 ($0.00502 USD)</td>\n",
       "      <td>7.7670</td>\n",
       "      <td>26/02/2022</td>\n",
       "      <td>Alfa-Beta Vassilopoulos, Online Shop</td>\n",
       "      <td>1103177</td>\n",
       "      <td>cooked with oil 1 stalk</td>\n",
       "    </tr>\n",
       "    <tr>\n",
       "      <th>1103278</th>\n",
       "      <td>Tomato</td>\n",
       "      <td>1</td>\n",
       "      <td>kilograms</td>\n",
       "      <td>€2,42 EUR / kg</td>\n",
       "      <td>2.69</td>\n",
       "      <td>0,00242 ($0.00271 USD)</td>\n",
       "      <td>0.2690</td>\n",
       "      <td>26/02/2022</td>\n",
       "      <td>Alfa-Beta Vassilopoulos, Online Shop</td>\n",
       "      <td>1103278</td>\n",
       "      <td>Organic Greek Tomatoes (tomatoes, fresh, cooked)</td>\n",
       "    </tr>\n",
       "    <tr>\n",
       "      <th>1102652</th>\n",
       "      <td>Avocado</td>\n",
       "      <td>430</td>\n",
       "      <td>grams</td>\n",
       "      <td>€4,98 EUR / kg</td>\n",
       "      <td>2.40</td>\n",
       "      <td>0,00498 ($0.00558 USD)</td>\n",
       "      <td>8.6130</td>\n",
       "      <td>26/02/2022</td>\n",
       "      <td>Alfa-Beta Vassilopoulos, Online Shop</td>\n",
       "      <td>1102652</td>\n",
       "      <td>raw</td>\n",
       "    </tr>\n",
       "    <tr>\n",
       "      <th>1102597</th>\n",
       "      <td>Oranges</td>\n",
       "      <td>2</td>\n",
       "      <td>kilograms</td>\n",
       "      <td>€1,59 EUR / kg</td>\n",
       "      <td>3.43</td>\n",
       "      <td>,00159 ($0.00178 USD)</td>\n",
       "      <td>0.1715</td>\n",
       "      <td>26/02/2022</td>\n",
       "      <td>Alfa-Beta Vassilopoulos, Online Shop</td>\n",
       "      <td>1102597</td>\n",
       "      <td>raw</td>\n",
       "    </tr>\n",
       "    <tr>\n",
       "      <th>170903</th>\n",
       "      <td>Greek yogurt</td>\n",
       "      <td>600</td>\n",
       "      <td>grams</td>\n",
       "      <td>€5,50 EUR / kg</td>\n",
       "      <td>2.56</td>\n",
       "      <td>0,00550 ($0.00616 USD)</td>\n",
       "      <td>6.5840</td>\n",
       "      <td>26/02/2022</td>\n",
       "      <td>Alfa-Beta Vassilopoulos, Online Shop</td>\n",
       "      <td>170903</td>\n",
       "      <td>Strained yogurt 2% (yogurt, greek, plain, lowfat)</td>\n",
       "    </tr>\n",
       "    <tr>\n",
       "      <th>173420</th>\n",
       "      <td>Feta</td>\n",
       "      <td>400</td>\n",
       "      <td>grams</td>\n",
       "      <td>€12,25 EUR / kg</td>\n",
       "      <td>5.45</td>\n",
       "      <td>0,01225 ($0.014 USD)</td>\n",
       "      <td>21.0260</td>\n",
       "      <td>26/02/2022</td>\n",
       "      <td>Alfa-Beta Vassilopoulos, Online Shop</td>\n",
       "      <td>173420</td>\n",
       "      <td>NaN</td>\n",
       "    </tr>\n",
       "    <tr>\n",
       "      <th>1904187</th>\n",
       "      <td>Milk</td>\n",
       "      <td>2</td>\n",
       "      <td>liters</td>\n",
       "      <td>€0,81 EUR (1 Litre)</td>\n",
       "      <td>1.80</td>\n",
       "      <td>0,00081 ($0.00091 USD)</td>\n",
       "      <td>0.0900</td>\n",
       "      <td>26/02/2022</td>\n",
       "      <td>Alfa-Beta Vassilopoulos, Online Shop</td>\n",
       "      <td>1904187</td>\n",
       "      <td>NaN</td>\n",
       "    </tr>\n",
       "    <tr>\n",
       "      <th>334194</th>\n",
       "      <td>Canned tuna</td>\n",
       "      <td>120</td>\n",
       "      <td>grams</td>\n",
       "      <td>€54,92 EUR / kg</td>\n",
       "      <td>7.33</td>\n",
       "      <td>0,06492 ($0.073 USD)</td>\n",
       "      <td>94.2600</td>\n",
       "      <td>26/02/2022</td>\n",
       "      <td>Alfa-Beta Vassilopoulos, Online Shop</td>\n",
       "      <td>334194</td>\n",
       "      <td>White Tuna in Olive Oil</td>\n",
       "    </tr>\n",
       "    <tr>\n",
       "      <th>747997</th>\n",
       "      <td>Eggs</td>\n",
       "      <td>307</td>\n",
       "      <td>oz</td>\n",
       "      <td>€0,25 per egg</td>\n",
       "      <td>4.14</td>\n",
       "      <td>0,25 per egg ($0.28 USD)</td>\n",
       "      <td>0.0475</td>\n",
       "      <td>26/02/2022</td>\n",
       "      <td>Alfa-Beta Vassilopoulos, Online Shop</td>\n",
       "      <td>747997</td>\n",
       "      <td>NaN</td>\n",
       "    </tr>\n",
       "    <tr>\n",
       "      <th>1100433</th>\n",
       "      <td>Chickpeas</td>\n",
       "      <td>500</td>\n",
       "      <td>grams</td>\n",
       "      <td>€5,70 EUR / kg</td>\n",
       "      <td>3.17</td>\n",
       "      <td>0,00570 ($0.0064 USD)</td>\n",
       "      <td>94.2600</td>\n",
       "      <td>26/02/2022</td>\n",
       "      <td>Alfa-Beta Vassilopoulos, Online Shop</td>\n",
       "      <td>1100433</td>\n",
       "      <td>(Peeled Chickpeas Imported)</td>\n",
       "    </tr>\n",
       "    <tr>\n",
       "      <th>1582039</th>\n",
       "      <td>Olive oil</td>\n",
       "      <td>1</td>\n",
       "      <td>liter</td>\n",
       "      <td>€8,89 EUR (1 Litre)</td>\n",
       "      <td>9.89</td>\n",
       "      <td>0,0089 ($0.0100 USD)</td>\n",
       "      <td>0.9890</td>\n",
       "      <td>26/02/2022</td>\n",
       "      <td>Alfa-Beta Vassilopoulos, Online Shop</td>\n",
       "      <td>1582039</td>\n",
       "      <td>1 Litre</td>\n",
       "    </tr>\n",
       "  </tbody>\n",
       "</table>\n",
       "</div>"
      ],
      "text/plain": [
       "                      Food  Quantity      Units         Price Per Kg  \\\n",
       " FDCID                                                                 \n",
       "1100740  Whole Wheat Bread       720      grams       €3,11 EUR / kg   \n",
       "2116789               Rice       500      grams            €5,76/ Kg   \n",
       "1103249     Sweet potatoes         3  kilograms       €1,16 EUR / kg   \n",
       "1103136            Spinach       450      grams       €3,96 EUR / kg   \n",
       "1103177           Broccoli       600      grams       €4,48 EUR / kg   \n",
       "1103278            Tomato          1  kilograms       €2,42 EUR / kg   \n",
       "1102652            Avocado       430      grams       €4,98 EUR / kg   \n",
       "1102597            Oranges         2  kilograms       €1,59 EUR / kg   \n",
       "170903        Greek yogurt       600      grams       €5,50 EUR / kg   \n",
       "173420                Feta       400      grams      €12,25 EUR / kg   \n",
       "1904187               Milk         2     liters  €0,81 EUR (1 Litre)   \n",
       "334194         Canned tuna       120      grams      €54,92 EUR / kg   \n",
       "747997                Eggs       307         oz        €0,25 per egg   \n",
       "1100433          Chickpeas       500      grams       €5,70 EUR / kg   \n",
       "1582039          Olive oil         1      liter  €8,89 EUR (1 Litre)   \n",
       "\n",
       "         Price (pretax) U.S            Price per gram  Price per hectograms   \\\n",
       " FDCID                                                                         \n",
       "1100740                2.51     0,00311 ($0.0035 USD)                 0.3461   \n",
       "2116789                3.23      0,00576 (0.0065 USD)                 9.9690   \n",
       "1103249                3.90     0,00116 ($0.0013 USD)                 1.1300   \n",
       "1103136                2.00     0,00396 ($0.0044 USD)                 6.8588   \n",
       "1103177                3.02    0,00448 ($0.00502 USD)                 7.7670   \n",
       "1103278                2.69    0,00242 ($0.00271 USD)                 0.2690   \n",
       "1102652                2.40    0,00498 ($0.00558 USD)                 8.6130   \n",
       "1102597                3.43     ,00159 ($0.00178 USD)                 0.1715   \n",
       "170903                 2.56    0,00550 ($0.00616 USD)                 6.5840   \n",
       "173420                 5.45      0,01225 ($0.014 USD)                21.0260   \n",
       "1904187                1.80    0,00081 ($0.00091 USD)                 0.0900   \n",
       "334194                 7.33      0,06492 ($0.073 USD)                94.2600   \n",
       "747997                 4.14  0,25 per egg ($0.28 USD)                 0.0475   \n",
       "1100433                3.17     0,00570 ($0.0064 USD)                94.2600   \n",
       "1582039                9.89      0,0089 ($0.0100 USD)                 0.9890   \n",
       "\n",
       "               Date                              Location    FDCID  \\\n",
       " FDCID                                                               \n",
       "1100740  26/02/2022  Alfa-Beta Vassilopoulos, Online Shop  1100740   \n",
       "2116789  26/02/2022  Alfa-Beta Vassilopoulos, Online Shop  2077766   \n",
       "1103249  26/02/2022  Alfa-Beta Vassilopoulos, Online Shop  1103249   \n",
       "1103136  26/02/2022  Alfa-Beta Vassilopoulos, Online Shop  1103136   \n",
       "1103177  26/02/2022  Alfa-Beta Vassilopoulos, Online Shop  1103177   \n",
       "1103278  26/02/2022  Alfa-Beta Vassilopoulos, Online Shop  1103278   \n",
       "1102652  26/02/2022  Alfa-Beta Vassilopoulos, Online Shop  1102652   \n",
       "1102597  26/02/2022  Alfa-Beta Vassilopoulos, Online Shop  1102597   \n",
       "170903   26/02/2022  Alfa-Beta Vassilopoulos, Online Shop   170903   \n",
       "173420   26/02/2022  Alfa-Beta Vassilopoulos, Online Shop   173420   \n",
       "1904187  26/02/2022  Alfa-Beta Vassilopoulos, Online Shop  1904187   \n",
       "334194   26/02/2022  Alfa-Beta Vassilopoulos, Online Shop   334194   \n",
       "747997   26/02/2022  Alfa-Beta Vassilopoulos, Online Shop   747997   \n",
       "1100433  26/02/2022  Alfa-Beta Vassilopoulos, Online Shop  1100433   \n",
       "1582039  26/02/2022  Alfa-Beta Vassilopoulos, Online Shop  1582039   \n",
       "\n",
       "                                              Description?  \n",
       " FDCID                                                      \n",
       "1100740          Whole Wheat (used Google Translate) 1 bag  \n",
       "2116789                                          Wild Rice  \n",
       "1103249  The market only had regular potatoes (sweet po...  \n",
       "1103136                                          raw 1 bag  \n",
       "1103177                            cooked with oil 1 stalk  \n",
       "1103278   Organic Greek Tomatoes (tomatoes, fresh, cooked)  \n",
       "1102652                                                raw  \n",
       "1102597                                                raw  \n",
       "170903   Strained yogurt 2% (yogurt, greek, plain, lowfat)  \n",
       "173420                                                 NaN  \n",
       "1904187                                                NaN  \n",
       "334194                             White Tuna in Olive Oil  \n",
       "747997                                                 NaN  \n",
       "1100433                        (Peeled Chickpeas Imported)  \n",
       "1582039                                            1 Litre  "
      ]
     },
     "execution_count": 33,
     "metadata": {},
     "output_type": "execute_result"
    }
   ],
   "source": [
    "#Creates International Mediterranean country data from from final excel sheet/.csv)(Mediterranean Diet Cost Sheet - International Mediterranean.csv file needs to be uploaded to data folder before cell can run)\n",
    "\n",
    "InterMed = pd.read_csv('./Mediterranean Diet Cost Sheet - International Mediterranean.csv',index_col=0)\n",
    "dtype={'Price':float,'Quantity':float, 'FDC':int}\n",
    "\n",
    "InterMed"
   ]
  },
  {
   "cell_type": "code",
   "execution_count": 34,
   "id": "e3178d99",
   "metadata": {},
   "outputs": [
    {
     "name": "stdout",
     "output_type": "stream",
     "text": [
      "4.535923700000001 hectogram\n",
      "0.28349523125000003 hectogram\n",
      "0.01 hectogram\n",
      "0.0006479891 hectogram\n",
      "10.0 hectogram\n",
      "10.0 deciliter\n"
     ]
    }
   ],
   "source": [
    "print(fdc.units(1,'lbs'))\n",
    "print(fdc.units(1,'oz'))\n",
    "print(fdc.units(1,'gram'))\n",
    "print(fdc.units(1,'grain'))\n",
    "print(fdc.units(1,'kilogram'))\n",
    "print(fdc.units(1,'liter'))"
   ]
  },
  {
   "cell_type": "code",
   "execution_count": 35,
   "id": "3fa72542",
   "metadata": {},
   "outputs": [
    {
     "name": "stderr",
     "output_type": "stream",
     "text": [
      "/opt/conda/lib/python3.9/site-packages/pandas/core/dtypes/cast.py:1990: UnitStrippedWarning: The unit of the quantity is stripped when downcasting to ndarray.\n",
      "  result[:] = values\n"
     ]
    },
    {
     "data": {
      "text/plain": [
       "Food\n",
       "Avocado              0.5581395348837209 / hectogram\n",
       "Broccoli             0.5033333333333333 / hectogram\n",
       "Canned tuna           6.108333333333333 / hectogram\n",
       "Chickpeas                         0.634 / hectogram\n",
       "Eggs                 0.0475681441274472 / hectogram\n",
       "Feta                             1.3625 / hectogram\n",
       "Greek yogurt         0.4266666666666667 / hectogram\n",
       "Milk                               0.09 / deciliter\n",
       "Olive oil            0.9890000000000001 / deciliter\n",
       "Oranges                          0.1715 / hectogram\n",
       "Rice                              0.646 / hectogram\n",
       "Spinach              0.4444444444444444 / hectogram\n",
       "Sweet potatoes                     0.13 / hectogram\n",
       "Tomato                            0.269 / hectogram\n",
       "Whole Wheat Bread    0.3486111111111111 / hectogram\n",
       "Name: FDC Price, dtype: object"
      ]
     },
     "execution_count": 35,
     "metadata": {},
     "output_type": "execute_result"
    }
   ],
   "source": [
    "#Conversion\n",
    "InterMed['FDC Quantity'] = InterMed[['Quantity','Units']].T.apply(lambda x : fdc.units(x['Quantity'],x['Units']))\n",
    "\n",
    "InterMed['FDC Price'] = InterMed['Price (pretax) U.S']/InterMed['FDC Quantity']\n",
    "\n",
    "InterMed.dropna(how = 'any') \n",
    "\n",
    "PricesInterMed = InterMed.groupby('Food')['FDC Price'].min()\n",
    "\n",
    "PricesInterMed"
   ]
  },
  {
   "cell_type": "code",
   "execution_count": 36,
   "id": "48559299",
   "metadata": {},
   "outputs": [
    {
     "data": {
      "text/plain": [
       "Nutrition\n",
       "Energy                            2400.0\n",
       "Protein                             56.0\n",
       "Fiber, total dietary                33.6\n",
       "Folate, DFE                        400.0\n",
       "Calcium, Ca                       1000.0\n",
       "Carbohydrate, by difference        130.0\n",
       "Iron, Fe                             8.0\n",
       "Magnesium, Mg                      400.0\n",
       "Niacin                              16.0\n",
       "Phosphorus, P                      700.0\n",
       "Potassium, K                      4700.0\n",
       "Riboflavin                           1.3\n",
       "Thiamin                              1.2\n",
       "Vitamin A, RAE                     900.0\n",
       "Vitamin B-12                         2.4\n",
       "Vitamin B-6                          1.3\n",
       "Vitamin C, total ascorbic acid      90.0\n",
       "Vitamin E (alpha-tocopherol)        15.0\n",
       "Vitamin K (phylloquinone)          120.0\n",
       "Zinc, Zn                            11.0\n",
       "Name: M 19-30, dtype: float64"
      ]
     },
     "execution_count": 36,
     "metadata": {},
     "output_type": "execute_result"
    }
   ],
   "source": [
    "#Prints bmin and bmax requirements\n",
    "bminM22 = get_dri_min(22, 'M')\n",
    "bmaxM22 = get_dri_max(22, 'M')\n",
    "bminM22"
   ]
  },
  {
   "cell_type": "code",
   "execution_count": 37,
   "id": "ea4b17b3",
   "metadata": {},
   "outputs": [
    {
     "data": {
      "text/plain": [
       "Nutrition\n",
       "Sodium, Na    2300\n",
       "Name: M 19-30, dtype: int64"
      ]
     },
     "execution_count": 37,
     "metadata": {},
     "output_type": "execute_result"
    }
   ],
   "source": [
    "bmaxM22"
   ]
  },
  {
   "cell_type": "markdown",
   "id": "27527166",
   "metadata": {},
   "source": [
    "### Deliverable [A] Solution\n",
    "\n",
    "#### What is the minimum cost diet for the population you're concerned with? How much does it cost, and of what does it consist? How does it vary with age, sex, and level of activity?\n",
    "\n",
    "We now begin the final assessment for solving the subsistence food problem to determine what a minimum cost mediterranean diet looks like in our given populations of interest. \n",
    "\n",
    "We begin with Berkeley Bowl for the Berkeley population."
   ]
  },
  {
   "cell_type": "code",
   "execution_count": 38,
   "id": "14d74698",
   "metadata": {},
   "outputs": [
    {
     "data": {
      "text/plain": [
       "       A:                                 Avocado  Broccoli  Canned tuna  Chickpeas  \\\n",
       "Nutrition                                                                   \n",
       "Energy                          160.000    61.000      376.000    146.000   \n",
       "Protein                           2.000     2.840       19.000      8.190   \n",
       "Fiber, total dietary              6.700     2.600        0.000      7.300   \n",
       "Folate, DFE                      81.000    54.000        0.000     40.000   \n",
       "Calcium, Ca                      12.000    48.000       18.000     58.000   \n",
       "Carbohydrate, by difference       8.530     6.700        0.080     22.450   \n",
       "Iron, Fe                          0.550     0.740        1.670      2.050   \n",
       "Magnesium, Mg                    29.000    21.000       22.700     45.000   \n",
       "Niacin                            1.738     0.612        9.920      0.205   \n",
       "Phosphorus, P                    52.000    67.000      137.000    133.000   \n",
       "Potassium, K                    485.000   319.000      176.000    240.000   \n",
       "Riboflavin                        0.130     0.112        0.082      0.024   \n",
       "Thiamin                           0.067     0.064        0.030      0.051   \n",
       "Vitamin A, RAE                    7.000    30.000        0.000      2.000   \n",
       "Vitamin B-12                      0.000     0.000        2.570      0.000   \n",
       "Vitamin B-6                       0.257     0.159        0.320      0.748   \n",
       "Vitamin C, total ascorbic acid   10.000    76.500        0.000      0.200   \n",
       "Vitamin E (alpha-tocopherol)      2.070     1.140        0.000      0.320   \n",
       "Vitamin K (phylloquinone)        21.000   106.000        0.000      3.700   \n",
       "Zinc, Zn                          0.640     0.410        0.660      1.150   \n",
       "Sodium, Na                       -7.000  -150.000     -219.000   -327.000   \n",
       "\n",
       "                                   Eggs      Feta  Greek yogurt    Milk  \\\n",
       "Nutrition                                                                 \n",
       "Energy                          231.000  1107.000       305.000   62.00   \n",
       "Protein                          10.700    14.210         9.950    3.33   \n",
       "Fiber, total dietary              0.000     0.000         0.000    0.00   \n",
       "Folate, DFE                       0.000    32.000        12.000    0.00   \n",
       "Calcium, Ca                       0.000   493.000       115.000  125.00   \n",
       "Carbohydrate, by difference       2.360     3.880         3.940    5.00   \n",
       "Iron, Fe                          0.000     0.650         0.040    0.04   \n",
       "Magnesium, Mg                     0.000    19.000        11.000    0.00   \n",
       "Niacin                            0.000     0.991         0.197    0.00   \n",
       "Phosphorus, P                     0.000   337.000       137.000    0.00   \n",
       "Potassium, K                      0.000    62.000       141.000  167.00   \n",
       "Riboflavin                        0.391     0.844         0.233    0.00   \n",
       "Thiamin                           0.000     0.154         0.044    0.00   \n",
       "Vitamin A, RAE                    0.000   125.000        90.000    0.00   \n",
       "Vitamin B-12                      0.000     1.690         0.520    0.00   \n",
       "Vitamin B-6                       0.000     0.424         0.055    0.00   \n",
       "Vitamin C, total ascorbic acid    0.000     0.000         0.800    0.00   \n",
       "Vitamin E (alpha-tocopherol)      0.000     0.180         0.040    0.00   \n",
       "Vitamin K (phylloquinone)         0.000     1.800         0.200    0.00   \n",
       "Zinc, Zn                          0.000     2.880         0.600    0.00   \n",
       "Sodium, Na                       -0.000 -1139.000       -34.000  -52.00   \n",
       "\n",
       "                                Olive oil  Oranges     Rice  Spinach  \\\n",
       "Nutrition                                                              \n",
       "Energy                              800.0   47.000  356.000   23.000   \n",
       "Protein                               0.0    0.940    6.670    2.860   \n",
       "Fiber, total dietary                  0.0    2.400    0.000    2.200   \n",
       "Folate, DFE                           0.0   30.000    0.000  194.000   \n",
       "Calcium, Ca                           0.0   40.000    0.000   99.000   \n",
       "Carbohydrate, by difference           0.0   11.750   77.780    3.630   \n",
       "Iron, Fe                              0.0    0.100    3.200    2.710   \n",
       "Magnesium, Mg                         0.0   10.000    0.000   79.000   \n",
       "Niacin                                0.0    0.282    3.556    0.724   \n",
       "Phosphorus, P                         0.0   14.000    0.000   49.000   \n",
       "Potassium, K                          0.0  181.000   89.000  558.000   \n",
       "Riboflavin                            0.0    0.040    0.000    0.189   \n",
       "Thiamin                               0.0    0.087    0.000    0.078   \n",
       "Vitamin A, RAE                        0.0   11.000    0.000  469.000   \n",
       "Vitamin B-12                          0.0    0.000    0.000    0.000   \n",
       "Vitamin B-6                           0.0    0.060    0.000    0.195   \n",
       "Vitamin C, total ascorbic acid        0.0   53.200    0.000   28.100   \n",
       "Vitamin E (alpha-tocopherol)          0.0    0.180    0.000    2.030   \n",
       "Vitamin K (phylloquinone)             0.0    0.000    0.000  482.900   \n",
       "Zinc, Zn                              0.0    0.070    0.000    0.530   \n",
       "Sodium, Na                           -0.0   -0.000   -0.000  -79.000   \n",
       "\n",
       "                                Sweet potatoes  Whole Wheat Bread  \n",
       "Nutrition                                                          \n",
       "Energy                                 114.000            254.000  \n",
       "Protein                                  1.300             12.300  \n",
       "Fiber, total dietary                     2.400              6.000  \n",
       "Folate, DFE                              6.000             42.000  \n",
       "Calcium, Ca                             26.000            163.000  \n",
       "Carbohydrate, by difference             16.810             43.100  \n",
       "Iron, Fe                                 0.690              2.560  \n",
       "Magnesium, Mg                           17.000             77.000  \n",
       "Niacin                                   0.510              4.430  \n",
       "Phosphorus, P                           30.000            212.000  \n",
       "Potassium, K                           218.000            250.000  \n",
       "Riboflavin                               0.045              0.166  \n",
       "Thiamin                                  0.053              0.391  \n",
       "Vitamin A, RAE                         747.000              0.000  \n",
       "Vitamin B-12                             0.000              0.000  \n",
       "Vitamin B-6                              0.157              0.216  \n",
       "Vitamin C, total ascorbic acid          12.100              0.000  \n",
       "Vitamin E (alpha-tocopherol)             1.450              0.540  \n",
       "Vitamin K (phylloquinone)                7.600              7.800  \n",
       "Zinc, Zn                                 0.190              1.760  \n",
       "Sodium, Na                            -173.000           -450.000  \n",
       "       b: Nutrition\n",
       "Energy                            2400.0\n",
       "Protein                             56.0\n",
       "Fiber, total dietary                33.6\n",
       "Folate, DFE                        400.0\n",
       "Calcium, Ca                       1000.0\n",
       "Carbohydrate, by difference        130.0\n",
       "Iron, Fe                             8.0\n",
       "Magnesium, Mg                      400.0\n",
       "Niacin                              16.0\n",
       "Phosphorus, P                      700.0\n",
       "Potassium, K                      4700.0\n",
       "Riboflavin                           1.3\n",
       "Thiamin                              1.2\n",
       "Vitamin A, RAE                     900.0\n",
       "Vitamin B-12                         2.4\n",
       "Vitamin B-6                          1.3\n",
       "Vitamin C, total ascorbic acid      90.0\n",
       "Vitamin E (alpha-tocopherol)        15.0\n",
       "Vitamin K (phylloquinone)          120.0\n",
       "Zinc, Zn                            11.0\n",
       "Sodium, Na                       -2300.0\n",
       "Name: M 19-30, dtype: float64\n",
       "     con: array([], dtype=float64)\n",
       "    diet: Avocado              1.979654e+00\n",
       "Broccoli             1.445138e-09\n",
       "Canned tuna          3.436776e-01\n",
       "Chickpeas            3.285490e+00\n",
       "Eggs                 2.277225e-10\n",
       "Feta                 3.516542e-11\n",
       "Greek yogurt         3.057892e+00\n",
       "Milk                 8.018275e-10\n",
       "Olive oil            8.247044e-11\n",
       "Oranges              2.408930e-10\n",
       "Rice                 2.581125e-09\n",
       "Spinach              3.248037e+00\n",
       "Sweet potatoes       1.773807e+00\n",
       "Whole Wheat Bread    1.042422e+00\n",
       "dtype: float64\n",
       "     fun: 11.811513328826312\n",
       " message: 'Optimization terminated successfully.'\n",
       "     nit: 19\n",
       "   slack: array([1.52238954e-07, 3.62404948e+01, 2.13051094e+01, 6.13010058e+02,\n",
       "       1.09747465e+02, 5.92577457e+01, 1.32150296e+01, 2.13711458e+02,\n",
       "       6.91721880e-09, 7.39288673e+02, 2.23175448e-07, 6.43619514e-01,\n",
       "       1.86151317e-10, 2.24400233e+03, 7.33552341e-02, 3.08149668e+00,\n",
       "       4.56328652e+01, 4.88618923e-10, 1.52442964e+03, 2.00918393e-10,\n",
       "       5.97888175e-08])\n",
       "  status: 0\n",
       " success: True\n",
       "       x: array([1.97965387e+00, 1.44513834e-09, 3.43677624e-01, 3.28549015e+00,\n",
       "       2.27722544e-10, 3.51654168e-11, 3.05789181e+00, 8.01827512e-10,\n",
       "       8.24704384e-11, 2.40892962e-10, 2.58112480e-09, 3.24803725e+00,\n",
       "       1.77380728e+00, 1.04242182e+00])"
      ]
     },
     "execution_count": 38,
     "metadata": {},
     "output_type": "execute_result"
    }
   ],
   "source": [
    "#Final matrix code for minumium price for diet for Walmart \n",
    "from  scipy.optimize import linprog as lp\n",
    "import numpy as np\n",
    "import warnings\n",
    "\n",
    "def solve_subsistence_problem(FoodNutrients,Prices,diet_min,diet_max,max_weight=None,tol=1e-6):\n",
    "    \n",
    "    p = Prices.apply(lambda x:x.magnitude).dropna()\n",
    "\n",
    "    # Compile list that we have both prices and nutritional info for; drop if either missing\n",
    "    use = p.index.intersection(FoodNutrients.columns)\n",
    "    p = p[use]\n",
    "\n",
    "    # Drop nutritional information for foods we don't know the price of,\n",
    "    # and replace missing nutrients with zeros.\n",
    "    Aall = FoodNutrients[p.index].fillna(0)\n",
    "\n",
    "    # Drop rows of A that we don't have constraints for.\n",
    "    Amin = Aall.loc[Aall.index.intersection(diet_min.index)]\n",
    "\n",
    "    Amax = Aall.loc[Aall.index.intersection(diet_max.index)]\n",
    "\n",
    "    # Minimum requirements involve multiplying constraint by -1 to make <=.\n",
    "    A = pd.concat([Amin,\n",
    "                   -Amax])\n",
    "\n",
    "    b = pd.concat([diet_min,\n",
    "                   -diet_max]) # Note sign change for max constraints\n",
    "\n",
    "    # Make sure order of p, A, b are consistent\n",
    "    A = A.reindex(p.index,axis=1)\n",
    "    A = A.reindex(b.index,axis=0)\n",
    "\n",
    "    if max_weight is not None:\n",
    "        # Add up weights of foods consumed\n",
    "        A.loc['Hectograms'] = -1\n",
    "        b.loc['Hectograms'] = -max_weight\n",
    "        \n",
    "    # Now solve problem!  (Note that the linear program solver we'll use assumes\n",
    "    # \"less-than-or-equal\" constraints.  We can switch back and forth by\n",
    "    # multiplying $A$ and $b$ by $-1$.)\n",
    "\n",
    "    result = lp(p, -A, -b, method='interior-point')\n",
    "\n",
    "    result.A = A\n",
    "    result.b = b\n",
    "    \n",
    "    if result.success:\n",
    "        result.diet = pd.Series(result.x,index=p.index)\n",
    "    else: # No feasible solution?\n",
    "        warnings.warn(result.message)\n",
    "        result.diet = pd.Series(result.x,index=p.index)*np.nan \n",
    "        \n",
    "\n",
    "    return result\n",
    "PricesBB = BerkBowlPrices\n",
    "dietM22=solve_subsistence_problem(FoodNutrients,PricesBB,bminM22,bmaxM22,max_weight=None,tol=1e-6)\n",
    "dietM22"
   ]
  },
  {
   "cell_type": "markdown",
   "id": "c6fb9a36",
   "metadata": {},
   "source": [
    "A minimum cost mediterranean diet in Berkeley using Berkely Bowl as the market is $11.81.\n",
    "\n",
    "We repeat the same for the Stockton Walmart for our Fresno population."
   ]
  },
  {
   "cell_type": "code",
   "execution_count": 39,
   "id": "6a98799f",
   "metadata": {},
   "outputs": [
    {
     "data": {
      "text/plain": [
       "       A:                                 Avocado  Broccoli  Chickpeas     Eggs  \\\n",
       "Nutrition                                                               \n",
       "Energy                          160.000    61.000    146.000  231.000   \n",
       "Protein                           2.000     2.840      8.190   10.700   \n",
       "Fiber, total dietary              6.700     2.600      7.300    0.000   \n",
       "Folate, DFE                      81.000    54.000     40.000    0.000   \n",
       "Calcium, Ca                      12.000    48.000     58.000    0.000   \n",
       "Carbohydrate, by difference       8.530     6.700     22.450    2.360   \n",
       "Iron, Fe                          0.550     0.740      2.050    0.000   \n",
       "Magnesium, Mg                    29.000    21.000     45.000    0.000   \n",
       "Niacin                            1.738     0.612      0.205    0.000   \n",
       "Phosphorus, P                    52.000    67.000    133.000    0.000   \n",
       "Potassium, K                    485.000   319.000    240.000    0.000   \n",
       "Riboflavin                        0.130     0.112      0.024    0.391   \n",
       "Thiamin                           0.067     0.064      0.051    0.000   \n",
       "Vitamin A, RAE                    7.000    30.000      2.000    0.000   \n",
       "Vitamin B-12                      0.000     0.000      0.000    0.000   \n",
       "Vitamin B-6                       0.257     0.159      0.748    0.000   \n",
       "Vitamin C, total ascorbic acid   10.000    76.500      0.200    0.000   \n",
       "Vitamin E (alpha-tocopherol)      2.070     1.140      0.320    0.000   \n",
       "Vitamin K (phylloquinone)        21.000   106.000      3.700    0.000   \n",
       "Zinc, Zn                          0.640     0.410      1.150    0.000   \n",
       "Sodium, Na                       -7.000  -150.000   -327.000   -0.000   \n",
       "\n",
       "                                    Feta  Greek yogurt    Milk  Olive oil  \\\n",
       "Nutrition                                                                   \n",
       "Energy                          1107.000       305.000   62.00      800.0   \n",
       "Protein                           14.210         9.950    3.33        0.0   \n",
       "Fiber, total dietary               0.000         0.000    0.00        0.0   \n",
       "Folate, DFE                       32.000        12.000    0.00        0.0   \n",
       "Calcium, Ca                      493.000       115.000  125.00        0.0   \n",
       "Carbohydrate, by difference        3.880         3.940    5.00        0.0   \n",
       "Iron, Fe                           0.650         0.040    0.04        0.0   \n",
       "Magnesium, Mg                     19.000        11.000    0.00        0.0   \n",
       "Niacin                             0.991         0.197    0.00        0.0   \n",
       "Phosphorus, P                    337.000       137.000    0.00        0.0   \n",
       "Potassium, K                      62.000       141.000  167.00        0.0   \n",
       "Riboflavin                         0.844         0.233    0.00        0.0   \n",
       "Thiamin                            0.154         0.044    0.00        0.0   \n",
       "Vitamin A, RAE                   125.000        90.000    0.00        0.0   \n",
       "Vitamin B-12                       1.690         0.520    0.00        0.0   \n",
       "Vitamin B-6                        0.424         0.055    0.00        0.0   \n",
       "Vitamin C, total ascorbic acid     0.000         0.800    0.00        0.0   \n",
       "Vitamin E (alpha-tocopherol)       0.180         0.040    0.00        0.0   \n",
       "Vitamin K (phylloquinone)          1.800         0.200    0.00        0.0   \n",
       "Zinc, Zn                           2.880         0.600    0.00        0.0   \n",
       "Sodium, Na                     -1139.000       -34.000  -52.00       -0.0   \n",
       "\n",
       "                                Oranges     Rice  Spinach  Whole Wheat Bread  \n",
       "Nutrition                                                                     \n",
       "Energy                           47.000  356.000   23.000            254.000  \n",
       "Protein                           0.940    6.670    2.860             12.300  \n",
       "Fiber, total dietary              2.400    0.000    2.200              6.000  \n",
       "Folate, DFE                      30.000    0.000  194.000             42.000  \n",
       "Calcium, Ca                      40.000    0.000   99.000            163.000  \n",
       "Carbohydrate, by difference      11.750   77.780    3.630             43.100  \n",
       "Iron, Fe                          0.100    3.200    2.710              2.560  \n",
       "Magnesium, Mg                    10.000    0.000   79.000             77.000  \n",
       "Niacin                            0.282    3.556    0.724              4.430  \n",
       "Phosphorus, P                    14.000    0.000   49.000            212.000  \n",
       "Potassium, K                    181.000   89.000  558.000            250.000  \n",
       "Riboflavin                        0.040    0.000    0.189              0.166  \n",
       "Thiamin                           0.087    0.000    0.078              0.391  \n",
       "Vitamin A, RAE                   11.000    0.000  469.000              0.000  \n",
       "Vitamin B-12                      0.000    0.000    0.000              0.000  \n",
       "Vitamin B-6                       0.060    0.000    0.195              0.216  \n",
       "Vitamin C, total ascorbic acid   53.200    0.000   28.100              0.000  \n",
       "Vitamin E (alpha-tocopherol)      0.180    0.000    2.030              0.540  \n",
       "Vitamin K (phylloquinone)         0.000    0.000  482.900              7.800  \n",
       "Zinc, Zn                          0.070    0.000    0.530              1.760  \n",
       "Sodium, Na                       -0.000   -0.000  -79.000           -450.000  \n",
       "       b: Nutrition\n",
       "Energy                            2400.0\n",
       "Protein                             56.0\n",
       "Fiber, total dietary                33.6\n",
       "Folate, DFE                        400.0\n",
       "Calcium, Ca                       1000.0\n",
       "Carbohydrate, by difference        130.0\n",
       "Iron, Fe                             8.0\n",
       "Magnesium, Mg                      400.0\n",
       "Niacin                              16.0\n",
       "Phosphorus, P                      700.0\n",
       "Potassium, K                      4700.0\n",
       "Riboflavin                           1.3\n",
       "Thiamin                              1.2\n",
       "Vitamin A, RAE                     900.0\n",
       "Vitamin B-12                         2.4\n",
       "Vitamin B-6                          1.3\n",
       "Vitamin C, total ascorbic acid      90.0\n",
       "Vitamin E (alpha-tocopherol)        15.0\n",
       "Vitamin K (phylloquinone)          120.0\n",
       "Zinc, Zn                            11.0\n",
       "Sodium, Na                       -2300.0\n",
       "Name: M 19-30, dtype: float64\n",
       "     con: array([], dtype=float64)\n",
       "    diet: Avocado              3.957103e-08\n",
       "Broccoli             1.268595e-08\n",
       "Chickpeas            2.778234e+00\n",
       "Eggs                 4.818598e-10\n",
       "Feta                 3.796811e-10\n",
       "Greek yogurt         4.615385e+00\n",
       "Milk                 8.465787e-10\n",
       "Olive oil            1.538165e-10\n",
       "Oranges              5.829409e-10\n",
       "Rice                 1.656520e+00\n",
       "Spinach              6.630269e+00\n",
       "Whole Wheat Bread    8.646345e-01\n",
       "dtype: float64\n",
       "     fun: 6.211364357399439\n",
       " message: 'Optimization terminated successfully.'\n",
       "     nit: 14\n",
       "   slack: array([3.75149030e+02, 5.33233809e+01, 6.45551181e+00, 1.08910091e+03,\n",
       "       4.89238930e+02, 1.40733730e+02, 2.33623545e+01, 3.66157924e+02,\n",
       "       2.17023910e-09, 8.09998602e+02, 6.80824753e+02, 1.23871250e+00,\n",
       "       5.90501870e-10, 2.63053742e+03, 1.47675205e-10, 2.51162914e+00,\n",
       "       1.00558526e+02, 7.88372034e-10, 3.09970378e+03, 7.50066675e-10,\n",
       "       3.21717425e+02])\n",
       "  status: 0\n",
       " success: True\n",
       "       x: array([3.95710329e-08, 1.26859477e-08, 2.77823447e+00, 4.81859758e-10,\n",
       "       3.79681145e-10, 4.61538461e+00, 8.46578718e-10, 1.53816524e-10,\n",
       "       5.82940869e-10, 1.65651998e+00, 6.63026938e+00, 8.64634538e-01])"
      ]
     },
     "execution_count": 39,
     "metadata": {},
     "output_type": "execute_result"
    }
   ],
   "source": [
    "#Final matrix code for minumium price for diet for Walmart \n",
    "from  scipy.optimize import linprog as lp\n",
    "import numpy as np\n",
    "import warnings\n",
    "\n",
    "def solve_subsistence_problem(FoodNutrients,Prices,diet_min,diet_max,max_weight=None,tol=1e-6):\n",
    "    \n",
    "    p = Prices.apply(lambda x:x.magnitude).dropna()\n",
    "\n",
    "    # Compile list that we have both prices and nutritional info for; drop if either missing\n",
    "    use = p.index.intersection(FoodNutrients.columns)\n",
    "    p = p[use]\n",
    "\n",
    "    # Drop nutritional information for foods we don't know the price of,\n",
    "    # and replace missing nutrients with zeros.\n",
    "    Aall = FoodNutrients[p.index].fillna(0)\n",
    "\n",
    "    # Drop rows of A that we don't have constraints for.\n",
    "    Amin = Aall.loc[Aall.index.intersection(diet_min.index)]\n",
    "\n",
    "    Amax = Aall.loc[Aall.index.intersection(diet_max.index)]\n",
    "\n",
    "    # Minimum requirements involve multiplying constraint by -1 to make <=.\n",
    "    A = pd.concat([Amin,\n",
    "                   -Amax])\n",
    "\n",
    "    b = pd.concat([diet_min,\n",
    "                   -diet_max]) # Note sign change for max constraints\n",
    "\n",
    "    # Make sure order of p, A, b are consistent\n",
    "    A = A.reindex(p.index,axis=1)\n",
    "    A = A.reindex(b.index,axis=0)\n",
    "\n",
    "    if max_weight is not None:\n",
    "        # Add up weights of foods consumed\n",
    "        A.loc['Hectograms'] = -1\n",
    "        b.loc['Hectograms'] = -max_weight\n",
    "        \n",
    "    # Now solve problem!  (Note that the linear program solver we'll use assumes\n",
    "    # \"less-than-or-equal\" constraints.  We can switch back and forth by\n",
    "    # multiplying $A$ and $b$ by $-1$.)\n",
    "\n",
    "    result = lp(p, -A, -b, method='interior-point')\n",
    "\n",
    "    result.A = A\n",
    "    result.b = b\n",
    "    \n",
    "    if result.success:\n",
    "        result.diet = pd.Series(result.x,index=p.index)\n",
    "    else: # No feasible solution?\n",
    "        warnings.warn(result.message)\n",
    "        result.diet = pd.Series(result.x,index=p.index)*np.nan \n",
    "        \n",
    "\n",
    "    return result\n",
    "PricesW = WalmartPrices\n",
    "dietM22=solve_subsistence_problem(FoodNutrients,PricesW,bminM22,bmaxM22,max_weight=None,tol=1e-6)\n",
    "dietM22"
   ]
  },
  {
   "cell_type": "markdown",
   "id": "a63d7a44",
   "metadata": {},
   "source": [
    "A minimum cost mediterranean diet for our Fresno population using Walmart as their market is $6.21.\n",
    "\n",
    "We complete the assessment by repeating the process for our population in Greece."
   ]
  },
  {
   "cell_type": "code",
   "execution_count": 40,
   "id": "f357c93c",
   "metadata": {},
   "outputs": [
    {
     "data": {
      "text/plain": [
       "       A:                                 Avocado  Broccoli  Canned tuna  Chickpeas  \\\n",
       "Nutrition                                                                   \n",
       "Energy                          160.000    61.000      376.000    146.000   \n",
       "Protein                           2.000     2.840       19.000      8.190   \n",
       "Fiber, total dietary              6.700     2.600        0.000      7.300   \n",
       "Folate, DFE                      81.000    54.000        0.000     40.000   \n",
       "Calcium, Ca                      12.000    48.000       18.000     58.000   \n",
       "Carbohydrate, by difference       8.530     6.700        0.080     22.450   \n",
       "Iron, Fe                          0.550     0.740        1.670      2.050   \n",
       "Magnesium, Mg                    29.000    21.000       22.700     45.000   \n",
       "Niacin                            1.738     0.612        9.920      0.205   \n",
       "Phosphorus, P                    52.000    67.000      137.000    133.000   \n",
       "Potassium, K                    485.000   319.000      176.000    240.000   \n",
       "Riboflavin                        0.130     0.112        0.082      0.024   \n",
       "Thiamin                           0.067     0.064        0.030      0.051   \n",
       "Vitamin A, RAE                    7.000    30.000        0.000      2.000   \n",
       "Vitamin B-12                      0.000     0.000        2.570      0.000   \n",
       "Vitamin B-6                       0.257     0.159        0.320      0.748   \n",
       "Vitamin C, total ascorbic acid   10.000    76.500        0.000      0.200   \n",
       "Vitamin E (alpha-tocopherol)      2.070     1.140        0.000      0.320   \n",
       "Vitamin K (phylloquinone)        21.000   106.000        0.000      3.700   \n",
       "Zinc, Zn                          0.640     0.410        0.660      1.150   \n",
       "Sodium, Na                       -7.000  -150.000     -219.000   -327.000   \n",
       "\n",
       "                                   Eggs      Feta  Greek yogurt    Milk  \\\n",
       "Nutrition                                                                 \n",
       "Energy                          231.000  1107.000       305.000   62.00   \n",
       "Protein                          10.700    14.210         9.950    3.33   \n",
       "Fiber, total dietary              0.000     0.000         0.000    0.00   \n",
       "Folate, DFE                       0.000    32.000        12.000    0.00   \n",
       "Calcium, Ca                       0.000   493.000       115.000  125.00   \n",
       "Carbohydrate, by difference       2.360     3.880         3.940    5.00   \n",
       "Iron, Fe                          0.000     0.650         0.040    0.04   \n",
       "Magnesium, Mg                     0.000    19.000        11.000    0.00   \n",
       "Niacin                            0.000     0.991         0.197    0.00   \n",
       "Phosphorus, P                     0.000   337.000       137.000    0.00   \n",
       "Potassium, K                      0.000    62.000       141.000  167.00   \n",
       "Riboflavin                        0.391     0.844         0.233    0.00   \n",
       "Thiamin                           0.000     0.154         0.044    0.00   \n",
       "Vitamin A, RAE                    0.000   125.000        90.000    0.00   \n",
       "Vitamin B-12                      0.000     1.690         0.520    0.00   \n",
       "Vitamin B-6                       0.000     0.424         0.055    0.00   \n",
       "Vitamin C, total ascorbic acid    0.000     0.000         0.800    0.00   \n",
       "Vitamin E (alpha-tocopherol)      0.000     0.180         0.040    0.00   \n",
       "Vitamin K (phylloquinone)         0.000     1.800         0.200    0.00   \n",
       "Zinc, Zn                          0.000     2.880         0.600    0.00   \n",
       "Sodium, Na                       -0.000 -1139.000       -34.000  -52.00   \n",
       "\n",
       "                                Olive oil  Oranges     Rice  Spinach  \\\n",
       "Nutrition                                                              \n",
       "Energy                              800.0   47.000  356.000   23.000   \n",
       "Protein                               0.0    0.940    6.670    2.860   \n",
       "Fiber, total dietary                  0.0    2.400    0.000    2.200   \n",
       "Folate, DFE                           0.0   30.000    0.000  194.000   \n",
       "Calcium, Ca                           0.0   40.000    0.000   99.000   \n",
       "Carbohydrate, by difference           0.0   11.750   77.780    3.630   \n",
       "Iron, Fe                              0.0    0.100    3.200    2.710   \n",
       "Magnesium, Mg                         0.0   10.000    0.000   79.000   \n",
       "Niacin                                0.0    0.282    3.556    0.724   \n",
       "Phosphorus, P                         0.0   14.000    0.000   49.000   \n",
       "Potassium, K                          0.0  181.000   89.000  558.000   \n",
       "Riboflavin                            0.0    0.040    0.000    0.189   \n",
       "Thiamin                               0.0    0.087    0.000    0.078   \n",
       "Vitamin A, RAE                        0.0   11.000    0.000  469.000   \n",
       "Vitamin B-12                          0.0    0.000    0.000    0.000   \n",
       "Vitamin B-6                           0.0    0.060    0.000    0.195   \n",
       "Vitamin C, total ascorbic acid        0.0   53.200    0.000   28.100   \n",
       "Vitamin E (alpha-tocopherol)          0.0    0.180    0.000    2.030   \n",
       "Vitamin K (phylloquinone)             0.0    0.000    0.000  482.900   \n",
       "Zinc, Zn                              0.0    0.070    0.000    0.530   \n",
       "Sodium, Na                           -0.0   -0.000   -0.000  -79.000   \n",
       "\n",
       "                                Sweet potatoes  Whole Wheat Bread  \n",
       "Nutrition                                                          \n",
       "Energy                                 114.000            254.000  \n",
       "Protein                                  1.300             12.300  \n",
       "Fiber, total dietary                     2.400              6.000  \n",
       "Folate, DFE                              6.000             42.000  \n",
       "Calcium, Ca                             26.000            163.000  \n",
       "Carbohydrate, by difference             16.810             43.100  \n",
       "Iron, Fe                                 0.690              2.560  \n",
       "Magnesium, Mg                           17.000             77.000  \n",
       "Niacin                                   0.510              4.430  \n",
       "Phosphorus, P                           30.000            212.000  \n",
       "Potassium, K                           218.000            250.000  \n",
       "Riboflavin                               0.045              0.166  \n",
       "Thiamin                                  0.053              0.391  \n",
       "Vitamin A, RAE                         747.000              0.000  \n",
       "Vitamin B-12                             0.000              0.000  \n",
       "Vitamin B-6                              0.157              0.216  \n",
       "Vitamin C, total ascorbic acid          12.100              0.000  \n",
       "Vitamin E (alpha-tocopherol)             1.450              0.540  \n",
       "Vitamin K (phylloquinone)                7.600              7.800  \n",
       "Zinc, Zn                                 0.190              1.760  \n",
       "Sodium, Na                            -173.000           -450.000  \n",
       "       b: Nutrition\n",
       "Energy                            2400.0\n",
       "Protein                             56.0\n",
       "Fiber, total dietary                33.6\n",
       "Folate, DFE                        400.0\n",
       "Calcium, Ca                       1000.0\n",
       "Carbohydrate, by difference        130.0\n",
       "Iron, Fe                             8.0\n",
       "Magnesium, Mg                      400.0\n",
       "Niacin                              16.0\n",
       "Phosphorus, P                      700.0\n",
       "Potassium, K                      4700.0\n",
       "Riboflavin                           1.3\n",
       "Thiamin                              1.2\n",
       "Vitamin A, RAE                     900.0\n",
       "Vitamin B-12                         2.4\n",
       "Vitamin B-6                          1.3\n",
       "Vitamin C, total ascorbic acid      90.0\n",
       "Vitamin E (alpha-tocopherol)        15.0\n",
       "Vitamin K (phylloquinone)          120.0\n",
       "Zinc, Zn                            11.0\n",
       "Sodium, Na                       -2300.0\n",
       "Name: M 19-30, dtype: float64\n",
       "     con: array([], dtype=float64)\n",
       "    diet: Avocado              3.118316e-07\n",
       "Broccoli             5.500948e-08\n",
       "Canned tuna          1.665761e-09\n",
       "Chickpeas            3.129627e-08\n",
       "Eggs                 9.445340e-08\n",
       "Feta                 5.603117e-08\n",
       "Greek yogurt         4.615384e+00\n",
       "Milk                 5.421990e-01\n",
       "Olive oil            6.299534e-09\n",
       "Oranges              9.530336e-08\n",
       "Rice                 1.102032e-08\n",
       "Spinach              4.870359e+00\n",
       "Sweet potatoes       2.295885e+00\n",
       "Whole Wheat Bread    2.962080e+00\n",
       "dtype: float64\n",
       "     fun: 5.513712050361372\n",
       " message: 'Optimization terminated successfully.'\n",
       "     nit: 18\n",
       "   slack: array([1.67426192e+02, 4.50760599e+01, 3.97396197e-01, 7.38416998e+02,\n",
       "       6.23221700e+02, 7.48344887e+01, 1.45720622e+01, 3.02637812e+02,\n",
       "       2.72828627e+00, 8.67792780e+02, 1.84090295e-05, 1.29090268e+00,\n",
       "       6.62820077e-01, 3.51460944e+03, 1.48193209e-08, 9.03829557e-01,\n",
       "       7.83296269e+01, 2.15564178e-06, 2.27337251e+03, 3.14078115e-08,\n",
       "       7.56758750e-05])\n",
       "  status: 0\n",
       " success: True\n",
       "       x: array([3.11831585e-07, 5.50094846e-08, 1.66576099e-09, 3.12962668e-08,\n",
       "       9.44534043e-08, 5.60311701e-08, 4.61538445e+00, 5.42198959e-01,\n",
       "       6.29953377e-09, 9.53033600e-08, 1.10203160e-08, 4.87035923e+00,\n",
       "       2.29588534e+00, 2.96207973e+00])"
      ]
     },
     "execution_count": 40,
     "metadata": {},
     "output_type": "execute_result"
    }
   ],
   "source": [
    "#Final matrix code for minumium price for diet for International Mediteranean Country\n",
    "from  scipy.optimize import linprog as lp\n",
    "import numpy as np\n",
    "import warnings\n",
    "\n",
    "def solve_subsistence_problem(FoodNutrients,Prices,diet_min,diet_max,max_weight=None,tol=1e-6):\n",
    "   \n",
    "    p = Prices.apply(lambda x:x.magnitude).dropna()\n",
    "\n",
    "    # Compile list that we have both prices and nutritional info for; drop if either missing\n",
    "    use = p.index.intersection(FoodNutrients.columns)\n",
    "    p = p[use]\n",
    "\n",
    "    # Drop nutritional information for foods we don't know the price of,\n",
    "    # and replace missing nutrients with zeros.\n",
    "    Aall = FoodNutrients[p.index].fillna(0)\n",
    "\n",
    "    # Drop rows of A that we don't have constraints for.\n",
    "    Amin = Aall.loc[Aall.index.intersection(diet_min.index)]\n",
    "\n",
    "    Amax = Aall.loc[Aall.index.intersection(diet_max.index)]\n",
    "\n",
    "    # Minimum requirements involve multiplying constraint by -1 to make <=.\n",
    "    A = pd.concat([Amin,\n",
    "                   -Amax])\n",
    "\n",
    "    b = pd.concat([diet_min,\n",
    "                   -diet_max]) # Note sign change for max constraints\n",
    "\n",
    "    # Make sure order of p, A, b are consistent\n",
    "    A = A.reindex(p.index,axis=1)\n",
    "    A = A.reindex(b.index,axis=0)\n",
    "\n",
    "    if max_weight is not None:\n",
    "        # Add up weights of foods consumed\n",
    "        A.loc['Hectograms'] = -1\n",
    "        b.loc['Hectograms'] = -max_weight\n",
    "        \n",
    "    # Now solve problem!  (Note that the linear program solver we'll use assumes\n",
    "    # \"less-than-or-equal\" constraints.  We can switch back and forth by\n",
    "    # multiplying $A$ and $b$ by $-1$.)\n",
    "\n",
    "    result = lp(p, -A, -b, method='interior-point')\n",
    "\n",
    "    result.A = A\n",
    "    result.b = b\n",
    "    \n",
    "    if result.success:\n",
    "        result.diet = pd.Series(result.x,index=p.index)\n",
    "    else: # No feasible solution?\n",
    "        warnings.warn(result.message)\n",
    "        result.diet = pd.Series(result.x,index=p.index)*np.nan \n",
    "        \n",
    "\n",
    "    return result\n",
    "PricesIM = PricesInterMed\n",
    "dietM22=solve_subsistence_problem(FoodNutrients,PricesIM,bminM22,bmaxM22,max_weight=None,tol=1e-6)\n",
    "dietM22"
   ]
  },
  {
   "cell_type": "markdown",
   "id": "54019cf9",
   "metadata": {},
   "source": [
    "A minimum cost diet for our Greece population using an online Greece-based market is $5.51."
   ]
  },
  {
   "cell_type": "code",
   "execution_count": 41,
   "id": "5f81ba6e",
   "metadata": {},
   "outputs": [
    {
     "name": "stdout",
     "output_type": "stream",
     "text": [
      "                                         Units  Olive oil  Chickpeas     Eggs  \\\n",
      "Proximates                                   g       0.00      0.000    0.000   \n",
      "Water                                        g       0.00     64.030   86.300   \n",
      "Energy                                      kJ     800.00    146.000  231.000   \n",
      "Nitrogen                                     g       0.00      0.000    1.710   \n",
      "Protein                                      g       0.00      8.190   10.700   \n",
      "Total lipid (fat)                            g      93.33      3.240    0.000   \n",
      "Ash                                          g       0.00      0.000    0.650   \n",
      "Carbohydrates                                g       0.00      0.000    0.000   \n",
      "Carbohydrate, by difference                  g       0.00     22.450    2.360   \n",
      "Minerals                                    mg       0.00      0.000    0.000   \n",
      "Selenium, Se                                µg       0.00      3.300   17.900   \n",
      "Vitamins and Other Components                g       0.00      0.000    0.000   \n",
      "Riboflavin                                  mg       0.00      0.024    0.391   \n",
      "Amino acids                                  g       0.00      0.000    0.000   \n",
      "Tryptophan                                   g       0.00      0.000    0.188   \n",
      "Threonine                                    g       0.00      0.000    0.567   \n",
      "Isoleucine                                   g       0.00      0.000    0.609   \n",
      "Leucine                                      g       0.00      0.000    1.020   \n",
      "Lysine                                       g       0.00      0.000    0.822   \n",
      "Methionine                                   g       0.00      0.000    0.486   \n",
      "Phenylalanine                                g       0.00      0.000    0.726   \n",
      "Tyrosine                                     g       0.00      0.000    0.466   \n",
      "Valine                                       g       0.00      0.000    0.779   \n",
      "Arginine                                     g       0.00      0.000    0.691   \n",
      "Histidine                                    g       0.00      0.000    0.257   \n",
      "Alanine                                      g       0.00      0.000    0.714   \n",
      "Aspartic acid                                g       0.00      0.000    1.330   \n",
      "Glutamic acid                                g       0.00      0.000    1.760   \n",
      "Glycine                                      g       0.00      0.000    0.422   \n",
      "Proline                                      g       0.00      0.000    0.494   \n",
      "Serine                                       g       0.00      0.000    0.857   \n",
      "Hydroxyproline                               g       0.00      0.000    0.000   \n",
      "Cysteine                                     g       0.00      0.000    0.407   \n",
      "Fatty acids, total saturated                 0      13.33      0.339    0.000   \n",
      "Fatty acids, total monounsaturated           0      66.67      0.739    0.000   \n",
      "Fatty acids, total trans                     0       0.00      0.000    0.000   \n",
      "Sodium, Na                                   0       0.00    327.000    0.000   \n",
      "Cholesterol                                  0       0.00      0.000    0.000   \n",
      "Fatty acids, total polyunsaturated           0      10.00      1.466    0.000   \n",
      "Fiber, total dietary                         0       0.00      7.300    0.000   \n",
      "Sugars, total including NLEA                 0       0.00      4.310    0.000   \n",
      "Calcium, Ca                                  0       0.00     58.000    0.000   \n",
      "Iron, Fe                                     0       0.00      2.050    0.000   \n",
      "Magnesium, Mg                                0       0.00     45.000    0.000   \n",
      "Phosphorus, P                                0       0.00    133.000    0.000   \n",
      "Potassium, K                                 0       0.00    240.000    0.000   \n",
      "Zinc, Zn                                     0       0.00      1.150    0.000   \n",
      "Copper, Cu                                   0       0.00      0.255    0.000   \n",
      "Vitamin C, total ascorbic acid               0       0.00      0.200    0.000   \n",
      "Thiamin                                      0       0.00      0.051    0.000   \n",
      "Niacin                                       0       0.00      0.205    0.000   \n",
      "Vitamin B-6                                  0       0.00      0.748    0.000   \n",
      "Folate, total                                0       0.00     40.000    0.000   \n",
      "Folic acid                                   0       0.00      0.000    0.000   \n",
      "Folate, food                                 0       0.00     40.000    0.000   \n",
      "Folate, DFE                                  0       0.00     40.000    0.000   \n",
      "Choline, total                               0       0.00     38.400    0.000   \n",
      "Vitamin B-12                                 0       0.00      0.000    0.000   \n",
      "Vitamin B-12, added                          0       0.00      0.000    0.000   \n",
      "Vitamin A, RAE                               0       0.00      2.000    0.000   \n",
      "Retinol                                      0       0.00      0.000    0.000   \n",
      "Carotene, beta                               0       0.00     15.000    0.000   \n",
      "Carotene, alpha                              0       0.00      0.000    0.000   \n",
      "Cryptoxanthin, beta                          0       0.00      0.000    0.000   \n",
      "Lycopene                                     0       0.00      0.000    0.000   \n",
      "Lutein + zeaxanthin                          0       0.00      0.000    0.000   \n",
      "Vitamin E (alpha-tocopherol)                 0       0.00      0.320    0.000   \n",
      "Vitamin E, added                             0       0.00      0.000    0.000   \n",
      "Vitamin D (D2 + D3)                          0       0.00      0.000    0.000   \n",
      "Vitamin K (phylloquinone)                    0       0.00      3.700    0.000   \n",
      "Lipids                                       0       0.00      0.000    0.000   \n",
      "SFA 4:0                                      0       0.00      0.000    0.000   \n",
      "SFA 6:0                                      0       0.00      0.000    0.000   \n",
      "SFA 8:0                                      0       0.00      0.000    0.000   \n",
      "SFA 10:0                                     0       0.00      0.000    0.000   \n",
      "SFA 12:0                                     0       0.00      0.000    0.000   \n",
      "SFA 14:0                                     0       0.00      0.005    0.000   \n",
      "SFA 16:0                                     0       0.00      0.273    0.000   \n",
      "SFA 18:0                                     0       0.00      0.047    0.000   \n",
      "MUFA 16:1                                    0       0.00      0.005    0.000   \n",
      "MUFA 18:1                                    0       0.00      0.734    0.000   \n",
      "MUFA 20:1                                    0       0.00      0.000    0.000   \n",
      "MUFA 22:1                                    0       0.00      0.000    0.000   \n",
      "PUFA 18:2                                    0       0.00      1.413    0.000   \n",
      "PUFA 18:3                                    0       0.00      0.055    0.000   \n",
      "PUFA 18:4                                    0       0.00      0.000    0.000   \n",
      "PUFA 20:4                                    0       0.00      0.000    0.000   \n",
      "PUFA 2:5 n-3 (EPA)                           0       0.00      0.000    0.000   \n",
      "PUFA 22:5 n-3 (DPA)                          0       0.00      0.000    0.000   \n",
      "PUFA 22:6 n-3 (DHA)                          0       0.00      0.000    0.000   \n",
      "Alcohol, ethyl                               0       0.00      0.000    0.000   \n",
      "Caffeine                                     0       0.00      0.000    0.000   \n",
      "Theobromine                                  0       0.00      0.000    0.000   \n",
      "Total fat (NLEA)                             0       0.00      0.000    0.000   \n",
      "Sugars, Total NLEA                           0       0.00      0.000    0.000   \n",
      "Sucrose                                      0       0.00      0.000    0.000   \n",
      "Glucose                                      0       0.00      0.000    0.000   \n",
      "Fructose                                     0       0.00      0.000    0.000   \n",
      "Lactose                                      0       0.00      0.000    0.000   \n",
      "Maltose                                      0       0.00      0.000    0.000   \n",
      "Galactose                                    0       0.00      0.000    0.000   \n",
      "Manganese, Mn                                0       0.00      0.000    0.000   \n",
      "Iodine, I                                    0       0.00      0.000    0.000   \n",
      "Pantothenic acid                             0       0.00      0.000    0.000   \n",
      "Vitamin D (D2 + D3), International Units     0       0.00      0.000    0.000   \n",
      "Vitamin D3 (cholecalciferol)                 0       0.00      0.000    0.000   \n",
      "25-hydroxycholecalciferol                    0       0.00      0.000    0.000   \n",
      "SFA 5:0                                      0       0.00      0.000    0.000   \n",
      "SFA 7:0                                      0       0.00      0.000    0.000   \n",
      "SFA 9:0                                      0       0.00      0.000    0.000   \n",
      "SFA 11:0                                     0       0.00      0.000    0.000   \n",
      "SFA 15:0                                     0       0.00      0.000    0.000   \n",
      "SFA 17:0                                     0       0.00      0.000    0.000   \n",
      "SFA 20:0                                     0       0.00      0.000    0.000   \n",
      "SFA 21:0                                     0       0.00      0.000    0.000   \n",
      "SFA 22:0                                     0       0.00      0.000    0.000   \n",
      "SFA 23:0                                     0       0.00      0.000    0.000   \n",
      "SFA 24:0                                     0       0.00      0.000    0.000   \n",
      "MUFA 12:1                                    0       0.00      0.000    0.000   \n",
      "MUFA 14:1 c                                  0       0.00      0.000    0.000   \n",
      "MUFA 15:1                                    0       0.00      0.000    0.000   \n",
      "MUFA 16:1 c                                  0       0.00      0.000    0.000   \n",
      "MUFA 17:1                                    0       0.00      0.000    0.000   \n",
      "MUFA 17:1 c                                  0       0.00      0.000    0.000   \n",
      "MUFA 18:1 c                                  0       0.00      0.000    0.000   \n",
      "MUFA 20:1 c                                  0       0.00      0.000    0.000   \n",
      "MUFA 22:1 c                                  0       0.00      0.000    0.000   \n",
      "MUFA 22:1 n-9                                0       0.00      0.000    0.000   \n",
      "MUFA 22:1 n-11                               0       0.00      0.000    0.000   \n",
      "MUFA 24:1 c                                  0       0.00      0.000    0.000   \n",
      "PUFA 18:2 c                                  0       0.00      0.000    0.000   \n",
      "PUFA 18:2 n-6 c,c                            0       0.00      0.000    0.000   \n",
      "PUFA 18:2 CLAs                               0       0.00      0.000    0.000   \n",
      "PUFA 18:3 c                                  0       0.00      0.000    0.000   \n",
      "PUFA 18:3 n-3 c,c,c (ALA)                    0       0.00      0.000    0.000   \n",
      "PUFA 18:3 n-6 c,c,c                          0       0.00      0.000    0.000   \n",
      "PUFA 20:2 c                                  0       0.00      0.000    0.000   \n",
      "PUFA 20:2 n-6 c,c                            0       0.00      0.000    0.000   \n",
      "PUFA 20:3 c                                  0       0.00      0.000    0.000   \n",
      "PUFA 20:3 n-3                                0       0.00      0.000    0.000   \n",
      "PUFA 20:3 n-6                                0       0.00      0.000    0.000   \n",
      "PUFA 20:3 n-9                                0       0.00      0.000    0.000   \n",
      "PUFA 22:3                                    0       0.00      0.000    0.000   \n",
      "PUFA 2:4 c                                   0       0.00      0.000    0.000   \n",
      "PUFA 2:5 c                                   0       0.00      0.000    0.000   \n",
      "PUFA 22:2                                    0       0.00      0.000    0.000   \n",
      "PUFA 22:5 c                                  0       0.00      0.000    0.000   \n",
      "PUFA 22:4                                    0       0.00      0.000    0.000   \n",
      "PUFA 22:6 c                                  0       0.00      0.000    0.000   \n",
      "Fatty acids, total trans-monoenoic           0       0.00      0.000    0.000   \n",
      "TFA 14:1 t                                   0       0.00      0.000    0.000   \n",
      "TFA 16:1 t                                   0       0.00      0.000    0.000   \n",
      "TFA 18:1 t                                   0       0.00      0.000    0.000   \n",
      "TFA 20:1 t                                   0       0.00      0.000    0.000   \n",
      "TFA 22:1 t                                   0       0.00      0.000    0.000   \n",
      "Fatty acids, total trans-dienoic             0       0.00      0.000    0.000   \n",
      "TFA 18:2 t not further defined               0       0.00      0.000    0.000   \n",
      "Fatty acids, total trans-polyenoic           0       0.00      0.000    0.000   \n",
      "TFA 18:3 t                                   0       0.00      0.000    0.000   \n",
      "Sugars, added                                0       0.00      0.000    0.000   \n",
      "Vitamin A, IU                                0       0.00      0.000    0.000   \n",
      "Cystine                                      0       0.00      0.000    0.000   \n",
      "Starch                                       0       0.00      0.000    0.000   \n",
      "MUFA 14:1                                    0       0.00      0.000    0.000   \n",
      "PUFA 18:3i                                   0       0.00      0.000    0.000   \n",
      "PUFA 20:3                                    0       0.00      0.000    0.000   \n",
      "\n",
      "                                          Canned tuna    Milk      Feta  \\\n",
      "Proximates                                      0.000    0.00     0.000   \n",
      "Water                                          79.000    0.00    55.220   \n",
      "Energy                                        376.000   62.00  1107.000   \n",
      "Nitrogen                                        3.040    0.00     0.000   \n",
      "Protein                                        19.000    3.33    14.210   \n",
      "Total lipid (fat)                               0.940    3.33    21.490   \n",
      "Ash                                             0.980    0.00     5.200   \n",
      "Carbohydrates                                   0.000    0.00     0.000   \n",
      "Carbohydrate, by difference                     0.080    5.00     3.880   \n",
      "Minerals                                        0.000    0.00     0.000   \n",
      "Selenium, Se                                   67.800    0.00    15.000   \n",
      "Vitamins and Other Components                   0.000    0.00     0.000   \n",
      "Riboflavin                                      0.082    0.00     0.844   \n",
      "Amino acids                                     0.000    0.00     0.000   \n",
      "Tryptophan                                      0.000    0.00     0.200   \n",
      "Threonine                                       0.000    0.00     0.637   \n",
      "Isoleucine                                      0.000    0.00     0.803   \n",
      "Leucine                                         0.000    0.00     1.395   \n",
      "Lysine                                          0.000    0.00     1.219   \n",
      "Methionine                                      0.000    0.00     0.368   \n",
      "Phenylalanine                                   0.000    0.00     0.675   \n",
      "Tyrosine                                        0.000    0.00     0.668   \n",
      "Valine                                          0.000    0.00     1.065   \n",
      "Arginine                                        0.000    0.00     0.470   \n",
      "Histidine                                       0.000    0.00     0.397   \n",
      "Alanine                                         0.000    0.00     0.639   \n",
      "Aspartic acid                                   0.000    0.00     0.779   \n",
      "Glutamic acid                                   0.000    0.00     2.421   \n",
      "Glycine                                         0.000    0.00     0.097   \n",
      "Proline                                         0.000    0.00     1.378   \n",
      "Serine                                          0.000    0.00     1.169   \n",
      "Hydroxyproline                                  0.000    0.00     0.000   \n",
      "Cysteine                                        0.000    0.00     0.000   \n",
      "Fatty acids, total saturated                    0.224    2.08    13.300   \n",
      "Fatty acids, total monounsaturated              0.114    0.00     4.623   \n",
      "Fatty acids, total trans                        0.002    0.00     0.000   \n",
      "Sodium, Na                                    219.000   52.00  1139.000   \n",
      "Cholesterol                                    36.000   15.00    89.000   \n",
      "Fatty acids, total polyunsaturated              0.259    0.00     0.591   \n",
      "Fiber, total dietary                            0.000    0.00     0.000   \n",
      "Sugars, total including NLEA                    0.000    5.00     0.000   \n",
      "Calcium, Ca                                    18.000  125.00   493.000   \n",
      "Iron, Fe                                        1.670    0.04     0.650   \n",
      "Magnesium, Mg                                  22.700    0.00    19.000   \n",
      "Phosphorus, P                                 137.000    0.00   337.000   \n",
      "Potassium, K                                  176.000  167.00    62.000   \n",
      "Zinc, Zn                                        0.660    0.00     2.880   \n",
      "Copper, Cu                                      0.048    0.00     0.032   \n",
      "Vitamin C, total ascorbic acid                  0.000    0.00     0.000   \n",
      "Thiamin                                         0.030    0.00     0.154   \n",
      "Niacin                                          9.920    0.00     0.991   \n",
      "Vitamin B-6                                     0.320    0.00     0.424   \n",
      "Folate, total                                   0.000    0.00    32.000   \n",
      "Folic acid                                      0.000    0.00     0.000   \n",
      "Folate, food                                    0.000    0.00    32.000   \n",
      "Folate, DFE                                     0.000    0.00    32.000   \n",
      "Choline, total                                  0.000    0.00    15.400   \n",
      "Vitamin B-12                                    2.570    0.00     1.690   \n",
      "Vitamin B-12, added                             0.000    0.00     0.000   \n",
      "Vitamin A, RAE                                  0.000    0.00   125.000   \n",
      "Retinol                                         0.000    0.00   125.000   \n",
      "Carotene, beta                                  0.000    0.00     3.000   \n",
      "Carotene, alpha                                 0.000    0.00     0.000   \n",
      "Cryptoxanthin, beta                             0.000    0.00     0.000   \n",
      "Lycopene                                        0.000    0.00     0.000   \n",
      "Lutein + zeaxanthin                             0.000    0.00     0.000   \n",
      "Vitamin E (alpha-tocopherol)                    0.000    0.00     0.180   \n",
      "Vitamin E, added                                0.000    0.00     0.000   \n",
      "Vitamin D (D2 + D3)                             1.200    0.00     0.400   \n",
      "Vitamin K (phylloquinone)                       0.000    0.00     1.800   \n",
      "Lipids                                          0.000    0.00     0.000   \n",
      "SFA 4:0                                         0.001    0.00     0.714   \n",
      "SFA 6:0                                         0.000    0.00     0.528   \n",
      "SFA 8:0                                         0.000    0.00     0.503   \n",
      "SFA 10:0                                        0.002    0.00     1.822   \n",
      "SFA 12:0                                        0.000    0.00     1.068   \n",
      "SFA 14:0                                        0.011    0.00     2.545   \n",
      "SFA 16:0                                        0.134    0.00     4.748   \n",
      "SFA 18:0                                        0.054    0.00     1.371   \n",
      "MUFA 16:1                                       0.000    0.00     0.385   \n",
      "MUFA 18:1                                       0.000    0.00     3.975   \n",
      "MUFA 20:1                                       0.004    0.00     0.000   \n",
      "MUFA 22:1                                       0.000    0.00     0.000   \n",
      "PUFA 18:2                                       0.000    0.00     0.326   \n",
      "PUFA 18:3                                       0.000    0.00     0.265   \n",
      "PUFA 18:4                                       0.002    0.00     0.000   \n",
      "PUFA 20:4                                       0.022    0.00     0.000   \n",
      "PUFA 2:5 n-3 (EPA)                              0.025    0.00     0.000   \n",
      "PUFA 22:5 n-3 (DPA)                             0.004    0.00     0.000   \n",
      "PUFA 22:6 n-3 (DHA)                             0.197    0.00     0.000   \n",
      "Alcohol, ethyl                                  0.000    0.00     0.000   \n",
      "Caffeine                                        0.000    0.00     0.000   \n",
      "Theobromine                                     0.000    0.00     0.000   \n",
      "Total fat (NLEA)                                0.600    0.00     0.000   \n",
      "Sugars, Total NLEA                              0.000    0.00     0.000   \n",
      "Sucrose                                         0.000    0.00     0.000   \n",
      "Glucose                                         0.000    0.00     0.000   \n",
      "Fructose                                        0.000    0.00     0.000   \n",
      "Lactose                                         0.000    0.00     0.000   \n",
      "Maltose                                         0.000    0.00     0.000   \n",
      "Galactose                                       0.000    0.00     0.000   \n",
      "Manganese, Mn                                   0.019    0.00     0.028   \n",
      "Iodine, I                                       0.000    0.00     0.000   \n",
      "Pantothenic acid                                0.148    0.00     0.967   \n",
      "Vitamin D (D2 + D3), International Units       47.000    0.00    16.000   \n",
      "Vitamin D3 (cholecalciferol)                    1.200    0.00     0.400   \n",
      "25-hydroxycholecalciferol                       0.000    0.00     0.000   \n",
      "SFA 5:0                                         0.000    0.00     0.000   \n",
      "SFA 7:0                                         0.000    0.00     0.000   \n",
      "SFA 9:0                                         0.000    0.00     0.000   \n",
      "SFA 11:0                                        0.000    0.00     0.000   \n",
      "SFA 15:0                                        0.005    0.00     0.000   \n",
      "SFA 17:0                                        0.007    0.00     0.000   \n",
      "SFA 20:0                                        0.002    0.00     0.000   \n",
      "SFA 21:0                                        0.001    0.00     0.000   \n",
      "SFA 22:0                                        0.002    0.00     0.000   \n",
      "SFA 23:0                                        0.000    0.00     0.000   \n",
      "SFA 24:0                                        0.002    0.00     0.000   \n",
      "MUFA 12:1                                       0.000    0.00     0.000   \n",
      "MUFA 14:1 c                                     0.000    0.00     0.000   \n",
      "MUFA 15:1                                       0.000    0.00     0.000   \n",
      "MUFA 16:1 c                                     0.016    0.00     0.000   \n",
      "MUFA 17:1                                       0.003    0.00     0.000   \n",
      "MUFA 17:1 c                                     0.003    0.00     0.000   \n",
      "MUFA 18:1 c                                     0.086    0.00     0.000   \n",
      "MUFA 20:1 c                                     0.003    0.00     0.000   \n",
      "MUFA 22:1 c                                     0.000    0.00     0.000   \n",
      "MUFA 22:1 n-9                                   0.000    0.00     0.000   \n",
      "MUFA 22:1 n-11                                  0.000    0.00     0.000   \n",
      "MUFA 24:1 c                                     0.006    0.00     0.000   \n",
      "PUFA 18:2 c                                     0.013    0.00     0.000   \n",
      "PUFA 18:2 n-6 c,c                               0.013    0.00     0.000   \n",
      "PUFA 18:2 CLAs                                  0.000    0.00     0.000   \n",
      "PUFA 18:3 c                                     0.002    0.00     0.000   \n",
      "PUFA 18:3 n-3 c,c,c (ALA)                       0.002    0.00     0.000   \n",
      "PUFA 18:3 n-6 c,c,c                             0.000    0.00     0.000   \n",
      "PUFA 20:2 c                                     0.002    0.00     0.000   \n",
      "PUFA 20:2 n-6 c,c                               0.002    0.00     0.000   \n",
      "PUFA 20:3 c                                     0.000    0.00     0.000   \n",
      "PUFA 20:3 n-3                                   0.000    0.00     0.000   \n",
      "PUFA 20:3 n-6                                   0.000    0.00     0.000   \n",
      "PUFA 20:3 n-9                                   0.000    0.00     0.000   \n",
      "PUFA 22:3                                       0.000    0.00     0.000   \n",
      "PUFA 2:4 c                                      0.022    0.00     0.000   \n",
      "PUFA 2:5 c                                      0.025    0.00     0.000   \n",
      "PUFA 22:2                                       0.000    0.00     0.000   \n",
      "PUFA 22:5 c                                     0.004    0.00     0.000   \n",
      "PUFA 22:4                                       0.002    0.00     0.000   \n",
      "PUFA 22:6 c                                     0.197    0.00     0.000   \n",
      "Fatty acids, total trans-monoenoic              0.002    0.00     0.000   \n",
      "TFA 14:1 t                                      0.000    0.00     0.000   \n",
      "TFA 16:1 t                                      0.001    0.00     0.000   \n",
      "TFA 18:1 t                                      0.001    0.00     0.000   \n",
      "TFA 20:1 t                                      0.000    0.00     0.000   \n",
      "TFA 22:1 t                                      0.000    0.00     0.000   \n",
      "Fatty acids, total trans-dienoic                0.000    0.00     0.000   \n",
      "TFA 18:2 t not further defined                  0.000    0.00     0.000   \n",
      "Fatty acids, total trans-polyenoic              0.000    0.00     0.000   \n",
      "TFA 18:3 t                                      0.000    0.00     0.000   \n",
      "Sugars, added                                   0.000    0.00     0.000   \n",
      "Vitamin A, IU                                   0.000    0.00   422.000   \n",
      "Cystine                                         0.000    0.00     0.083   \n",
      "Starch                                          0.000    0.00     0.000   \n",
      "MUFA 14:1                                       0.000    0.00     0.000   \n",
      "PUFA 18:3i                                      0.000    0.00     0.000   \n",
      "PUFA 20:3                                       0.000    0.00     0.000   \n",
      "\n",
      "                                          Greek yogurt  Oranges  Avocado  \\\n",
      "Proximates                                       0.000    0.000    0.000   \n",
      "Water                                           83.560   86.750   73.230   \n",
      "Energy                                         305.000   47.000  160.000   \n",
      "Nitrogen                                         0.000    0.000    0.000   \n",
      "Protein                                          9.950    0.940    2.000   \n",
      "Total lipid (fat)                                1.920    0.120   14.660   \n",
      "Ash                                              0.630    0.000    0.000   \n",
      "Carbohydrates                                    0.000    0.000    0.000   \n",
      "Carbohydrate, by difference                      3.940   11.750    8.530   \n",
      "Minerals                                         0.000    0.000    0.000   \n",
      "Selenium, Se                                    12.400    0.500    0.400   \n",
      "Vitamins and Other Components                    0.000    0.000    0.000   \n",
      "Riboflavin                                       0.233    0.040    0.130   \n",
      "Amino acids                                      0.000    0.000    0.000   \n",
      "Tryptophan                                       0.030    0.000    0.000   \n",
      "Threonine                                        0.216    0.000    0.000   \n",
      "Isoleucine                                       0.286    0.000    0.000   \n",
      "Leucine                                          0.529    0.000    0.000   \n",
      "Lysine                                           0.471    0.000    0.000   \n",
      "Methionine                                       0.155    0.000    0.000   \n",
      "Phenylalanine                                    0.286    0.000    0.000   \n",
      "Tyrosine                                         0.265    0.000    0.000   \n",
      "Valine                                           0.434    0.000    0.000   \n",
      "Arginine                                         0.158    0.000    0.000   \n",
      "Histidine                                        0.130    0.000    0.000   \n",
      "Alanine                                          0.225    0.000    0.000   \n",
      "Aspartic acid                                    0.416    0.000    0.000   \n",
      "Glutamic acid                                    1.028    0.000    0.000   \n",
      "Glycine                                          0.127    0.000    0.000   \n",
      "Proline                                          0.622    0.000    0.000   \n",
      "Serine                                           0.325    0.000    0.000   \n",
      "Hydroxyproline                                   0.000    0.000    0.000   \n",
      "Cysteine                                         0.000    0.000    0.000   \n",
      "Fatty acids, total saturated                     1.230    0.015    2.126   \n",
      "Fatty acids, total monounsaturated               0.486    0.023    9.799   \n",
      "Fatty acids, total trans                         0.060    0.000    0.000   \n",
      "Sodium, Na                                      34.000    0.000    7.000   \n",
      "Cholesterol                                     10.000    0.000    0.000   \n",
      "Fatty acids, total polyunsaturated               0.076    0.025    1.816   \n",
      "Fiber, total dietary                             0.000    2.400    6.700   \n",
      "Sugars, total including NLEA                     3.560    9.350    0.660   \n",
      "Calcium, Ca                                    115.000   40.000   12.000   \n",
      "Iron, Fe                                         0.040    0.100    0.550   \n",
      "Magnesium, Mg                                   11.000   10.000   29.000   \n",
      "Phosphorus, P                                  137.000   14.000   52.000   \n",
      "Potassium, K                                   141.000  181.000  485.000   \n",
      "Zinc, Zn                                         0.600    0.070    0.640   \n",
      "Copper, Cu                                       0.021    0.045    0.190   \n",
      "Vitamin C, total ascorbic acid                   0.800   53.200   10.000   \n",
      "Thiamin                                          0.044    0.087    0.067   \n",
      "Niacin                                           0.197    0.282    1.738   \n",
      "Vitamin B-6                                      0.055    0.060    0.257   \n",
      "Folate, total                                   12.000   30.000   81.000   \n",
      "Folic acid                                       0.000    0.000    0.000   \n",
      "Folate, food                                    12.000   30.000   81.000   \n",
      "Folate, DFE                                     12.000   30.000   81.000   \n",
      "Choline, total                                  15.200    8.400   14.200   \n",
      "Vitamin B-12                                     0.520    0.000    0.000   \n",
      "Vitamin B-12, added                              0.000    0.000    0.000   \n",
      "Vitamin A, RAE                                  90.000   11.000    7.000   \n",
      "Retinol                                         90.000    0.000    0.000   \n",
      "Carotene, beta                                   6.000   71.000   62.000   \n",
      "Carotene, alpha                                  0.000   11.000   24.000   \n",
      "Cryptoxanthin, beta                              0.000  116.000   28.000   \n",
      "Lycopene                                         0.000    0.000    0.000   \n",
      "Lutein + zeaxanthin                              1.000  129.000  271.000   \n",
      "Vitamin E (alpha-tocopherol)                     0.040    0.180    2.070   \n",
      "Vitamin E, added                                 0.000    0.000    0.000   \n",
      "Vitamin D (D2 + D3)                              0.000    0.000    0.000   \n",
      "Vitamin K (phylloquinone)                        0.200    0.000   21.000   \n",
      "Lipids                                           0.000    0.000    0.000   \n",
      "SFA 4:0                                          0.047    0.000    0.000   \n",
      "SFA 6:0                                          0.035    0.000    0.000   \n",
      "SFA 8:0                                          0.024    0.000    0.001   \n",
      "SFA 10:0                                         0.067    0.000    0.000   \n",
      "SFA 12:0                                         0.062    0.000    0.000   \n",
      "SFA 14:0                                         0.194    0.000    0.000   \n",
      "SFA 16:0                                         0.570    0.013    2.075   \n",
      "SFA 18:0                                         0.195    0.000    0.049   \n",
      "MUFA 16:1                                        0.031    0.003    0.698   \n",
      "MUFA 18:1                                        0.427    0.020    9.066   \n",
      "MUFA 20:1                                        0.004    0.000    0.025   \n",
      "MUFA 22:1                                        0.000    0.000    0.000   \n",
      "PUFA 18:2                                        0.065    0.018    1.674   \n",
      "PUFA 18:3                                        0.007    0.007    0.125   \n",
      "PUFA 18:4                                        0.000    0.000    0.000   \n",
      "PUFA 20:4                                        0.002    0.000    0.000   \n",
      "PUFA 2:5 n-3 (EPA)                               0.000    0.000    0.000   \n",
      "PUFA 22:5 n-3 (DPA)                              0.000    0.000    0.000   \n",
      "PUFA 22:6 n-3 (DHA)                              0.000    0.000    0.000   \n",
      "Alcohol, ethyl                                   0.000    0.000    0.000   \n",
      "Caffeine                                         0.000    0.000    0.000   \n",
      "Theobromine                                      0.000    0.000    0.000   \n",
      "Total fat (NLEA)                                 0.000    0.000    0.000   \n",
      "Sugars, Total NLEA                               0.000    0.000    0.000   \n",
      "Sucrose                                          0.000    0.000    0.000   \n",
      "Glucose                                          0.000    0.000    0.000   \n",
      "Fructose                                         0.000    0.000    0.000   \n",
      "Lactose                                          2.920    0.000    0.000   \n",
      "Maltose                                          0.000    0.000    0.000   \n",
      "Galactose                                        0.640    0.000    0.000   \n",
      "Manganese, Mn                                    0.007    0.000    0.000   \n",
      "Iodine, I                                        0.000    0.000    0.000   \n",
      "Pantothenic acid                                 0.470    0.000    0.000   \n",
      "Vitamin D (D2 + D3), International Units         0.000    0.000    0.000   \n",
      "Vitamin D3 (cholecalciferol)                     0.000    0.000    0.000   \n",
      "25-hydroxycholecalciferol                        0.000    0.000    0.000   \n",
      "SFA 5:0                                          0.000    0.000    0.000   \n",
      "SFA 7:0                                          0.000    0.000    0.000   \n",
      "SFA 9:0                                          0.000    0.000    0.000   \n",
      "SFA 11:0                                         0.000    0.000    0.000   \n",
      "SFA 15:0                                         0.021    0.000    0.000   \n",
      "SFA 17:0                                         0.012    0.000    0.000   \n",
      "SFA 20:0                                         0.003    0.000    0.000   \n",
      "SFA 21:0                                         0.000    0.000    0.000   \n",
      "SFA 22:0                                         0.000    0.000    0.000   \n",
      "SFA 23:0                                         0.000    0.000    0.000   \n",
      "SFA 24:0                                         0.000    0.000    0.000   \n",
      "MUFA 12:1                                        0.000    0.000    0.000   \n",
      "MUFA 14:1 c                                      0.000    0.000    0.000   \n",
      "MUFA 15:1                                        0.000    0.000    0.000   \n",
      "MUFA 16:1 c                                      0.026    0.000    0.000   \n",
      "MUFA 17:1                                        0.003    0.000    0.000   \n",
      "MUFA 17:1 c                                      0.000    0.000    0.000   \n",
      "MUFA 18:1 c                                      0.381    0.000    0.000   \n",
      "MUFA 20:1 c                                      0.000    0.000    0.000   \n",
      "MUFA 22:1 c                                      0.000    0.000    0.000   \n",
      "MUFA 22:1 n-9                                    0.000    0.000    0.000   \n",
      "MUFA 22:1 n-11                                   0.000    0.000    0.000   \n",
      "MUFA 24:1 c                                      0.000    0.000    0.000   \n",
      "PUFA 18:2 c                                      0.000    0.000    0.000   \n",
      "PUFA 18:2 n-6 c,c                                0.048    0.000    0.000   \n",
      "PUFA 18:2 CLAs                                   0.008    0.000    0.000   \n",
      "PUFA 18:3 c                                      0.000    0.000    0.000   \n",
      "PUFA 18:3 n-3 c,c,c (ALA)                        0.007    0.000    0.000   \n",
      "PUFA 18:3 n-6 c,c,c                              0.000    0.000    0.000   \n",
      "PUFA 20:2 c                                      0.000    0.000    0.000   \n",
      "PUFA 20:2 n-6 c,c                                0.000    0.000    0.000   \n",
      "PUFA 20:3 c                                      0.000    0.000    0.000   \n",
      "PUFA 20:3 n-3                                    0.000    0.000    0.000   \n",
      "PUFA 20:3 n-6                                    0.002    0.000    0.000   \n",
      "PUFA 20:3 n-9                                    0.000    0.000    0.000   \n",
      "PUFA 22:3                                        0.000    0.000    0.000   \n",
      "PUFA 2:4 c                                       0.000    0.000    0.000   \n",
      "PUFA 2:5 c                                       0.000    0.000    0.000   \n",
      "PUFA 22:2                                        0.000    0.000    0.000   \n",
      "PUFA 22:5 c                                      0.000    0.000    0.000   \n",
      "PUFA 22:4                                        0.000    0.000    0.000   \n",
      "PUFA 22:6 c                                      0.000    0.000    0.000   \n",
      "Fatty acids, total trans-monoenoic               0.051    0.000    0.000   \n",
      "TFA 14:1 t                                       0.000    0.000    0.000   \n",
      "TFA 16:1 t                                       0.005    0.000    0.000   \n",
      "TFA 18:1 t                                       0.046    0.000    0.000   \n",
      "TFA 20:1 t                                       0.000    0.000    0.000   \n",
      "TFA 22:1 t                                       0.000    0.000    0.000   \n",
      "Fatty acids, total trans-dienoic                 0.000    0.000    0.000   \n",
      "TFA 18:2 t not further defined                   0.009    0.000    0.000   \n",
      "Fatty acids, total trans-polyenoic               0.009    0.000    0.000   \n",
      "TFA 18:3 t                                       0.000    0.000    0.000   \n",
      "Sugars, added                                    0.000    0.000    0.000   \n",
      "Vitamin A, IU                                  309.000    0.000    0.000   \n",
      "Cystine                                          0.048    0.000    0.000   \n",
      "Starch                                           0.000    0.000    0.000   \n",
      "MUFA 14:1                                        0.021    0.000    0.000   \n",
      "PUFA 18:3i                                       0.000    0.000    0.000   \n",
      "PUFA 20:3                                        0.002    0.000    0.000   \n",
      "\n",
      "                                            Tomato  Broccoli    Spinach  \\\n",
      "Proximates                                   0.000     0.000      0.000   \n",
      "Water                                       89.790    85.880     91.400   \n",
      "Energy                                      50.000    61.000     23.000   \n",
      "Nitrogen                                     0.000     0.000      0.000   \n",
      "Protein                                      1.080     2.840      2.860   \n",
      "Total lipid (fat)                            3.410     3.400      0.390   \n",
      "Ash                                          0.000     0.000      0.000   \n",
      "Carbohydrates                                0.000     0.000      0.000   \n",
      "Carbohydrate, by difference                  4.710     6.700      3.630   \n",
      "Minerals                                     0.000     0.000      0.000   \n",
      "Selenium, Se                                 0.000     2.500      1.000   \n",
      "Vitamins and Other Components                0.000     0.000      0.000   \n",
      "Riboflavin                                   0.022     0.112      0.189   \n",
      "Amino acids                                  0.000     0.000      0.000   \n",
      "Tryptophan                                   0.000     0.000      0.000   \n",
      "Threonine                                    0.000     0.000      0.000   \n",
      "Isoleucine                                   0.000     0.000      0.000   \n",
      "Leucine                                      0.000     0.000      0.000   \n",
      "Lysine                                       0.000     0.000      0.000   \n",
      "Methionine                                   0.000     0.000      0.000   \n",
      "Phenylalanine                                0.000     0.000      0.000   \n",
      "Tyrosine                                     0.000     0.000      0.000   \n",
      "Valine                                       0.000     0.000      0.000   \n",
      "Arginine                                     0.000     0.000      0.000   \n",
      "Histidine                                    0.000     0.000      0.000   \n",
      "Alanine                                      0.000     0.000      0.000   \n",
      "Aspartic acid                                0.000     0.000      0.000   \n",
      "Glutamic acid                                0.000     0.000      0.000   \n",
      "Glycine                                      0.000     0.000      0.000   \n",
      "Proline                                      0.000     0.000      0.000   \n",
      "Serine                                       0.000     0.000      0.000   \n",
      "Hydroxyproline                               0.000     0.000      0.000   \n",
      "Cysteine                                     0.000     0.000      0.000   \n",
      "Fatty acids, total saturated                 0.935     0.529      0.063   \n",
      "Fatty acids, total monounsaturated           1.203     1.298      0.010   \n",
      "Fatty acids, total trans                     0.000     0.000      0.000   \n",
      "Sodium, Na                                 159.000   150.000     79.000   \n",
      "Cholesterol                                  2.000     0.000      0.000   \n",
      "Fatty acids, total polyunsaturated           1.069     1.359      0.165   \n",
      "Fiber, total dietary                         1.500     2.600      2.200   \n",
      "Sugars, total including NLEA                 3.180     1.710      0.420   \n",
      "Calcium, Ca                                 13.000    48.000     99.000   \n",
      "Iron, Fe                                     0.330     0.740      2.710   \n",
      "Magnesium, Mg                               13.000    21.000     79.000   \n",
      "Phosphorus, P                               29.000    67.000     49.000   \n",
      "Potassium, K                               287.000   319.000    558.000   \n",
      "Zinc, Zn                                     0.210     0.410      0.530   \n",
      "Copper, Cu                                   0.071     0.049      0.130   \n",
      "Vitamin C, total ascorbic acid              15.800    76.500     28.100   \n",
      "Thiamin                                      0.043     0.064      0.078   \n",
      "Niacin                                       0.683     0.612      0.724   \n",
      "Vitamin B-6                                  0.112     0.159      0.195   \n",
      "Folate, total                               13.000    54.000    194.000   \n",
      "Folic acid                                   0.000     0.000      0.000   \n",
      "Folate, food                                13.000    54.000    194.000   \n",
      "Folate, DFE                                 13.000    54.000    194.000   \n",
      "Choline, total                               7.600    18.900     19.300   \n",
      "Vitamin B-12                                 0.000     0.000      0.000   \n",
      "Vitamin B-12, added                          0.000     0.000      0.000   \n",
      "Vitamin A, RAE                              62.000    30.000    469.000   \n",
      "Retinol                                     13.000     0.000      0.000   \n",
      "Carotene, beta                             522.000   346.000   5626.000   \n",
      "Carotene, alpha                            116.000    24.000      0.000   \n",
      "Cryptoxanthin, beta                          0.000     1.000      0.000   \n",
      "Lycopene                                  2958.000     0.000      0.000   \n",
      "Lutein + zeaxanthin                        141.000  1344.000  12198.000   \n",
      "Vitamin E (alpha-tocopherol)                 1.020     1.140      2.030   \n",
      "Vitamin E, added                             0.000     0.000      0.000   \n",
      "Vitamin D (D2 + D3)                          0.000     0.000      0.000   \n",
      "Vitamin K (phylloquinone)                   12.500   106.000    482.900   \n",
      "Lipids                                       0.000     0.000      0.000   \n",
      "SFA 4:0                                      0.035     0.000      0.000   \n",
      "SFA 6:0                                      0.022     0.000      0.000   \n",
      "SFA 8:0                                      0.013     0.000      0.000   \n",
      "SFA 10:0                                     0.028     0.000      0.000   \n",
      "SFA 12:0                                     0.029     0.000      0.000   \n",
      "SFA 14:0                                     0.082     0.002      0.010   \n",
      "SFA 16:0                                     0.487     0.380      0.049   \n",
      "SFA 18:0                                     0.214     0.115      0.004   \n",
      "MUFA 16:1                                    0.019     0.011      0.005   \n",
      "MUFA 18:1                                    1.173     1.272      0.005   \n",
      "MUFA 20:1                                    0.010     0.012      0.000   \n",
      "MUFA 22:1                                    0.000     0.000      0.000   \n",
      "PUFA 18:2                                    0.952     1.142      0.026   \n",
      "PUFA 18:3                                    0.118     0.217      0.138   \n",
      "PUFA 18:4                                    0.000     0.000      0.000   \n",
      "PUFA 20:4                                    0.000     0.000      0.000   \n",
      "PUFA 2:5 n-3 (EPA)                           0.000     0.000      0.000   \n",
      "PUFA 22:5 n-3 (DPA)                          0.000     0.000      0.000   \n",
      "PUFA 22:6 n-3 (DHA)                          0.000     0.000      0.000   \n",
      "Alcohol, ethyl                               0.000     0.000      0.000   \n",
      "Caffeine                                     0.000     0.000      0.000   \n",
      "Theobromine                                  0.000     0.000      0.000   \n",
      "Total fat (NLEA)                             0.000     0.000      0.000   \n",
      "Sugars, Total NLEA                           0.000     0.000      0.000   \n",
      "Sucrose                                      0.000     0.000      0.000   \n",
      "Glucose                                      0.000     0.000      0.000   \n",
      "Fructose                                     0.000     0.000      0.000   \n",
      "Lactose                                      0.000     0.000      0.000   \n",
      "Maltose                                      0.000     0.000      0.000   \n",
      "Galactose                                    0.000     0.000      0.000   \n",
      "Manganese, Mn                                0.000     0.000      0.000   \n",
      "Iodine, I                                    0.000     0.000      0.000   \n",
      "Pantothenic acid                             0.000     0.000      0.000   \n",
      "Vitamin D (D2 + D3), International Units     0.000     0.000      0.000   \n",
      "Vitamin D3 (cholecalciferol)                 0.000     0.000      0.000   \n",
      "25-hydroxycholecalciferol                    0.000     0.000      0.000   \n",
      "SFA 5:0                                      0.000     0.000      0.000   \n",
      "SFA 7:0                                      0.000     0.000      0.000   \n",
      "SFA 9:0                                      0.000     0.000      0.000   \n",
      "SFA 11:0                                     0.000     0.000      0.000   \n",
      "SFA 15:0                                     0.000     0.000      0.000   \n",
      "SFA 17:0                                     0.000     0.000      0.000   \n",
      "SFA 20:0                                     0.000     0.000      0.000   \n",
      "SFA 21:0                                     0.000     0.000      0.000   \n",
      "SFA 22:0                                     0.000     0.000      0.000   \n",
      "SFA 23:0                                     0.000     0.000      0.000   \n",
      "SFA 24:0                                     0.000     0.000      0.000   \n",
      "MUFA 12:1                                    0.000     0.000      0.000   \n",
      "MUFA 14:1 c                                  0.000     0.000      0.000   \n",
      "MUFA 15:1                                    0.000     0.000      0.000   \n",
      "MUFA 16:1 c                                  0.000     0.000      0.000   \n",
      "MUFA 17:1                                    0.000     0.000      0.000   \n",
      "MUFA 17:1 c                                  0.000     0.000      0.000   \n",
      "MUFA 18:1 c                                  0.000     0.000      0.000   \n",
      "MUFA 20:1 c                                  0.000     0.000      0.000   \n",
      "MUFA 22:1 c                                  0.000     0.000      0.000   \n",
      "MUFA 22:1 n-9                                0.000     0.000      0.000   \n",
      "MUFA 22:1 n-11                               0.000     0.000      0.000   \n",
      "MUFA 24:1 c                                  0.000     0.000      0.000   \n",
      "PUFA 18:2 c                                  0.000     0.000      0.000   \n",
      "PUFA 18:2 n-6 c,c                            0.000     0.000      0.000   \n",
      "PUFA 18:2 CLAs                               0.000     0.000      0.000   \n",
      "PUFA 18:3 c                                  0.000     0.000      0.000   \n",
      "PUFA 18:3 n-3 c,c,c (ALA)                    0.000     0.000      0.000   \n",
      "PUFA 18:3 n-6 c,c,c                          0.000     0.000      0.000   \n",
      "PUFA 20:2 c                                  0.000     0.000      0.000   \n",
      "PUFA 20:2 n-6 c,c                            0.000     0.000      0.000   \n",
      "PUFA 20:3 c                                  0.000     0.000      0.000   \n",
      "PUFA 20:3 n-3                                0.000     0.000      0.000   \n",
      "PUFA 20:3 n-6                                0.000     0.000      0.000   \n",
      "PUFA 20:3 n-9                                0.000     0.000      0.000   \n",
      "PUFA 22:3                                    0.000     0.000      0.000   \n",
      "PUFA 2:4 c                                   0.000     0.000      0.000   \n",
      "PUFA 2:5 c                                   0.000     0.000      0.000   \n",
      "PUFA 22:2                                    0.000     0.000      0.000   \n",
      "PUFA 22:5 c                                  0.000     0.000      0.000   \n",
      "PUFA 22:4                                    0.000     0.000      0.000   \n",
      "PUFA 22:6 c                                  0.000     0.000      0.000   \n",
      "Fatty acids, total trans-monoenoic           0.000     0.000      0.000   \n",
      "TFA 14:1 t                                   0.000     0.000      0.000   \n",
      "TFA 16:1 t                                   0.000     0.000      0.000   \n",
      "TFA 18:1 t                                   0.000     0.000      0.000   \n",
      "TFA 20:1 t                                   0.000     0.000      0.000   \n",
      "TFA 22:1 t                                   0.000     0.000      0.000   \n",
      "Fatty acids, total trans-dienoic             0.000     0.000      0.000   \n",
      "TFA 18:2 t not further defined               0.000     0.000      0.000   \n",
      "Fatty acids, total trans-polyenoic           0.000     0.000      0.000   \n",
      "TFA 18:3 t                                   0.000     0.000      0.000   \n",
      "Sugars, added                                0.000     0.000      0.000   \n",
      "Vitamin A, IU                                0.000     0.000      0.000   \n",
      "Cystine                                      0.000     0.000      0.000   \n",
      "Starch                                       0.000     0.000      0.000   \n",
      "MUFA 14:1                                    0.000     0.000      0.000   \n",
      "PUFA 18:3i                                   0.000     0.000      0.000   \n",
      "PUFA 20:3                                    0.000     0.000      0.000   \n",
      "\n",
      "                                          Sweet potatoes     Rice  \\\n",
      "Proximates                                         0.000    0.000   \n",
      "Water                                             76.030    0.000   \n",
      "Energy                                           114.000  356.000   \n",
      "Nitrogen                                           0.000    0.000   \n",
      "Protein                                            1.300    6.670   \n",
      "Total lipid (fat)                                  4.880    0.000   \n",
      "Ash                                                0.000    0.000   \n",
      "Carbohydrates                                      0.000    0.000   \n",
      "Carbohydrate, by difference                       16.810   77.780   \n",
      "Minerals                                           0.000    0.000   \n",
      "Selenium, Se                                       0.200    0.000   \n",
      "Vitamins and Other Components                      0.000    0.000   \n",
      "Riboflavin                                         0.045    0.000   \n",
      "Amino acids                                        0.000    0.000   \n",
      "Tryptophan                                         0.000    0.000   \n",
      "Threonine                                          0.000    0.000   \n",
      "Isoleucine                                         0.000    0.000   \n",
      "Leucine                                            0.000    0.000   \n",
      "Lysine                                             0.000    0.000   \n",
      "Methionine                                         0.000    0.000   \n",
      "Phenylalanine                                      0.000    0.000   \n",
      "Tyrosine                                           0.000    0.000   \n",
      "Valine                                             0.000    0.000   \n",
      "Arginine                                           0.000    0.000   \n",
      "Histidine                                          0.000    0.000   \n",
      "Alanine                                            0.000    0.000   \n",
      "Aspartic acid                                      0.000    0.000   \n",
      "Glutamic acid                                      0.000    0.000   \n",
      "Glycine                                            0.000    0.000   \n",
      "Proline                                            0.000    0.000   \n",
      "Serine                                             0.000    0.000   \n",
      "Hydroxyproline                                     0.000    0.000   \n",
      "Cysteine                                           0.000    0.000   \n",
      "Fatty acids, total saturated                       0.678    0.000   \n",
      "Fatty acids, total monounsaturated                 1.987    0.000   \n",
      "Fatty acids, total trans                           0.000    0.000   \n",
      "Sodium, Na                                       173.000    0.000   \n",
      "Cholesterol                                        0.000    0.000   \n",
      "Fatty acids, total polyunsaturated                 2.012    0.000   \n",
      "Fiber, total dietary                               2.400    0.000   \n",
      "Sugars, total including NLEA                       5.450    0.000   \n",
      "Calcium, Ca                                       26.000    0.000   \n",
      "Iron, Fe                                           0.690    3.200   \n",
      "Magnesium, Mg                                     17.000    0.000   \n",
      "Phosphorus, P                                     30.000    0.000   \n",
      "Potassium, K                                     218.000   89.000   \n",
      "Zinc, Zn                                           0.190    0.000   \n",
      "Copper, Cu                                         0.089    0.000   \n",
      "Vitamin C, total ascorbic acid                    12.100    0.000   \n",
      "Thiamin                                            0.053    0.000   \n",
      "Niacin                                             0.510    3.556   \n",
      "Vitamin B-6                                        0.157    0.000   \n",
      "Folate, total                                      6.000  133.000   \n",
      "Folic acid                                         0.000    0.000   \n",
      "Folate, food                                       6.000    0.000   \n",
      "Folate, DFE                                        6.000    0.000   \n",
      "Choline, total                                    10.300    0.000   \n",
      "Vitamin B-12                                       0.000    0.000   \n",
      "Vitamin B-12, added                                0.000    0.000   \n",
      "Vitamin A, RAE                                   747.000    0.000   \n",
      "Retinol                                            0.000    0.000   \n",
      "Carotene, beta                                  8960.000    0.000   \n",
      "Carotene, alpha                                    0.000    0.000   \n",
      "Cryptoxanthin, beta                                0.000    0.000   \n",
      "Lycopene                                           0.000    0.000   \n",
      "Lutein + zeaxanthin                                0.000    0.000   \n",
      "Vitamin E (alpha-tocopherol)                       1.450    0.000   \n",
      "Vitamin E, added                                   0.000    0.000   \n",
      "Vitamin D (D2 + D3)                                0.000    0.000   \n",
      "Vitamin K (phylloquinone)                          7.600    0.000   \n",
      "Lipids                                             0.000    0.000   \n",
      "SFA 4:0                                            0.000    0.000   \n",
      "SFA 6:0                                            0.000    0.000   \n",
      "SFA 8:0                                            0.000    0.000   \n",
      "SFA 10:0                                           0.000    0.000   \n",
      "SFA 12:0                                           0.000    0.000   \n",
      "SFA 14:0                                           0.000    0.000   \n",
      "SFA 16:0                                           0.492    0.000   \n",
      "SFA 18:0                                           0.152    0.000   \n",
      "MUFA 16:1                                          0.017    0.000   \n",
      "MUFA 18:1                                          1.949    0.000   \n",
      "MUFA 20:1                                          0.019    0.000   \n",
      "MUFA 22:1                                          0.000    0.000   \n",
      "PUFA 18:2                                          1.771    0.000   \n",
      "PUFA 18:3                                          0.241    0.000   \n",
      "PUFA 18:4                                          0.000    0.000   \n",
      "PUFA 20:4                                          0.000    0.000   \n",
      "PUFA 2:5 n-3 (EPA)                                 0.000    0.000   \n",
      "PUFA 22:5 n-3 (DPA)                                0.000    0.000   \n",
      "PUFA 22:6 n-3 (DHA)                                0.000    0.000   \n",
      "Alcohol, ethyl                                     0.000    0.000   \n",
      "Caffeine                                           0.000    0.000   \n",
      "Theobromine                                        0.000    0.000   \n",
      "Total fat (NLEA)                                   0.000    0.000   \n",
      "Sugars, Total NLEA                                 0.000    0.000   \n",
      "Sucrose                                            0.000    0.000   \n",
      "Glucose                                            0.000    0.000   \n",
      "Fructose                                           0.000    0.000   \n",
      "Lactose                                            0.000    0.000   \n",
      "Maltose                                            0.000    0.000   \n",
      "Galactose                                          0.000    0.000   \n",
      "Manganese, Mn                                      0.000    0.000   \n",
      "Iodine, I                                          0.000    0.000   \n",
      "Pantothenic acid                                   0.000    0.000   \n",
      "Vitamin D (D2 + D3), International Units           0.000    0.000   \n",
      "Vitamin D3 (cholecalciferol)                       0.000    0.000   \n",
      "25-hydroxycholecalciferol                          0.000    0.000   \n",
      "SFA 5:0                                            0.000    0.000   \n",
      "SFA 7:0                                            0.000    0.000   \n",
      "SFA 9:0                                            0.000    0.000   \n",
      "SFA 11:0                                           0.000    0.000   \n",
      "SFA 15:0                                           0.000    0.000   \n",
      "SFA 17:0                                           0.000    0.000   \n",
      "SFA 20:0                                           0.000    0.000   \n",
      "SFA 21:0                                           0.000    0.000   \n",
      "SFA 22:0                                           0.000    0.000   \n",
      "SFA 23:0                                           0.000    0.000   \n",
      "SFA 24:0                                           0.000    0.000   \n",
      "MUFA 12:1                                          0.000    0.000   \n",
      "MUFA 14:1 c                                        0.000    0.000   \n",
      "MUFA 15:1                                          0.000    0.000   \n",
      "MUFA 16:1 c                                        0.000    0.000   \n",
      "MUFA 17:1                                          0.000    0.000   \n",
      "MUFA 17:1 c                                        0.000    0.000   \n",
      "MUFA 18:1 c                                        0.000    0.000   \n",
      "MUFA 20:1 c                                        0.000    0.000   \n",
      "MUFA 22:1 c                                        0.000    0.000   \n",
      "MUFA 22:1 n-9                                      0.000    0.000   \n",
      "MUFA 22:1 n-11                                     0.000    0.000   \n",
      "MUFA 24:1 c                                        0.000    0.000   \n",
      "PUFA 18:2 c                                        0.000    0.000   \n",
      "PUFA 18:2 n-6 c,c                                  0.000    0.000   \n",
      "PUFA 18:2 CLAs                                     0.000    0.000   \n",
      "PUFA 18:3 c                                        0.000    0.000   \n",
      "PUFA 18:3 n-3 c,c,c (ALA)                          0.000    0.000   \n",
      "PUFA 18:3 n-6 c,c,c                                0.000    0.000   \n",
      "PUFA 20:2 c                                        0.000    0.000   \n",
      "PUFA 20:2 n-6 c,c                                  0.000    0.000   \n",
      "PUFA 20:3 c                                        0.000    0.000   \n",
      "PUFA 20:3 n-3                                      0.000    0.000   \n",
      "PUFA 20:3 n-6                                      0.000    0.000   \n",
      "PUFA 20:3 n-9                                      0.000    0.000   \n",
      "PUFA 22:3                                          0.000    0.000   \n",
      "PUFA 2:4 c                                         0.000    0.000   \n",
      "PUFA 2:5 c                                         0.000    0.000   \n",
      "PUFA 22:2                                          0.000    0.000   \n",
      "PUFA 22:5 c                                        0.000    0.000   \n",
      "PUFA 22:4                                          0.000    0.000   \n",
      "PUFA 22:6 c                                        0.000    0.000   \n",
      "Fatty acids, total trans-monoenoic                 0.000    0.000   \n",
      "TFA 14:1 t                                         0.000    0.000   \n",
      "TFA 16:1 t                                         0.000    0.000   \n",
      "TFA 18:1 t                                         0.000    0.000   \n",
      "TFA 20:1 t                                         0.000    0.000   \n",
      "TFA 22:1 t                                         0.000    0.000   \n",
      "Fatty acids, total trans-dienoic                   0.000    0.000   \n",
      "TFA 18:2 t not further defined                     0.000    0.000   \n",
      "Fatty acids, total trans-polyenoic                 0.000    0.000   \n",
      "TFA 18:3 t                                         0.000    0.000   \n",
      "Sugars, added                                      0.000    0.000   \n",
      "Vitamin A, IU                                      0.000    0.000   \n",
      "Cystine                                            0.000    0.000   \n",
      "Starch                                             0.000    0.000   \n",
      "MUFA 14:1                                          0.000    0.000   \n",
      "PUFA 18:3i                                         0.000    0.000   \n",
      "PUFA 20:3                                          0.000    0.000   \n",
      "\n",
      "                                          Whole Wheat Bread  \n",
      "Proximates                                            0.000  \n",
      "Water                                                38.700  \n",
      "Energy                                              254.000  \n",
      "Nitrogen                                              0.000  \n",
      "Protein                                              12.300  \n",
      "Total lipid (fat)                                     3.550  \n",
      "Ash                                                   0.000  \n",
      "Carbohydrates                                         0.000  \n",
      "Carbohydrate, by difference                          43.100  \n",
      "Minerals                                              0.000  \n",
      "Selenium, Se                                         25.800  \n",
      "Vitamins and Other Components                         0.000  \n",
      "Riboflavin                                            0.166  \n",
      "Amino acids                                           0.000  \n",
      "Tryptophan                                            0.000  \n",
      "Threonine                                             0.000  \n",
      "Isoleucine                                            0.000  \n",
      "Leucine                                               0.000  \n",
      "Lysine                                                0.000  \n",
      "Methionine                                            0.000  \n",
      "Phenylalanine                                         0.000  \n",
      "Tyrosine                                              0.000  \n",
      "Valine                                                0.000  \n",
      "Arginine                                              0.000  \n",
      "Histidine                                             0.000  \n",
      "Alanine                                               0.000  \n",
      "Aspartic acid                                         0.000  \n",
      "Glutamic acid                                         0.000  \n",
      "Glycine                                               0.000  \n",
      "Proline                                               0.000  \n",
      "Serine                                                0.000  \n",
      "Hydroxyproline                                        0.000  \n",
      "Cysteine                                              0.000  \n",
      "Fatty acids, total saturated                          0.732  \n",
      "Fatty acids, total monounsaturated                    0.616  \n",
      "Fatty acids, total trans                              0.000  \n",
      "Sodium, Na                                          450.000  \n",
      "Cholesterol                                           0.000  \n",
      "Fatty acids, total polyunsaturated                    1.610  \n",
      "Fiber, total dietary                                  6.000  \n",
      "Sugars, total including NLEA                          4.410  \n",
      "Calcium, Ca                                         163.000  \n",
      "Iron, Fe                                              2.560  \n",
      "Magnesium, Mg                                        77.000  \n",
      "Phosphorus, P                                       212.000  \n",
      "Potassium, K                                        250.000  \n",
      "Zinc, Zn                                              1.760  \n",
      "Copper, Cu                                            0.226  \n",
      "Vitamin C, total ascorbic acid                        0.000  \n",
      "Thiamin                                               0.391  \n",
      "Niacin                                                4.430  \n",
      "Vitamin B-6                                           0.216  \n",
      "Folate, total                                        42.000  \n",
      "Folic acid                                            0.000  \n",
      "Folate, food                                         42.000  \n",
      "Folate, DFE                                          42.000  \n",
      "Choline, total                                       27.200  \n",
      "Vitamin B-12                                          0.000  \n",
      "Vitamin B-12, added                                   0.000  \n",
      "Vitamin A, RAE                                        0.000  \n",
      "Retinol                                               0.000  \n",
      "Carotene, beta                                        2.000  \n",
      "Carotene, alpha                                       0.000  \n",
      "Cryptoxanthin, beta                                   0.000  \n",
      "Lycopene                                              0.000  \n",
      "Lutein + zeaxanthin                                  87.000  \n",
      "Vitamin E (alpha-tocopherol)                          0.540  \n",
      "Vitamin E, added                                      0.000  \n",
      "Vitamin D (D2 + D3)                                   0.000  \n",
      "Vitamin K (phylloquinone)                             7.800  \n",
      "Lipids                                                0.000  \n",
      "SFA 4:0                                               0.000  \n",
      "SFA 6:0                                               0.000  \n",
      "SFA 8:0                                               0.002  \n",
      "SFA 10:0                                              0.008  \n",
      "SFA 12:0                                              0.013  \n",
      "SFA 14:0                                              0.008  \n",
      "SFA 16:0                                              0.440  \n",
      "SFA 18:0                                              0.235  \n",
      "MUFA 16:1                                             0.015  \n",
      "MUFA 18:1                                             0.599  \n",
      "MUFA 20:1                                             0.017  \n",
      "MUFA 22:1                                             0.000  \n",
      "PUFA 18:2                                             1.460  \n",
      "PUFA 18:3                                             0.141  \n",
      "PUFA 18:4                                             0.000  \n",
      "PUFA 20:4                                             0.004  \n",
      "PUFA 2:5 n-3 (EPA)                                    0.000  \n",
      "PUFA 22:5 n-3 (DPA)                                   0.000  \n",
      "PUFA 22:6 n-3 (DHA)                                   0.000  \n",
      "Alcohol, ethyl                                        0.000  \n",
      "Caffeine                                              0.000  \n",
      "Theobromine                                           0.000  \n",
      "Total fat (NLEA)                                      0.000  \n",
      "Sugars, Total NLEA                                    0.000  \n",
      "Sucrose                                               0.000  \n",
      "Glucose                                               0.000  \n",
      "Fructose                                              0.000  \n",
      "Lactose                                               0.000  \n",
      "Maltose                                               0.000  \n",
      "Galactose                                             0.000  \n",
      "Manganese, Mn                                         0.000  \n",
      "Iodine, I                                             0.000  \n",
      "Pantothenic acid                                      0.000  \n",
      "Vitamin D (D2 + D3), International Units              0.000  \n",
      "Vitamin D3 (cholecalciferol)                          0.000  \n",
      "25-hydroxycholecalciferol                             0.000  \n",
      "SFA 5:0                                               0.000  \n",
      "SFA 7:0                                               0.000  \n",
      "SFA 9:0                                               0.000  \n",
      "SFA 11:0                                              0.000  \n",
      "SFA 15:0                                              0.000  \n",
      "SFA 17:0                                              0.000  \n",
      "SFA 20:0                                              0.000  \n",
      "SFA 21:0                                              0.000  \n",
      "SFA 22:0                                              0.000  \n",
      "SFA 23:0                                              0.000  \n",
      "SFA 24:0                                              0.000  \n",
      "MUFA 12:1                                             0.000  \n",
      "MUFA 14:1 c                                           0.000  \n",
      "MUFA 15:1                                             0.000  \n",
      "MUFA 16:1 c                                           0.000  \n",
      "MUFA 17:1                                             0.000  \n",
      "MUFA 17:1 c                                           0.000  \n",
      "MUFA 18:1 c                                           0.000  \n",
      "MUFA 20:1 c                                           0.000  \n",
      "MUFA 22:1 c                                           0.000  \n",
      "MUFA 22:1 n-9                                         0.000  \n",
      "MUFA 22:1 n-11                                        0.000  \n",
      "MUFA 24:1 c                                           0.000  \n",
      "PUFA 18:2 c                                           0.000  \n",
      "PUFA 18:2 n-6 c,c                                     0.000  \n",
      "PUFA 18:2 CLAs                                        0.000  \n",
      "PUFA 18:3 c                                           0.000  \n",
      "PUFA 18:3 n-3 c,c,c (ALA)                             0.000  \n",
      "PUFA 18:3 n-6 c,c,c                                   0.000  \n",
      "PUFA 20:2 c                                           0.000  \n",
      "PUFA 20:2 n-6 c,c                                     0.000  \n",
      "PUFA 20:3 c                                           0.000  \n",
      "PUFA 20:3 n-3                                         0.000  \n",
      "PUFA 20:3 n-6                                         0.000  \n",
      "PUFA 20:3 n-9                                         0.000  \n",
      "PUFA 22:3                                             0.000  \n",
      "PUFA 2:4 c                                            0.000  \n",
      "PUFA 2:5 c                                            0.000  \n",
      "PUFA 22:2                                             0.000  \n",
      "PUFA 22:5 c                                           0.000  \n",
      "PUFA 22:4                                             0.000  \n",
      "PUFA 22:6 c                                           0.000  \n",
      "Fatty acids, total trans-monoenoic                    0.000  \n",
      "TFA 14:1 t                                            0.000  \n",
      "TFA 16:1 t                                            0.000  \n",
      "TFA 18:1 t                                            0.000  \n",
      "TFA 20:1 t                                            0.000  \n",
      "TFA 22:1 t                                            0.000  \n",
      "Fatty acids, total trans-dienoic                      0.000  \n",
      "TFA 18:2 t not further defined                        0.000  \n",
      "Fatty acids, total trans-polyenoic                    0.000  \n",
      "TFA 18:3 t                                            0.000  \n",
      "Sugars, added                                         0.000  \n",
      "Vitamin A, IU                                         0.000  \n",
      "Cystine                                               0.000  \n",
      "Starch                                                0.000  \n",
      "MUFA 14:1                                             0.000  \n",
      "PUFA 18:3i                                            0.000  \n",
      "PUFA 20:3                                             0.000   Food\n",
      "Avocado                1.287499611159685 / hectogram\n",
      "Broccoli              0.4820774799775989 / hectogram\n",
      "Canned tuna           1.2904391079888167 / hectogram\n",
      "Chickpeas             0.4301147618368192 / hectogram\n",
      "Eggs                  0.6870024017799231 / hectogram\n",
      "Feta                  2.9336178354734375 / hectogram\n",
      "Greek yogurt          0.8476773981008542 / hectogram\n",
      "Milk                  0.1816057884747929 / hectogram\n",
      "Olive oil              2.137268796866309 / hectogram\n",
      "Oranges              0.46076612796639405 / hectogram\n",
      "Rice                  0.9689316423025367 / hectogram\n",
      "Spinach               0.8430476905949718 / hectogram\n",
      "Sweet potatoes       0.48281235418488183 / hectogram\n",
      "Tomato                0.9678293309916124 / hectogram\n",
      "Whole Wheat Bread     1.1696845782480862 / hectogram\n",
      "Name: FDC Price, dtype: object Nutrition\n",
      "Energy                            2400.0\n",
      "Protein                             56.0\n",
      "Fiber, total dietary                33.6\n",
      "Folate, DFE                        400.0\n",
      "Calcium, Ca                       1000.0\n",
      "Carbohydrate, by difference        130.0\n",
      "Iron, Fe                             8.0\n",
      "Magnesium, Mg                      400.0\n",
      "Niacin                              16.0\n",
      "Phosphorus, P                      700.0\n",
      "Potassium, K                      4700.0\n",
      "Riboflavin                           1.3\n",
      "Thiamin                              1.2\n",
      "Vitamin A, RAE                     900.0\n",
      "Vitamin B-12                         2.4\n",
      "Vitamin B-6                          1.3\n",
      "Vitamin C, total ascorbic acid      90.0\n",
      "Vitamin E (alpha-tocopherol)        15.0\n",
      "Vitamin K (phylloquinone)          120.0\n",
      "Zinc, Zn                            11.0\n",
      "Name: M 19-30, dtype: float64 Nutrition\n",
      "Sodium, Na    2300\n",
      "Name: M 19-30, dtype: int64\n",
      "Cost of diet for Nutrition\n",
      "Energy                            2400.0\n",
      "Protein                             56.0\n",
      "Fiber, total dietary                33.6\n",
      "Folate, DFE                        400.0\n",
      "Calcium, Ca                       1000.0\n",
      "Carbohydrate, by difference        130.0\n",
      "Iron, Fe                             8.0\n",
      "Magnesium, Mg                      400.0\n",
      "Niacin                              16.0\n",
      "Phosphorus, P                      700.0\n",
      "Potassium, K                      4700.0\n",
      "Riboflavin                           1.3\n",
      "Thiamin                              1.2\n",
      "Vitamin A, RAE                     900.0\n",
      "Vitamin B-12                         2.4\n",
      "Vitamin B-6                          1.3\n",
      "Vitamin C, total ascorbic acid      90.0\n",
      "Vitamin E (alpha-tocopherol)        15.0\n",
      "Vitamin K (phylloquinone)          120.0\n",
      "Zinc, Zn                            11.0\n",
      "Name: M 19-30, dtype: float64 is $11.81 per day.\n",
      "\n",
      "\n",
      "Diet (in 100s of grams or milliliters):\n",
      "Avocado              1.979654\n",
      "Canned tuna          0.343678\n",
      "Chickpeas            3.285490\n",
      "Greek yogurt         3.057892\n",
      "Spinach              3.248037\n",
      "Sweet potatoes       1.773807\n",
      "Whole Wheat Bread    1.042422\n",
      "dtype: float64\n",
      "\n",
      "\n",
      "With the following nutritional outcomes of interest:\n",
      "                                    Outcome  Recommendation\n",
      "Nutrition                                                  \n",
      "Energy                          2400.000000          2400.0\n",
      "Protein                           92.240495            56.0\n",
      "Fiber, total dietary              54.905109            33.6\n",
      "Folate, DFE                     1013.010058           400.0\n",
      "Calcium, Ca                     1109.747465          1000.0\n",
      "Carbohydrate, by difference      189.257746           130.0\n",
      "Iron, Fe                          21.215030             8.0\n",
      "Magnesium, Mg                    613.711458           400.0\n",
      "Niacin                            16.000000            16.0\n",
      "Phosphorus, P                   1439.288673           700.0\n",
      "Potassium, K                    4700.000000          4700.0\n",
      "Riboflavin                         1.943620             1.3\n",
      "Thiamin                            1.200000             1.2\n",
      "Vitamin A, RAE                  3144.002331           900.0\n",
      "Vitamin B-12                       2.473355             2.4\n",
      "Vitamin B-6                        4.381497             1.3\n",
      "Vitamin C, total ascorbic acid   135.632865            90.0\n",
      "Vitamin E (alpha-tocopherol)      15.000000            15.0\n",
      "Vitamin K (phylloquinone)       1644.429638           120.0\n",
      "Zinc, Zn                          11.000000            11.0\n",
      "Sodium, Na                      2300.000000          2300.0\n",
      "\n",
      "\n",
      "Constraining nutrients are:\n",
      "['Energy', 'Niacin', 'Potassium, K', 'Thiamin', 'Vitamin E (alpha-tocopherol)', 'Zinc, Zn', 'Sodium, Na']\n"
     ]
    }
   ],
   "source": [
    "group = get_dri_min(22, 'M')\n",
    "tol = 1e-6\n",
    "result = solve_subsistence_problem(FoodNutrients,BerkBowlPrices,bminM22,bmaxM22,tol=tol)\n",
    "print(FoodNutrients, BerkBowlPrices, bminM22, bmaxM22)\n",
    "print(\"Cost of diet for %s is $%4.2f per day.\\n\" % (group,result.fun))\n",
    "# Put back into nice series\n",
    "diet = result.diet\n",
    "print(\"\\nDiet (in 100s of grams or milliliters):\")\n",
    "print(diet[diet >= tol])  # Drop items with quantities less than precision of calculation.\n",
    "print()\n",
    "tab = pd.DataFrame({\"Outcome\":np.abs(result.A).dot(diet),\"Recommendation\":np.abs(result.b)})\n",
    "print(\"\\nWith the following nutritional outcomes of interest:\")\n",
    "print(tab)\n",
    "print()\n",
    "print(\"\\nConstraining nutrients are:\")\n",
    "excess = tab.diff(axis=1).iloc[:,1]\n",
    "print(excess.loc[np.abs(excess) < tol*100].index.tolist())"
   ]
  },
  {
   "cell_type": "markdown",
   "id": "8a379e4a",
   "metadata": {},
   "source": [
    "## Deliverable [C] Sensitivity of Solution\n",
    "\n",
    "### If the price of a particular kind of food increases by x%, how much does price of diet change, and how does the composition of the  diet change?\n",
    "\n",
    "We can now begin deliverable C by graphin the prices from Berkeley Bowls for males age 22 against nutrients."
   ]
  },
  {
   "cell_type": "code",
   "execution_count": 47,
   "id": "d04ca0a7",
   "metadata": {},
   "outputs": [
    {
     "data": {
      "text/html": [
       "        <script type=\"text/javascript\">\n",
       "        window.PlotlyConfig = {MathJaxConfig: 'local'};\n",
       "        if (window.MathJax) {MathJax.Hub.Config({SVG: {font: \"STIX-Web\"}});}\n",
       "        if (typeof require !== 'undefined') {\n",
       "        require.undef(\"plotly\");\n",
       "        requirejs.config({\n",
       "            paths: {\n",
       "                'plotly': ['https://cdn.plot.ly/plotly-2.3.1.min']\n",
       "            }\n",
       "        });\n",
       "        require(['plotly'], function(Plotly) {\n",
       "            window._Plotly = Plotly;\n",
       "        });\n",
       "        }\n",
       "        </script>\n",
       "        "
      ]
     },
     "metadata": {},
     "output_type": "display_data"
    },
    {
     "data": {
      "application/vnd.plotly.v1+json": {
       "config": {
        "linkText": "Export to plot.ly",
        "plotlyServerURL": "https://plot.ly",
        "showLink": true
       },
       "data": [
        {
         "line": {
          "color": "rgba(255, 153, 51, 1.0)",
          "dash": "solid",
          "shape": "linear",
          "width": 1.3
         },
         "mode": "lines",
         "name": "Avocado",
         "text": "",
         "type": "scatter",
         "x": [
          -0.6931471805599453,
          -0.5108256237659907,
          -0.35667494393873245,
          -0.2231435513142097,
          -0.10536051565782628,
          0,
          0.09531017980432493,
          0.1823215567939546,
          0.26236426446749106,
          0.3364722366212129,
          0.4054651081081644
         ],
         "y": [
          -0.2344199747791351,
          -0.1659747630844529,
          -0.1019156893493967,
          -0.053673049656027864,
          -0.023326376626271142,
          0,
          0.009483374811311722,
          0.009483377514795777,
          0.009483414280707217,
          0.009483400748938128,
          0.009483363374468692
         ]
        },
        {
         "line": {
          "color": "rgba(55, 128, 191, 1.0)",
          "dash": "solid",
          "shape": "linear",
          "width": 1.3
         },
         "mode": "lines",
         "name": "Broccoli",
         "text": "",
         "type": "scatter",
         "x": [
          -0.6931471805599453,
          -0.5108256237659907,
          -0.35667494393873245,
          -0.2231435513142097,
          -0.10536051565782628,
          0,
          0.09531017980432493,
          0.1823215567939546,
          0.26236426446749106,
          0.3364722366212129,
          0.4054651081081644
         ],
         "y": [
          -0.09857109937687152,
          -0.07536025196417524,
          -0.05401708721694239,
          -0.03311976073477596,
          -0.012650429283946881,
          0,
          2.1490831313641783e-09,
          -7.06104064132578e-11,
          -4.428957201083984e-11,
          -1.1932821398376346e-10,
          1.1179439590027103e-09
         ]
        },
        {
         "line": {
          "color": "rgba(50, 171, 96, 1.0)",
          "dash": "solid",
          "shape": "linear",
          "width": 1.3
         },
         "mode": "lines",
         "name": "Canned tuna",
         "text": "",
         "type": "scatter",
         "x": [
          -0.6931471805599453,
          -0.5108256237659907,
          -0.35667494393873245,
          -0.2231435513142097,
          -0.10536051565782628,
          0,
          0.09531017980432493,
          0.1823215567939546,
          0.26236426446749106,
          0.3364722366212129,
          0.4054651081081644
         ],
         "y": [
          -0.026123457466489263,
          -0.01684275823709703,
          -0.011328230045249738,
          -0.007537782769509561,
          -0.0037618359417975825,
          0,
          0.0037054001924450974,
          0.007231878777176882,
          0.010745849867971636,
          0.014247264493808712,
          0.01773674275904712
         ]
        },
        {
         "line": {
          "color": "rgba(128, 0, 128, 1.0)",
          "dash": "solid",
          "shape": "linear",
          "width": 1.3
         },
         "mode": "lines",
         "name": "Chickpeas",
         "text": "",
         "type": "scatter",
         "x": [
          -0.6931471805599453,
          -0.5108256237659907,
          -0.35667494393873245,
          -0.2231435513142097,
          -0.10536051565782628,
          0,
          0.09531017980432493,
          0.1823215567939546,
          0.26236426446749106,
          0.3364722366212129,
          0.4054651081081644
         ],
         "y": [
          -0.061908395083406356,
          -0.04916835929289931,
          -0.03658858350261283,
          -0.02421906918219107,
          -0.012036215950298737,
          0,
          0.011893141442533879,
          0.02356559907796973,
          0.033970590551859796,
          0.03690879411282027,
          0.038372662788417326
         ]
        },
        {
         "line": {
          "color": "rgba(219, 64, 82, 1.0)",
          "dash": "solid",
          "shape": "linear",
          "width": 1.3
         },
         "mode": "lines",
         "name": "Eggs",
         "text": "",
         "type": "scatter",
         "x": [
          -0.6931471805599453,
          -0.5108256237659907,
          -0.35667494393873245,
          -0.2231435513142097,
          -0.10536051565782628,
          0,
          0.09531017980432493,
          0.1823215567939546,
          0.26236426446749106,
          0.3364722366212129,
          0.4054651081081644
         ],
         "y": [
          -0.00911016825092348,
          -0.0002638503503978517,
          6.04816873834487e-08,
          3.6403591245938983e-10,
          -9.11669628719726e-11,
          0,
          -1.0472156475864627e-10,
          1.1710392902493637e-07,
          -3.343469945405292e-11,
          -6.978528866129845e-11,
          -8.397438300630866e-11
         ]
        },
        {
         "line": {
          "color": "rgba(0, 128, 128, 1.0)",
          "dash": "solid",
          "shape": "linear",
          "width": 1.3
         },
         "mode": "lines",
         "name": "Feta",
         "text": "",
         "type": "scatter",
         "x": [
          -0.6931471805599453,
          -0.5108256237659907,
          -0.35667494393873245,
          -0.2231435513142097,
          -0.10536051565782628,
          0,
          0.09531017980432493,
          0.1823215567939546,
          0.26236426446749106,
          0.3364722366212129,
          0.4054651081081644
         ],
         "y": [
          -0.013815910878557103,
          2.0488100103254813e-10,
          -3.04317682169509e-11,
          1.0737073986359467e-07,
          1.0505264417237773e-07,
          0,
          2.9785294186674633e-09,
          4.261624096067057e-08,
          3.393063607801839e-11,
          1.215083589227181e-10,
          1.4390095723257575e-07
         ]
        },
        {
         "line": {
          "color": "rgba(255, 255, 51, 1.0)",
          "dash": "solid",
          "shape": "linear",
          "width": 1.3
         },
         "mode": "lines",
         "name": "Greek yogurt",
         "text": "",
         "type": "scatter",
         "x": [
          -0.6931471805599453,
          -0.5108256237659907,
          -0.35667494393873245,
          -0.2231435513142097,
          -0.10536051565782628,
          0,
          0.09531017980432493,
          0.1823215567939546,
          0.26236426446749106,
          0.3364722366212129,
          0.4054651081081644
         ],
         "y": [
          -0.1487069469694415,
          -0.11356522114558665,
          -0.08135476048753301,
          -0.050149508420162345,
          -0.022189972190945713,
          0,
          0.02154476657797558,
          0.042475352766615924,
          0.0629769440773123,
          0.07732161874309164,
          0.08429797473140199
         ]
        },
        {
         "line": {
          "color": "rgba(128, 128, 0, 1.0)",
          "dash": "solid",
          "shape": "linear",
          "width": 1.3
         },
         "mode": "lines",
         "name": "Milk",
         "text": "",
         "type": "scatter",
         "x": [
          -0.6931471805599453,
          -0.5108256237659907,
          -0.35667494393873245,
          -0.2231435513142097,
          -0.10536051565782628,
          0,
          0.09531017980432493,
          0.1823215567939546,
          0.26236426446749106,
          0.3364722366212129,
          0.4054651081081644
         ],
         "y": [
          -2.93315833644946e-05,
          1.7366696954309641e-09,
          1.1488543449240201e-10,
          -9.240086474165425e-11,
          -3.504008194771586e-11,
          0,
          2.865505803977083e-07,
          3.226758859588104e-10,
          6.704590214096709e-10,
          3.1168156939403955e-10,
          1.3798967651020045e-08
         ]
        },
        {
         "line": {
          "color": "rgba(251, 128, 114, 1.0)",
          "dash": "solid",
          "shape": "linear",
          "width": 1.3
         },
         "mode": "lines",
         "name": "Olive oil",
         "text": "",
         "type": "scatter",
         "x": [
          -0.6931471805599453,
          -0.5108256237659907,
          -0.35667494393873245,
          -0.2231435513142097,
          -0.10536051565782628,
          0,
          0.09531017980432493,
          0.1823215567939546,
          0.26236426446749106,
          0.3364722366212129,
          0.4054651081081644
         ],
         "y": [
          -0.016698660929944903,
          -0.0033313655667596273,
          -4.300547385599735e-05,
          -5.726197294125565e-12,
          -1.7403856134039098e-12,
          0,
          7.0661254625043065e-12,
          4.7187483029012125e-08,
          6.1604541278329495e-09,
          -4.0301095793901306e-13,
          2.1624541706203282e-07
         ]
        },
        {
         "line": {
          "color": "rgba(128, 177, 211, 1.0)",
          "dash": "solid",
          "shape": "linear",
          "width": 1.3
         },
         "mode": "lines",
         "name": "Oranges",
         "text": "",
         "type": "scatter",
         "x": [
          -0.6931471805599453,
          -0.5108256237659907,
          -0.35667494393873245,
          -0.2231435513142097,
          -0.10536051565782628,
          0,
          0.09531017980432493,
          0.1823215567939546,
          0.26236426446749106,
          0.3364722366212129,
          0.4054651081081644
         ],
         "y": [
          -0.0005845243381229536,
          -3.6831403672065345e-06,
          -3.218303401604945e-11,
          -1.8426815629083346e-11,
          -3.6615155352144367e-13,
          0,
          -8.83746409424872e-11,
          3.0141819030532254e-08,
          1.5856123068621832e-09,
          7.748468533163698e-11,
          -1.1238521225386071e-10
         ]
        },
        {
         "line": {
          "color": "rgba(128, 177, 211, 0.8999999999999999)",
          "dash": "solid",
          "shape": "linear",
          "width": 1.3
         },
         "mode": "lines",
         "name": "Rice",
         "text": "",
         "type": "scatter",
         "x": [
          -0.6931471805599453,
          -0.5108256237659907,
          -0.35667494393873245,
          -0.2231435513142097,
          -0.10536051565782628,
          0,
          0.09531017980432493,
          0.1823215567939546,
          0.26236426446749106,
          0.3364722366212129,
          0.4054651081081644
         ],
         "y": [
          -0.020660542407448943,
          -0.013056647813384207,
          -0.005510115458236962,
          -0.0004693204562857048,
          -0.0001204861271033049,
          0,
          -3.951083904574555e-11,
          -5.4600435285648416e-11,
          -6.151668064025484e-11,
          -6.511435835178044e-11,
          -6.7043814946404e-11
         ]
        },
        {
         "line": {
          "color": "rgba(255, 153, 51, 0.8999999999999999)",
          "dash": "solid",
          "shape": "linear",
          "width": 1.3
         },
         "mode": "lines",
         "name": "Spinach",
         "text": "",
         "type": "scatter",
         "x": [
          -0.6931471805599453,
          -0.5108256237659907,
          -0.35667494393873245,
          -0.2231435513142097,
          -0.10536051565782628,
          0,
          0.09531017980432493,
          0.1823215567939546,
          0.26236426446749106,
          0.3364722366212129,
          0.4054651081081644
         ],
         "y": [
          -0.21806491552007523,
          -0.16647300256780853,
          -0.11836560856995884,
          -0.07390822719612915,
          -0.031343412766606835,
          0,
          0.017804165406979548,
          0.02603904327703401,
          0.03296894080573167,
          0.039851403326438925,
          0.041423049388041394
         ]
        },
        {
         "line": {
          "color": "rgba(55, 128, 191, 0.8999999999999999)",
          "dash": "solid",
          "shape": "linear",
          "width": 1.3
         },
         "mode": "lines",
         "name": "Sweet potatoes",
         "text": "",
         "type": "scatter",
         "x": [
          -0.6931471805599453,
          -0.5108256237659907,
          -0.35667494393873245,
          -0.2231435513142097,
          -0.10536051565782628,
          0,
          0.09531017980432493,
          0.1823215567939546,
          0.26236426446749106,
          0.3364722366212129,
          0.4054651081081644
         ],
         "y": [
          -0.036926927510649375,
          -0.029431640416918318,
          -0.021992113313311225,
          -0.014607414920166024,
          -0.0072771023599416925,
          0,
          0.006810766083990421,
          0.007408235525183288,
          0.007408235612871706,
          0.007408319547190705,
          0.007408235660128016
         ]
        },
        {
         "line": {
          "color": "rgba(50, 171, 96, 0.8999999999999999)",
          "dash": "solid",
          "shape": "linear",
          "width": 1.3
         },
         "mode": "lines",
         "name": "Tomato ",
         "text": "",
         "type": "scatter",
         "x": [
          -0.6931471805599453,
          -0.5108256237659907,
          -0.35667494393873245,
          -0.2231435513142097,
          -0.10536051565782628,
          0,
          0.09531017980432493,
          0.1823215567939546,
          0.26236426446749106,
          0.3364722366212129,
          0.4054651081081644
         ],
         "y": [
          0,
          0,
          0,
          0,
          0,
          0,
          0,
          0,
          0,
          0,
          0
         ]
        },
        {
         "line": {
          "color": "rgba(128, 0, 128, 0.8999999999999999)",
          "dash": "solid",
          "shape": "linear",
          "width": 1.3
         },
         "mode": "lines",
         "name": "Whole Wheat Bread",
         "text": "",
         "type": "scatter",
         "x": [
          -0.6931471805599453,
          -0.5108256237659907,
          -0.35667494393873245,
          -0.2231435513142097,
          -0.10536051565782628,
          0,
          0.09531017980432493,
          0.1823215567939546,
          0.26236426446749106,
          0.3364722366212129,
          0.4054651081081644
         ],
         "y": [
          -0.10242757882145245,
          -0.07023595387342771,
          -0.044494583947341605,
          -0.022659463007804442,
          -0.010376669977701692,
          0,
          0.010270100128989412,
          0.020392072845783954,
          0.03035352815756433,
          0.03944074608172232,
          0.04729133800692077
         ]
        }
       ],
       "layout": {
        "legend": {
         "bgcolor": "#F5F6F9",
         "font": {
          "color": "#4D5663"
         }
        },
        "paper_bgcolor": "#F5F6F9",
        "plot_bgcolor": "#F5F6F9",
        "template": {
         "data": {
          "bar": [
           {
            "error_x": {
             "color": "#2a3f5f"
            },
            "error_y": {
             "color": "#2a3f5f"
            },
            "marker": {
             "line": {
              "color": "#E5ECF6",
              "width": 0.5
             },
             "pattern": {
              "fillmode": "overlay",
              "size": 10,
              "solidity": 0.2
             }
            },
            "type": "bar"
           }
          ],
          "barpolar": [
           {
            "marker": {
             "line": {
              "color": "#E5ECF6",
              "width": 0.5
             },
             "pattern": {
              "fillmode": "overlay",
              "size": 10,
              "solidity": 0.2
             }
            },
            "type": "barpolar"
           }
          ],
          "carpet": [
           {
            "aaxis": {
             "endlinecolor": "#2a3f5f",
             "gridcolor": "white",
             "linecolor": "white",
             "minorgridcolor": "white",
             "startlinecolor": "#2a3f5f"
            },
            "baxis": {
             "endlinecolor": "#2a3f5f",
             "gridcolor": "white",
             "linecolor": "white",
             "minorgridcolor": "white",
             "startlinecolor": "#2a3f5f"
            },
            "type": "carpet"
           }
          ],
          "choropleth": [
           {
            "colorbar": {
             "outlinewidth": 0,
             "ticks": ""
            },
            "type": "choropleth"
           }
          ],
          "contour": [
           {
            "colorbar": {
             "outlinewidth": 0,
             "ticks": ""
            },
            "colorscale": [
             [
              0,
              "#0d0887"
             ],
             [
              0.1111111111111111,
              "#46039f"
             ],
             [
              0.2222222222222222,
              "#7201a8"
             ],
             [
              0.3333333333333333,
              "#9c179e"
             ],
             [
              0.4444444444444444,
              "#bd3786"
             ],
             [
              0.5555555555555556,
              "#d8576b"
             ],
             [
              0.6666666666666666,
              "#ed7953"
             ],
             [
              0.7777777777777778,
              "#fb9f3a"
             ],
             [
              0.8888888888888888,
              "#fdca26"
             ],
             [
              1,
              "#f0f921"
             ]
            ],
            "type": "contour"
           }
          ],
          "contourcarpet": [
           {
            "colorbar": {
             "outlinewidth": 0,
             "ticks": ""
            },
            "type": "contourcarpet"
           }
          ],
          "heatmap": [
           {
            "colorbar": {
             "outlinewidth": 0,
             "ticks": ""
            },
            "colorscale": [
             [
              0,
              "#0d0887"
             ],
             [
              0.1111111111111111,
              "#46039f"
             ],
             [
              0.2222222222222222,
              "#7201a8"
             ],
             [
              0.3333333333333333,
              "#9c179e"
             ],
             [
              0.4444444444444444,
              "#bd3786"
             ],
             [
              0.5555555555555556,
              "#d8576b"
             ],
             [
              0.6666666666666666,
              "#ed7953"
             ],
             [
              0.7777777777777778,
              "#fb9f3a"
             ],
             [
              0.8888888888888888,
              "#fdca26"
             ],
             [
              1,
              "#f0f921"
             ]
            ],
            "type": "heatmap"
           }
          ],
          "heatmapgl": [
           {
            "colorbar": {
             "outlinewidth": 0,
             "ticks": ""
            },
            "colorscale": [
             [
              0,
              "#0d0887"
             ],
             [
              0.1111111111111111,
              "#46039f"
             ],
             [
              0.2222222222222222,
              "#7201a8"
             ],
             [
              0.3333333333333333,
              "#9c179e"
             ],
             [
              0.4444444444444444,
              "#bd3786"
             ],
             [
              0.5555555555555556,
              "#d8576b"
             ],
             [
              0.6666666666666666,
              "#ed7953"
             ],
             [
              0.7777777777777778,
              "#fb9f3a"
             ],
             [
              0.8888888888888888,
              "#fdca26"
             ],
             [
              1,
              "#f0f921"
             ]
            ],
            "type": "heatmapgl"
           }
          ],
          "histogram": [
           {
            "marker": {
             "pattern": {
              "fillmode": "overlay",
              "size": 10,
              "solidity": 0.2
             }
            },
            "type": "histogram"
           }
          ],
          "histogram2d": [
           {
            "colorbar": {
             "outlinewidth": 0,
             "ticks": ""
            },
            "colorscale": [
             [
              0,
              "#0d0887"
             ],
             [
              0.1111111111111111,
              "#46039f"
             ],
             [
              0.2222222222222222,
              "#7201a8"
             ],
             [
              0.3333333333333333,
              "#9c179e"
             ],
             [
              0.4444444444444444,
              "#bd3786"
             ],
             [
              0.5555555555555556,
              "#d8576b"
             ],
             [
              0.6666666666666666,
              "#ed7953"
             ],
             [
              0.7777777777777778,
              "#fb9f3a"
             ],
             [
              0.8888888888888888,
              "#fdca26"
             ],
             [
              1,
              "#f0f921"
             ]
            ],
            "type": "histogram2d"
           }
          ],
          "histogram2dcontour": [
           {
            "colorbar": {
             "outlinewidth": 0,
             "ticks": ""
            },
            "colorscale": [
             [
              0,
              "#0d0887"
             ],
             [
              0.1111111111111111,
              "#46039f"
             ],
             [
              0.2222222222222222,
              "#7201a8"
             ],
             [
              0.3333333333333333,
              "#9c179e"
             ],
             [
              0.4444444444444444,
              "#bd3786"
             ],
             [
              0.5555555555555556,
              "#d8576b"
             ],
             [
              0.6666666666666666,
              "#ed7953"
             ],
             [
              0.7777777777777778,
              "#fb9f3a"
             ],
             [
              0.8888888888888888,
              "#fdca26"
             ],
             [
              1,
              "#f0f921"
             ]
            ],
            "type": "histogram2dcontour"
           }
          ],
          "mesh3d": [
           {
            "colorbar": {
             "outlinewidth": 0,
             "ticks": ""
            },
            "type": "mesh3d"
           }
          ],
          "parcoords": [
           {
            "line": {
             "colorbar": {
              "outlinewidth": 0,
              "ticks": ""
             }
            },
            "type": "parcoords"
           }
          ],
          "pie": [
           {
            "automargin": true,
            "type": "pie"
           }
          ],
          "scatter": [
           {
            "marker": {
             "colorbar": {
              "outlinewidth": 0,
              "ticks": ""
             }
            },
            "type": "scatter"
           }
          ],
          "scatter3d": [
           {
            "line": {
             "colorbar": {
              "outlinewidth": 0,
              "ticks": ""
             }
            },
            "marker": {
             "colorbar": {
              "outlinewidth": 0,
              "ticks": ""
             }
            },
            "type": "scatter3d"
           }
          ],
          "scattercarpet": [
           {
            "marker": {
             "colorbar": {
              "outlinewidth": 0,
              "ticks": ""
             }
            },
            "type": "scattercarpet"
           }
          ],
          "scattergeo": [
           {
            "marker": {
             "colorbar": {
              "outlinewidth": 0,
              "ticks": ""
             }
            },
            "type": "scattergeo"
           }
          ],
          "scattergl": [
           {
            "marker": {
             "colorbar": {
              "outlinewidth": 0,
              "ticks": ""
             }
            },
            "type": "scattergl"
           }
          ],
          "scattermapbox": [
           {
            "marker": {
             "colorbar": {
              "outlinewidth": 0,
              "ticks": ""
             }
            },
            "type": "scattermapbox"
           }
          ],
          "scatterpolar": [
           {
            "marker": {
             "colorbar": {
              "outlinewidth": 0,
              "ticks": ""
             }
            },
            "type": "scatterpolar"
           }
          ],
          "scatterpolargl": [
           {
            "marker": {
             "colorbar": {
              "outlinewidth": 0,
              "ticks": ""
             }
            },
            "type": "scatterpolargl"
           }
          ],
          "scatterternary": [
           {
            "marker": {
             "colorbar": {
              "outlinewidth": 0,
              "ticks": ""
             }
            },
            "type": "scatterternary"
           }
          ],
          "surface": [
           {
            "colorbar": {
             "outlinewidth": 0,
             "ticks": ""
            },
            "colorscale": [
             [
              0,
              "#0d0887"
             ],
             [
              0.1111111111111111,
              "#46039f"
             ],
             [
              0.2222222222222222,
              "#7201a8"
             ],
             [
              0.3333333333333333,
              "#9c179e"
             ],
             [
              0.4444444444444444,
              "#bd3786"
             ],
             [
              0.5555555555555556,
              "#d8576b"
             ],
             [
              0.6666666666666666,
              "#ed7953"
             ],
             [
              0.7777777777777778,
              "#fb9f3a"
             ],
             [
              0.8888888888888888,
              "#fdca26"
             ],
             [
              1,
              "#f0f921"
             ]
            ],
            "type": "surface"
           }
          ],
          "table": [
           {
            "cells": {
             "fill": {
              "color": "#EBF0F8"
             },
             "line": {
              "color": "white"
             }
            },
            "header": {
             "fill": {
              "color": "#C8D4E3"
             },
             "line": {
              "color": "white"
             }
            },
            "type": "table"
           }
          ]
         },
         "layout": {
          "annotationdefaults": {
           "arrowcolor": "#2a3f5f",
           "arrowhead": 0,
           "arrowwidth": 1
          },
          "autotypenumbers": "strict",
          "coloraxis": {
           "colorbar": {
            "outlinewidth": 0,
            "ticks": ""
           }
          },
          "colorscale": {
           "diverging": [
            [
             0,
             "#8e0152"
            ],
            [
             0.1,
             "#c51b7d"
            ],
            [
             0.2,
             "#de77ae"
            ],
            [
             0.3,
             "#f1b6da"
            ],
            [
             0.4,
             "#fde0ef"
            ],
            [
             0.5,
             "#f7f7f7"
            ],
            [
             0.6,
             "#e6f5d0"
            ],
            [
             0.7,
             "#b8e186"
            ],
            [
             0.8,
             "#7fbc41"
            ],
            [
             0.9,
             "#4d9221"
            ],
            [
             1,
             "#276419"
            ]
           ],
           "sequential": [
            [
             0,
             "#0d0887"
            ],
            [
             0.1111111111111111,
             "#46039f"
            ],
            [
             0.2222222222222222,
             "#7201a8"
            ],
            [
             0.3333333333333333,
             "#9c179e"
            ],
            [
             0.4444444444444444,
             "#bd3786"
            ],
            [
             0.5555555555555556,
             "#d8576b"
            ],
            [
             0.6666666666666666,
             "#ed7953"
            ],
            [
             0.7777777777777778,
             "#fb9f3a"
            ],
            [
             0.8888888888888888,
             "#fdca26"
            ],
            [
             1,
             "#f0f921"
            ]
           ],
           "sequentialminus": [
            [
             0,
             "#0d0887"
            ],
            [
             0.1111111111111111,
             "#46039f"
            ],
            [
             0.2222222222222222,
             "#7201a8"
            ],
            [
             0.3333333333333333,
             "#9c179e"
            ],
            [
             0.4444444444444444,
             "#bd3786"
            ],
            [
             0.5555555555555556,
             "#d8576b"
            ],
            [
             0.6666666666666666,
             "#ed7953"
            ],
            [
             0.7777777777777778,
             "#fb9f3a"
            ],
            [
             0.8888888888888888,
             "#fdca26"
            ],
            [
             1,
             "#f0f921"
            ]
           ]
          },
          "colorway": [
           "#636efa",
           "#EF553B",
           "#00cc96",
           "#ab63fa",
           "#FFA15A",
           "#19d3f3",
           "#FF6692",
           "#B6E880",
           "#FF97FF",
           "#FECB52"
          ],
          "font": {
           "color": "#2a3f5f"
          },
          "geo": {
           "bgcolor": "white",
           "lakecolor": "white",
           "landcolor": "#E5ECF6",
           "showlakes": true,
           "showland": true,
           "subunitcolor": "white"
          },
          "hoverlabel": {
           "align": "left"
          },
          "hovermode": "closest",
          "mapbox": {
           "style": "light"
          },
          "paper_bgcolor": "white",
          "plot_bgcolor": "#E5ECF6",
          "polar": {
           "angularaxis": {
            "gridcolor": "white",
            "linecolor": "white",
            "ticks": ""
           },
           "bgcolor": "#E5ECF6",
           "radialaxis": {
            "gridcolor": "white",
            "linecolor": "white",
            "ticks": ""
           }
          },
          "scene": {
           "xaxis": {
            "backgroundcolor": "#E5ECF6",
            "gridcolor": "white",
            "gridwidth": 2,
            "linecolor": "white",
            "showbackground": true,
            "ticks": "",
            "zerolinecolor": "white"
           },
           "yaxis": {
            "backgroundcolor": "#E5ECF6",
            "gridcolor": "white",
            "gridwidth": 2,
            "linecolor": "white",
            "showbackground": true,
            "ticks": "",
            "zerolinecolor": "white"
           },
           "zaxis": {
            "backgroundcolor": "#E5ECF6",
            "gridcolor": "white",
            "gridwidth": 2,
            "linecolor": "white",
            "showbackground": true,
            "ticks": "",
            "zerolinecolor": "white"
           }
          },
          "shapedefaults": {
           "line": {
            "color": "#2a3f5f"
           }
          },
          "ternary": {
           "aaxis": {
            "gridcolor": "white",
            "linecolor": "white",
            "ticks": ""
           },
           "baxis": {
            "gridcolor": "white",
            "linecolor": "white",
            "ticks": ""
           },
           "bgcolor": "#E5ECF6",
           "caxis": {
            "gridcolor": "white",
            "linecolor": "white",
            "ticks": ""
           }
          },
          "title": {
           "x": 0.05
          },
          "xaxis": {
           "automargin": true,
           "gridcolor": "white",
           "linecolor": "white",
           "ticks": "",
           "title": {
            "standoff": 15
           },
           "zerolinecolor": "white",
           "zerolinewidth": 2
          },
          "yaxis": {
           "automargin": true,
           "gridcolor": "white",
           "linecolor": "white",
           "ticks": "",
           "title": {
            "standoff": 15
           },
           "zerolinecolor": "white",
           "zerolinewidth": 2
          }
         }
        },
        "title": {
         "font": {
          "color": "#4D5663"
         }
        },
        "xaxis": {
         "gridcolor": "#E1E5ED",
         "showgrid": true,
         "tickfont": {
          "color": "#4D5663"
         },
         "title": {
          "font": {
           "color": "#4D5663"
          },
          "text": "change in log price"
         },
         "zerolinecolor": "#E1E5ED"
        },
        "yaxis": {
         "gridcolor": "#E1E5ED",
         "showgrid": true,
         "tickfont": {
          "color": "#4D5663"
         },
         "title": {
          "font": {
           "color": "#4D5663"
          },
          "text": "change in log cost"
         },
         "zerolinecolor": "#E1E5ED"
        }
       }
      },
      "text/html": [
       "<div>                            <div id=\"fb52bd67-d414-46d8-a308-3798c7abe1db\" class=\"plotly-graph-div\" style=\"height:525px; width:100%;\"></div>            <script type=\"text/javascript\">                require([\"plotly\"], function(Plotly) {                    window.PLOTLYENV=window.PLOTLYENV || {};\n",
       "                    window.PLOTLYENV.BASE_URL='https://plot.ly';                                    if (document.getElementById(\"fb52bd67-d414-46d8-a308-3798c7abe1db\")) {                    Plotly.newPlot(                        \"fb52bd67-d414-46d8-a308-3798c7abe1db\",                        [{\"line\":{\"color\":\"rgba(255, 153, 51, 1.0)\",\"dash\":\"solid\",\"shape\":\"linear\",\"width\":1.3},\"mode\":\"lines\",\"name\":\"Avocado\",\"text\":\"\",\"type\":\"scatter\",\"x\":[-0.6931471805599453,-0.5108256237659907,-0.35667494393873245,-0.2231435513142097,-0.10536051565782628,0.0,0.09531017980432493,0.1823215567939546,0.26236426446749106,0.3364722366212129,0.4054651081081644],\"y\":[-0.2344199747791351,-0.1659747630844529,-0.1019156893493967,-0.053673049656027864,-0.023326376626271142,0.0,0.009483374811311722,0.009483377514795777,0.009483414280707217,0.009483400748938128,0.009483363374468692]},{\"line\":{\"color\":\"rgba(55, 128, 191, 1.0)\",\"dash\":\"solid\",\"shape\":\"linear\",\"width\":1.3},\"mode\":\"lines\",\"name\":\"Broccoli\",\"text\":\"\",\"type\":\"scatter\",\"x\":[-0.6931471805599453,-0.5108256237659907,-0.35667494393873245,-0.2231435513142097,-0.10536051565782628,0.0,0.09531017980432493,0.1823215567939546,0.26236426446749106,0.3364722366212129,0.4054651081081644],\"y\":[-0.09857109937687152,-0.07536025196417524,-0.05401708721694239,-0.03311976073477596,-0.012650429283946881,0.0,2.1490831313641783e-09,-7.06104064132578e-11,-4.428957201083984e-11,-1.1932821398376346e-10,1.1179439590027103e-09]},{\"line\":{\"color\":\"rgba(50, 171, 96, 1.0)\",\"dash\":\"solid\",\"shape\":\"linear\",\"width\":1.3},\"mode\":\"lines\",\"name\":\"Canned tuna\",\"text\":\"\",\"type\":\"scatter\",\"x\":[-0.6931471805599453,-0.5108256237659907,-0.35667494393873245,-0.2231435513142097,-0.10536051565782628,0.0,0.09531017980432493,0.1823215567939546,0.26236426446749106,0.3364722366212129,0.4054651081081644],\"y\":[-0.026123457466489263,-0.01684275823709703,-0.011328230045249738,-0.007537782769509561,-0.0037618359417975825,0.0,0.0037054001924450974,0.007231878777176882,0.010745849867971636,0.014247264493808712,0.01773674275904712]},{\"line\":{\"color\":\"rgba(128, 0, 128, 1.0)\",\"dash\":\"solid\",\"shape\":\"linear\",\"width\":1.3},\"mode\":\"lines\",\"name\":\"Chickpeas\",\"text\":\"\",\"type\":\"scatter\",\"x\":[-0.6931471805599453,-0.5108256237659907,-0.35667494393873245,-0.2231435513142097,-0.10536051565782628,0.0,0.09531017980432493,0.1823215567939546,0.26236426446749106,0.3364722366212129,0.4054651081081644],\"y\":[-0.061908395083406356,-0.04916835929289931,-0.03658858350261283,-0.02421906918219107,-0.012036215950298737,0.0,0.011893141442533879,0.02356559907796973,0.033970590551859796,0.03690879411282027,0.038372662788417326]},{\"line\":{\"color\":\"rgba(219, 64, 82, 1.0)\",\"dash\":\"solid\",\"shape\":\"linear\",\"width\":1.3},\"mode\":\"lines\",\"name\":\"Eggs\",\"text\":\"\",\"type\":\"scatter\",\"x\":[-0.6931471805599453,-0.5108256237659907,-0.35667494393873245,-0.2231435513142097,-0.10536051565782628,0.0,0.09531017980432493,0.1823215567939546,0.26236426446749106,0.3364722366212129,0.4054651081081644],\"y\":[-0.00911016825092348,-0.0002638503503978517,6.04816873834487e-08,3.6403591245938983e-10,-9.11669628719726e-11,0.0,-1.0472156475864627e-10,1.1710392902493637e-07,-3.343469945405292e-11,-6.978528866129845e-11,-8.397438300630866e-11]},{\"line\":{\"color\":\"rgba(0, 128, 128, 1.0)\",\"dash\":\"solid\",\"shape\":\"linear\",\"width\":1.3},\"mode\":\"lines\",\"name\":\"Feta\",\"text\":\"\",\"type\":\"scatter\",\"x\":[-0.6931471805599453,-0.5108256237659907,-0.35667494393873245,-0.2231435513142097,-0.10536051565782628,0.0,0.09531017980432493,0.1823215567939546,0.26236426446749106,0.3364722366212129,0.4054651081081644],\"y\":[-0.013815910878557103,2.0488100103254813e-10,-3.04317682169509e-11,1.0737073986359467e-07,1.0505264417237773e-07,0.0,2.9785294186674633e-09,4.261624096067057e-08,3.393063607801839e-11,1.215083589227181e-10,1.4390095723257575e-07]},{\"line\":{\"color\":\"rgba(255, 255, 51, 1.0)\",\"dash\":\"solid\",\"shape\":\"linear\",\"width\":1.3},\"mode\":\"lines\",\"name\":\"Greek yogurt\",\"text\":\"\",\"type\":\"scatter\",\"x\":[-0.6931471805599453,-0.5108256237659907,-0.35667494393873245,-0.2231435513142097,-0.10536051565782628,0.0,0.09531017980432493,0.1823215567939546,0.26236426446749106,0.3364722366212129,0.4054651081081644],\"y\":[-0.1487069469694415,-0.11356522114558665,-0.08135476048753301,-0.050149508420162345,-0.022189972190945713,0.0,0.02154476657797558,0.042475352766615924,0.0629769440773123,0.07732161874309164,0.08429797473140199]},{\"line\":{\"color\":\"rgba(128, 128, 0, 1.0)\",\"dash\":\"solid\",\"shape\":\"linear\",\"width\":1.3},\"mode\":\"lines\",\"name\":\"Milk\",\"text\":\"\",\"type\":\"scatter\",\"x\":[-0.6931471805599453,-0.5108256237659907,-0.35667494393873245,-0.2231435513142097,-0.10536051565782628,0.0,0.09531017980432493,0.1823215567939546,0.26236426446749106,0.3364722366212129,0.4054651081081644],\"y\":[-2.93315833644946e-05,1.7366696954309641e-09,1.1488543449240201e-10,-9.240086474165425e-11,-3.504008194771586e-11,0.0,2.865505803977083e-07,3.226758859588104e-10,6.704590214096709e-10,3.1168156939403955e-10,1.3798967651020045e-08]},{\"line\":{\"color\":\"rgba(251, 128, 114, 1.0)\",\"dash\":\"solid\",\"shape\":\"linear\",\"width\":1.3},\"mode\":\"lines\",\"name\":\"Olive oil\",\"text\":\"\",\"type\":\"scatter\",\"x\":[-0.6931471805599453,-0.5108256237659907,-0.35667494393873245,-0.2231435513142097,-0.10536051565782628,0.0,0.09531017980432493,0.1823215567939546,0.26236426446749106,0.3364722366212129,0.4054651081081644],\"y\":[-0.016698660929944903,-0.0033313655667596273,-4.300547385599735e-05,-5.726197294125565e-12,-1.7403856134039098e-12,0.0,7.0661254625043065e-12,4.7187483029012125e-08,6.1604541278329495e-09,-4.0301095793901306e-13,2.1624541706203282e-07]},{\"line\":{\"color\":\"rgba(128, 177, 211, 1.0)\",\"dash\":\"solid\",\"shape\":\"linear\",\"width\":1.3},\"mode\":\"lines\",\"name\":\"Oranges\",\"text\":\"\",\"type\":\"scatter\",\"x\":[-0.6931471805599453,-0.5108256237659907,-0.35667494393873245,-0.2231435513142097,-0.10536051565782628,0.0,0.09531017980432493,0.1823215567939546,0.26236426446749106,0.3364722366212129,0.4054651081081644],\"y\":[-0.0005845243381229536,-3.6831403672065345e-06,-3.218303401604945e-11,-1.8426815629083346e-11,-3.6615155352144367e-13,0.0,-8.83746409424872e-11,3.0141819030532254e-08,1.5856123068621832e-09,7.748468533163698e-11,-1.1238521225386071e-10]},{\"line\":{\"color\":\"rgba(128, 177, 211, 0.8999999999999999)\",\"dash\":\"solid\",\"shape\":\"linear\",\"width\":1.3},\"mode\":\"lines\",\"name\":\"Rice\",\"text\":\"\",\"type\":\"scatter\",\"x\":[-0.6931471805599453,-0.5108256237659907,-0.35667494393873245,-0.2231435513142097,-0.10536051565782628,0.0,0.09531017980432493,0.1823215567939546,0.26236426446749106,0.3364722366212129,0.4054651081081644],\"y\":[-0.020660542407448943,-0.013056647813384207,-0.005510115458236962,-0.0004693204562857048,-0.0001204861271033049,0.0,-3.951083904574555e-11,-5.4600435285648416e-11,-6.151668064025484e-11,-6.511435835178044e-11,-6.7043814946404e-11]},{\"line\":{\"color\":\"rgba(255, 153, 51, 0.8999999999999999)\",\"dash\":\"solid\",\"shape\":\"linear\",\"width\":1.3},\"mode\":\"lines\",\"name\":\"Spinach\",\"text\":\"\",\"type\":\"scatter\",\"x\":[-0.6931471805599453,-0.5108256237659907,-0.35667494393873245,-0.2231435513142097,-0.10536051565782628,0.0,0.09531017980432493,0.1823215567939546,0.26236426446749106,0.3364722366212129,0.4054651081081644],\"y\":[-0.21806491552007523,-0.16647300256780853,-0.11836560856995884,-0.07390822719612915,-0.031343412766606835,0.0,0.017804165406979548,0.02603904327703401,0.03296894080573167,0.039851403326438925,0.041423049388041394]},{\"line\":{\"color\":\"rgba(55, 128, 191, 0.8999999999999999)\",\"dash\":\"solid\",\"shape\":\"linear\",\"width\":1.3},\"mode\":\"lines\",\"name\":\"Sweet potatoes\",\"text\":\"\",\"type\":\"scatter\",\"x\":[-0.6931471805599453,-0.5108256237659907,-0.35667494393873245,-0.2231435513142097,-0.10536051565782628,0.0,0.09531017980432493,0.1823215567939546,0.26236426446749106,0.3364722366212129,0.4054651081081644],\"y\":[-0.036926927510649375,-0.029431640416918318,-0.021992113313311225,-0.014607414920166024,-0.0072771023599416925,0.0,0.006810766083990421,0.007408235525183288,0.007408235612871706,0.007408319547190705,0.007408235660128016]},{\"line\":{\"color\":\"rgba(50, 171, 96, 0.8999999999999999)\",\"dash\":\"solid\",\"shape\":\"linear\",\"width\":1.3},\"mode\":\"lines\",\"name\":\"Tomato \",\"text\":\"\",\"type\":\"scatter\",\"x\":[-0.6931471805599453,-0.5108256237659907,-0.35667494393873245,-0.2231435513142097,-0.10536051565782628,0.0,0.09531017980432493,0.1823215567939546,0.26236426446749106,0.3364722366212129,0.4054651081081644],\"y\":[0.0,0.0,0.0,0.0,0.0,0.0,0.0,0.0,0.0,0.0,0.0]},{\"line\":{\"color\":\"rgba(128, 0, 128, 0.8999999999999999)\",\"dash\":\"solid\",\"shape\":\"linear\",\"width\":1.3},\"mode\":\"lines\",\"name\":\"Whole Wheat Bread\",\"text\":\"\",\"type\":\"scatter\",\"x\":[-0.6931471805599453,-0.5108256237659907,-0.35667494393873245,-0.2231435513142097,-0.10536051565782628,0.0,0.09531017980432493,0.1823215567939546,0.26236426446749106,0.3364722366212129,0.4054651081081644],\"y\":[-0.10242757882145245,-0.07023595387342771,-0.044494583947341605,-0.022659463007804442,-0.010376669977701692,0.0,0.010270100128989412,0.020392072845783954,0.03035352815756433,0.03944074608172232,0.04729133800692077]}],                        {\"legend\":{\"bgcolor\":\"#F5F6F9\",\"font\":{\"color\":\"#4D5663\"}},\"paper_bgcolor\":\"#F5F6F9\",\"plot_bgcolor\":\"#F5F6F9\",\"template\":{\"data\":{\"bar\":[{\"error_x\":{\"color\":\"#2a3f5f\"},\"error_y\":{\"color\":\"#2a3f5f\"},\"marker\":{\"line\":{\"color\":\"#E5ECF6\",\"width\":0.5},\"pattern\":{\"fillmode\":\"overlay\",\"size\":10,\"solidity\":0.2}},\"type\":\"bar\"}],\"barpolar\":[{\"marker\":{\"line\":{\"color\":\"#E5ECF6\",\"width\":0.5},\"pattern\":{\"fillmode\":\"overlay\",\"size\":10,\"solidity\":0.2}},\"type\":\"barpolar\"}],\"carpet\":[{\"aaxis\":{\"endlinecolor\":\"#2a3f5f\",\"gridcolor\":\"white\",\"linecolor\":\"white\",\"minorgridcolor\":\"white\",\"startlinecolor\":\"#2a3f5f\"},\"baxis\":{\"endlinecolor\":\"#2a3f5f\",\"gridcolor\":\"white\",\"linecolor\":\"white\",\"minorgridcolor\":\"white\",\"startlinecolor\":\"#2a3f5f\"},\"type\":\"carpet\"}],\"choropleth\":[{\"colorbar\":{\"outlinewidth\":0,\"ticks\":\"\"},\"type\":\"choropleth\"}],\"contour\":[{\"colorbar\":{\"outlinewidth\":0,\"ticks\":\"\"},\"colorscale\":[[0.0,\"#0d0887\"],[0.1111111111111111,\"#46039f\"],[0.2222222222222222,\"#7201a8\"],[0.3333333333333333,\"#9c179e\"],[0.4444444444444444,\"#bd3786\"],[0.5555555555555556,\"#d8576b\"],[0.6666666666666666,\"#ed7953\"],[0.7777777777777778,\"#fb9f3a\"],[0.8888888888888888,\"#fdca26\"],[1.0,\"#f0f921\"]],\"type\":\"contour\"}],\"contourcarpet\":[{\"colorbar\":{\"outlinewidth\":0,\"ticks\":\"\"},\"type\":\"contourcarpet\"}],\"heatmap\":[{\"colorbar\":{\"outlinewidth\":0,\"ticks\":\"\"},\"colorscale\":[[0.0,\"#0d0887\"],[0.1111111111111111,\"#46039f\"],[0.2222222222222222,\"#7201a8\"],[0.3333333333333333,\"#9c179e\"],[0.4444444444444444,\"#bd3786\"],[0.5555555555555556,\"#d8576b\"],[0.6666666666666666,\"#ed7953\"],[0.7777777777777778,\"#fb9f3a\"],[0.8888888888888888,\"#fdca26\"],[1.0,\"#f0f921\"]],\"type\":\"heatmap\"}],\"heatmapgl\":[{\"colorbar\":{\"outlinewidth\":0,\"ticks\":\"\"},\"colorscale\":[[0.0,\"#0d0887\"],[0.1111111111111111,\"#46039f\"],[0.2222222222222222,\"#7201a8\"],[0.3333333333333333,\"#9c179e\"],[0.4444444444444444,\"#bd3786\"],[0.5555555555555556,\"#d8576b\"],[0.6666666666666666,\"#ed7953\"],[0.7777777777777778,\"#fb9f3a\"],[0.8888888888888888,\"#fdca26\"],[1.0,\"#f0f921\"]],\"type\":\"heatmapgl\"}],\"histogram\":[{\"marker\":{\"pattern\":{\"fillmode\":\"overlay\",\"size\":10,\"solidity\":0.2}},\"type\":\"histogram\"}],\"histogram2d\":[{\"colorbar\":{\"outlinewidth\":0,\"ticks\":\"\"},\"colorscale\":[[0.0,\"#0d0887\"],[0.1111111111111111,\"#46039f\"],[0.2222222222222222,\"#7201a8\"],[0.3333333333333333,\"#9c179e\"],[0.4444444444444444,\"#bd3786\"],[0.5555555555555556,\"#d8576b\"],[0.6666666666666666,\"#ed7953\"],[0.7777777777777778,\"#fb9f3a\"],[0.8888888888888888,\"#fdca26\"],[1.0,\"#f0f921\"]],\"type\":\"histogram2d\"}],\"histogram2dcontour\":[{\"colorbar\":{\"outlinewidth\":0,\"ticks\":\"\"},\"colorscale\":[[0.0,\"#0d0887\"],[0.1111111111111111,\"#46039f\"],[0.2222222222222222,\"#7201a8\"],[0.3333333333333333,\"#9c179e\"],[0.4444444444444444,\"#bd3786\"],[0.5555555555555556,\"#d8576b\"],[0.6666666666666666,\"#ed7953\"],[0.7777777777777778,\"#fb9f3a\"],[0.8888888888888888,\"#fdca26\"],[1.0,\"#f0f921\"]],\"type\":\"histogram2dcontour\"}],\"mesh3d\":[{\"colorbar\":{\"outlinewidth\":0,\"ticks\":\"\"},\"type\":\"mesh3d\"}],\"parcoords\":[{\"line\":{\"colorbar\":{\"outlinewidth\":0,\"ticks\":\"\"}},\"type\":\"parcoords\"}],\"pie\":[{\"automargin\":true,\"type\":\"pie\"}],\"scatter\":[{\"marker\":{\"colorbar\":{\"outlinewidth\":0,\"ticks\":\"\"}},\"type\":\"scatter\"}],\"scatter3d\":[{\"line\":{\"colorbar\":{\"outlinewidth\":0,\"ticks\":\"\"}},\"marker\":{\"colorbar\":{\"outlinewidth\":0,\"ticks\":\"\"}},\"type\":\"scatter3d\"}],\"scattercarpet\":[{\"marker\":{\"colorbar\":{\"outlinewidth\":0,\"ticks\":\"\"}},\"type\":\"scattercarpet\"}],\"scattergeo\":[{\"marker\":{\"colorbar\":{\"outlinewidth\":0,\"ticks\":\"\"}},\"type\":\"scattergeo\"}],\"scattergl\":[{\"marker\":{\"colorbar\":{\"outlinewidth\":0,\"ticks\":\"\"}},\"type\":\"scattergl\"}],\"scattermapbox\":[{\"marker\":{\"colorbar\":{\"outlinewidth\":0,\"ticks\":\"\"}},\"type\":\"scattermapbox\"}],\"scatterpolar\":[{\"marker\":{\"colorbar\":{\"outlinewidth\":0,\"ticks\":\"\"}},\"type\":\"scatterpolar\"}],\"scatterpolargl\":[{\"marker\":{\"colorbar\":{\"outlinewidth\":0,\"ticks\":\"\"}},\"type\":\"scatterpolargl\"}],\"scatterternary\":[{\"marker\":{\"colorbar\":{\"outlinewidth\":0,\"ticks\":\"\"}},\"type\":\"scatterternary\"}],\"surface\":[{\"colorbar\":{\"outlinewidth\":0,\"ticks\":\"\"},\"colorscale\":[[0.0,\"#0d0887\"],[0.1111111111111111,\"#46039f\"],[0.2222222222222222,\"#7201a8\"],[0.3333333333333333,\"#9c179e\"],[0.4444444444444444,\"#bd3786\"],[0.5555555555555556,\"#d8576b\"],[0.6666666666666666,\"#ed7953\"],[0.7777777777777778,\"#fb9f3a\"],[0.8888888888888888,\"#fdca26\"],[1.0,\"#f0f921\"]],\"type\":\"surface\"}],\"table\":[{\"cells\":{\"fill\":{\"color\":\"#EBF0F8\"},\"line\":{\"color\":\"white\"}},\"header\":{\"fill\":{\"color\":\"#C8D4E3\"},\"line\":{\"color\":\"white\"}},\"type\":\"table\"}]},\"layout\":{\"annotationdefaults\":{\"arrowcolor\":\"#2a3f5f\",\"arrowhead\":0,\"arrowwidth\":1},\"autotypenumbers\":\"strict\",\"coloraxis\":{\"colorbar\":{\"outlinewidth\":0,\"ticks\":\"\"}},\"colorscale\":{\"diverging\":[[0,\"#8e0152\"],[0.1,\"#c51b7d\"],[0.2,\"#de77ae\"],[0.3,\"#f1b6da\"],[0.4,\"#fde0ef\"],[0.5,\"#f7f7f7\"],[0.6,\"#e6f5d0\"],[0.7,\"#b8e186\"],[0.8,\"#7fbc41\"],[0.9,\"#4d9221\"],[1,\"#276419\"]],\"sequential\":[[0.0,\"#0d0887\"],[0.1111111111111111,\"#46039f\"],[0.2222222222222222,\"#7201a8\"],[0.3333333333333333,\"#9c179e\"],[0.4444444444444444,\"#bd3786\"],[0.5555555555555556,\"#d8576b\"],[0.6666666666666666,\"#ed7953\"],[0.7777777777777778,\"#fb9f3a\"],[0.8888888888888888,\"#fdca26\"],[1.0,\"#f0f921\"]],\"sequentialminus\":[[0.0,\"#0d0887\"],[0.1111111111111111,\"#46039f\"],[0.2222222222222222,\"#7201a8\"],[0.3333333333333333,\"#9c179e\"],[0.4444444444444444,\"#bd3786\"],[0.5555555555555556,\"#d8576b\"],[0.6666666666666666,\"#ed7953\"],[0.7777777777777778,\"#fb9f3a\"],[0.8888888888888888,\"#fdca26\"],[1.0,\"#f0f921\"]]},\"colorway\":[\"#636efa\",\"#EF553B\",\"#00cc96\",\"#ab63fa\",\"#FFA15A\",\"#19d3f3\",\"#FF6692\",\"#B6E880\",\"#FF97FF\",\"#FECB52\"],\"font\":{\"color\":\"#2a3f5f\"},\"geo\":{\"bgcolor\":\"white\",\"lakecolor\":\"white\",\"landcolor\":\"#E5ECF6\",\"showlakes\":true,\"showland\":true,\"subunitcolor\":\"white\"},\"hoverlabel\":{\"align\":\"left\"},\"hovermode\":\"closest\",\"mapbox\":{\"style\":\"light\"},\"paper_bgcolor\":\"white\",\"plot_bgcolor\":\"#E5ECF6\",\"polar\":{\"angularaxis\":{\"gridcolor\":\"white\",\"linecolor\":\"white\",\"ticks\":\"\"},\"bgcolor\":\"#E5ECF6\",\"radialaxis\":{\"gridcolor\":\"white\",\"linecolor\":\"white\",\"ticks\":\"\"}},\"scene\":{\"xaxis\":{\"backgroundcolor\":\"#E5ECF6\",\"gridcolor\":\"white\",\"gridwidth\":2,\"linecolor\":\"white\",\"showbackground\":true,\"ticks\":\"\",\"zerolinecolor\":\"white\"},\"yaxis\":{\"backgroundcolor\":\"#E5ECF6\",\"gridcolor\":\"white\",\"gridwidth\":2,\"linecolor\":\"white\",\"showbackground\":true,\"ticks\":\"\",\"zerolinecolor\":\"white\"},\"zaxis\":{\"backgroundcolor\":\"#E5ECF6\",\"gridcolor\":\"white\",\"gridwidth\":2,\"linecolor\":\"white\",\"showbackground\":true,\"ticks\":\"\",\"zerolinecolor\":\"white\"}},\"shapedefaults\":{\"line\":{\"color\":\"#2a3f5f\"}},\"ternary\":{\"aaxis\":{\"gridcolor\":\"white\",\"linecolor\":\"white\",\"ticks\":\"\"},\"baxis\":{\"gridcolor\":\"white\",\"linecolor\":\"white\",\"ticks\":\"\"},\"bgcolor\":\"#E5ECF6\",\"caxis\":{\"gridcolor\":\"white\",\"linecolor\":\"white\",\"ticks\":\"\"}},\"title\":{\"x\":0.05},\"xaxis\":{\"automargin\":true,\"gridcolor\":\"white\",\"linecolor\":\"white\",\"ticks\":\"\",\"title\":{\"standoff\":15},\"zerolinecolor\":\"white\",\"zerolinewidth\":2},\"yaxis\":{\"automargin\":true,\"gridcolor\":\"white\",\"linecolor\":\"white\",\"ticks\":\"\",\"title\":{\"standoff\":15},\"zerolinecolor\":\"white\",\"zerolinewidth\":2}}},\"title\":{\"font\":{\"color\":\"#4D5663\"}},\"xaxis\":{\"gridcolor\":\"#E1E5ED\",\"showgrid\":true,\"tickfont\":{\"color\":\"#4D5663\"},\"title\":{\"font\":{\"color\":\"#4D5663\"},\"text\":\"change in log price\"},\"zerolinecolor\":\"#E1E5ED\"},\"yaxis\":{\"gridcolor\":\"#E1E5ED\",\"showgrid\":true,\"tickfont\":{\"color\":\"#4D5663\"},\"title\":{\"font\":{\"color\":\"#4D5663\"},\"text\":\"change in log cost\"},\"zerolinecolor\":\"#E1E5ED\"}},                        {\"showLink\": true, \"linkText\": \"Export to plot.ly\", \"plotlyServerURL\": \"https://plot.ly\", \"responsive\": true}                    ).then(function(){\n",
       "                            \n",
       "var gd = document.getElementById('fb52bd67-d414-46d8-a308-3798c7abe1db');\n",
       "var x = new MutationObserver(function (mutations, observer) {{\n",
       "        var display = window.getComputedStyle(gd).display;\n",
       "        if (!display || display === 'none') {{\n",
       "            console.log([gd, 'removed!']);\n",
       "            Plotly.purge(gd);\n",
       "            observer.disconnect();\n",
       "        }}\n",
       "}});\n",
       "\n",
       "// Listen for the removal of the full notebook cells\n",
       "var notebookContainer = gd.closest('#notebook-container');\n",
       "if (notebookContainer) {{\n",
       "    x.observe(notebookContainer, {childList: true});\n",
       "}}\n",
       "\n",
       "// Listen for the clearing of the current output cell\n",
       "var outputEl = gd.closest('.output');\n",
       "if (outputEl) {{\n",
       "    x.observe(outputEl, {childList: true});\n",
       "}}\n",
       "\n",
       "                        })                };                });            </script>        </div>"
      ]
     },
     "metadata": {},
     "output_type": "display_data"
    }
   ],
   "source": [
    "import cufflinks as cf\n",
    "cf.go_offline()\n",
    "scale = [.5,.6,.7,.8,.9,1.,1.1,1.2,1.3,1.4,1.5]\n",
    "cost0 = solve_subsistence_problem(FoodNutrients,BerkBowlPrices,bminM22,bmaxM22,tol=1e-6).fun\n",
    "Pricesbb_response={}\n",
    "for s in scale:\n",
    "    cost = {}\n",
    "    for i,p in enumerate(BerkBowlPrices):\n",
    "        my_p = BerkBowlPrices.copy()\n",
    "        my_p[i] = p*s\n",
    "        result = solve_subsistence_problem(FoodNutrients,my_p,bminM22,bmaxM22,tol=1e-6)\n",
    "        cost[BerkBowlPrices.index[i]] = np.log(result.fun/cost0)\n",
    "    Pricesbb_response[np.log(s)] = cost\n",
    "Pricesbb_response = pd.DataFrame(Pricesbb_response).T\n",
    "Pricesbb_response.iplot(xTitle='change in log price',yTitle='change in log cost')"
   ]
  },
  {
   "cell_type": "markdown",
   "id": "8860638b",
   "metadata": {},
   "source": [
    "We do the same for Walmart prices and nutrients for a male age 22."
   ]
  },
  {
   "cell_type": "code",
   "execution_count": 45,
   "id": "9982f9bd",
   "metadata": {},
   "outputs": [
    {
     "data": {
      "text/html": [
       "        <script type=\"text/javascript\">\n",
       "        window.PlotlyConfig = {MathJaxConfig: 'local'};\n",
       "        if (window.MathJax) {MathJax.Hub.Config({SVG: {font: \"STIX-Web\"}});}\n",
       "        if (typeof require !== 'undefined') {\n",
       "        require.undef(\"plotly\");\n",
       "        requirejs.config({\n",
       "            paths: {\n",
       "                'plotly': ['https://cdn.plot.ly/plotly-2.3.1.min']\n",
       "            }\n",
       "        });\n",
       "        require(['plotly'], function(Plotly) {\n",
       "            window._Plotly = Plotly;\n",
       "        });\n",
       "        }\n",
       "        </script>\n",
       "        "
      ]
     },
     "metadata": {},
     "output_type": "display_data"
    },
    {
     "data": {
      "application/vnd.plotly.v1+json": {
       "config": {
        "linkText": "Export to plot.ly",
        "plotlyServerURL": "https://plot.ly",
        "showLink": true
       },
       "data": [
        {
         "line": {
          "color": "rgba(255, 153, 51, 1.0)",
          "dash": "solid",
          "shape": "linear",
          "width": 1.3
         },
         "mode": "lines",
         "name": "Avocado",
         "text": "",
         "type": "scatter",
         "x": [
          -0.6931471805599453,
          -0.5108256237659907,
          -0.35667494393873245,
          -0.2231435513142097,
          -0.10536051565782628,
          0,
          0.09531017980432493,
          0.1823215567939546,
          0.26236426446749106,
          0.3364722366212129,
          0.4054651081081644
         ],
         "y": [
          -0.22157404653918053,
          -0.16364053493101258,
          -0.10915892005068724,
          -0.06230275675023207,
          -0.01928027145940715,
          0,
          -2.9501223690519643e-10,
          -7.150380288123715e-11,
          1.0401178753036725e-08,
          1.2510725787889926e-10,
          6.396236186895162e-09
         ]
        },
        {
         "line": {
          "color": "rgba(55, 128, 191, 1.0)",
          "dash": "solid",
          "shape": "linear",
          "width": 1.3
         },
         "mode": "lines",
         "name": "Broccoli",
         "text": "",
         "type": "scatter",
         "x": [
          -0.6931471805599453,
          -0.5108256237659907,
          -0.35667494393873245,
          -0.2231435513142097,
          -0.10536051565782628,
          0,
          0.09531017980432493,
          0.1823215567939546,
          0.26236426446749106,
          0.3364722366212129,
          0.4054651081081644
         ],
         "y": [
          -0.1415296307891026,
          -0.10258285239038785,
          -0.06509623455632595,
          -0.0289642337498775,
          -0.0020673692117818623,
          0,
          9.212034426144537e-09,
          -2.5858559741255725e-10,
          -2.4968693782332024e-10,
          -2.454162429134374e-10,
          -2.43149611585809e-10
         ]
        },
        {
         "line": {
          "color": "rgba(50, 171, 96, 1.0)",
          "dash": "solid",
          "shape": "linear",
          "width": 1.3
         },
         "mode": "lines",
         "name": "Canned tuna",
         "text": "",
         "type": "scatter",
         "x": [
          -0.6931471805599453,
          -0.5108256237659907,
          -0.35667494393873245,
          -0.2231435513142097,
          -0.10536051565782628,
          0,
          0.09531017980432493,
          0.1823215567939546,
          0.26236426446749106,
          0.3364722366212129,
          0.4054651081081644
         ],
         "y": [
          0,
          0,
          0,
          0,
          0,
          0,
          0,
          0,
          0,
          0,
          0
         ]
        },
        {
         "line": {
          "color": "rgba(128, 0, 128, 1.0)",
          "dash": "solid",
          "shape": "linear",
          "width": 1.3
         },
         "mode": "lines",
         "name": "Chickpeas",
         "text": "",
         "type": "scatter",
         "x": [
          -0.6931471805599453,
          -0.5108256237659907,
          -0.35667494393873245,
          -0.2231435513142097,
          -0.10536051565782628,
          0,
          0.09531017980432493,
          0.1823215567939546,
          0.26236426446749106,
          0.3364722366212129,
          0.4054651081081644
         ],
         "y": [
          -0.0506997158657765,
          -0.040352048542619215,
          -0.030110361110051973,
          -0.019972499622458825,
          -0.00993638879420393,
          0,
          0.009838810848029546,
          0.019581399768167917,
          0.025922135293566764,
          0.030331016652007596,
          0.033162610310487436
         ]
        },
        {
         "line": {
          "color": "rgba(219, 64, 82, 1.0)",
          "dash": "solid",
          "shape": "linear",
          "width": 1.3
         },
         "mode": "lines",
         "name": "Eggs",
         "text": "",
         "type": "scatter",
         "x": [
          -0.6931471805599453,
          -0.5108256237659907,
          -0.35667494393873245,
          -0.2231435513142097,
          -0.10536051565782628,
          0,
          0.09531017980432493,
          0.1823215567939546,
          0.26236426446749106,
          0.3364722366212129,
          0.4054651081081644
         ],
         "y": [
          -1.0364709091046787e-11,
          2.7133406632260864e-11,
          3.503930479037084e-11,
          2.8093527503930188e-11,
          1.4882983734199322e-11,
          0,
          -1.2736811605488297e-11,
          -6.551315046032046e-12,
          2.1382895454278228e-13,
          7.400968726728831e-12,
          1.4894974142865096e-11
         ]
        },
        {
         "line": {
          "color": "rgba(0, 128, 128, 1.0)",
          "dash": "solid",
          "shape": "linear",
          "width": 1.3
         },
         "mode": "lines",
         "name": "Feta",
         "text": "",
         "type": "scatter",
         "x": [
          -0.6931471805599453,
          -0.5108256237659907,
          -0.35667494393873245,
          -0.2231435513142097,
          -0.10536051565782628,
          0,
          0.09531017980432493,
          0.1823215567939546,
          0.26236426446749106,
          0.3364722366212129,
          0.4054651081081644
         ],
         "y": [
          -0.06648149940873196,
          -0.044677680602470855,
          -0.023339150884157767,
          -0.006913549314549387,
          7.928964970000402e-08,
          0,
          -3.1006319738768577e-10,
          -3.307329965998721e-10,
          -3.0185998150082554e-10,
          -2.1491530779549515e-10,
          2.537325904906635e-11
         ]
        },
        {
         "line": {
          "color": "rgba(255, 255, 51, 1.0)",
          "dash": "solid",
          "shape": "linear",
          "width": 1.3
         },
         "mode": "lines",
         "name": "Greek yogurt",
         "text": "",
         "type": "scatter",
         "x": [
          -0.6931471805599453,
          -0.5108256237659907,
          -0.35667494393873245,
          -0.2231435513142097,
          -0.10536051565782628,
          0,
          0.09531017980432493,
          0.1823215567939546,
          0.26236426446749106,
          0.3364722366212129,
          0.4054651081081644
         ],
         "y": [
          -0.1722746127603259,
          -0.13536348218037067,
          -0.09976642311969397,
          -0.06539307877322023,
          -0.03216210274760442,
          0,
          0.03115985228993617,
          0.06017571264764768,
          0.08078979459698482,
          0.09682967068900465,
          0.11099477868213577
         ]
        },
        {
         "line": {
          "color": "rgba(128, 128, 0, 1.0)",
          "dash": "solid",
          "shape": "linear",
          "width": 1.3
         },
         "mode": "lines",
         "name": "Milk",
         "text": "",
         "type": "scatter",
         "x": [
          -0.6931471805599453,
          -0.5108256237659907,
          -0.35667494393873245,
          -0.2231435513142097,
          -0.10536051565782628,
          0,
          0.09531017980432493,
          0.1823215567939546,
          0.26236426446749106,
          0.3364722366212129,
          0.4054651081081644
         ],
         "y": [
          5.189404461568257e-11,
          3.696065675671797e-11,
          2.4785506979844533e-11,
          1.481481604048835e-11,
          6.646239114593951e-12,
          0,
          -5.896061416894201e-12,
          -1.067135269045148e-11,
          -1.4387935287733222e-11,
          -1.7175594280308522e-11,
          -1.9157009312393034e-11
         ]
        },
        {
         "line": {
          "color": "rgba(251, 128, 114, 1.0)",
          "dash": "solid",
          "shape": "linear",
          "width": 1.3
         },
         "mode": "lines",
         "name": "Olive oil",
         "text": "",
         "type": "scatter",
         "x": [
          -0.6931471805599453,
          -0.5108256237659907,
          -0.35667494393873245,
          -0.2231435513142097,
          -0.10536051565782628,
          0,
          0.09531017980432493,
          0.1823215567939546,
          0.26236426446749106,
          0.3364722366212129,
          0.4054651081081644
         ],
         "y": [
          -9.745537710207111e-12,
          -7.661427048362629e-12,
          -5.6515903068703294e-12,
          -3.7375658124075745e-12,
          -1.8399726187129647e-12,
          0,
          1.8141044222358603e-12,
          3.5991210012233556e-12,
          5.366374011813758e-12,
          7.126965684253333e-12,
          8.817835350743966e-12
         ]
        },
        {
         "line": {
          "color": "rgba(128, 177, 211, 1.0)",
          "dash": "solid",
          "shape": "linear",
          "width": 1.3
         },
         "mode": "lines",
         "name": "Oranges",
         "text": "",
         "type": "scatter",
         "x": [
          -0.6931471805599453,
          -0.5108256237659907,
          -0.35667494393873245,
          -0.2231435513142097,
          -0.10536051565782628,
          0,
          0.09531017980432493,
          0.1823215567939546,
          0.26236426446749106,
          0.3364722366212129,
          0.4054651081081644
         ],
         "y": [
          2.3102231236467453e-10,
          -2.1951329642912688e-12,
          -1.930221538346314e-10,
          -1.144180306121799e-10,
          -5.275324621717793e-11,
          0,
          -2.1072921186027205e-11,
          -2.41351383352388e-10,
          9.247331784921576e-10,
          1.5206842440368976e-09,
          1.8440320080438997e-07
         ]
        },
        {
         "line": {
          "color": "rgba(128, 177, 211, 0.8999999999999999)",
          "dash": "solid",
          "shape": "linear",
          "width": 1.3
         },
         "mode": "lines",
         "name": "Rice",
         "text": "",
         "type": "scatter",
         "x": [
          -0.6931471805599453,
          -0.5108256237659907,
          -0.35667494393873245,
          -0.2231435513142097,
          -0.10536051565782628,
          0,
          0.09531017980432493,
          0.1823215567939546,
          0.26236426446749106,
          0.3364722366212129,
          0.4054651081081644
         ],
         "y": [
          -0.023197172503280322,
          -0.01851453101496797,
          -0.013853659281753902,
          -0.009214417827850771,
          -0.004596595681857674,
          0,
          0.004575563189525412,
          0.009130288370409408,
          0.013664357818082444,
          0.01817796451183793,
          0.019160005203894645
         ]
        },
        {
         "line": {
          "color": "rgba(255, 153, 51, 0.8999999999999999)",
          "dash": "solid",
          "shape": "linear",
          "width": 1.3
         },
         "mode": "lines",
         "name": "Spinach",
         "text": "",
         "type": "scatter",
         "x": [
          -0.6931471805599453,
          -0.5108256237659907,
          -0.35667494393873245,
          -0.2231435513142097,
          -0.10536051565782628,
          0,
          0.09531017980432493,
          0.1823215567939546,
          0.26236426446749106,
          0.3364722366212129,
          0.4054651081081644
         ],
         "y": [
          -0.25607668055153643,
          -0.19934626062280844,
          -0.14566229265205008,
          -0.0947140092129364,
          -0.046236079798749816,
          0,
          0.032743805016344336,
          0.03911631227976396,
          0.04469800575756764,
          0.050248723698400166,
          0.055768804951761515
         ]
        },
        {
         "line": {
          "color": "rgba(55, 128, 191, 0.8999999999999999)",
          "dash": "solid",
          "shape": "linear",
          "width": 1.3
         },
         "mode": "lines",
         "name": "Sweet potatoes",
         "text": "",
         "type": "scatter",
         "x": [
          -0.6931471805599453,
          -0.5108256237659907,
          -0.35667494393873245,
          -0.2231435513142097,
          -0.10536051565782628,
          0,
          0.09531017980432493,
          0.1823215567939546,
          0.26236426446749106,
          0.3364722366212129,
          0.4054651081081644
         ],
         "y": [
          0,
          0,
          0,
          0,
          0,
          0,
          0,
          0,
          0,
          0,
          0
         ]
        },
        {
         "line": {
          "color": "rgba(50, 171, 96, 0.8999999999999999)",
          "dash": "solid",
          "shape": "linear",
          "width": 1.3
         },
         "mode": "lines",
         "name": "Tomato ",
         "text": "",
         "type": "scatter",
         "x": [
          -0.6931471805599453,
          -0.5108256237659907,
          -0.35667494393873245,
          -0.2231435513142097,
          -0.10536051565782628,
          0,
          0.09531017980432493,
          0.1823215567939546,
          0.26236426446749106,
          0.3364722366212129,
          0.4054651081081644
         ],
         "y": [
          0,
          0,
          0,
          0,
          0,
          0,
          0,
          0,
          0,
          0,
          0
         ]
        },
        {
         "line": {
          "color": "rgba(128, 0, 128, 0.8999999999999999)",
          "dash": "solid",
          "shape": "linear",
          "width": 1.3
         },
         "mode": "lines",
         "name": "Whole Wheat Bread",
         "text": "",
         "type": "scatter",
         "x": [
          -0.6931471805599453,
          -0.5108256237659907,
          -0.35667494393873245,
          -0.2231435513142097,
          -0.10536051565782628,
          0,
          0.09531017980432493,
          0.1823215567939546,
          0.26236426446749106,
          0.3364722366212129,
          0.4054651081081644
         ],
         "y": [
          -0.09568977471294367,
          -0.07102675586831739,
          -0.046957746561317806,
          -0.02495843403802066,
          -0.008730889059786681,
          0,
          0.00865539192244552,
          0.01723637216700516,
          0.02574440617102416,
          0.03418066868885164,
          0.04254654290868093
         ]
        }
       ],
       "layout": {
        "legend": {
         "bgcolor": "#F5F6F9",
         "font": {
          "color": "#4D5663"
         }
        },
        "paper_bgcolor": "#F5F6F9",
        "plot_bgcolor": "#F5F6F9",
        "template": {
         "data": {
          "bar": [
           {
            "error_x": {
             "color": "#2a3f5f"
            },
            "error_y": {
             "color": "#2a3f5f"
            },
            "marker": {
             "line": {
              "color": "#E5ECF6",
              "width": 0.5
             },
             "pattern": {
              "fillmode": "overlay",
              "size": 10,
              "solidity": 0.2
             }
            },
            "type": "bar"
           }
          ],
          "barpolar": [
           {
            "marker": {
             "line": {
              "color": "#E5ECF6",
              "width": 0.5
             },
             "pattern": {
              "fillmode": "overlay",
              "size": 10,
              "solidity": 0.2
             }
            },
            "type": "barpolar"
           }
          ],
          "carpet": [
           {
            "aaxis": {
             "endlinecolor": "#2a3f5f",
             "gridcolor": "white",
             "linecolor": "white",
             "minorgridcolor": "white",
             "startlinecolor": "#2a3f5f"
            },
            "baxis": {
             "endlinecolor": "#2a3f5f",
             "gridcolor": "white",
             "linecolor": "white",
             "minorgridcolor": "white",
             "startlinecolor": "#2a3f5f"
            },
            "type": "carpet"
           }
          ],
          "choropleth": [
           {
            "colorbar": {
             "outlinewidth": 0,
             "ticks": ""
            },
            "type": "choropleth"
           }
          ],
          "contour": [
           {
            "colorbar": {
             "outlinewidth": 0,
             "ticks": ""
            },
            "colorscale": [
             [
              0,
              "#0d0887"
             ],
             [
              0.1111111111111111,
              "#46039f"
             ],
             [
              0.2222222222222222,
              "#7201a8"
             ],
             [
              0.3333333333333333,
              "#9c179e"
             ],
             [
              0.4444444444444444,
              "#bd3786"
             ],
             [
              0.5555555555555556,
              "#d8576b"
             ],
             [
              0.6666666666666666,
              "#ed7953"
             ],
             [
              0.7777777777777778,
              "#fb9f3a"
             ],
             [
              0.8888888888888888,
              "#fdca26"
             ],
             [
              1,
              "#f0f921"
             ]
            ],
            "type": "contour"
           }
          ],
          "contourcarpet": [
           {
            "colorbar": {
             "outlinewidth": 0,
             "ticks": ""
            },
            "type": "contourcarpet"
           }
          ],
          "heatmap": [
           {
            "colorbar": {
             "outlinewidth": 0,
             "ticks": ""
            },
            "colorscale": [
             [
              0,
              "#0d0887"
             ],
             [
              0.1111111111111111,
              "#46039f"
             ],
             [
              0.2222222222222222,
              "#7201a8"
             ],
             [
              0.3333333333333333,
              "#9c179e"
             ],
             [
              0.4444444444444444,
              "#bd3786"
             ],
             [
              0.5555555555555556,
              "#d8576b"
             ],
             [
              0.6666666666666666,
              "#ed7953"
             ],
             [
              0.7777777777777778,
              "#fb9f3a"
             ],
             [
              0.8888888888888888,
              "#fdca26"
             ],
             [
              1,
              "#f0f921"
             ]
            ],
            "type": "heatmap"
           }
          ],
          "heatmapgl": [
           {
            "colorbar": {
             "outlinewidth": 0,
             "ticks": ""
            },
            "colorscale": [
             [
              0,
              "#0d0887"
             ],
             [
              0.1111111111111111,
              "#46039f"
             ],
             [
              0.2222222222222222,
              "#7201a8"
             ],
             [
              0.3333333333333333,
              "#9c179e"
             ],
             [
              0.4444444444444444,
              "#bd3786"
             ],
             [
              0.5555555555555556,
              "#d8576b"
             ],
             [
              0.6666666666666666,
              "#ed7953"
             ],
             [
              0.7777777777777778,
              "#fb9f3a"
             ],
             [
              0.8888888888888888,
              "#fdca26"
             ],
             [
              1,
              "#f0f921"
             ]
            ],
            "type": "heatmapgl"
           }
          ],
          "histogram": [
           {
            "marker": {
             "pattern": {
              "fillmode": "overlay",
              "size": 10,
              "solidity": 0.2
             }
            },
            "type": "histogram"
           }
          ],
          "histogram2d": [
           {
            "colorbar": {
             "outlinewidth": 0,
             "ticks": ""
            },
            "colorscale": [
             [
              0,
              "#0d0887"
             ],
             [
              0.1111111111111111,
              "#46039f"
             ],
             [
              0.2222222222222222,
              "#7201a8"
             ],
             [
              0.3333333333333333,
              "#9c179e"
             ],
             [
              0.4444444444444444,
              "#bd3786"
             ],
             [
              0.5555555555555556,
              "#d8576b"
             ],
             [
              0.6666666666666666,
              "#ed7953"
             ],
             [
              0.7777777777777778,
              "#fb9f3a"
             ],
             [
              0.8888888888888888,
              "#fdca26"
             ],
             [
              1,
              "#f0f921"
             ]
            ],
            "type": "histogram2d"
           }
          ],
          "histogram2dcontour": [
           {
            "colorbar": {
             "outlinewidth": 0,
             "ticks": ""
            },
            "colorscale": [
             [
              0,
              "#0d0887"
             ],
             [
              0.1111111111111111,
              "#46039f"
             ],
             [
              0.2222222222222222,
              "#7201a8"
             ],
             [
              0.3333333333333333,
              "#9c179e"
             ],
             [
              0.4444444444444444,
              "#bd3786"
             ],
             [
              0.5555555555555556,
              "#d8576b"
             ],
             [
              0.6666666666666666,
              "#ed7953"
             ],
             [
              0.7777777777777778,
              "#fb9f3a"
             ],
             [
              0.8888888888888888,
              "#fdca26"
             ],
             [
              1,
              "#f0f921"
             ]
            ],
            "type": "histogram2dcontour"
           }
          ],
          "mesh3d": [
           {
            "colorbar": {
             "outlinewidth": 0,
             "ticks": ""
            },
            "type": "mesh3d"
           }
          ],
          "parcoords": [
           {
            "line": {
             "colorbar": {
              "outlinewidth": 0,
              "ticks": ""
             }
            },
            "type": "parcoords"
           }
          ],
          "pie": [
           {
            "automargin": true,
            "type": "pie"
           }
          ],
          "scatter": [
           {
            "marker": {
             "colorbar": {
              "outlinewidth": 0,
              "ticks": ""
             }
            },
            "type": "scatter"
           }
          ],
          "scatter3d": [
           {
            "line": {
             "colorbar": {
              "outlinewidth": 0,
              "ticks": ""
             }
            },
            "marker": {
             "colorbar": {
              "outlinewidth": 0,
              "ticks": ""
             }
            },
            "type": "scatter3d"
           }
          ],
          "scattercarpet": [
           {
            "marker": {
             "colorbar": {
              "outlinewidth": 0,
              "ticks": ""
             }
            },
            "type": "scattercarpet"
           }
          ],
          "scattergeo": [
           {
            "marker": {
             "colorbar": {
              "outlinewidth": 0,
              "ticks": ""
             }
            },
            "type": "scattergeo"
           }
          ],
          "scattergl": [
           {
            "marker": {
             "colorbar": {
              "outlinewidth": 0,
              "ticks": ""
             }
            },
            "type": "scattergl"
           }
          ],
          "scattermapbox": [
           {
            "marker": {
             "colorbar": {
              "outlinewidth": 0,
              "ticks": ""
             }
            },
            "type": "scattermapbox"
           }
          ],
          "scatterpolar": [
           {
            "marker": {
             "colorbar": {
              "outlinewidth": 0,
              "ticks": ""
             }
            },
            "type": "scatterpolar"
           }
          ],
          "scatterpolargl": [
           {
            "marker": {
             "colorbar": {
              "outlinewidth": 0,
              "ticks": ""
             }
            },
            "type": "scatterpolargl"
           }
          ],
          "scatterternary": [
           {
            "marker": {
             "colorbar": {
              "outlinewidth": 0,
              "ticks": ""
             }
            },
            "type": "scatterternary"
           }
          ],
          "surface": [
           {
            "colorbar": {
             "outlinewidth": 0,
             "ticks": ""
            },
            "colorscale": [
             [
              0,
              "#0d0887"
             ],
             [
              0.1111111111111111,
              "#46039f"
             ],
             [
              0.2222222222222222,
              "#7201a8"
             ],
             [
              0.3333333333333333,
              "#9c179e"
             ],
             [
              0.4444444444444444,
              "#bd3786"
             ],
             [
              0.5555555555555556,
              "#d8576b"
             ],
             [
              0.6666666666666666,
              "#ed7953"
             ],
             [
              0.7777777777777778,
              "#fb9f3a"
             ],
             [
              0.8888888888888888,
              "#fdca26"
             ],
             [
              1,
              "#f0f921"
             ]
            ],
            "type": "surface"
           }
          ],
          "table": [
           {
            "cells": {
             "fill": {
              "color": "#EBF0F8"
             },
             "line": {
              "color": "white"
             }
            },
            "header": {
             "fill": {
              "color": "#C8D4E3"
             },
             "line": {
              "color": "white"
             }
            },
            "type": "table"
           }
          ]
         },
         "layout": {
          "annotationdefaults": {
           "arrowcolor": "#2a3f5f",
           "arrowhead": 0,
           "arrowwidth": 1
          },
          "autotypenumbers": "strict",
          "coloraxis": {
           "colorbar": {
            "outlinewidth": 0,
            "ticks": ""
           }
          },
          "colorscale": {
           "diverging": [
            [
             0,
             "#8e0152"
            ],
            [
             0.1,
             "#c51b7d"
            ],
            [
             0.2,
             "#de77ae"
            ],
            [
             0.3,
             "#f1b6da"
            ],
            [
             0.4,
             "#fde0ef"
            ],
            [
             0.5,
             "#f7f7f7"
            ],
            [
             0.6,
             "#e6f5d0"
            ],
            [
             0.7,
             "#b8e186"
            ],
            [
             0.8,
             "#7fbc41"
            ],
            [
             0.9,
             "#4d9221"
            ],
            [
             1,
             "#276419"
            ]
           ],
           "sequential": [
            [
             0,
             "#0d0887"
            ],
            [
             0.1111111111111111,
             "#46039f"
            ],
            [
             0.2222222222222222,
             "#7201a8"
            ],
            [
             0.3333333333333333,
             "#9c179e"
            ],
            [
             0.4444444444444444,
             "#bd3786"
            ],
            [
             0.5555555555555556,
             "#d8576b"
            ],
            [
             0.6666666666666666,
             "#ed7953"
            ],
            [
             0.7777777777777778,
             "#fb9f3a"
            ],
            [
             0.8888888888888888,
             "#fdca26"
            ],
            [
             1,
             "#f0f921"
            ]
           ],
           "sequentialminus": [
            [
             0,
             "#0d0887"
            ],
            [
             0.1111111111111111,
             "#46039f"
            ],
            [
             0.2222222222222222,
             "#7201a8"
            ],
            [
             0.3333333333333333,
             "#9c179e"
            ],
            [
             0.4444444444444444,
             "#bd3786"
            ],
            [
             0.5555555555555556,
             "#d8576b"
            ],
            [
             0.6666666666666666,
             "#ed7953"
            ],
            [
             0.7777777777777778,
             "#fb9f3a"
            ],
            [
             0.8888888888888888,
             "#fdca26"
            ],
            [
             1,
             "#f0f921"
            ]
           ]
          },
          "colorway": [
           "#636efa",
           "#EF553B",
           "#00cc96",
           "#ab63fa",
           "#FFA15A",
           "#19d3f3",
           "#FF6692",
           "#B6E880",
           "#FF97FF",
           "#FECB52"
          ],
          "font": {
           "color": "#2a3f5f"
          },
          "geo": {
           "bgcolor": "white",
           "lakecolor": "white",
           "landcolor": "#E5ECF6",
           "showlakes": true,
           "showland": true,
           "subunitcolor": "white"
          },
          "hoverlabel": {
           "align": "left"
          },
          "hovermode": "closest",
          "mapbox": {
           "style": "light"
          },
          "paper_bgcolor": "white",
          "plot_bgcolor": "#E5ECF6",
          "polar": {
           "angularaxis": {
            "gridcolor": "white",
            "linecolor": "white",
            "ticks": ""
           },
           "bgcolor": "#E5ECF6",
           "radialaxis": {
            "gridcolor": "white",
            "linecolor": "white",
            "ticks": ""
           }
          },
          "scene": {
           "xaxis": {
            "backgroundcolor": "#E5ECF6",
            "gridcolor": "white",
            "gridwidth": 2,
            "linecolor": "white",
            "showbackground": true,
            "ticks": "",
            "zerolinecolor": "white"
           },
           "yaxis": {
            "backgroundcolor": "#E5ECF6",
            "gridcolor": "white",
            "gridwidth": 2,
            "linecolor": "white",
            "showbackground": true,
            "ticks": "",
            "zerolinecolor": "white"
           },
           "zaxis": {
            "backgroundcolor": "#E5ECF6",
            "gridcolor": "white",
            "gridwidth": 2,
            "linecolor": "white",
            "showbackground": true,
            "ticks": "",
            "zerolinecolor": "white"
           }
          },
          "shapedefaults": {
           "line": {
            "color": "#2a3f5f"
           }
          },
          "ternary": {
           "aaxis": {
            "gridcolor": "white",
            "linecolor": "white",
            "ticks": ""
           },
           "baxis": {
            "gridcolor": "white",
            "linecolor": "white",
            "ticks": ""
           },
           "bgcolor": "#E5ECF6",
           "caxis": {
            "gridcolor": "white",
            "linecolor": "white",
            "ticks": ""
           }
          },
          "title": {
           "x": 0.05
          },
          "xaxis": {
           "automargin": true,
           "gridcolor": "white",
           "linecolor": "white",
           "ticks": "",
           "title": {
            "standoff": 15
           },
           "zerolinecolor": "white",
           "zerolinewidth": 2
          },
          "yaxis": {
           "automargin": true,
           "gridcolor": "white",
           "linecolor": "white",
           "ticks": "",
           "title": {
            "standoff": 15
           },
           "zerolinecolor": "white",
           "zerolinewidth": 2
          }
         }
        },
        "title": {
         "font": {
          "color": "#4D5663"
         }
        },
        "xaxis": {
         "gridcolor": "#E1E5ED",
         "showgrid": true,
         "tickfont": {
          "color": "#4D5663"
         },
         "title": {
          "font": {
           "color": "#4D5663"
          },
          "text": "change in log price"
         },
         "zerolinecolor": "#E1E5ED"
        },
        "yaxis": {
         "gridcolor": "#E1E5ED",
         "showgrid": true,
         "tickfont": {
          "color": "#4D5663"
         },
         "title": {
          "font": {
           "color": "#4D5663"
          },
          "text": "change in log cost"
         },
         "zerolinecolor": "#E1E5ED"
        }
       }
      },
      "text/html": [
       "<div>                            <div id=\"33f24ef8-5800-49eb-b45c-6e0ce3978c73\" class=\"plotly-graph-div\" style=\"height:525px; width:100%;\"></div>            <script type=\"text/javascript\">                require([\"plotly\"], function(Plotly) {                    window.PLOTLYENV=window.PLOTLYENV || {};\n",
       "                    window.PLOTLYENV.BASE_URL='https://plot.ly';                                    if (document.getElementById(\"33f24ef8-5800-49eb-b45c-6e0ce3978c73\")) {                    Plotly.newPlot(                        \"33f24ef8-5800-49eb-b45c-6e0ce3978c73\",                        [{\"line\":{\"color\":\"rgba(255, 153, 51, 1.0)\",\"dash\":\"solid\",\"shape\":\"linear\",\"width\":1.3},\"mode\":\"lines\",\"name\":\"Avocado\",\"text\":\"\",\"type\":\"scatter\",\"x\":[-0.6931471805599453,-0.5108256237659907,-0.35667494393873245,-0.2231435513142097,-0.10536051565782628,0.0,0.09531017980432493,0.1823215567939546,0.26236426446749106,0.3364722366212129,0.4054651081081644],\"y\":[-0.22157404653918053,-0.16364053493101258,-0.10915892005068724,-0.06230275675023207,-0.01928027145940715,0.0,-2.9501223690519643e-10,-7.150380288123715e-11,1.0401178753036725e-08,1.2510725787889926e-10,6.396236186895162e-09]},{\"line\":{\"color\":\"rgba(55, 128, 191, 1.0)\",\"dash\":\"solid\",\"shape\":\"linear\",\"width\":1.3},\"mode\":\"lines\",\"name\":\"Broccoli\",\"text\":\"\",\"type\":\"scatter\",\"x\":[-0.6931471805599453,-0.5108256237659907,-0.35667494393873245,-0.2231435513142097,-0.10536051565782628,0.0,0.09531017980432493,0.1823215567939546,0.26236426446749106,0.3364722366212129,0.4054651081081644],\"y\":[-0.1415296307891026,-0.10258285239038785,-0.06509623455632595,-0.0289642337498775,-0.0020673692117818623,0.0,9.212034426144537e-09,-2.5858559741255725e-10,-2.4968693782332024e-10,-2.454162429134374e-10,-2.43149611585809e-10]},{\"line\":{\"color\":\"rgba(50, 171, 96, 1.0)\",\"dash\":\"solid\",\"shape\":\"linear\",\"width\":1.3},\"mode\":\"lines\",\"name\":\"Canned tuna\",\"text\":\"\",\"type\":\"scatter\",\"x\":[-0.6931471805599453,-0.5108256237659907,-0.35667494393873245,-0.2231435513142097,-0.10536051565782628,0.0,0.09531017980432493,0.1823215567939546,0.26236426446749106,0.3364722366212129,0.4054651081081644],\"y\":[0.0,0.0,0.0,0.0,0.0,0.0,0.0,0.0,0.0,0.0,0.0]},{\"line\":{\"color\":\"rgba(128, 0, 128, 1.0)\",\"dash\":\"solid\",\"shape\":\"linear\",\"width\":1.3},\"mode\":\"lines\",\"name\":\"Chickpeas\",\"text\":\"\",\"type\":\"scatter\",\"x\":[-0.6931471805599453,-0.5108256237659907,-0.35667494393873245,-0.2231435513142097,-0.10536051565782628,0.0,0.09531017980432493,0.1823215567939546,0.26236426446749106,0.3364722366212129,0.4054651081081644],\"y\":[-0.0506997158657765,-0.040352048542619215,-0.030110361110051973,-0.019972499622458825,-0.00993638879420393,0.0,0.009838810848029546,0.019581399768167917,0.025922135293566764,0.030331016652007596,0.033162610310487436]},{\"line\":{\"color\":\"rgba(219, 64, 82, 1.0)\",\"dash\":\"solid\",\"shape\":\"linear\",\"width\":1.3},\"mode\":\"lines\",\"name\":\"Eggs\",\"text\":\"\",\"type\":\"scatter\",\"x\":[-0.6931471805599453,-0.5108256237659907,-0.35667494393873245,-0.2231435513142097,-0.10536051565782628,0.0,0.09531017980432493,0.1823215567939546,0.26236426446749106,0.3364722366212129,0.4054651081081644],\"y\":[-1.0364709091046787e-11,2.7133406632260864e-11,3.503930479037084e-11,2.8093527503930188e-11,1.4882983734199322e-11,0.0,-1.2736811605488297e-11,-6.551315046032046e-12,2.1382895454278228e-13,7.400968726728831e-12,1.4894974142865096e-11]},{\"line\":{\"color\":\"rgba(0, 128, 128, 1.0)\",\"dash\":\"solid\",\"shape\":\"linear\",\"width\":1.3},\"mode\":\"lines\",\"name\":\"Feta\",\"text\":\"\",\"type\":\"scatter\",\"x\":[-0.6931471805599453,-0.5108256237659907,-0.35667494393873245,-0.2231435513142097,-0.10536051565782628,0.0,0.09531017980432493,0.1823215567939546,0.26236426446749106,0.3364722366212129,0.4054651081081644],\"y\":[-0.06648149940873196,-0.044677680602470855,-0.023339150884157767,-0.006913549314549387,7.928964970000402e-08,0.0,-3.1006319738768577e-10,-3.307329965998721e-10,-3.0185998150082554e-10,-2.1491530779549515e-10,2.537325904906635e-11]},{\"line\":{\"color\":\"rgba(255, 255, 51, 1.0)\",\"dash\":\"solid\",\"shape\":\"linear\",\"width\":1.3},\"mode\":\"lines\",\"name\":\"Greek yogurt\",\"text\":\"\",\"type\":\"scatter\",\"x\":[-0.6931471805599453,-0.5108256237659907,-0.35667494393873245,-0.2231435513142097,-0.10536051565782628,0.0,0.09531017980432493,0.1823215567939546,0.26236426446749106,0.3364722366212129,0.4054651081081644],\"y\":[-0.1722746127603259,-0.13536348218037067,-0.09976642311969397,-0.06539307877322023,-0.03216210274760442,0.0,0.03115985228993617,0.06017571264764768,0.08078979459698482,0.09682967068900465,0.11099477868213577]},{\"line\":{\"color\":\"rgba(128, 128, 0, 1.0)\",\"dash\":\"solid\",\"shape\":\"linear\",\"width\":1.3},\"mode\":\"lines\",\"name\":\"Milk\",\"text\":\"\",\"type\":\"scatter\",\"x\":[-0.6931471805599453,-0.5108256237659907,-0.35667494393873245,-0.2231435513142097,-0.10536051565782628,0.0,0.09531017980432493,0.1823215567939546,0.26236426446749106,0.3364722366212129,0.4054651081081644],\"y\":[5.189404461568257e-11,3.696065675671797e-11,2.4785506979844533e-11,1.481481604048835e-11,6.646239114593951e-12,0.0,-5.896061416894201e-12,-1.067135269045148e-11,-1.4387935287733222e-11,-1.7175594280308522e-11,-1.9157009312393034e-11]},{\"line\":{\"color\":\"rgba(251, 128, 114, 1.0)\",\"dash\":\"solid\",\"shape\":\"linear\",\"width\":1.3},\"mode\":\"lines\",\"name\":\"Olive oil\",\"text\":\"\",\"type\":\"scatter\",\"x\":[-0.6931471805599453,-0.5108256237659907,-0.35667494393873245,-0.2231435513142097,-0.10536051565782628,0.0,0.09531017980432493,0.1823215567939546,0.26236426446749106,0.3364722366212129,0.4054651081081644],\"y\":[-9.745537710207111e-12,-7.661427048362629e-12,-5.6515903068703294e-12,-3.7375658124075745e-12,-1.8399726187129647e-12,0.0,1.8141044222358603e-12,3.5991210012233556e-12,5.366374011813758e-12,7.126965684253333e-12,8.817835350743966e-12]},{\"line\":{\"color\":\"rgba(128, 177, 211, 1.0)\",\"dash\":\"solid\",\"shape\":\"linear\",\"width\":1.3},\"mode\":\"lines\",\"name\":\"Oranges\",\"text\":\"\",\"type\":\"scatter\",\"x\":[-0.6931471805599453,-0.5108256237659907,-0.35667494393873245,-0.2231435513142097,-0.10536051565782628,0.0,0.09531017980432493,0.1823215567939546,0.26236426446749106,0.3364722366212129,0.4054651081081644],\"y\":[2.3102231236467453e-10,-2.1951329642912688e-12,-1.930221538346314e-10,-1.144180306121799e-10,-5.275324621717793e-11,0.0,-2.1072921186027205e-11,-2.41351383352388e-10,9.247331784921576e-10,1.5206842440368976e-09,1.8440320080438997e-07]},{\"line\":{\"color\":\"rgba(128, 177, 211, 0.8999999999999999)\",\"dash\":\"solid\",\"shape\":\"linear\",\"width\":1.3},\"mode\":\"lines\",\"name\":\"Rice\",\"text\":\"\",\"type\":\"scatter\",\"x\":[-0.6931471805599453,-0.5108256237659907,-0.35667494393873245,-0.2231435513142097,-0.10536051565782628,0.0,0.09531017980432493,0.1823215567939546,0.26236426446749106,0.3364722366212129,0.4054651081081644],\"y\":[-0.023197172503280322,-0.01851453101496797,-0.013853659281753902,-0.009214417827850771,-0.004596595681857674,0.0,0.004575563189525412,0.009130288370409408,0.013664357818082444,0.01817796451183793,0.019160005203894645]},{\"line\":{\"color\":\"rgba(255, 153, 51, 0.8999999999999999)\",\"dash\":\"solid\",\"shape\":\"linear\",\"width\":1.3},\"mode\":\"lines\",\"name\":\"Spinach\",\"text\":\"\",\"type\":\"scatter\",\"x\":[-0.6931471805599453,-0.5108256237659907,-0.35667494393873245,-0.2231435513142097,-0.10536051565782628,0.0,0.09531017980432493,0.1823215567939546,0.26236426446749106,0.3364722366212129,0.4054651081081644],\"y\":[-0.25607668055153643,-0.19934626062280844,-0.14566229265205008,-0.0947140092129364,-0.046236079798749816,0.0,0.032743805016344336,0.03911631227976396,0.04469800575756764,0.050248723698400166,0.055768804951761515]},{\"line\":{\"color\":\"rgba(55, 128, 191, 0.8999999999999999)\",\"dash\":\"solid\",\"shape\":\"linear\",\"width\":1.3},\"mode\":\"lines\",\"name\":\"Sweet potatoes\",\"text\":\"\",\"type\":\"scatter\",\"x\":[-0.6931471805599453,-0.5108256237659907,-0.35667494393873245,-0.2231435513142097,-0.10536051565782628,0.0,0.09531017980432493,0.1823215567939546,0.26236426446749106,0.3364722366212129,0.4054651081081644],\"y\":[0.0,0.0,0.0,0.0,0.0,0.0,0.0,0.0,0.0,0.0,0.0]},{\"line\":{\"color\":\"rgba(50, 171, 96, 0.8999999999999999)\",\"dash\":\"solid\",\"shape\":\"linear\",\"width\":1.3},\"mode\":\"lines\",\"name\":\"Tomato \",\"text\":\"\",\"type\":\"scatter\",\"x\":[-0.6931471805599453,-0.5108256237659907,-0.35667494393873245,-0.2231435513142097,-0.10536051565782628,0.0,0.09531017980432493,0.1823215567939546,0.26236426446749106,0.3364722366212129,0.4054651081081644],\"y\":[0.0,0.0,0.0,0.0,0.0,0.0,0.0,0.0,0.0,0.0,0.0]},{\"line\":{\"color\":\"rgba(128, 0, 128, 0.8999999999999999)\",\"dash\":\"solid\",\"shape\":\"linear\",\"width\":1.3},\"mode\":\"lines\",\"name\":\"Whole Wheat Bread\",\"text\":\"\",\"type\":\"scatter\",\"x\":[-0.6931471805599453,-0.5108256237659907,-0.35667494393873245,-0.2231435513142097,-0.10536051565782628,0.0,0.09531017980432493,0.1823215567939546,0.26236426446749106,0.3364722366212129,0.4054651081081644],\"y\":[-0.09568977471294367,-0.07102675586831739,-0.046957746561317806,-0.02495843403802066,-0.008730889059786681,0.0,0.00865539192244552,0.01723637216700516,0.02574440617102416,0.03418066868885164,0.04254654290868093]}],                        {\"legend\":{\"bgcolor\":\"#F5F6F9\",\"font\":{\"color\":\"#4D5663\"}},\"paper_bgcolor\":\"#F5F6F9\",\"plot_bgcolor\":\"#F5F6F9\",\"template\":{\"data\":{\"bar\":[{\"error_x\":{\"color\":\"#2a3f5f\"},\"error_y\":{\"color\":\"#2a3f5f\"},\"marker\":{\"line\":{\"color\":\"#E5ECF6\",\"width\":0.5},\"pattern\":{\"fillmode\":\"overlay\",\"size\":10,\"solidity\":0.2}},\"type\":\"bar\"}],\"barpolar\":[{\"marker\":{\"line\":{\"color\":\"#E5ECF6\",\"width\":0.5},\"pattern\":{\"fillmode\":\"overlay\",\"size\":10,\"solidity\":0.2}},\"type\":\"barpolar\"}],\"carpet\":[{\"aaxis\":{\"endlinecolor\":\"#2a3f5f\",\"gridcolor\":\"white\",\"linecolor\":\"white\",\"minorgridcolor\":\"white\",\"startlinecolor\":\"#2a3f5f\"},\"baxis\":{\"endlinecolor\":\"#2a3f5f\",\"gridcolor\":\"white\",\"linecolor\":\"white\",\"minorgridcolor\":\"white\",\"startlinecolor\":\"#2a3f5f\"},\"type\":\"carpet\"}],\"choropleth\":[{\"colorbar\":{\"outlinewidth\":0,\"ticks\":\"\"},\"type\":\"choropleth\"}],\"contour\":[{\"colorbar\":{\"outlinewidth\":0,\"ticks\":\"\"},\"colorscale\":[[0.0,\"#0d0887\"],[0.1111111111111111,\"#46039f\"],[0.2222222222222222,\"#7201a8\"],[0.3333333333333333,\"#9c179e\"],[0.4444444444444444,\"#bd3786\"],[0.5555555555555556,\"#d8576b\"],[0.6666666666666666,\"#ed7953\"],[0.7777777777777778,\"#fb9f3a\"],[0.8888888888888888,\"#fdca26\"],[1.0,\"#f0f921\"]],\"type\":\"contour\"}],\"contourcarpet\":[{\"colorbar\":{\"outlinewidth\":0,\"ticks\":\"\"},\"type\":\"contourcarpet\"}],\"heatmap\":[{\"colorbar\":{\"outlinewidth\":0,\"ticks\":\"\"},\"colorscale\":[[0.0,\"#0d0887\"],[0.1111111111111111,\"#46039f\"],[0.2222222222222222,\"#7201a8\"],[0.3333333333333333,\"#9c179e\"],[0.4444444444444444,\"#bd3786\"],[0.5555555555555556,\"#d8576b\"],[0.6666666666666666,\"#ed7953\"],[0.7777777777777778,\"#fb9f3a\"],[0.8888888888888888,\"#fdca26\"],[1.0,\"#f0f921\"]],\"type\":\"heatmap\"}],\"heatmapgl\":[{\"colorbar\":{\"outlinewidth\":0,\"ticks\":\"\"},\"colorscale\":[[0.0,\"#0d0887\"],[0.1111111111111111,\"#46039f\"],[0.2222222222222222,\"#7201a8\"],[0.3333333333333333,\"#9c179e\"],[0.4444444444444444,\"#bd3786\"],[0.5555555555555556,\"#d8576b\"],[0.6666666666666666,\"#ed7953\"],[0.7777777777777778,\"#fb9f3a\"],[0.8888888888888888,\"#fdca26\"],[1.0,\"#f0f921\"]],\"type\":\"heatmapgl\"}],\"histogram\":[{\"marker\":{\"pattern\":{\"fillmode\":\"overlay\",\"size\":10,\"solidity\":0.2}},\"type\":\"histogram\"}],\"histogram2d\":[{\"colorbar\":{\"outlinewidth\":0,\"ticks\":\"\"},\"colorscale\":[[0.0,\"#0d0887\"],[0.1111111111111111,\"#46039f\"],[0.2222222222222222,\"#7201a8\"],[0.3333333333333333,\"#9c179e\"],[0.4444444444444444,\"#bd3786\"],[0.5555555555555556,\"#d8576b\"],[0.6666666666666666,\"#ed7953\"],[0.7777777777777778,\"#fb9f3a\"],[0.8888888888888888,\"#fdca26\"],[1.0,\"#f0f921\"]],\"type\":\"histogram2d\"}],\"histogram2dcontour\":[{\"colorbar\":{\"outlinewidth\":0,\"ticks\":\"\"},\"colorscale\":[[0.0,\"#0d0887\"],[0.1111111111111111,\"#46039f\"],[0.2222222222222222,\"#7201a8\"],[0.3333333333333333,\"#9c179e\"],[0.4444444444444444,\"#bd3786\"],[0.5555555555555556,\"#d8576b\"],[0.6666666666666666,\"#ed7953\"],[0.7777777777777778,\"#fb9f3a\"],[0.8888888888888888,\"#fdca26\"],[1.0,\"#f0f921\"]],\"type\":\"histogram2dcontour\"}],\"mesh3d\":[{\"colorbar\":{\"outlinewidth\":0,\"ticks\":\"\"},\"type\":\"mesh3d\"}],\"parcoords\":[{\"line\":{\"colorbar\":{\"outlinewidth\":0,\"ticks\":\"\"}},\"type\":\"parcoords\"}],\"pie\":[{\"automargin\":true,\"type\":\"pie\"}],\"scatter\":[{\"marker\":{\"colorbar\":{\"outlinewidth\":0,\"ticks\":\"\"}},\"type\":\"scatter\"}],\"scatter3d\":[{\"line\":{\"colorbar\":{\"outlinewidth\":0,\"ticks\":\"\"}},\"marker\":{\"colorbar\":{\"outlinewidth\":0,\"ticks\":\"\"}},\"type\":\"scatter3d\"}],\"scattercarpet\":[{\"marker\":{\"colorbar\":{\"outlinewidth\":0,\"ticks\":\"\"}},\"type\":\"scattercarpet\"}],\"scattergeo\":[{\"marker\":{\"colorbar\":{\"outlinewidth\":0,\"ticks\":\"\"}},\"type\":\"scattergeo\"}],\"scattergl\":[{\"marker\":{\"colorbar\":{\"outlinewidth\":0,\"ticks\":\"\"}},\"type\":\"scattergl\"}],\"scattermapbox\":[{\"marker\":{\"colorbar\":{\"outlinewidth\":0,\"ticks\":\"\"}},\"type\":\"scattermapbox\"}],\"scatterpolar\":[{\"marker\":{\"colorbar\":{\"outlinewidth\":0,\"ticks\":\"\"}},\"type\":\"scatterpolar\"}],\"scatterpolargl\":[{\"marker\":{\"colorbar\":{\"outlinewidth\":0,\"ticks\":\"\"}},\"type\":\"scatterpolargl\"}],\"scatterternary\":[{\"marker\":{\"colorbar\":{\"outlinewidth\":0,\"ticks\":\"\"}},\"type\":\"scatterternary\"}],\"surface\":[{\"colorbar\":{\"outlinewidth\":0,\"ticks\":\"\"},\"colorscale\":[[0.0,\"#0d0887\"],[0.1111111111111111,\"#46039f\"],[0.2222222222222222,\"#7201a8\"],[0.3333333333333333,\"#9c179e\"],[0.4444444444444444,\"#bd3786\"],[0.5555555555555556,\"#d8576b\"],[0.6666666666666666,\"#ed7953\"],[0.7777777777777778,\"#fb9f3a\"],[0.8888888888888888,\"#fdca26\"],[1.0,\"#f0f921\"]],\"type\":\"surface\"}],\"table\":[{\"cells\":{\"fill\":{\"color\":\"#EBF0F8\"},\"line\":{\"color\":\"white\"}},\"header\":{\"fill\":{\"color\":\"#C8D4E3\"},\"line\":{\"color\":\"white\"}},\"type\":\"table\"}]},\"layout\":{\"annotationdefaults\":{\"arrowcolor\":\"#2a3f5f\",\"arrowhead\":0,\"arrowwidth\":1},\"autotypenumbers\":\"strict\",\"coloraxis\":{\"colorbar\":{\"outlinewidth\":0,\"ticks\":\"\"}},\"colorscale\":{\"diverging\":[[0,\"#8e0152\"],[0.1,\"#c51b7d\"],[0.2,\"#de77ae\"],[0.3,\"#f1b6da\"],[0.4,\"#fde0ef\"],[0.5,\"#f7f7f7\"],[0.6,\"#e6f5d0\"],[0.7,\"#b8e186\"],[0.8,\"#7fbc41\"],[0.9,\"#4d9221\"],[1,\"#276419\"]],\"sequential\":[[0.0,\"#0d0887\"],[0.1111111111111111,\"#46039f\"],[0.2222222222222222,\"#7201a8\"],[0.3333333333333333,\"#9c179e\"],[0.4444444444444444,\"#bd3786\"],[0.5555555555555556,\"#d8576b\"],[0.6666666666666666,\"#ed7953\"],[0.7777777777777778,\"#fb9f3a\"],[0.8888888888888888,\"#fdca26\"],[1.0,\"#f0f921\"]],\"sequentialminus\":[[0.0,\"#0d0887\"],[0.1111111111111111,\"#46039f\"],[0.2222222222222222,\"#7201a8\"],[0.3333333333333333,\"#9c179e\"],[0.4444444444444444,\"#bd3786\"],[0.5555555555555556,\"#d8576b\"],[0.6666666666666666,\"#ed7953\"],[0.7777777777777778,\"#fb9f3a\"],[0.8888888888888888,\"#fdca26\"],[1.0,\"#f0f921\"]]},\"colorway\":[\"#636efa\",\"#EF553B\",\"#00cc96\",\"#ab63fa\",\"#FFA15A\",\"#19d3f3\",\"#FF6692\",\"#B6E880\",\"#FF97FF\",\"#FECB52\"],\"font\":{\"color\":\"#2a3f5f\"},\"geo\":{\"bgcolor\":\"white\",\"lakecolor\":\"white\",\"landcolor\":\"#E5ECF6\",\"showlakes\":true,\"showland\":true,\"subunitcolor\":\"white\"},\"hoverlabel\":{\"align\":\"left\"},\"hovermode\":\"closest\",\"mapbox\":{\"style\":\"light\"},\"paper_bgcolor\":\"white\",\"plot_bgcolor\":\"#E5ECF6\",\"polar\":{\"angularaxis\":{\"gridcolor\":\"white\",\"linecolor\":\"white\",\"ticks\":\"\"},\"bgcolor\":\"#E5ECF6\",\"radialaxis\":{\"gridcolor\":\"white\",\"linecolor\":\"white\",\"ticks\":\"\"}},\"scene\":{\"xaxis\":{\"backgroundcolor\":\"#E5ECF6\",\"gridcolor\":\"white\",\"gridwidth\":2,\"linecolor\":\"white\",\"showbackground\":true,\"ticks\":\"\",\"zerolinecolor\":\"white\"},\"yaxis\":{\"backgroundcolor\":\"#E5ECF6\",\"gridcolor\":\"white\",\"gridwidth\":2,\"linecolor\":\"white\",\"showbackground\":true,\"ticks\":\"\",\"zerolinecolor\":\"white\"},\"zaxis\":{\"backgroundcolor\":\"#E5ECF6\",\"gridcolor\":\"white\",\"gridwidth\":2,\"linecolor\":\"white\",\"showbackground\":true,\"ticks\":\"\",\"zerolinecolor\":\"white\"}},\"shapedefaults\":{\"line\":{\"color\":\"#2a3f5f\"}},\"ternary\":{\"aaxis\":{\"gridcolor\":\"white\",\"linecolor\":\"white\",\"ticks\":\"\"},\"baxis\":{\"gridcolor\":\"white\",\"linecolor\":\"white\",\"ticks\":\"\"},\"bgcolor\":\"#E5ECF6\",\"caxis\":{\"gridcolor\":\"white\",\"linecolor\":\"white\",\"ticks\":\"\"}},\"title\":{\"x\":0.05},\"xaxis\":{\"automargin\":true,\"gridcolor\":\"white\",\"linecolor\":\"white\",\"ticks\":\"\",\"title\":{\"standoff\":15},\"zerolinecolor\":\"white\",\"zerolinewidth\":2},\"yaxis\":{\"automargin\":true,\"gridcolor\":\"white\",\"linecolor\":\"white\",\"ticks\":\"\",\"title\":{\"standoff\":15},\"zerolinecolor\":\"white\",\"zerolinewidth\":2}}},\"title\":{\"font\":{\"color\":\"#4D5663\"}},\"xaxis\":{\"gridcolor\":\"#E1E5ED\",\"showgrid\":true,\"tickfont\":{\"color\":\"#4D5663\"},\"title\":{\"font\":{\"color\":\"#4D5663\"},\"text\":\"change in log price\"},\"zerolinecolor\":\"#E1E5ED\"},\"yaxis\":{\"gridcolor\":\"#E1E5ED\",\"showgrid\":true,\"tickfont\":{\"color\":\"#4D5663\"},\"title\":{\"font\":{\"color\":\"#4D5663\"},\"text\":\"change in log cost\"},\"zerolinecolor\":\"#E1E5ED\"}},                        {\"showLink\": true, \"linkText\": \"Export to plot.ly\", \"plotlyServerURL\": \"https://plot.ly\", \"responsive\": true}                    ).then(function(){\n",
       "                            \n",
       "var gd = document.getElementById('33f24ef8-5800-49eb-b45c-6e0ce3978c73');\n",
       "var x = new MutationObserver(function (mutations, observer) {{\n",
       "        var display = window.getComputedStyle(gd).display;\n",
       "        if (!display || display === 'none') {{\n",
       "            console.log([gd, 'removed!']);\n",
       "            Plotly.purge(gd);\n",
       "            observer.disconnect();\n",
       "        }}\n",
       "}});\n",
       "\n",
       "// Listen for the removal of the full notebook cells\n",
       "var notebookContainer = gd.closest('#notebook-container');\n",
       "if (notebookContainer) {{\n",
       "    x.observe(notebookContainer, {childList: true});\n",
       "}}\n",
       "\n",
       "// Listen for the clearing of the current output cell\n",
       "var outputEl = gd.closest('.output');\n",
       "if (outputEl) {{\n",
       "    x.observe(outputEl, {childList: true});\n",
       "}}\n",
       "\n",
       "                        })                };                });            </script>        </div>"
      ]
     },
     "metadata": {},
     "output_type": "display_data"
    }
   ],
   "source": [
    "import cufflinks as cf\n",
    "cf.go_offline()\n",
    "scale = [.5,.6,.7,.8,.9,1.,1.1,1.2,1.3,1.4,1.5]\n",
    "cost0 = solve_subsistence_problem(FoodNutrients,WalmartPrices,bminM22,bmaxM22,tol=1e-6).fun\n",
    "WalmartPrices_response={}\n",
    "for s in scale:\n",
    "    cost = {}\n",
    "    for i,p in enumerate(WalmartPrices):\n",
    "        my_p = WalmartPrices.copy()\n",
    "        my_p[i] = p*s\n",
    "        result = solve_subsistence_problem(FoodNutrients,my_p,bminM22,bmaxM22,tol=1e-6)\n",
    "        cost[WalmartPrices.index[i]] = np.log(result.fun/cost0)\n",
    "    WalmartPrices_response[np.log(s)] = cost\n",
    "WalmartPrices_response = pd.DataFrame(WalmartPrices_response).T\n",
    "WalmartPrices_response.iplot(xTitle='change in log price',yTitle='change in log cost')"
   ]
  },
  {
   "cell_type": "markdown",
   "id": "ca151609",
   "metadata": {},
   "source": [
    "We repeat the process for the international market."
   ]
  },
  {
   "cell_type": "code",
   "execution_count": 46,
   "id": "11fa95e9",
   "metadata": {},
   "outputs": [
    {
     "data": {
      "text/html": [
       "        <script type=\"text/javascript\">\n",
       "        window.PlotlyConfig = {MathJaxConfig: 'local'};\n",
       "        if (window.MathJax) {MathJax.Hub.Config({SVG: {font: \"STIX-Web\"}});}\n",
       "        if (typeof require !== 'undefined') {\n",
       "        require.undef(\"plotly\");\n",
       "        requirejs.config({\n",
       "            paths: {\n",
       "                'plotly': ['https://cdn.plot.ly/plotly-2.3.1.min']\n",
       "            }\n",
       "        });\n",
       "        require(['plotly'], function(Plotly) {\n",
       "            window._Plotly = Plotly;\n",
       "        });\n",
       "        }\n",
       "        </script>\n",
       "        "
      ]
     },
     "metadata": {},
     "output_type": "display_data"
    },
    {
     "data": {
      "application/vnd.plotly.v1+json": {
       "config": {
        "linkText": "Export to plot.ly",
        "plotlyServerURL": "https://plot.ly",
        "showLink": true
       },
       "data": [
        {
         "line": {
          "color": "rgba(255, 153, 51, 1.0)",
          "dash": "solid",
          "shape": "linear",
          "width": 1.3
         },
         "mode": "lines",
         "name": "Avocado",
         "text": "",
         "type": "scatter",
         "x": [
          -0.6931471805599453,
          -0.5108256237659907,
          -0.35667494393873245,
          -0.2231435513142097,
          -0.10536051565782628,
          0,
          0.09531017980432493,
          0.1823215567939546,
          0.26236426446749106,
          0.3364722366212129,
          0.4054651081081644
         ],
         "y": [
          -0.15161629388198195,
          -0.08384878785015049,
          -0.0366182760892057,
          -3.183442760113913e-08,
          -3.04530575397463e-08,
          0,
          -3.095188309149391e-08,
          -3.1610536244132546e-08,
          -3.005624028201158e-08,
          -3.198682592219111e-08,
          -3.178275393414882e-08
         ]
        },
        {
         "line": {
          "color": "rgba(55, 128, 191, 1.0)",
          "dash": "solid",
          "shape": "linear",
          "width": 1.3
         },
         "mode": "lines",
         "name": "Broccoli",
         "text": "",
         "type": "scatter",
         "x": [
          -0.6931471805599453,
          -0.5108256237659907,
          -0.35667494393873245,
          -0.2231435513142097,
          -0.10536051565782628,
          0,
          0.09531017980432493,
          0.1823215567939546,
          0.26236426446749106,
          0.3364722366212129,
          0.4054651081081644
         ],
         "y": [
          -3.198817240071844e-08,
          -1.5422945484206845e-08,
          -3.1225766238399444e-08,
          -8.51303953179718e-09,
          3.4817142441807402e-09,
          0,
          -9.679907811087635e-09,
          -2.04580194879005e-08,
          -2.659259692281351e-08,
          -2.7687855503059915e-08,
          -2.6631106674781987e-08
         ]
        },
        {
         "line": {
          "color": "rgba(50, 171, 96, 1.0)",
          "dash": "solid",
          "shape": "linear",
          "width": 1.3
         },
         "mode": "lines",
         "name": "Canned tuna",
         "text": "",
         "type": "scatter",
         "x": [
          -0.6931471805599453,
          -0.5108256237659907,
          -0.35667494393873245,
          -0.2231435513142097,
          -0.10536051565782628,
          0,
          0.09531017980432493,
          0.1823215567939546,
          0.26236426446749106,
          0.3364722366212129,
          0.4054651081081644
         ],
         "y": [
          6.664070006929708e-08,
          9.606223843505625e-08,
          -1.3520939459535828e-08,
          -3.141454679106251e-08,
          -3.1880689485826027e-08,
          0,
          -3.202753125149113e-08,
          -3.082034264222822e-08,
          -2.299642236432565e-08,
          -3.205532302126785e-08,
          -3.0645047969170644e-08
         ]
        },
        {
         "line": {
          "color": "rgba(128, 0, 128, 1.0)",
          "dash": "solid",
          "shape": "linear",
          "width": 1.3
         },
         "mode": "lines",
         "name": "Chickpeas",
         "text": "",
         "type": "scatter",
         "x": [
          -0.6931471805599453,
          -0.5108256237659907,
          -0.35667494393873245,
          -0.2231435513142097,
          -0.10536051565782628,
          0,
          0.09531017980432493,
          0.1823215567939546,
          0.26236426446749106,
          0.3364722366212129,
          0.4054651081081644
         ],
         "y": [
          -2.622386597840149e-08,
          6.727295094525012e-08,
          -3.206087657905967e-08,
          2.907287723823566e-08,
          -2.6886340737724112e-08,
          0,
          -3.046245149661747e-09,
          -1.847448944237817e-08,
          -3.148085286489197e-08,
          -3.1829091425023715e-08,
          -3.2055927204657215e-08
         ]
        },
        {
         "line": {
          "color": "rgba(219, 64, 82, 1.0)",
          "dash": "solid",
          "shape": "linear",
          "width": 1.3
         },
         "mode": "lines",
         "name": "Eggs",
         "text": "",
         "type": "scatter",
         "x": [
          -0.6931471805599453,
          -0.5108256237659907,
          -0.35667494393873245,
          -0.2231435513142097,
          -0.10536051565782628,
          0,
          0.09531017980432493,
          0.1823215567939546,
          0.26236426446749106,
          0.3364722366212129,
          0.4054651081081644
         ],
         "y": [
          -1.7027787991374803e-08,
          -1.0749461267822177e-08,
          -5.686043430053887e-09,
          -2.431203574750868e-09,
          -9.63268021367683e-10,
          0,
          1.407069126888991e-09,
          -8.239582353139515e-10,
          1.0854629072656871e-07,
          -3.1628156594313514e-08,
          -3.138997699964449e-08
         ]
        },
        {
         "line": {
          "color": "rgba(0, 128, 128, 1.0)",
          "dash": "solid",
          "shape": "linear",
          "width": 1.3
         },
         "mode": "lines",
         "name": "Feta",
         "text": "",
         "type": "scatter",
         "x": [
          -0.6931471805599453,
          -0.5108256237659907,
          -0.35667494393873245,
          -0.2231435513142097,
          -0.10536051565782628,
          0,
          0.09531017980432493,
          0.1823215567939546,
          0.26236426446749106,
          0.3364722366212129,
          0.4054651081081644
         ],
         "y": [
          -0.010306511042050461,
          -0.0019485542202723335,
          -0.00020771565256584072,
          5.5711427695769653e-08,
          7.179850656056401e-08,
          0,
          -3.182355185604374e-08,
          -3.2043550437982024e-08,
          6.323357526399053e-08,
          -2.444349281528291e-09,
          -3.074775048548382e-08
         ]
        },
        {
         "line": {
          "color": "rgba(255, 255, 51, 1.0)",
          "dash": "solid",
          "shape": "linear",
          "width": 1.3
         },
         "mode": "lines",
         "name": "Greek yogurt",
         "text": "",
         "type": "scatter",
         "x": [
          -0.6931471805599453,
          -0.5108256237659907,
          -0.35667494393873245,
          -0.2231435513142097,
          -0.10536051565782628,
          0,
          0.09531017980432493,
          0.1823215567939546,
          0.26236426446749106,
          0.3364722366212129,
          0.4054651081081644
         ],
         "y": [
          -0.19671561967367163,
          -0.15415470885306956,
          -0.11333152475979373,
          -0.07410987742281709,
          -0.03636857695544031,
          0,
          0.03509212959968391,
          0.06899446416674697,
          0.10154688480774299,
          0.1317009946533281,
          0.1543563006819011
         ]
        },
        {
         "line": {
          "color": "rgba(128, 128, 0, 1.0)",
          "dash": "solid",
          "shape": "linear",
          "width": 1.3
         },
         "mode": "lines",
         "name": "Milk",
         "text": "",
         "type": "scatter",
         "x": [
          -0.6931471805599453,
          -0.5108256237659907,
          -0.35667494393873245,
          -0.2231435513142097,
          -0.10536051565782628,
          0,
          0.09531017980432493,
          0.1823215567939546,
          0.26236426446749106,
          0.3364722366212129,
          0.4054651081081644
         ],
         "y": [
          -0.004435012759095991,
          -0.0035464392535682365,
          -0.002658659638264041,
          -0.001771663026739278,
          -0.0008854014337475403,
          0,
          0.0006867812581480187,
          0.000686783930118613,
          0.000686782880769949,
          0.0006867918276553242,
          0.0006867810992565894
         ]
        },
        {
         "line": {
          "color": "rgba(251, 128, 114, 1.0)",
          "dash": "solid",
          "shape": "linear",
          "width": 1.3
         },
         "mode": "lines",
         "name": "Olive oil",
         "text": "",
         "type": "scatter",
         "x": [
          -0.6931471805599453,
          -0.5108256237659907,
          -0.35667494393873245,
          -0.2231435513142097,
          -0.10536051565782628,
          0,
          0.09531017980432493,
          0.1823215567939546,
          0.26236426446749106,
          0.3364722366212129,
          0.4054651081081644
         ],
         "y": [
          -3.1866429447776315e-08,
          -3.202779925933786e-08,
          -3.132054276132888e-08,
          -2.7582030031350025e-09,
          5.823483456265334e-09,
          0,
          -2.5859477925789395e-09,
          -3.4055485156594034e-09,
          -3.4934855069850186e-09,
          -3.420019939767873e-09,
          -2.0663556442845436e-09
         ]
        },
        {
         "line": {
          "color": "rgba(128, 177, 211, 1.0)",
          "dash": "solid",
          "shape": "linear",
          "width": 1.3
         },
         "mode": "lines",
         "name": "Oranges",
         "text": "",
         "type": "scatter",
         "x": [
          -0.6931471805599453,
          -0.5108256237659907,
          -0.35667494393873245,
          -0.2231435513142097,
          -0.10536051565782628,
          0,
          0.09531017980432493,
          0.1823215567939546,
          0.26236426446749106,
          0.3364722366212129,
          0.4054651081081644
         ],
         "y": [
          -0.008187339155485494,
          -0.004994414969524292,
          -0.0018116531008465766,
          -3.193948079285957e-08,
          -3.2051398271727694e-08,
          0,
          -3.0647273522314014e-08,
          -3.0549339525069884e-08,
          -3.1656236244918536e-08,
          -3.2062354063908206e-08,
          -3.1884928761558417e-08
         ]
        },
        {
         "line": {
          "color": "rgba(128, 177, 211, 0.8999999999999999)",
          "dash": "solid",
          "shape": "linear",
          "width": 1.3
         },
         "mode": "lines",
         "name": "Rice",
         "text": "",
         "type": "scatter",
         "x": [
          -0.6931471805599453,
          -0.5108256237659907,
          -0.35667494393873245,
          -0.2231435513142097,
          -0.10536051565782628,
          0,
          0.09531017980432493,
          0.1823215567939546,
          0.26236426446749106,
          0.3364722366212129,
          0.4054651081081644
         ],
         "y": [
          -3.15342714694495e-08,
          1.1741693105694171e-07,
          -3.075473534283574e-08,
          -4.82995400397779e-09,
          5.8102571474053045e-09,
          0,
          -6.519376726400818e-09,
          -1.2460313081244643e-08,
          -1.9002737231129434e-08,
          -2.7637039594616408e-08,
          -3.2011371510761076e-08
         ]
        },
        {
         "line": {
          "color": "rgba(255, 153, 51, 0.8999999999999999)",
          "dash": "solid",
          "shape": "linear",
          "width": 1.3
         },
         "mode": "lines",
         "name": "Spinach",
         "text": "",
         "type": "scatter",
         "x": [
          -0.6931471805599453,
          -0.5108256237659907,
          -0.35667494393873245,
          -0.2231435513142097,
          -0.10536051565782628,
          0,
          0.09531017980432493,
          0.1823215567939546,
          0.26236426446749106,
          0.3364722366212129,
          0.4054651081081644
         ],
         "y": [
          -0.22769431211749067,
          -0.176621473050334,
          -0.12805073998659194,
          -0.0824777657258518,
          -0.040049991977094905,
          0,
          0.03850758531392979,
          0.0755870301993482,
          0.07949543741473414,
          0.07949543749462187,
          0.07949543807015644
         ]
        },
        {
         "line": {
          "color": "rgba(55, 128, 191, 0.8999999999999999)",
          "dash": "solid",
          "shape": "linear",
          "width": 1.3
         },
         "mode": "lines",
         "name": "Sweet potatoes",
         "text": "",
         "type": "scatter",
         "x": [
          -0.6931471805599453,
          -0.5108256237659907,
          -0.35667494393873245,
          -0.2231435513142097,
          -0.10536051565782628,
          0,
          0.09531017980432493,
          0.1823215567939546,
          0.26236426446749106,
          0.3364722366212129,
          0.4054651081081644
         ],
         "y": [
          -0.02993811587290581,
          -0.02373770422341321,
          -0.017575426797373905,
          -0.011450897098374612,
          -0.005427877617318133,
          0,
          0.005398512892443285,
          0.010768072056921561,
          0.01610895239991755,
          0.0214214475950164,
          0.026705877265526267
         ]
        },
        {
         "line": {
          "color": "rgba(50, 171, 96, 0.8999999999999999)",
          "dash": "solid",
          "shape": "linear",
          "width": 1.3
         },
         "mode": "lines",
         "name": "Tomato ",
         "text": "",
         "type": "scatter",
         "x": [
          -0.6931471805599453,
          -0.5108256237659907,
          -0.35667494393873245,
          -0.2231435513142097,
          -0.10536051565782628,
          0,
          0.09531017980432493,
          0.1823215567939546,
          0.26236426446749106,
          0.3364722366212129,
          0.4054651081081644
         ],
         "y": [
          0,
          0,
          0,
          0,
          0,
          0,
          0,
          0,
          0,
          0,
          0
         ]
        },
        {
         "line": {
          "color": "rgba(128, 0, 128, 0.8999999999999999)",
          "dash": "solid",
          "shape": "linear",
          "width": 1.3
         },
         "mode": "lines",
         "name": "Whole Wheat Bread",
         "text": "",
         "type": "scatter",
         "x": [
          -0.6931471805599453,
          -0.5108256237659907,
          -0.35667494393873245,
          -0.2231435513142097,
          -0.10536051565782628,
          0,
          0.09531017980432493,
          0.1823215567939546,
          0.26236426446749106,
          0.3364722366212129,
          0.4054651081081644
         ],
         "y": [
          -0.09831933666836104,
          -0.07786691799542489,
          -0.05782442719683229,
          -0.038175750472954004,
          -0.018905733632214608,
          0,
          0.01855486623724624,
          0.03677174268568552,
          0.0543518924703264,
          0.07161880801610095,
          0.08859263273636721
         ]
        }
       ],
       "layout": {
        "legend": {
         "bgcolor": "#F5F6F9",
         "font": {
          "color": "#4D5663"
         }
        },
        "paper_bgcolor": "#F5F6F9",
        "plot_bgcolor": "#F5F6F9",
        "template": {
         "data": {
          "bar": [
           {
            "error_x": {
             "color": "#2a3f5f"
            },
            "error_y": {
             "color": "#2a3f5f"
            },
            "marker": {
             "line": {
              "color": "#E5ECF6",
              "width": 0.5
             },
             "pattern": {
              "fillmode": "overlay",
              "size": 10,
              "solidity": 0.2
             }
            },
            "type": "bar"
           }
          ],
          "barpolar": [
           {
            "marker": {
             "line": {
              "color": "#E5ECF6",
              "width": 0.5
             },
             "pattern": {
              "fillmode": "overlay",
              "size": 10,
              "solidity": 0.2
             }
            },
            "type": "barpolar"
           }
          ],
          "carpet": [
           {
            "aaxis": {
             "endlinecolor": "#2a3f5f",
             "gridcolor": "white",
             "linecolor": "white",
             "minorgridcolor": "white",
             "startlinecolor": "#2a3f5f"
            },
            "baxis": {
             "endlinecolor": "#2a3f5f",
             "gridcolor": "white",
             "linecolor": "white",
             "minorgridcolor": "white",
             "startlinecolor": "#2a3f5f"
            },
            "type": "carpet"
           }
          ],
          "choropleth": [
           {
            "colorbar": {
             "outlinewidth": 0,
             "ticks": ""
            },
            "type": "choropleth"
           }
          ],
          "contour": [
           {
            "colorbar": {
             "outlinewidth": 0,
             "ticks": ""
            },
            "colorscale": [
             [
              0,
              "#0d0887"
             ],
             [
              0.1111111111111111,
              "#46039f"
             ],
             [
              0.2222222222222222,
              "#7201a8"
             ],
             [
              0.3333333333333333,
              "#9c179e"
             ],
             [
              0.4444444444444444,
              "#bd3786"
             ],
             [
              0.5555555555555556,
              "#d8576b"
             ],
             [
              0.6666666666666666,
              "#ed7953"
             ],
             [
              0.7777777777777778,
              "#fb9f3a"
             ],
             [
              0.8888888888888888,
              "#fdca26"
             ],
             [
              1,
              "#f0f921"
             ]
            ],
            "type": "contour"
           }
          ],
          "contourcarpet": [
           {
            "colorbar": {
             "outlinewidth": 0,
             "ticks": ""
            },
            "type": "contourcarpet"
           }
          ],
          "heatmap": [
           {
            "colorbar": {
             "outlinewidth": 0,
             "ticks": ""
            },
            "colorscale": [
             [
              0,
              "#0d0887"
             ],
             [
              0.1111111111111111,
              "#46039f"
             ],
             [
              0.2222222222222222,
              "#7201a8"
             ],
             [
              0.3333333333333333,
              "#9c179e"
             ],
             [
              0.4444444444444444,
              "#bd3786"
             ],
             [
              0.5555555555555556,
              "#d8576b"
             ],
             [
              0.6666666666666666,
              "#ed7953"
             ],
             [
              0.7777777777777778,
              "#fb9f3a"
             ],
             [
              0.8888888888888888,
              "#fdca26"
             ],
             [
              1,
              "#f0f921"
             ]
            ],
            "type": "heatmap"
           }
          ],
          "heatmapgl": [
           {
            "colorbar": {
             "outlinewidth": 0,
             "ticks": ""
            },
            "colorscale": [
             [
              0,
              "#0d0887"
             ],
             [
              0.1111111111111111,
              "#46039f"
             ],
             [
              0.2222222222222222,
              "#7201a8"
             ],
             [
              0.3333333333333333,
              "#9c179e"
             ],
             [
              0.4444444444444444,
              "#bd3786"
             ],
             [
              0.5555555555555556,
              "#d8576b"
             ],
             [
              0.6666666666666666,
              "#ed7953"
             ],
             [
              0.7777777777777778,
              "#fb9f3a"
             ],
             [
              0.8888888888888888,
              "#fdca26"
             ],
             [
              1,
              "#f0f921"
             ]
            ],
            "type": "heatmapgl"
           }
          ],
          "histogram": [
           {
            "marker": {
             "pattern": {
              "fillmode": "overlay",
              "size": 10,
              "solidity": 0.2
             }
            },
            "type": "histogram"
           }
          ],
          "histogram2d": [
           {
            "colorbar": {
             "outlinewidth": 0,
             "ticks": ""
            },
            "colorscale": [
             [
              0,
              "#0d0887"
             ],
             [
              0.1111111111111111,
              "#46039f"
             ],
             [
              0.2222222222222222,
              "#7201a8"
             ],
             [
              0.3333333333333333,
              "#9c179e"
             ],
             [
              0.4444444444444444,
              "#bd3786"
             ],
             [
              0.5555555555555556,
              "#d8576b"
             ],
             [
              0.6666666666666666,
              "#ed7953"
             ],
             [
              0.7777777777777778,
              "#fb9f3a"
             ],
             [
              0.8888888888888888,
              "#fdca26"
             ],
             [
              1,
              "#f0f921"
             ]
            ],
            "type": "histogram2d"
           }
          ],
          "histogram2dcontour": [
           {
            "colorbar": {
             "outlinewidth": 0,
             "ticks": ""
            },
            "colorscale": [
             [
              0,
              "#0d0887"
             ],
             [
              0.1111111111111111,
              "#46039f"
             ],
             [
              0.2222222222222222,
              "#7201a8"
             ],
             [
              0.3333333333333333,
              "#9c179e"
             ],
             [
              0.4444444444444444,
              "#bd3786"
             ],
             [
              0.5555555555555556,
              "#d8576b"
             ],
             [
              0.6666666666666666,
              "#ed7953"
             ],
             [
              0.7777777777777778,
              "#fb9f3a"
             ],
             [
              0.8888888888888888,
              "#fdca26"
             ],
             [
              1,
              "#f0f921"
             ]
            ],
            "type": "histogram2dcontour"
           }
          ],
          "mesh3d": [
           {
            "colorbar": {
             "outlinewidth": 0,
             "ticks": ""
            },
            "type": "mesh3d"
           }
          ],
          "parcoords": [
           {
            "line": {
             "colorbar": {
              "outlinewidth": 0,
              "ticks": ""
             }
            },
            "type": "parcoords"
           }
          ],
          "pie": [
           {
            "automargin": true,
            "type": "pie"
           }
          ],
          "scatter": [
           {
            "marker": {
             "colorbar": {
              "outlinewidth": 0,
              "ticks": ""
             }
            },
            "type": "scatter"
           }
          ],
          "scatter3d": [
           {
            "line": {
             "colorbar": {
              "outlinewidth": 0,
              "ticks": ""
             }
            },
            "marker": {
             "colorbar": {
              "outlinewidth": 0,
              "ticks": ""
             }
            },
            "type": "scatter3d"
           }
          ],
          "scattercarpet": [
           {
            "marker": {
             "colorbar": {
              "outlinewidth": 0,
              "ticks": ""
             }
            },
            "type": "scattercarpet"
           }
          ],
          "scattergeo": [
           {
            "marker": {
             "colorbar": {
              "outlinewidth": 0,
              "ticks": ""
             }
            },
            "type": "scattergeo"
           }
          ],
          "scattergl": [
           {
            "marker": {
             "colorbar": {
              "outlinewidth": 0,
              "ticks": ""
             }
            },
            "type": "scattergl"
           }
          ],
          "scattermapbox": [
           {
            "marker": {
             "colorbar": {
              "outlinewidth": 0,
              "ticks": ""
             }
            },
            "type": "scattermapbox"
           }
          ],
          "scatterpolar": [
           {
            "marker": {
             "colorbar": {
              "outlinewidth": 0,
              "ticks": ""
             }
            },
            "type": "scatterpolar"
           }
          ],
          "scatterpolargl": [
           {
            "marker": {
             "colorbar": {
              "outlinewidth": 0,
              "ticks": ""
             }
            },
            "type": "scatterpolargl"
           }
          ],
          "scatterternary": [
           {
            "marker": {
             "colorbar": {
              "outlinewidth": 0,
              "ticks": ""
             }
            },
            "type": "scatterternary"
           }
          ],
          "surface": [
           {
            "colorbar": {
             "outlinewidth": 0,
             "ticks": ""
            },
            "colorscale": [
             [
              0,
              "#0d0887"
             ],
             [
              0.1111111111111111,
              "#46039f"
             ],
             [
              0.2222222222222222,
              "#7201a8"
             ],
             [
              0.3333333333333333,
              "#9c179e"
             ],
             [
              0.4444444444444444,
              "#bd3786"
             ],
             [
              0.5555555555555556,
              "#d8576b"
             ],
             [
              0.6666666666666666,
              "#ed7953"
             ],
             [
              0.7777777777777778,
              "#fb9f3a"
             ],
             [
              0.8888888888888888,
              "#fdca26"
             ],
             [
              1,
              "#f0f921"
             ]
            ],
            "type": "surface"
           }
          ],
          "table": [
           {
            "cells": {
             "fill": {
              "color": "#EBF0F8"
             },
             "line": {
              "color": "white"
             }
            },
            "header": {
             "fill": {
              "color": "#C8D4E3"
             },
             "line": {
              "color": "white"
             }
            },
            "type": "table"
           }
          ]
         },
         "layout": {
          "annotationdefaults": {
           "arrowcolor": "#2a3f5f",
           "arrowhead": 0,
           "arrowwidth": 1
          },
          "autotypenumbers": "strict",
          "coloraxis": {
           "colorbar": {
            "outlinewidth": 0,
            "ticks": ""
           }
          },
          "colorscale": {
           "diverging": [
            [
             0,
             "#8e0152"
            ],
            [
             0.1,
             "#c51b7d"
            ],
            [
             0.2,
             "#de77ae"
            ],
            [
             0.3,
             "#f1b6da"
            ],
            [
             0.4,
             "#fde0ef"
            ],
            [
             0.5,
             "#f7f7f7"
            ],
            [
             0.6,
             "#e6f5d0"
            ],
            [
             0.7,
             "#b8e186"
            ],
            [
             0.8,
             "#7fbc41"
            ],
            [
             0.9,
             "#4d9221"
            ],
            [
             1,
             "#276419"
            ]
           ],
           "sequential": [
            [
             0,
             "#0d0887"
            ],
            [
             0.1111111111111111,
             "#46039f"
            ],
            [
             0.2222222222222222,
             "#7201a8"
            ],
            [
             0.3333333333333333,
             "#9c179e"
            ],
            [
             0.4444444444444444,
             "#bd3786"
            ],
            [
             0.5555555555555556,
             "#d8576b"
            ],
            [
             0.6666666666666666,
             "#ed7953"
            ],
            [
             0.7777777777777778,
             "#fb9f3a"
            ],
            [
             0.8888888888888888,
             "#fdca26"
            ],
            [
             1,
             "#f0f921"
            ]
           ],
           "sequentialminus": [
            [
             0,
             "#0d0887"
            ],
            [
             0.1111111111111111,
             "#46039f"
            ],
            [
             0.2222222222222222,
             "#7201a8"
            ],
            [
             0.3333333333333333,
             "#9c179e"
            ],
            [
             0.4444444444444444,
             "#bd3786"
            ],
            [
             0.5555555555555556,
             "#d8576b"
            ],
            [
             0.6666666666666666,
             "#ed7953"
            ],
            [
             0.7777777777777778,
             "#fb9f3a"
            ],
            [
             0.8888888888888888,
             "#fdca26"
            ],
            [
             1,
             "#f0f921"
            ]
           ]
          },
          "colorway": [
           "#636efa",
           "#EF553B",
           "#00cc96",
           "#ab63fa",
           "#FFA15A",
           "#19d3f3",
           "#FF6692",
           "#B6E880",
           "#FF97FF",
           "#FECB52"
          ],
          "font": {
           "color": "#2a3f5f"
          },
          "geo": {
           "bgcolor": "white",
           "lakecolor": "white",
           "landcolor": "#E5ECF6",
           "showlakes": true,
           "showland": true,
           "subunitcolor": "white"
          },
          "hoverlabel": {
           "align": "left"
          },
          "hovermode": "closest",
          "mapbox": {
           "style": "light"
          },
          "paper_bgcolor": "white",
          "plot_bgcolor": "#E5ECF6",
          "polar": {
           "angularaxis": {
            "gridcolor": "white",
            "linecolor": "white",
            "ticks": ""
           },
           "bgcolor": "#E5ECF6",
           "radialaxis": {
            "gridcolor": "white",
            "linecolor": "white",
            "ticks": ""
           }
          },
          "scene": {
           "xaxis": {
            "backgroundcolor": "#E5ECF6",
            "gridcolor": "white",
            "gridwidth": 2,
            "linecolor": "white",
            "showbackground": true,
            "ticks": "",
            "zerolinecolor": "white"
           },
           "yaxis": {
            "backgroundcolor": "#E5ECF6",
            "gridcolor": "white",
            "gridwidth": 2,
            "linecolor": "white",
            "showbackground": true,
            "ticks": "",
            "zerolinecolor": "white"
           },
           "zaxis": {
            "backgroundcolor": "#E5ECF6",
            "gridcolor": "white",
            "gridwidth": 2,
            "linecolor": "white",
            "showbackground": true,
            "ticks": "",
            "zerolinecolor": "white"
           }
          },
          "shapedefaults": {
           "line": {
            "color": "#2a3f5f"
           }
          },
          "ternary": {
           "aaxis": {
            "gridcolor": "white",
            "linecolor": "white",
            "ticks": ""
           },
           "baxis": {
            "gridcolor": "white",
            "linecolor": "white",
            "ticks": ""
           },
           "bgcolor": "#E5ECF6",
           "caxis": {
            "gridcolor": "white",
            "linecolor": "white",
            "ticks": ""
           }
          },
          "title": {
           "x": 0.05
          },
          "xaxis": {
           "automargin": true,
           "gridcolor": "white",
           "linecolor": "white",
           "ticks": "",
           "title": {
            "standoff": 15
           },
           "zerolinecolor": "white",
           "zerolinewidth": 2
          },
          "yaxis": {
           "automargin": true,
           "gridcolor": "white",
           "linecolor": "white",
           "ticks": "",
           "title": {
            "standoff": 15
           },
           "zerolinecolor": "white",
           "zerolinewidth": 2
          }
         }
        },
        "title": {
         "font": {
          "color": "#4D5663"
         }
        },
        "xaxis": {
         "gridcolor": "#E1E5ED",
         "showgrid": true,
         "tickfont": {
          "color": "#4D5663"
         },
         "title": {
          "font": {
           "color": "#4D5663"
          },
          "text": "change in log price"
         },
         "zerolinecolor": "#E1E5ED"
        },
        "yaxis": {
         "gridcolor": "#E1E5ED",
         "showgrid": true,
         "tickfont": {
          "color": "#4D5663"
         },
         "title": {
          "font": {
           "color": "#4D5663"
          },
          "text": "change in log cost"
         },
         "zerolinecolor": "#E1E5ED"
        }
       }
      },
      "text/html": [
       "<div>                            <div id=\"b9b0efe2-f37c-41d1-bf62-e4f94af81f92\" class=\"plotly-graph-div\" style=\"height:525px; width:100%;\"></div>            <script type=\"text/javascript\">                require([\"plotly\"], function(Plotly) {                    window.PLOTLYENV=window.PLOTLYENV || {};\n",
       "                    window.PLOTLYENV.BASE_URL='https://plot.ly';                                    if (document.getElementById(\"b9b0efe2-f37c-41d1-bf62-e4f94af81f92\")) {                    Plotly.newPlot(                        \"b9b0efe2-f37c-41d1-bf62-e4f94af81f92\",                        [{\"line\":{\"color\":\"rgba(255, 153, 51, 1.0)\",\"dash\":\"solid\",\"shape\":\"linear\",\"width\":1.3},\"mode\":\"lines\",\"name\":\"Avocado\",\"text\":\"\",\"type\":\"scatter\",\"x\":[-0.6931471805599453,-0.5108256237659907,-0.35667494393873245,-0.2231435513142097,-0.10536051565782628,0.0,0.09531017980432493,0.1823215567939546,0.26236426446749106,0.3364722366212129,0.4054651081081644],\"y\":[-0.15161629388198195,-0.08384878785015049,-0.0366182760892057,-3.183442760113913e-08,-3.04530575397463e-08,0.0,-3.095188309149391e-08,-3.1610536244132546e-08,-3.005624028201158e-08,-3.198682592219111e-08,-3.178275393414882e-08]},{\"line\":{\"color\":\"rgba(55, 128, 191, 1.0)\",\"dash\":\"solid\",\"shape\":\"linear\",\"width\":1.3},\"mode\":\"lines\",\"name\":\"Broccoli\",\"text\":\"\",\"type\":\"scatter\",\"x\":[-0.6931471805599453,-0.5108256237659907,-0.35667494393873245,-0.2231435513142097,-0.10536051565782628,0.0,0.09531017980432493,0.1823215567939546,0.26236426446749106,0.3364722366212129,0.4054651081081644],\"y\":[-3.198817240071844e-08,-1.5422945484206845e-08,-3.1225766238399444e-08,-8.51303953179718e-09,3.4817142441807402e-09,0.0,-9.679907811087635e-09,-2.04580194879005e-08,-2.659259692281351e-08,-2.7687855503059915e-08,-2.6631106674781987e-08]},{\"line\":{\"color\":\"rgba(50, 171, 96, 1.0)\",\"dash\":\"solid\",\"shape\":\"linear\",\"width\":1.3},\"mode\":\"lines\",\"name\":\"Canned tuna\",\"text\":\"\",\"type\":\"scatter\",\"x\":[-0.6931471805599453,-0.5108256237659907,-0.35667494393873245,-0.2231435513142097,-0.10536051565782628,0.0,0.09531017980432493,0.1823215567939546,0.26236426446749106,0.3364722366212129,0.4054651081081644],\"y\":[6.664070006929708e-08,9.606223843505625e-08,-1.3520939459535828e-08,-3.141454679106251e-08,-3.1880689485826027e-08,0.0,-3.202753125149113e-08,-3.082034264222822e-08,-2.299642236432565e-08,-3.205532302126785e-08,-3.0645047969170644e-08]},{\"line\":{\"color\":\"rgba(128, 0, 128, 1.0)\",\"dash\":\"solid\",\"shape\":\"linear\",\"width\":1.3},\"mode\":\"lines\",\"name\":\"Chickpeas\",\"text\":\"\",\"type\":\"scatter\",\"x\":[-0.6931471805599453,-0.5108256237659907,-0.35667494393873245,-0.2231435513142097,-0.10536051565782628,0.0,0.09531017980432493,0.1823215567939546,0.26236426446749106,0.3364722366212129,0.4054651081081644],\"y\":[-2.622386597840149e-08,6.727295094525012e-08,-3.206087657905967e-08,2.907287723823566e-08,-2.6886340737724112e-08,0.0,-3.046245149661747e-09,-1.847448944237817e-08,-3.148085286489197e-08,-3.1829091425023715e-08,-3.2055927204657215e-08]},{\"line\":{\"color\":\"rgba(219, 64, 82, 1.0)\",\"dash\":\"solid\",\"shape\":\"linear\",\"width\":1.3},\"mode\":\"lines\",\"name\":\"Eggs\",\"text\":\"\",\"type\":\"scatter\",\"x\":[-0.6931471805599453,-0.5108256237659907,-0.35667494393873245,-0.2231435513142097,-0.10536051565782628,0.0,0.09531017980432493,0.1823215567939546,0.26236426446749106,0.3364722366212129,0.4054651081081644],\"y\":[-1.7027787991374803e-08,-1.0749461267822177e-08,-5.686043430053887e-09,-2.431203574750868e-09,-9.63268021367683e-10,0.0,1.407069126888991e-09,-8.239582353139515e-10,1.0854629072656871e-07,-3.1628156594313514e-08,-3.138997699964449e-08]},{\"line\":{\"color\":\"rgba(0, 128, 128, 1.0)\",\"dash\":\"solid\",\"shape\":\"linear\",\"width\":1.3},\"mode\":\"lines\",\"name\":\"Feta\",\"text\":\"\",\"type\":\"scatter\",\"x\":[-0.6931471805599453,-0.5108256237659907,-0.35667494393873245,-0.2231435513142097,-0.10536051565782628,0.0,0.09531017980432493,0.1823215567939546,0.26236426446749106,0.3364722366212129,0.4054651081081644],\"y\":[-0.010306511042050461,-0.0019485542202723335,-0.00020771565256584072,5.5711427695769653e-08,7.179850656056401e-08,0.0,-3.182355185604374e-08,-3.2043550437982024e-08,6.323357526399053e-08,-2.444349281528291e-09,-3.074775048548382e-08]},{\"line\":{\"color\":\"rgba(255, 255, 51, 1.0)\",\"dash\":\"solid\",\"shape\":\"linear\",\"width\":1.3},\"mode\":\"lines\",\"name\":\"Greek yogurt\",\"text\":\"\",\"type\":\"scatter\",\"x\":[-0.6931471805599453,-0.5108256237659907,-0.35667494393873245,-0.2231435513142097,-0.10536051565782628,0.0,0.09531017980432493,0.1823215567939546,0.26236426446749106,0.3364722366212129,0.4054651081081644],\"y\":[-0.19671561967367163,-0.15415470885306956,-0.11333152475979373,-0.07410987742281709,-0.03636857695544031,0.0,0.03509212959968391,0.06899446416674697,0.10154688480774299,0.1317009946533281,0.1543563006819011]},{\"line\":{\"color\":\"rgba(128, 128, 0, 1.0)\",\"dash\":\"solid\",\"shape\":\"linear\",\"width\":1.3},\"mode\":\"lines\",\"name\":\"Milk\",\"text\":\"\",\"type\":\"scatter\",\"x\":[-0.6931471805599453,-0.5108256237659907,-0.35667494393873245,-0.2231435513142097,-0.10536051565782628,0.0,0.09531017980432493,0.1823215567939546,0.26236426446749106,0.3364722366212129,0.4054651081081644],\"y\":[-0.004435012759095991,-0.0035464392535682365,-0.002658659638264041,-0.001771663026739278,-0.0008854014337475403,0.0,0.0006867812581480187,0.000686783930118613,0.000686782880769949,0.0006867918276553242,0.0006867810992565894]},{\"line\":{\"color\":\"rgba(251, 128, 114, 1.0)\",\"dash\":\"solid\",\"shape\":\"linear\",\"width\":1.3},\"mode\":\"lines\",\"name\":\"Olive oil\",\"text\":\"\",\"type\":\"scatter\",\"x\":[-0.6931471805599453,-0.5108256237659907,-0.35667494393873245,-0.2231435513142097,-0.10536051565782628,0.0,0.09531017980432493,0.1823215567939546,0.26236426446749106,0.3364722366212129,0.4054651081081644],\"y\":[-3.1866429447776315e-08,-3.202779925933786e-08,-3.132054276132888e-08,-2.7582030031350025e-09,5.823483456265334e-09,0.0,-2.5859477925789395e-09,-3.4055485156594034e-09,-3.4934855069850186e-09,-3.420019939767873e-09,-2.0663556442845436e-09]},{\"line\":{\"color\":\"rgba(128, 177, 211, 1.0)\",\"dash\":\"solid\",\"shape\":\"linear\",\"width\":1.3},\"mode\":\"lines\",\"name\":\"Oranges\",\"text\":\"\",\"type\":\"scatter\",\"x\":[-0.6931471805599453,-0.5108256237659907,-0.35667494393873245,-0.2231435513142097,-0.10536051565782628,0.0,0.09531017980432493,0.1823215567939546,0.26236426446749106,0.3364722366212129,0.4054651081081644],\"y\":[-0.008187339155485494,-0.004994414969524292,-0.0018116531008465766,-3.193948079285957e-08,-3.2051398271727694e-08,0.0,-3.0647273522314014e-08,-3.0549339525069884e-08,-3.1656236244918536e-08,-3.2062354063908206e-08,-3.1884928761558417e-08]},{\"line\":{\"color\":\"rgba(128, 177, 211, 0.8999999999999999)\",\"dash\":\"solid\",\"shape\":\"linear\",\"width\":1.3},\"mode\":\"lines\",\"name\":\"Rice\",\"text\":\"\",\"type\":\"scatter\",\"x\":[-0.6931471805599453,-0.5108256237659907,-0.35667494393873245,-0.2231435513142097,-0.10536051565782628,0.0,0.09531017980432493,0.1823215567939546,0.26236426446749106,0.3364722366212129,0.4054651081081644],\"y\":[-3.15342714694495e-08,1.1741693105694171e-07,-3.075473534283574e-08,-4.82995400397779e-09,5.8102571474053045e-09,0.0,-6.519376726400818e-09,-1.2460313081244643e-08,-1.9002737231129434e-08,-2.7637039594616408e-08,-3.2011371510761076e-08]},{\"line\":{\"color\":\"rgba(255, 153, 51, 0.8999999999999999)\",\"dash\":\"solid\",\"shape\":\"linear\",\"width\":1.3},\"mode\":\"lines\",\"name\":\"Spinach\",\"text\":\"\",\"type\":\"scatter\",\"x\":[-0.6931471805599453,-0.5108256237659907,-0.35667494393873245,-0.2231435513142097,-0.10536051565782628,0.0,0.09531017980432493,0.1823215567939546,0.26236426446749106,0.3364722366212129,0.4054651081081644],\"y\":[-0.22769431211749067,-0.176621473050334,-0.12805073998659194,-0.0824777657258518,-0.040049991977094905,0.0,0.03850758531392979,0.0755870301993482,0.07949543741473414,0.07949543749462187,0.07949543807015644]},{\"line\":{\"color\":\"rgba(55, 128, 191, 0.8999999999999999)\",\"dash\":\"solid\",\"shape\":\"linear\",\"width\":1.3},\"mode\":\"lines\",\"name\":\"Sweet potatoes\",\"text\":\"\",\"type\":\"scatter\",\"x\":[-0.6931471805599453,-0.5108256237659907,-0.35667494393873245,-0.2231435513142097,-0.10536051565782628,0.0,0.09531017980432493,0.1823215567939546,0.26236426446749106,0.3364722366212129,0.4054651081081644],\"y\":[-0.02993811587290581,-0.02373770422341321,-0.017575426797373905,-0.011450897098374612,-0.005427877617318133,0.0,0.005398512892443285,0.010768072056921561,0.01610895239991755,0.0214214475950164,0.026705877265526267]},{\"line\":{\"color\":\"rgba(50, 171, 96, 0.8999999999999999)\",\"dash\":\"solid\",\"shape\":\"linear\",\"width\":1.3},\"mode\":\"lines\",\"name\":\"Tomato \",\"text\":\"\",\"type\":\"scatter\",\"x\":[-0.6931471805599453,-0.5108256237659907,-0.35667494393873245,-0.2231435513142097,-0.10536051565782628,0.0,0.09531017980432493,0.1823215567939546,0.26236426446749106,0.3364722366212129,0.4054651081081644],\"y\":[0.0,0.0,0.0,0.0,0.0,0.0,0.0,0.0,0.0,0.0,0.0]},{\"line\":{\"color\":\"rgba(128, 0, 128, 0.8999999999999999)\",\"dash\":\"solid\",\"shape\":\"linear\",\"width\":1.3},\"mode\":\"lines\",\"name\":\"Whole Wheat Bread\",\"text\":\"\",\"type\":\"scatter\",\"x\":[-0.6931471805599453,-0.5108256237659907,-0.35667494393873245,-0.2231435513142097,-0.10536051565782628,0.0,0.09531017980432493,0.1823215567939546,0.26236426446749106,0.3364722366212129,0.4054651081081644],\"y\":[-0.09831933666836104,-0.07786691799542489,-0.05782442719683229,-0.038175750472954004,-0.018905733632214608,0.0,0.01855486623724624,0.03677174268568552,0.0543518924703264,0.07161880801610095,0.08859263273636721]}],                        {\"legend\":{\"bgcolor\":\"#F5F6F9\",\"font\":{\"color\":\"#4D5663\"}},\"paper_bgcolor\":\"#F5F6F9\",\"plot_bgcolor\":\"#F5F6F9\",\"template\":{\"data\":{\"bar\":[{\"error_x\":{\"color\":\"#2a3f5f\"},\"error_y\":{\"color\":\"#2a3f5f\"},\"marker\":{\"line\":{\"color\":\"#E5ECF6\",\"width\":0.5},\"pattern\":{\"fillmode\":\"overlay\",\"size\":10,\"solidity\":0.2}},\"type\":\"bar\"}],\"barpolar\":[{\"marker\":{\"line\":{\"color\":\"#E5ECF6\",\"width\":0.5},\"pattern\":{\"fillmode\":\"overlay\",\"size\":10,\"solidity\":0.2}},\"type\":\"barpolar\"}],\"carpet\":[{\"aaxis\":{\"endlinecolor\":\"#2a3f5f\",\"gridcolor\":\"white\",\"linecolor\":\"white\",\"minorgridcolor\":\"white\",\"startlinecolor\":\"#2a3f5f\"},\"baxis\":{\"endlinecolor\":\"#2a3f5f\",\"gridcolor\":\"white\",\"linecolor\":\"white\",\"minorgridcolor\":\"white\",\"startlinecolor\":\"#2a3f5f\"},\"type\":\"carpet\"}],\"choropleth\":[{\"colorbar\":{\"outlinewidth\":0,\"ticks\":\"\"},\"type\":\"choropleth\"}],\"contour\":[{\"colorbar\":{\"outlinewidth\":0,\"ticks\":\"\"},\"colorscale\":[[0.0,\"#0d0887\"],[0.1111111111111111,\"#46039f\"],[0.2222222222222222,\"#7201a8\"],[0.3333333333333333,\"#9c179e\"],[0.4444444444444444,\"#bd3786\"],[0.5555555555555556,\"#d8576b\"],[0.6666666666666666,\"#ed7953\"],[0.7777777777777778,\"#fb9f3a\"],[0.8888888888888888,\"#fdca26\"],[1.0,\"#f0f921\"]],\"type\":\"contour\"}],\"contourcarpet\":[{\"colorbar\":{\"outlinewidth\":0,\"ticks\":\"\"},\"type\":\"contourcarpet\"}],\"heatmap\":[{\"colorbar\":{\"outlinewidth\":0,\"ticks\":\"\"},\"colorscale\":[[0.0,\"#0d0887\"],[0.1111111111111111,\"#46039f\"],[0.2222222222222222,\"#7201a8\"],[0.3333333333333333,\"#9c179e\"],[0.4444444444444444,\"#bd3786\"],[0.5555555555555556,\"#d8576b\"],[0.6666666666666666,\"#ed7953\"],[0.7777777777777778,\"#fb9f3a\"],[0.8888888888888888,\"#fdca26\"],[1.0,\"#f0f921\"]],\"type\":\"heatmap\"}],\"heatmapgl\":[{\"colorbar\":{\"outlinewidth\":0,\"ticks\":\"\"},\"colorscale\":[[0.0,\"#0d0887\"],[0.1111111111111111,\"#46039f\"],[0.2222222222222222,\"#7201a8\"],[0.3333333333333333,\"#9c179e\"],[0.4444444444444444,\"#bd3786\"],[0.5555555555555556,\"#d8576b\"],[0.6666666666666666,\"#ed7953\"],[0.7777777777777778,\"#fb9f3a\"],[0.8888888888888888,\"#fdca26\"],[1.0,\"#f0f921\"]],\"type\":\"heatmapgl\"}],\"histogram\":[{\"marker\":{\"pattern\":{\"fillmode\":\"overlay\",\"size\":10,\"solidity\":0.2}},\"type\":\"histogram\"}],\"histogram2d\":[{\"colorbar\":{\"outlinewidth\":0,\"ticks\":\"\"},\"colorscale\":[[0.0,\"#0d0887\"],[0.1111111111111111,\"#46039f\"],[0.2222222222222222,\"#7201a8\"],[0.3333333333333333,\"#9c179e\"],[0.4444444444444444,\"#bd3786\"],[0.5555555555555556,\"#d8576b\"],[0.6666666666666666,\"#ed7953\"],[0.7777777777777778,\"#fb9f3a\"],[0.8888888888888888,\"#fdca26\"],[1.0,\"#f0f921\"]],\"type\":\"histogram2d\"}],\"histogram2dcontour\":[{\"colorbar\":{\"outlinewidth\":0,\"ticks\":\"\"},\"colorscale\":[[0.0,\"#0d0887\"],[0.1111111111111111,\"#46039f\"],[0.2222222222222222,\"#7201a8\"],[0.3333333333333333,\"#9c179e\"],[0.4444444444444444,\"#bd3786\"],[0.5555555555555556,\"#d8576b\"],[0.6666666666666666,\"#ed7953\"],[0.7777777777777778,\"#fb9f3a\"],[0.8888888888888888,\"#fdca26\"],[1.0,\"#f0f921\"]],\"type\":\"histogram2dcontour\"}],\"mesh3d\":[{\"colorbar\":{\"outlinewidth\":0,\"ticks\":\"\"},\"type\":\"mesh3d\"}],\"parcoords\":[{\"line\":{\"colorbar\":{\"outlinewidth\":0,\"ticks\":\"\"}},\"type\":\"parcoords\"}],\"pie\":[{\"automargin\":true,\"type\":\"pie\"}],\"scatter\":[{\"marker\":{\"colorbar\":{\"outlinewidth\":0,\"ticks\":\"\"}},\"type\":\"scatter\"}],\"scatter3d\":[{\"line\":{\"colorbar\":{\"outlinewidth\":0,\"ticks\":\"\"}},\"marker\":{\"colorbar\":{\"outlinewidth\":0,\"ticks\":\"\"}},\"type\":\"scatter3d\"}],\"scattercarpet\":[{\"marker\":{\"colorbar\":{\"outlinewidth\":0,\"ticks\":\"\"}},\"type\":\"scattercarpet\"}],\"scattergeo\":[{\"marker\":{\"colorbar\":{\"outlinewidth\":0,\"ticks\":\"\"}},\"type\":\"scattergeo\"}],\"scattergl\":[{\"marker\":{\"colorbar\":{\"outlinewidth\":0,\"ticks\":\"\"}},\"type\":\"scattergl\"}],\"scattermapbox\":[{\"marker\":{\"colorbar\":{\"outlinewidth\":0,\"ticks\":\"\"}},\"type\":\"scattermapbox\"}],\"scatterpolar\":[{\"marker\":{\"colorbar\":{\"outlinewidth\":0,\"ticks\":\"\"}},\"type\":\"scatterpolar\"}],\"scatterpolargl\":[{\"marker\":{\"colorbar\":{\"outlinewidth\":0,\"ticks\":\"\"}},\"type\":\"scatterpolargl\"}],\"scatterternary\":[{\"marker\":{\"colorbar\":{\"outlinewidth\":0,\"ticks\":\"\"}},\"type\":\"scatterternary\"}],\"surface\":[{\"colorbar\":{\"outlinewidth\":0,\"ticks\":\"\"},\"colorscale\":[[0.0,\"#0d0887\"],[0.1111111111111111,\"#46039f\"],[0.2222222222222222,\"#7201a8\"],[0.3333333333333333,\"#9c179e\"],[0.4444444444444444,\"#bd3786\"],[0.5555555555555556,\"#d8576b\"],[0.6666666666666666,\"#ed7953\"],[0.7777777777777778,\"#fb9f3a\"],[0.8888888888888888,\"#fdca26\"],[1.0,\"#f0f921\"]],\"type\":\"surface\"}],\"table\":[{\"cells\":{\"fill\":{\"color\":\"#EBF0F8\"},\"line\":{\"color\":\"white\"}},\"header\":{\"fill\":{\"color\":\"#C8D4E3\"},\"line\":{\"color\":\"white\"}},\"type\":\"table\"}]},\"layout\":{\"annotationdefaults\":{\"arrowcolor\":\"#2a3f5f\",\"arrowhead\":0,\"arrowwidth\":1},\"autotypenumbers\":\"strict\",\"coloraxis\":{\"colorbar\":{\"outlinewidth\":0,\"ticks\":\"\"}},\"colorscale\":{\"diverging\":[[0,\"#8e0152\"],[0.1,\"#c51b7d\"],[0.2,\"#de77ae\"],[0.3,\"#f1b6da\"],[0.4,\"#fde0ef\"],[0.5,\"#f7f7f7\"],[0.6,\"#e6f5d0\"],[0.7,\"#b8e186\"],[0.8,\"#7fbc41\"],[0.9,\"#4d9221\"],[1,\"#276419\"]],\"sequential\":[[0.0,\"#0d0887\"],[0.1111111111111111,\"#46039f\"],[0.2222222222222222,\"#7201a8\"],[0.3333333333333333,\"#9c179e\"],[0.4444444444444444,\"#bd3786\"],[0.5555555555555556,\"#d8576b\"],[0.6666666666666666,\"#ed7953\"],[0.7777777777777778,\"#fb9f3a\"],[0.8888888888888888,\"#fdca26\"],[1.0,\"#f0f921\"]],\"sequentialminus\":[[0.0,\"#0d0887\"],[0.1111111111111111,\"#46039f\"],[0.2222222222222222,\"#7201a8\"],[0.3333333333333333,\"#9c179e\"],[0.4444444444444444,\"#bd3786\"],[0.5555555555555556,\"#d8576b\"],[0.6666666666666666,\"#ed7953\"],[0.7777777777777778,\"#fb9f3a\"],[0.8888888888888888,\"#fdca26\"],[1.0,\"#f0f921\"]]},\"colorway\":[\"#636efa\",\"#EF553B\",\"#00cc96\",\"#ab63fa\",\"#FFA15A\",\"#19d3f3\",\"#FF6692\",\"#B6E880\",\"#FF97FF\",\"#FECB52\"],\"font\":{\"color\":\"#2a3f5f\"},\"geo\":{\"bgcolor\":\"white\",\"lakecolor\":\"white\",\"landcolor\":\"#E5ECF6\",\"showlakes\":true,\"showland\":true,\"subunitcolor\":\"white\"},\"hoverlabel\":{\"align\":\"left\"},\"hovermode\":\"closest\",\"mapbox\":{\"style\":\"light\"},\"paper_bgcolor\":\"white\",\"plot_bgcolor\":\"#E5ECF6\",\"polar\":{\"angularaxis\":{\"gridcolor\":\"white\",\"linecolor\":\"white\",\"ticks\":\"\"},\"bgcolor\":\"#E5ECF6\",\"radialaxis\":{\"gridcolor\":\"white\",\"linecolor\":\"white\",\"ticks\":\"\"}},\"scene\":{\"xaxis\":{\"backgroundcolor\":\"#E5ECF6\",\"gridcolor\":\"white\",\"gridwidth\":2,\"linecolor\":\"white\",\"showbackground\":true,\"ticks\":\"\",\"zerolinecolor\":\"white\"},\"yaxis\":{\"backgroundcolor\":\"#E5ECF6\",\"gridcolor\":\"white\",\"gridwidth\":2,\"linecolor\":\"white\",\"showbackground\":true,\"ticks\":\"\",\"zerolinecolor\":\"white\"},\"zaxis\":{\"backgroundcolor\":\"#E5ECF6\",\"gridcolor\":\"white\",\"gridwidth\":2,\"linecolor\":\"white\",\"showbackground\":true,\"ticks\":\"\",\"zerolinecolor\":\"white\"}},\"shapedefaults\":{\"line\":{\"color\":\"#2a3f5f\"}},\"ternary\":{\"aaxis\":{\"gridcolor\":\"white\",\"linecolor\":\"white\",\"ticks\":\"\"},\"baxis\":{\"gridcolor\":\"white\",\"linecolor\":\"white\",\"ticks\":\"\"},\"bgcolor\":\"#E5ECF6\",\"caxis\":{\"gridcolor\":\"white\",\"linecolor\":\"white\",\"ticks\":\"\"}},\"title\":{\"x\":0.05},\"xaxis\":{\"automargin\":true,\"gridcolor\":\"white\",\"linecolor\":\"white\",\"ticks\":\"\",\"title\":{\"standoff\":15},\"zerolinecolor\":\"white\",\"zerolinewidth\":2},\"yaxis\":{\"automargin\":true,\"gridcolor\":\"white\",\"linecolor\":\"white\",\"ticks\":\"\",\"title\":{\"standoff\":15},\"zerolinecolor\":\"white\",\"zerolinewidth\":2}}},\"title\":{\"font\":{\"color\":\"#4D5663\"}},\"xaxis\":{\"gridcolor\":\"#E1E5ED\",\"showgrid\":true,\"tickfont\":{\"color\":\"#4D5663\"},\"title\":{\"font\":{\"color\":\"#4D5663\"},\"text\":\"change in log price\"},\"zerolinecolor\":\"#E1E5ED\"},\"yaxis\":{\"gridcolor\":\"#E1E5ED\",\"showgrid\":true,\"tickfont\":{\"color\":\"#4D5663\"},\"title\":{\"font\":{\"color\":\"#4D5663\"},\"text\":\"change in log cost\"},\"zerolinecolor\":\"#E1E5ED\"}},                        {\"showLink\": true, \"linkText\": \"Export to plot.ly\", \"plotlyServerURL\": \"https://plot.ly\", \"responsive\": true}                    ).then(function(){\n",
       "                            \n",
       "var gd = document.getElementById('b9b0efe2-f37c-41d1-bf62-e4f94af81f92');\n",
       "var x = new MutationObserver(function (mutations, observer) {{\n",
       "        var display = window.getComputedStyle(gd).display;\n",
       "        if (!display || display === 'none') {{\n",
       "            console.log([gd, 'removed!']);\n",
       "            Plotly.purge(gd);\n",
       "            observer.disconnect();\n",
       "        }}\n",
       "}});\n",
       "\n",
       "// Listen for the removal of the full notebook cells\n",
       "var notebookContainer = gd.closest('#notebook-container');\n",
       "if (notebookContainer) {{\n",
       "    x.observe(notebookContainer, {childList: true});\n",
       "}}\n",
       "\n",
       "// Listen for the clearing of the current output cell\n",
       "var outputEl = gd.closest('.output');\n",
       "if (outputEl) {{\n",
       "    x.observe(outputEl, {childList: true});\n",
       "}}\n",
       "\n",
       "                        })                };                });            </script>        </div>"
      ]
     },
     "metadata": {},
     "output_type": "display_data"
    }
   ],
   "source": [
    "import cufflinks as cf\n",
    "cf.go_offline()\n",
    "scale = [.5,.6,.7,.8,.9,1.,1.1,1.2,1.3,1.4,1.5]\n",
    "cost0 = solve_subsistence_problem(FoodNutrients,PricesIM,bminM22,bmaxM22,tol=1e-6).fun\n",
    "PricesIM_response={}\n",
    "for s in scale:\n",
    "    cost = {}\n",
    "    for i,p in enumerate(PricesIM):\n",
    "        my_p = PricesIM.copy()\n",
    "        my_p[i] = p*s\n",
    "        result = solve_subsistence_problem(FoodNutrients,my_p,bminM22,bmaxM22,tol=1e-6)\n",
    "        cost[PricesIM.index[i]] = np.log(result.fun/cost0)\n",
    "    PricesIM_response[np.log(s)] = cost\n",
    "PricesIM_response = pd.DataFrame(PricesIM_response).T\n",
    "PricesIM_response.iplot(xTitle='change in log price',yTitle='change in log cost')"
   ]
  },
  {
   "cell_type": "markdown",
   "id": "b46745ff",
   "metadata": {},
   "source": [
    "Next, we look at the change on diet relative to sensitivity based on the change of price of a food item."
   ]
  },
  {
   "cell_type": "code",
   "execution_count": 53,
   "id": "2fb38ed4",
   "metadata": {},
   "outputs": [
    {
     "data": {
      "text/html": [
       "        <script type=\"text/javascript\">\n",
       "        window.PlotlyConfig = {MathJaxConfig: 'local'};\n",
       "        if (window.MathJax) {MathJax.Hub.Config({SVG: {font: \"STIX-Web\"}});}\n",
       "        if (typeof require !== 'undefined') {\n",
       "        require.undef(\"plotly\");\n",
       "        requirejs.config({\n",
       "            paths: {\n",
       "                'plotly': ['https://cdn.plot.ly/plotly-2.3.1.min']\n",
       "            }\n",
       "        });\n",
       "        require(['plotly'], function(Plotly) {\n",
       "            window._Plotly = Plotly;\n",
       "        });\n",
       "        }\n",
       "        </script>\n",
       "        "
      ]
     },
     "metadata": {},
     "output_type": "display_data"
    }
   ],
   "source": [
    "import cufflinks as cf\n",
    "cf.go_offline()\n",
    "\n",
    "def food_index(prices,FoodNutrients,bmin,bmax,ReferenceGood = 'Greek yogurt',tol=1e-6):\n",
    "    scale = [0.5,0.75,0.9,1.,1.1,1.2,1.3,1.4,1.5,2]\n",
    "    cost0 = solve_subsistence_problem(FoodNutrients,prices,bmin,bmax,tol=tol).fun\n",
    "    my_p = prices.copy()\n",
    "    diet = {}\n",
    "    for s in scale:\n",
    "        my_p[ReferenceGood] = prices[ReferenceGood]*s\n",
    "        result = solve_subsistence_problem(FoodNutrients,my_p,bmin,bmax,tol=tol)\n",
    "        diet[my_p[ReferenceGood]] = result.diet\n",
    "        \n",
    "\n",
    "    Diet_response = pd.DataFrame(diet).T\n",
    "    Diet_response.index.name = '%s Price' % ReferenceGood\n",
    "    Diet_response.reset_index(inplace=True)\n",
    "    # Get rid of units for index (cufflinks chokes)\n",
    "    Diet_response['%s Price' % ReferenceGood] = Diet_response['%s Price' % ReferenceGood].apply(lambda x: x.magnitude)\n",
    "    Diet_response = Diet_response.set_index('%s Price' % ReferenceGood)\n",
    "    # Just look at goods consumed in quantities greater than error tolerance\n",
    "    Diet_response = Diet_response.loc[:,(Diet_response>tol).sum()>0]\n",
    "    return Diet_response"
   ]
  },
  {
   "cell_type": "markdown",
   "id": "b6a422a7",
   "metadata": {},
   "source": [
    "We set it up to work for all three locations."
   ]
  },
  {
   "cell_type": "code",
   "execution_count": 58,
   "id": "8f6c8cba",
   "metadata": {},
   "outputs": [],
   "source": [
    "bmin = bminM22\n",
    "bmax = bmaxM22\n",
    "Diet_by_Place = {}\n",
    "\n",
    "Diet_by_Place['BerkeleyBowl'] = food_index(BerkBowlPrices,FoodNutrients,bmin,bmax,ReferenceGood = 'Greek yogurt',tol=1e-6)\n",
    "Diet_by_Place['Walmart'] = food_index(WalmartPrices,FoodNutrients,bmin,bmax,ReferenceGood = 'Greek yogurt',tol=1e-6)\n",
    "Diet_by_Place['IM'] = food_index(PricesIM,FoodNutrients,bmin,bmax,ReferenceGood = 'Greek yogurt',tol=1e-6)"
   ]
  },
  {
   "cell_type": "markdown",
   "id": "4f2475e1",
   "metadata": {},
   "source": [
    "We now run it for Berkeley, Fresno, and Greece markets respectively."
   ]
  },
  {
   "cell_type": "code",
   "execution_count": 59,
   "id": "c1ad6deb",
   "metadata": {},
   "outputs": [
    {
     "data": {
      "application/vnd.plotly.v1+json": {
       "config": {
        "linkText": "Export to plot.ly",
        "plotlyServerURL": "https://plot.ly",
        "showLink": true
       },
       "data": [
        {
         "line": {
          "color": "rgba(255, 153, 51, 1.0)",
          "dash": "solid",
          "shape": "linear",
          "width": 1.3
         },
         "mode": "lines",
         "name": "Avocado",
         "text": "",
         "type": "scatter",
         "x": [
          0.4238386990504271,
          0.6357580485756407,
          0.7629096582907687,
          0.8476773981008542,
          0.9324451379109396,
          1.017212877721025,
          1.1019806175311104,
          1.1867483573411959,
          1.2715160971512813,
          1.6953547962017084
         ],
         "y": [
          1.9948056465481433e-08,
          3.088348118593384e-08,
          1.9796538643251393,
          1.97965387202784,
          2.130338353542614,
          2.1304645404339557,
          2.130464656002904,
          3.5009782653718653,
          5.140884443990427,
          4.58762627930281
         ]
        },
        {
         "line": {
          "color": "rgba(55, 128, 191, 1.0)",
          "dash": "solid",
          "shape": "linear",
          "width": 1.3
         },
         "mode": "lines",
         "name": "Broccoli",
         "text": "",
         "type": "scatter",
         "x": [
          0.4238386990504271,
          0.6357580485756407,
          0.7629096582907687,
          0.8476773981008542,
          0.9324451379109396,
          1.017212877721025,
          1.1019806175311104,
          1.1867483573411959,
          1.2715160971512813,
          1.6953547962017084
         ],
         "y": [
          3.515475029135648,
          1.0927334982295882e-08,
          5.737705279894725e-10,
          1.445138340125381e-09,
          0.4610746627504227,
          0.4615301855990988,
          0.46153058180884726,
          1.649095571930808e-08,
          0.13091121842272613,
          9.611576011187004e-12
         ]
        },
        {
         "line": {
          "color": "rgba(50, 171, 96, 1.0)",
          "dash": "solid",
          "shape": "linear",
          "width": 1.3
         },
         "mode": "lines",
         "name": "Canned tuna",
         "text": "",
         "type": "scatter",
         "x": [
          0.4238386990504271,
          0.6357580485756407,
          0.7629096582907687,
          0.8476773981008542,
          0.9324451379109396,
          1.017212877721025,
          1.1019806175311104,
          1.1867483573411959,
          1.2715160971512813,
          1.6953547962017084
         ],
         "y": [
          0.6033244524158498,
          0.6002227066411351,
          0.3436776257791848,
          0.34367762442181643,
          0.3245432788956174,
          0.3245411424224814,
          0.3245411445670794,
          0.5571291697627,
          0.8395099771445261,
          0.9338521400017674
         ]
        },
        {
         "line": {
          "color": "rgba(128, 0, 128, 1.0)",
          "dash": "solid",
          "shape": "linear",
          "width": 1.3
         },
         "mode": "lines",
         "name": "Chickpeas",
         "text": "",
         "type": "scatter",
         "x": [
          0.4238386990504271,
          0.6357580485756407,
          0.7629096582907687,
          0.8476773981008542,
          0.9324451379109396,
          1.017212877721025,
          1.1019806175311104,
          1.1867483573411959,
          1.2715160971512813,
          1.6953547962017084
         ],
         "y": [
          2.467810802062529,
          2.932948475766531,
          3.285490143683548,
          3.2854901454162997,
          3.2513357904830475,
          3.2512811666270878,
          3.2512811192272935,
          3.369489755154606,
          3.3902365792105846,
          3.527644175115403
         ]
        },
        {
         "line": {
          "color": "rgba(219, 64, 82, 1.0)",
          "dash": "solid",
          "shape": "linear",
          "width": 1.3
         },
         "mode": "lines",
         "name": "Greek yogurt",
         "text": "",
         "type": "scatter",
         "x": [
          0.4238386990504271,
          0.6357580485756407,
          0.7629096582907687,
          0.8476773981008542,
          0.9324451379109396,
          1.017212877721025,
          1.1019806175311104,
          1.1867483573411959,
          1.2715160971512813,
          1.6953547962017084
         ],
         "y": [
          4.305701046281184,
          4.0715939932868945,
          3.057891812624501,
          3.057891806353821,
          3.011407048324429,
          3.0114024337581826,
          3.01140242035854,
          1.8618808300115126,
          0.46626833896183,
          5.315179471860694e-11
         ]
        },
        {
         "line": {
          "color": "rgba(0, 128, 128, 1.0)",
          "dash": "solid",
          "shape": "linear",
          "width": 1.3
         },
         "mode": "lines",
         "name": "Milk",
         "text": "",
         "type": "scatter",
         "x": [
          0.4238386990504271,
          0.6357580485756407,
          0.7629096582907687,
          0.8476773981008542,
          0.9324451379109396,
          1.017212877721025,
          1.1019806175311104,
          1.1867483573411959,
          1.2715160971512813,
          1.6953547962017084
         ],
         "y": [
          4.999269243883706e-09,
          1.400891902317003e-09,
          1.798984181372459e-10,
          8.01827511970857e-10,
          1.0222313214954136e-06,
          2.5881146647859787e-09,
          1.4917485473081683e-09,
          0.9306415175684003,
          2.8436612237588457,
          2.576550696752831
         ]
        },
        {
         "line": {
          "color": "rgba(255, 255, 51, 1.0)",
          "dash": "solid",
          "shape": "linear",
          "width": 1.3
         },
         "mode": "lines",
         "name": "Olive oil",
         "text": "",
         "type": "scatter",
         "x": [
          0.4238386990504271,
          0.6357580485756407,
          0.7629096582907687,
          0.8476773981008542,
          0.9324451379109396,
          1.017212877721025,
          1.1019806175311104,
          1.1867483573411959,
          1.2715160971512813,
          1.6953547962017084
         ],
         "y": [
          5.523263994775243e-10,
          1.6987558885550452e-10,
          2.5566869243509413e-11,
          8.247043839682575e-11,
          1.6923855631771118e-07,
          3.3711763490207777e-10,
          1.4741202812952123e-10,
          3.1244601859740053e-09,
          2.4379240539082984e-05,
          0.29848505531659203
         ]
        },
        {
         "line": {
          "color": "rgba(128, 128, 0, 1.0)",
          "dash": "solid",
          "shape": "linear",
          "width": 1.3
         },
         "mode": "lines",
         "name": "Oranges",
         "text": "",
         "type": "scatter",
         "x": [
          0.4238386990504271,
          0.6357580485756407,
          0.7629096582907687,
          0.8476773981008542,
          0.9324451379109396,
          1.017212877721025,
          1.1019806175311104,
          1.1867483573411959,
          1.2715160971512813,
          1.6953547962017084
         ],
         "y": [
          3.3397227049595443e-09,
          7.764972394241771e-10,
          9.147500449857814e-11,
          2.408929616773425e-10,
          5.462583248204968e-07,
          8.934505797015972e-10,
          2.927468811307985e-10,
          1.7646629517909371e-09,
          1.811364775576011e-06,
          2.673175003756349e-10
         ]
        },
        {
         "line": {
          "color": "rgba(251, 128, 114, 1.0)",
          "dash": "solid",
          "shape": "linear",
          "width": 1.3
         },
         "mode": "lines",
         "name": "Rice",
         "text": "",
         "type": "scatter",
         "x": [
          0.4238386990504271,
          0.6357580485756407,
          0.7629096582907687,
          0.8476773981008542,
          0.9324451379109396,
          1.017212877721025,
          1.1019806175311104,
          1.1867483573411959,
          1.2715160971512813,
          1.6953547962017084
         ],
         "y": [
          2.0767167091536526e-09,
          5.123393296727866e-10,
          1.551474190422345e-10,
          2.5811248010546865e-09,
          3.654724914204398e-05,
          3.2342153422196093e-08,
          2.5056552650680618e-09,
          8.019685703834124e-09,
          3.224534750374052e-06,
          1.8164113227901363e-09
         ]
        },
        {
         "line": {
          "color": "rgba(128, 177, 211, 1.0)",
          "dash": "solid",
          "shape": "linear",
          "width": 1.3
         },
         "mode": "lines",
         "name": "Spinach",
         "text": "",
         "type": "scatter",
         "x": [
          0.4238386990504271,
          0.6357580485756407,
          0.7629096582907687,
          0.8476773981008542,
          0.9324451379109396,
          1.017212877721025,
          1.1019806175311104,
          1.1867483573411959,
          1.2715160971512813,
          1.6953547962017084
         ],
         "y": [
          4.7570336242047855,
          5.6582457520640945,
          3.2480372590437407,
          3.248037251198214,
          2.9463947442642544,
          2.946110898495731,
          2.9461106482891477,
          1.906765605606331,
          0.7015089301343677,
          1.7417600573353118
         ]
        },
        {
         "line": {
          "color": "rgba(128, 177, 211, 0.8999999999999999)",
          "dash": "solid",
          "shape": "linear",
          "width": 1.3
         },
         "mode": "lines",
         "name": "Sweet potatoes",
         "text": "",
         "type": "scatter",
         "x": [
          0.4238386990504271,
          0.6357580485756407,
          0.7629096582907687,
          0.8476773981008542,
          0.9324451379109396,
          1.017212877721025,
          1.1019806175311104,
          1.1867483573411959,
          1.2715160971512813,
          1.6953547962017084
         ],
         "y": [
          1.580525409892603e-07,
          1.3389439954783462,
          1.7738072835605783,
          1.773807282518785,
          1.6312748557050194,
          1.6311516470166958,
          1.6311515357650235,
          1.4345915446413147,
          0.6456956348889858,
          0.05882980046264398
         ]
        },
        {
         "line": {
          "color": "rgba(255, 153, 51, 0.8999999999999999)",
          "dash": "solid",
          "shape": "linear",
          "width": 1.3
         },
         "mode": "lines",
         "name": "Whole Wheat Bread",
         "text": "",
         "type": "scatter",
         "x": [
          0.4238386990504271,
          0.6357580485756407,
          0.7629096582907687,
          0.8476773981008542,
          0.9324451379109396,
          1.017212877721025,
          1.1019806175311104,
          1.1867483573411959,
          1.2715160971512813,
          1.6953547962017084
         ],
         "y": [
          0.6919489695945766,
          0.8720092265154401,
          1.0424218236409333,
          1.042421824670112,
          1.0317797629612961,
          1.0317646436703773,
          1.0317646315193267,
          1.2025390708883745,
          1.380152406887629,
          1.3957247013697471
         ]
        }
       ],
       "layout": {
        "legend": {
         "bgcolor": "#F5F6F9",
         "font": {
          "color": "#4D5663"
         }
        },
        "paper_bgcolor": "#F5F6F9",
        "plot_bgcolor": "#F5F6F9",
        "template": {
         "data": {
          "bar": [
           {
            "error_x": {
             "color": "#2a3f5f"
            },
            "error_y": {
             "color": "#2a3f5f"
            },
            "marker": {
             "line": {
              "color": "#E5ECF6",
              "width": 0.5
             },
             "pattern": {
              "fillmode": "overlay",
              "size": 10,
              "solidity": 0.2
             }
            },
            "type": "bar"
           }
          ],
          "barpolar": [
           {
            "marker": {
             "line": {
              "color": "#E5ECF6",
              "width": 0.5
             },
             "pattern": {
              "fillmode": "overlay",
              "size": 10,
              "solidity": 0.2
             }
            },
            "type": "barpolar"
           }
          ],
          "carpet": [
           {
            "aaxis": {
             "endlinecolor": "#2a3f5f",
             "gridcolor": "white",
             "linecolor": "white",
             "minorgridcolor": "white",
             "startlinecolor": "#2a3f5f"
            },
            "baxis": {
             "endlinecolor": "#2a3f5f",
             "gridcolor": "white",
             "linecolor": "white",
             "minorgridcolor": "white",
             "startlinecolor": "#2a3f5f"
            },
            "type": "carpet"
           }
          ],
          "choropleth": [
           {
            "colorbar": {
             "outlinewidth": 0,
             "ticks": ""
            },
            "type": "choropleth"
           }
          ],
          "contour": [
           {
            "colorbar": {
             "outlinewidth": 0,
             "ticks": ""
            },
            "colorscale": [
             [
              0,
              "#0d0887"
             ],
             [
              0.1111111111111111,
              "#46039f"
             ],
             [
              0.2222222222222222,
              "#7201a8"
             ],
             [
              0.3333333333333333,
              "#9c179e"
             ],
             [
              0.4444444444444444,
              "#bd3786"
             ],
             [
              0.5555555555555556,
              "#d8576b"
             ],
             [
              0.6666666666666666,
              "#ed7953"
             ],
             [
              0.7777777777777778,
              "#fb9f3a"
             ],
             [
              0.8888888888888888,
              "#fdca26"
             ],
             [
              1,
              "#f0f921"
             ]
            ],
            "type": "contour"
           }
          ],
          "contourcarpet": [
           {
            "colorbar": {
             "outlinewidth": 0,
             "ticks": ""
            },
            "type": "contourcarpet"
           }
          ],
          "heatmap": [
           {
            "colorbar": {
             "outlinewidth": 0,
             "ticks": ""
            },
            "colorscale": [
             [
              0,
              "#0d0887"
             ],
             [
              0.1111111111111111,
              "#46039f"
             ],
             [
              0.2222222222222222,
              "#7201a8"
             ],
             [
              0.3333333333333333,
              "#9c179e"
             ],
             [
              0.4444444444444444,
              "#bd3786"
             ],
             [
              0.5555555555555556,
              "#d8576b"
             ],
             [
              0.6666666666666666,
              "#ed7953"
             ],
             [
              0.7777777777777778,
              "#fb9f3a"
             ],
             [
              0.8888888888888888,
              "#fdca26"
             ],
             [
              1,
              "#f0f921"
             ]
            ],
            "type": "heatmap"
           }
          ],
          "heatmapgl": [
           {
            "colorbar": {
             "outlinewidth": 0,
             "ticks": ""
            },
            "colorscale": [
             [
              0,
              "#0d0887"
             ],
             [
              0.1111111111111111,
              "#46039f"
             ],
             [
              0.2222222222222222,
              "#7201a8"
             ],
             [
              0.3333333333333333,
              "#9c179e"
             ],
             [
              0.4444444444444444,
              "#bd3786"
             ],
             [
              0.5555555555555556,
              "#d8576b"
             ],
             [
              0.6666666666666666,
              "#ed7953"
             ],
             [
              0.7777777777777778,
              "#fb9f3a"
             ],
             [
              0.8888888888888888,
              "#fdca26"
             ],
             [
              1,
              "#f0f921"
             ]
            ],
            "type": "heatmapgl"
           }
          ],
          "histogram": [
           {
            "marker": {
             "pattern": {
              "fillmode": "overlay",
              "size": 10,
              "solidity": 0.2
             }
            },
            "type": "histogram"
           }
          ],
          "histogram2d": [
           {
            "colorbar": {
             "outlinewidth": 0,
             "ticks": ""
            },
            "colorscale": [
             [
              0,
              "#0d0887"
             ],
             [
              0.1111111111111111,
              "#46039f"
             ],
             [
              0.2222222222222222,
              "#7201a8"
             ],
             [
              0.3333333333333333,
              "#9c179e"
             ],
             [
              0.4444444444444444,
              "#bd3786"
             ],
             [
              0.5555555555555556,
              "#d8576b"
             ],
             [
              0.6666666666666666,
              "#ed7953"
             ],
             [
              0.7777777777777778,
              "#fb9f3a"
             ],
             [
              0.8888888888888888,
              "#fdca26"
             ],
             [
              1,
              "#f0f921"
             ]
            ],
            "type": "histogram2d"
           }
          ],
          "histogram2dcontour": [
           {
            "colorbar": {
             "outlinewidth": 0,
             "ticks": ""
            },
            "colorscale": [
             [
              0,
              "#0d0887"
             ],
             [
              0.1111111111111111,
              "#46039f"
             ],
             [
              0.2222222222222222,
              "#7201a8"
             ],
             [
              0.3333333333333333,
              "#9c179e"
             ],
             [
              0.4444444444444444,
              "#bd3786"
             ],
             [
              0.5555555555555556,
              "#d8576b"
             ],
             [
              0.6666666666666666,
              "#ed7953"
             ],
             [
              0.7777777777777778,
              "#fb9f3a"
             ],
             [
              0.8888888888888888,
              "#fdca26"
             ],
             [
              1,
              "#f0f921"
             ]
            ],
            "type": "histogram2dcontour"
           }
          ],
          "mesh3d": [
           {
            "colorbar": {
             "outlinewidth": 0,
             "ticks": ""
            },
            "type": "mesh3d"
           }
          ],
          "parcoords": [
           {
            "line": {
             "colorbar": {
              "outlinewidth": 0,
              "ticks": ""
             }
            },
            "type": "parcoords"
           }
          ],
          "pie": [
           {
            "automargin": true,
            "type": "pie"
           }
          ],
          "scatter": [
           {
            "marker": {
             "colorbar": {
              "outlinewidth": 0,
              "ticks": ""
             }
            },
            "type": "scatter"
           }
          ],
          "scatter3d": [
           {
            "line": {
             "colorbar": {
              "outlinewidth": 0,
              "ticks": ""
             }
            },
            "marker": {
             "colorbar": {
              "outlinewidth": 0,
              "ticks": ""
             }
            },
            "type": "scatter3d"
           }
          ],
          "scattercarpet": [
           {
            "marker": {
             "colorbar": {
              "outlinewidth": 0,
              "ticks": ""
             }
            },
            "type": "scattercarpet"
           }
          ],
          "scattergeo": [
           {
            "marker": {
             "colorbar": {
              "outlinewidth": 0,
              "ticks": ""
             }
            },
            "type": "scattergeo"
           }
          ],
          "scattergl": [
           {
            "marker": {
             "colorbar": {
              "outlinewidth": 0,
              "ticks": ""
             }
            },
            "type": "scattergl"
           }
          ],
          "scattermapbox": [
           {
            "marker": {
             "colorbar": {
              "outlinewidth": 0,
              "ticks": ""
             }
            },
            "type": "scattermapbox"
           }
          ],
          "scatterpolar": [
           {
            "marker": {
             "colorbar": {
              "outlinewidth": 0,
              "ticks": ""
             }
            },
            "type": "scatterpolar"
           }
          ],
          "scatterpolargl": [
           {
            "marker": {
             "colorbar": {
              "outlinewidth": 0,
              "ticks": ""
             }
            },
            "type": "scatterpolargl"
           }
          ],
          "scatterternary": [
           {
            "marker": {
             "colorbar": {
              "outlinewidth": 0,
              "ticks": ""
             }
            },
            "type": "scatterternary"
           }
          ],
          "surface": [
           {
            "colorbar": {
             "outlinewidth": 0,
             "ticks": ""
            },
            "colorscale": [
             [
              0,
              "#0d0887"
             ],
             [
              0.1111111111111111,
              "#46039f"
             ],
             [
              0.2222222222222222,
              "#7201a8"
             ],
             [
              0.3333333333333333,
              "#9c179e"
             ],
             [
              0.4444444444444444,
              "#bd3786"
             ],
             [
              0.5555555555555556,
              "#d8576b"
             ],
             [
              0.6666666666666666,
              "#ed7953"
             ],
             [
              0.7777777777777778,
              "#fb9f3a"
             ],
             [
              0.8888888888888888,
              "#fdca26"
             ],
             [
              1,
              "#f0f921"
             ]
            ],
            "type": "surface"
           }
          ],
          "table": [
           {
            "cells": {
             "fill": {
              "color": "#EBF0F8"
             },
             "line": {
              "color": "white"
             }
            },
            "header": {
             "fill": {
              "color": "#C8D4E3"
             },
             "line": {
              "color": "white"
             }
            },
            "type": "table"
           }
          ]
         },
         "layout": {
          "annotationdefaults": {
           "arrowcolor": "#2a3f5f",
           "arrowhead": 0,
           "arrowwidth": 1
          },
          "autotypenumbers": "strict",
          "coloraxis": {
           "colorbar": {
            "outlinewidth": 0,
            "ticks": ""
           }
          },
          "colorscale": {
           "diverging": [
            [
             0,
             "#8e0152"
            ],
            [
             0.1,
             "#c51b7d"
            ],
            [
             0.2,
             "#de77ae"
            ],
            [
             0.3,
             "#f1b6da"
            ],
            [
             0.4,
             "#fde0ef"
            ],
            [
             0.5,
             "#f7f7f7"
            ],
            [
             0.6,
             "#e6f5d0"
            ],
            [
             0.7,
             "#b8e186"
            ],
            [
             0.8,
             "#7fbc41"
            ],
            [
             0.9,
             "#4d9221"
            ],
            [
             1,
             "#276419"
            ]
           ],
           "sequential": [
            [
             0,
             "#0d0887"
            ],
            [
             0.1111111111111111,
             "#46039f"
            ],
            [
             0.2222222222222222,
             "#7201a8"
            ],
            [
             0.3333333333333333,
             "#9c179e"
            ],
            [
             0.4444444444444444,
             "#bd3786"
            ],
            [
             0.5555555555555556,
             "#d8576b"
            ],
            [
             0.6666666666666666,
             "#ed7953"
            ],
            [
             0.7777777777777778,
             "#fb9f3a"
            ],
            [
             0.8888888888888888,
             "#fdca26"
            ],
            [
             1,
             "#f0f921"
            ]
           ],
           "sequentialminus": [
            [
             0,
             "#0d0887"
            ],
            [
             0.1111111111111111,
             "#46039f"
            ],
            [
             0.2222222222222222,
             "#7201a8"
            ],
            [
             0.3333333333333333,
             "#9c179e"
            ],
            [
             0.4444444444444444,
             "#bd3786"
            ],
            [
             0.5555555555555556,
             "#d8576b"
            ],
            [
             0.6666666666666666,
             "#ed7953"
            ],
            [
             0.7777777777777778,
             "#fb9f3a"
            ],
            [
             0.8888888888888888,
             "#fdca26"
            ],
            [
             1,
             "#f0f921"
            ]
           ]
          },
          "colorway": [
           "#636efa",
           "#EF553B",
           "#00cc96",
           "#ab63fa",
           "#FFA15A",
           "#19d3f3",
           "#FF6692",
           "#B6E880",
           "#FF97FF",
           "#FECB52"
          ],
          "font": {
           "color": "#2a3f5f"
          },
          "geo": {
           "bgcolor": "white",
           "lakecolor": "white",
           "landcolor": "#E5ECF6",
           "showlakes": true,
           "showland": true,
           "subunitcolor": "white"
          },
          "hoverlabel": {
           "align": "left"
          },
          "hovermode": "closest",
          "mapbox": {
           "style": "light"
          },
          "paper_bgcolor": "white",
          "plot_bgcolor": "#E5ECF6",
          "polar": {
           "angularaxis": {
            "gridcolor": "white",
            "linecolor": "white",
            "ticks": ""
           },
           "bgcolor": "#E5ECF6",
           "radialaxis": {
            "gridcolor": "white",
            "linecolor": "white",
            "ticks": ""
           }
          },
          "scene": {
           "xaxis": {
            "backgroundcolor": "#E5ECF6",
            "gridcolor": "white",
            "gridwidth": 2,
            "linecolor": "white",
            "showbackground": true,
            "ticks": "",
            "zerolinecolor": "white"
           },
           "yaxis": {
            "backgroundcolor": "#E5ECF6",
            "gridcolor": "white",
            "gridwidth": 2,
            "linecolor": "white",
            "showbackground": true,
            "ticks": "",
            "zerolinecolor": "white"
           },
           "zaxis": {
            "backgroundcolor": "#E5ECF6",
            "gridcolor": "white",
            "gridwidth": 2,
            "linecolor": "white",
            "showbackground": true,
            "ticks": "",
            "zerolinecolor": "white"
           }
          },
          "shapedefaults": {
           "line": {
            "color": "#2a3f5f"
           }
          },
          "ternary": {
           "aaxis": {
            "gridcolor": "white",
            "linecolor": "white",
            "ticks": ""
           },
           "baxis": {
            "gridcolor": "white",
            "linecolor": "white",
            "ticks": ""
           },
           "bgcolor": "#E5ECF6",
           "caxis": {
            "gridcolor": "white",
            "linecolor": "white",
            "ticks": ""
           }
          },
          "title": {
           "x": 0.05
          },
          "xaxis": {
           "automargin": true,
           "gridcolor": "white",
           "linecolor": "white",
           "ticks": "",
           "title": {
            "standoff": 15
           },
           "zerolinecolor": "white",
           "zerolinewidth": 2
          },
          "yaxis": {
           "automargin": true,
           "gridcolor": "white",
           "linecolor": "white",
           "ticks": "",
           "title": {
            "standoff": 15
           },
           "zerolinecolor": "white",
           "zerolinewidth": 2
          }
         }
        },
        "title": {
         "font": {
          "color": "#4D5663"
         }
        },
        "xaxis": {
         "gridcolor": "#E1E5ED",
         "showgrid": true,
         "tickfont": {
          "color": "#4D5663"
         },
         "title": {
          "font": {
           "color": "#4D5663"
          },
          "text": ""
         },
         "zerolinecolor": "#E1E5ED"
        },
        "yaxis": {
         "gridcolor": "#E1E5ED",
         "showgrid": true,
         "tickfont": {
          "color": "#4D5663"
         },
         "title": {
          "font": {
           "color": "#4D5663"
          },
          "text": ""
         },
         "zerolinecolor": "#E1E5ED"
        }
       }
      },
      "text/html": [
       "<div>                            <div id=\"003981d1-58bb-44e0-bd77-d36b5ddac4fb\" class=\"plotly-graph-div\" style=\"height:525px; width:100%;\"></div>            <script type=\"text/javascript\">                require([\"plotly\"], function(Plotly) {                    window.PLOTLYENV=window.PLOTLYENV || {};\n",
       "                    window.PLOTLYENV.BASE_URL='https://plot.ly';                                    if (document.getElementById(\"003981d1-58bb-44e0-bd77-d36b5ddac4fb\")) {                    Plotly.newPlot(                        \"003981d1-58bb-44e0-bd77-d36b5ddac4fb\",                        [{\"line\":{\"color\":\"rgba(255, 153, 51, 1.0)\",\"dash\":\"solid\",\"shape\":\"linear\",\"width\":1.3},\"mode\":\"lines\",\"name\":\"Avocado\",\"text\":\"\",\"type\":\"scatter\",\"x\":[0.4238386990504271,0.6357580485756407,0.7629096582907687,0.8476773981008542,0.9324451379109396,1.017212877721025,1.1019806175311104,1.1867483573411959,1.2715160971512813,1.6953547962017084],\"y\":[1.9948056465481433e-08,3.088348118593384e-08,1.9796538643251393,1.97965387202784,2.130338353542614,2.1304645404339557,2.130464656002904,3.5009782653718653,5.140884443990427,4.58762627930281]},{\"line\":{\"color\":\"rgba(55, 128, 191, 1.0)\",\"dash\":\"solid\",\"shape\":\"linear\",\"width\":1.3},\"mode\":\"lines\",\"name\":\"Broccoli\",\"text\":\"\",\"type\":\"scatter\",\"x\":[0.4238386990504271,0.6357580485756407,0.7629096582907687,0.8476773981008542,0.9324451379109396,1.017212877721025,1.1019806175311104,1.1867483573411959,1.2715160971512813,1.6953547962017084],\"y\":[3.515475029135648,1.0927334982295882e-08,5.737705279894725e-10,1.445138340125381e-09,0.4610746627504227,0.4615301855990988,0.46153058180884726,1.649095571930808e-08,0.13091121842272613,9.611576011187004e-12]},{\"line\":{\"color\":\"rgba(50, 171, 96, 1.0)\",\"dash\":\"solid\",\"shape\":\"linear\",\"width\":1.3},\"mode\":\"lines\",\"name\":\"Canned tuna\",\"text\":\"\",\"type\":\"scatter\",\"x\":[0.4238386990504271,0.6357580485756407,0.7629096582907687,0.8476773981008542,0.9324451379109396,1.017212877721025,1.1019806175311104,1.1867483573411959,1.2715160971512813,1.6953547962017084],\"y\":[0.6033244524158498,0.6002227066411351,0.3436776257791848,0.34367762442181643,0.3245432788956174,0.3245411424224814,0.3245411445670794,0.5571291697627,0.8395099771445261,0.9338521400017674]},{\"line\":{\"color\":\"rgba(128, 0, 128, 1.0)\",\"dash\":\"solid\",\"shape\":\"linear\",\"width\":1.3},\"mode\":\"lines\",\"name\":\"Chickpeas\",\"text\":\"\",\"type\":\"scatter\",\"x\":[0.4238386990504271,0.6357580485756407,0.7629096582907687,0.8476773981008542,0.9324451379109396,1.017212877721025,1.1019806175311104,1.1867483573411959,1.2715160971512813,1.6953547962017084],\"y\":[2.467810802062529,2.932948475766531,3.285490143683548,3.2854901454162997,3.2513357904830475,3.2512811666270878,3.2512811192272935,3.369489755154606,3.3902365792105846,3.527644175115403]},{\"line\":{\"color\":\"rgba(219, 64, 82, 1.0)\",\"dash\":\"solid\",\"shape\":\"linear\",\"width\":1.3},\"mode\":\"lines\",\"name\":\"Greek yogurt\",\"text\":\"\",\"type\":\"scatter\",\"x\":[0.4238386990504271,0.6357580485756407,0.7629096582907687,0.8476773981008542,0.9324451379109396,1.017212877721025,1.1019806175311104,1.1867483573411959,1.2715160971512813,1.6953547962017084],\"y\":[4.305701046281184,4.0715939932868945,3.057891812624501,3.057891806353821,3.011407048324429,3.0114024337581826,3.01140242035854,1.8618808300115126,0.46626833896183,5.315179471860694e-11]},{\"line\":{\"color\":\"rgba(0, 128, 128, 1.0)\",\"dash\":\"solid\",\"shape\":\"linear\",\"width\":1.3},\"mode\":\"lines\",\"name\":\"Milk\",\"text\":\"\",\"type\":\"scatter\",\"x\":[0.4238386990504271,0.6357580485756407,0.7629096582907687,0.8476773981008542,0.9324451379109396,1.017212877721025,1.1019806175311104,1.1867483573411959,1.2715160971512813,1.6953547962017084],\"y\":[4.999269243883706e-09,1.400891902317003e-09,1.798984181372459e-10,8.01827511970857e-10,1.0222313214954136e-06,2.5881146647859787e-09,1.4917485473081683e-09,0.9306415175684003,2.8436612237588457,2.576550696752831]},{\"line\":{\"color\":\"rgba(255, 255, 51, 1.0)\",\"dash\":\"solid\",\"shape\":\"linear\",\"width\":1.3},\"mode\":\"lines\",\"name\":\"Olive oil\",\"text\":\"\",\"type\":\"scatter\",\"x\":[0.4238386990504271,0.6357580485756407,0.7629096582907687,0.8476773981008542,0.9324451379109396,1.017212877721025,1.1019806175311104,1.1867483573411959,1.2715160971512813,1.6953547962017084],\"y\":[5.523263994775243e-10,1.6987558885550452e-10,2.5566869243509413e-11,8.247043839682575e-11,1.6923855631771118e-07,3.3711763490207777e-10,1.4741202812952123e-10,3.1244601859740053e-09,2.4379240539082984e-05,0.29848505531659203]},{\"line\":{\"color\":\"rgba(128, 128, 0, 1.0)\",\"dash\":\"solid\",\"shape\":\"linear\",\"width\":1.3},\"mode\":\"lines\",\"name\":\"Oranges\",\"text\":\"\",\"type\":\"scatter\",\"x\":[0.4238386990504271,0.6357580485756407,0.7629096582907687,0.8476773981008542,0.9324451379109396,1.017212877721025,1.1019806175311104,1.1867483573411959,1.2715160971512813,1.6953547962017084],\"y\":[3.3397227049595443e-09,7.764972394241771e-10,9.147500449857814e-11,2.408929616773425e-10,5.462583248204968e-07,8.934505797015972e-10,2.927468811307985e-10,1.7646629517909371e-09,1.811364775576011e-06,2.673175003756349e-10]},{\"line\":{\"color\":\"rgba(251, 128, 114, 1.0)\",\"dash\":\"solid\",\"shape\":\"linear\",\"width\":1.3},\"mode\":\"lines\",\"name\":\"Rice\",\"text\":\"\",\"type\":\"scatter\",\"x\":[0.4238386990504271,0.6357580485756407,0.7629096582907687,0.8476773981008542,0.9324451379109396,1.017212877721025,1.1019806175311104,1.1867483573411959,1.2715160971512813,1.6953547962017084],\"y\":[2.0767167091536526e-09,5.123393296727866e-10,1.551474190422345e-10,2.5811248010546865e-09,3.654724914204398e-05,3.2342153422196093e-08,2.5056552650680618e-09,8.019685703834124e-09,3.224534750374052e-06,1.8164113227901363e-09]},{\"line\":{\"color\":\"rgba(128, 177, 211, 1.0)\",\"dash\":\"solid\",\"shape\":\"linear\",\"width\":1.3},\"mode\":\"lines\",\"name\":\"Spinach\",\"text\":\"\",\"type\":\"scatter\",\"x\":[0.4238386990504271,0.6357580485756407,0.7629096582907687,0.8476773981008542,0.9324451379109396,1.017212877721025,1.1019806175311104,1.1867483573411959,1.2715160971512813,1.6953547962017084],\"y\":[4.7570336242047855,5.6582457520640945,3.2480372590437407,3.248037251198214,2.9463947442642544,2.946110898495731,2.9461106482891477,1.906765605606331,0.7015089301343677,1.7417600573353118]},{\"line\":{\"color\":\"rgba(128, 177, 211, 0.8999999999999999)\",\"dash\":\"solid\",\"shape\":\"linear\",\"width\":1.3},\"mode\":\"lines\",\"name\":\"Sweet potatoes\",\"text\":\"\",\"type\":\"scatter\",\"x\":[0.4238386990504271,0.6357580485756407,0.7629096582907687,0.8476773981008542,0.9324451379109396,1.017212877721025,1.1019806175311104,1.1867483573411959,1.2715160971512813,1.6953547962017084],\"y\":[1.580525409892603e-07,1.3389439954783462,1.7738072835605783,1.773807282518785,1.6312748557050194,1.6311516470166958,1.6311515357650235,1.4345915446413147,0.6456956348889858,0.05882980046264398]},{\"line\":{\"color\":\"rgba(255, 153, 51, 0.8999999999999999)\",\"dash\":\"solid\",\"shape\":\"linear\",\"width\":1.3},\"mode\":\"lines\",\"name\":\"Whole Wheat Bread\",\"text\":\"\",\"type\":\"scatter\",\"x\":[0.4238386990504271,0.6357580485756407,0.7629096582907687,0.8476773981008542,0.9324451379109396,1.017212877721025,1.1019806175311104,1.1867483573411959,1.2715160971512813,1.6953547962017084],\"y\":[0.6919489695945766,0.8720092265154401,1.0424218236409333,1.042421824670112,1.0317797629612961,1.0317646436703773,1.0317646315193267,1.2025390708883745,1.380152406887629,1.3957247013697471]}],                        {\"legend\":{\"bgcolor\":\"#F5F6F9\",\"font\":{\"color\":\"#4D5663\"}},\"paper_bgcolor\":\"#F5F6F9\",\"plot_bgcolor\":\"#F5F6F9\",\"template\":{\"data\":{\"bar\":[{\"error_x\":{\"color\":\"#2a3f5f\"},\"error_y\":{\"color\":\"#2a3f5f\"},\"marker\":{\"line\":{\"color\":\"#E5ECF6\",\"width\":0.5},\"pattern\":{\"fillmode\":\"overlay\",\"size\":10,\"solidity\":0.2}},\"type\":\"bar\"}],\"barpolar\":[{\"marker\":{\"line\":{\"color\":\"#E5ECF6\",\"width\":0.5},\"pattern\":{\"fillmode\":\"overlay\",\"size\":10,\"solidity\":0.2}},\"type\":\"barpolar\"}],\"carpet\":[{\"aaxis\":{\"endlinecolor\":\"#2a3f5f\",\"gridcolor\":\"white\",\"linecolor\":\"white\",\"minorgridcolor\":\"white\",\"startlinecolor\":\"#2a3f5f\"},\"baxis\":{\"endlinecolor\":\"#2a3f5f\",\"gridcolor\":\"white\",\"linecolor\":\"white\",\"minorgridcolor\":\"white\",\"startlinecolor\":\"#2a3f5f\"},\"type\":\"carpet\"}],\"choropleth\":[{\"colorbar\":{\"outlinewidth\":0,\"ticks\":\"\"},\"type\":\"choropleth\"}],\"contour\":[{\"colorbar\":{\"outlinewidth\":0,\"ticks\":\"\"},\"colorscale\":[[0.0,\"#0d0887\"],[0.1111111111111111,\"#46039f\"],[0.2222222222222222,\"#7201a8\"],[0.3333333333333333,\"#9c179e\"],[0.4444444444444444,\"#bd3786\"],[0.5555555555555556,\"#d8576b\"],[0.6666666666666666,\"#ed7953\"],[0.7777777777777778,\"#fb9f3a\"],[0.8888888888888888,\"#fdca26\"],[1.0,\"#f0f921\"]],\"type\":\"contour\"}],\"contourcarpet\":[{\"colorbar\":{\"outlinewidth\":0,\"ticks\":\"\"},\"type\":\"contourcarpet\"}],\"heatmap\":[{\"colorbar\":{\"outlinewidth\":0,\"ticks\":\"\"},\"colorscale\":[[0.0,\"#0d0887\"],[0.1111111111111111,\"#46039f\"],[0.2222222222222222,\"#7201a8\"],[0.3333333333333333,\"#9c179e\"],[0.4444444444444444,\"#bd3786\"],[0.5555555555555556,\"#d8576b\"],[0.6666666666666666,\"#ed7953\"],[0.7777777777777778,\"#fb9f3a\"],[0.8888888888888888,\"#fdca26\"],[1.0,\"#f0f921\"]],\"type\":\"heatmap\"}],\"heatmapgl\":[{\"colorbar\":{\"outlinewidth\":0,\"ticks\":\"\"},\"colorscale\":[[0.0,\"#0d0887\"],[0.1111111111111111,\"#46039f\"],[0.2222222222222222,\"#7201a8\"],[0.3333333333333333,\"#9c179e\"],[0.4444444444444444,\"#bd3786\"],[0.5555555555555556,\"#d8576b\"],[0.6666666666666666,\"#ed7953\"],[0.7777777777777778,\"#fb9f3a\"],[0.8888888888888888,\"#fdca26\"],[1.0,\"#f0f921\"]],\"type\":\"heatmapgl\"}],\"histogram\":[{\"marker\":{\"pattern\":{\"fillmode\":\"overlay\",\"size\":10,\"solidity\":0.2}},\"type\":\"histogram\"}],\"histogram2d\":[{\"colorbar\":{\"outlinewidth\":0,\"ticks\":\"\"},\"colorscale\":[[0.0,\"#0d0887\"],[0.1111111111111111,\"#46039f\"],[0.2222222222222222,\"#7201a8\"],[0.3333333333333333,\"#9c179e\"],[0.4444444444444444,\"#bd3786\"],[0.5555555555555556,\"#d8576b\"],[0.6666666666666666,\"#ed7953\"],[0.7777777777777778,\"#fb9f3a\"],[0.8888888888888888,\"#fdca26\"],[1.0,\"#f0f921\"]],\"type\":\"histogram2d\"}],\"histogram2dcontour\":[{\"colorbar\":{\"outlinewidth\":0,\"ticks\":\"\"},\"colorscale\":[[0.0,\"#0d0887\"],[0.1111111111111111,\"#46039f\"],[0.2222222222222222,\"#7201a8\"],[0.3333333333333333,\"#9c179e\"],[0.4444444444444444,\"#bd3786\"],[0.5555555555555556,\"#d8576b\"],[0.6666666666666666,\"#ed7953\"],[0.7777777777777778,\"#fb9f3a\"],[0.8888888888888888,\"#fdca26\"],[1.0,\"#f0f921\"]],\"type\":\"histogram2dcontour\"}],\"mesh3d\":[{\"colorbar\":{\"outlinewidth\":0,\"ticks\":\"\"},\"type\":\"mesh3d\"}],\"parcoords\":[{\"line\":{\"colorbar\":{\"outlinewidth\":0,\"ticks\":\"\"}},\"type\":\"parcoords\"}],\"pie\":[{\"automargin\":true,\"type\":\"pie\"}],\"scatter\":[{\"marker\":{\"colorbar\":{\"outlinewidth\":0,\"ticks\":\"\"}},\"type\":\"scatter\"}],\"scatter3d\":[{\"line\":{\"colorbar\":{\"outlinewidth\":0,\"ticks\":\"\"}},\"marker\":{\"colorbar\":{\"outlinewidth\":0,\"ticks\":\"\"}},\"type\":\"scatter3d\"}],\"scattercarpet\":[{\"marker\":{\"colorbar\":{\"outlinewidth\":0,\"ticks\":\"\"}},\"type\":\"scattercarpet\"}],\"scattergeo\":[{\"marker\":{\"colorbar\":{\"outlinewidth\":0,\"ticks\":\"\"}},\"type\":\"scattergeo\"}],\"scattergl\":[{\"marker\":{\"colorbar\":{\"outlinewidth\":0,\"ticks\":\"\"}},\"type\":\"scattergl\"}],\"scattermapbox\":[{\"marker\":{\"colorbar\":{\"outlinewidth\":0,\"ticks\":\"\"}},\"type\":\"scattermapbox\"}],\"scatterpolar\":[{\"marker\":{\"colorbar\":{\"outlinewidth\":0,\"ticks\":\"\"}},\"type\":\"scatterpolar\"}],\"scatterpolargl\":[{\"marker\":{\"colorbar\":{\"outlinewidth\":0,\"ticks\":\"\"}},\"type\":\"scatterpolargl\"}],\"scatterternary\":[{\"marker\":{\"colorbar\":{\"outlinewidth\":0,\"ticks\":\"\"}},\"type\":\"scatterternary\"}],\"surface\":[{\"colorbar\":{\"outlinewidth\":0,\"ticks\":\"\"},\"colorscale\":[[0.0,\"#0d0887\"],[0.1111111111111111,\"#46039f\"],[0.2222222222222222,\"#7201a8\"],[0.3333333333333333,\"#9c179e\"],[0.4444444444444444,\"#bd3786\"],[0.5555555555555556,\"#d8576b\"],[0.6666666666666666,\"#ed7953\"],[0.7777777777777778,\"#fb9f3a\"],[0.8888888888888888,\"#fdca26\"],[1.0,\"#f0f921\"]],\"type\":\"surface\"}],\"table\":[{\"cells\":{\"fill\":{\"color\":\"#EBF0F8\"},\"line\":{\"color\":\"white\"}},\"header\":{\"fill\":{\"color\":\"#C8D4E3\"},\"line\":{\"color\":\"white\"}},\"type\":\"table\"}]},\"layout\":{\"annotationdefaults\":{\"arrowcolor\":\"#2a3f5f\",\"arrowhead\":0,\"arrowwidth\":1},\"autotypenumbers\":\"strict\",\"coloraxis\":{\"colorbar\":{\"outlinewidth\":0,\"ticks\":\"\"}},\"colorscale\":{\"diverging\":[[0,\"#8e0152\"],[0.1,\"#c51b7d\"],[0.2,\"#de77ae\"],[0.3,\"#f1b6da\"],[0.4,\"#fde0ef\"],[0.5,\"#f7f7f7\"],[0.6,\"#e6f5d0\"],[0.7,\"#b8e186\"],[0.8,\"#7fbc41\"],[0.9,\"#4d9221\"],[1,\"#276419\"]],\"sequential\":[[0.0,\"#0d0887\"],[0.1111111111111111,\"#46039f\"],[0.2222222222222222,\"#7201a8\"],[0.3333333333333333,\"#9c179e\"],[0.4444444444444444,\"#bd3786\"],[0.5555555555555556,\"#d8576b\"],[0.6666666666666666,\"#ed7953\"],[0.7777777777777778,\"#fb9f3a\"],[0.8888888888888888,\"#fdca26\"],[1.0,\"#f0f921\"]],\"sequentialminus\":[[0.0,\"#0d0887\"],[0.1111111111111111,\"#46039f\"],[0.2222222222222222,\"#7201a8\"],[0.3333333333333333,\"#9c179e\"],[0.4444444444444444,\"#bd3786\"],[0.5555555555555556,\"#d8576b\"],[0.6666666666666666,\"#ed7953\"],[0.7777777777777778,\"#fb9f3a\"],[0.8888888888888888,\"#fdca26\"],[1.0,\"#f0f921\"]]},\"colorway\":[\"#636efa\",\"#EF553B\",\"#00cc96\",\"#ab63fa\",\"#FFA15A\",\"#19d3f3\",\"#FF6692\",\"#B6E880\",\"#FF97FF\",\"#FECB52\"],\"font\":{\"color\":\"#2a3f5f\"},\"geo\":{\"bgcolor\":\"white\",\"lakecolor\":\"white\",\"landcolor\":\"#E5ECF6\",\"showlakes\":true,\"showland\":true,\"subunitcolor\":\"white\"},\"hoverlabel\":{\"align\":\"left\"},\"hovermode\":\"closest\",\"mapbox\":{\"style\":\"light\"},\"paper_bgcolor\":\"white\",\"plot_bgcolor\":\"#E5ECF6\",\"polar\":{\"angularaxis\":{\"gridcolor\":\"white\",\"linecolor\":\"white\",\"ticks\":\"\"},\"bgcolor\":\"#E5ECF6\",\"radialaxis\":{\"gridcolor\":\"white\",\"linecolor\":\"white\",\"ticks\":\"\"}},\"scene\":{\"xaxis\":{\"backgroundcolor\":\"#E5ECF6\",\"gridcolor\":\"white\",\"gridwidth\":2,\"linecolor\":\"white\",\"showbackground\":true,\"ticks\":\"\",\"zerolinecolor\":\"white\"},\"yaxis\":{\"backgroundcolor\":\"#E5ECF6\",\"gridcolor\":\"white\",\"gridwidth\":2,\"linecolor\":\"white\",\"showbackground\":true,\"ticks\":\"\",\"zerolinecolor\":\"white\"},\"zaxis\":{\"backgroundcolor\":\"#E5ECF6\",\"gridcolor\":\"white\",\"gridwidth\":2,\"linecolor\":\"white\",\"showbackground\":true,\"ticks\":\"\",\"zerolinecolor\":\"white\"}},\"shapedefaults\":{\"line\":{\"color\":\"#2a3f5f\"}},\"ternary\":{\"aaxis\":{\"gridcolor\":\"white\",\"linecolor\":\"white\",\"ticks\":\"\"},\"baxis\":{\"gridcolor\":\"white\",\"linecolor\":\"white\",\"ticks\":\"\"},\"bgcolor\":\"#E5ECF6\",\"caxis\":{\"gridcolor\":\"white\",\"linecolor\":\"white\",\"ticks\":\"\"}},\"title\":{\"x\":0.05},\"xaxis\":{\"automargin\":true,\"gridcolor\":\"white\",\"linecolor\":\"white\",\"ticks\":\"\",\"title\":{\"standoff\":15},\"zerolinecolor\":\"white\",\"zerolinewidth\":2},\"yaxis\":{\"automargin\":true,\"gridcolor\":\"white\",\"linecolor\":\"white\",\"ticks\":\"\",\"title\":{\"standoff\":15},\"zerolinecolor\":\"white\",\"zerolinewidth\":2}}},\"title\":{\"font\":{\"color\":\"#4D5663\"}},\"xaxis\":{\"gridcolor\":\"#E1E5ED\",\"showgrid\":true,\"tickfont\":{\"color\":\"#4D5663\"},\"title\":{\"font\":{\"color\":\"#4D5663\"},\"text\":\"\"},\"zerolinecolor\":\"#E1E5ED\"},\"yaxis\":{\"gridcolor\":\"#E1E5ED\",\"showgrid\":true,\"tickfont\":{\"color\":\"#4D5663\"},\"title\":{\"font\":{\"color\":\"#4D5663\"},\"text\":\"\"},\"zerolinecolor\":\"#E1E5ED\"}},                        {\"showLink\": true, \"linkText\": \"Export to plot.ly\", \"plotlyServerURL\": \"https://plot.ly\", \"responsive\": true}                    ).then(function(){\n",
       "                            \n",
       "var gd = document.getElementById('003981d1-58bb-44e0-bd77-d36b5ddac4fb');\n",
       "var x = new MutationObserver(function (mutations, observer) {{\n",
       "        var display = window.getComputedStyle(gd).display;\n",
       "        if (!display || display === 'none') {{\n",
       "            console.log([gd, 'removed!']);\n",
       "            Plotly.purge(gd);\n",
       "            observer.disconnect();\n",
       "        }}\n",
       "}});\n",
       "\n",
       "// Listen for the removal of the full notebook cells\n",
       "var notebookContainer = gd.closest('#notebook-container');\n",
       "if (notebookContainer) {{\n",
       "    x.observe(notebookContainer, {childList: true});\n",
       "}}\n",
       "\n",
       "// Listen for the clearing of the current output cell\n",
       "var outputEl = gd.closest('.output');\n",
       "if (outputEl) {{\n",
       "    x.observe(outputEl, {childList: true});\n",
       "}}\n",
       "\n",
       "                        })                };                });            </script>        </div>"
      ]
     },
     "metadata": {},
     "output_type": "display_data"
    }
   ],
   "source": [
    "Diet_by_Place['BerkeleyBowl'].iplot()"
   ]
  },
  {
   "cell_type": "code",
   "execution_count": 60,
   "id": "29cd53f7",
   "metadata": {},
   "outputs": [
    {
     "data": {
      "application/vnd.plotly.v1+json": {
       "config": {
        "linkText": "Export to plot.ly",
        "plotlyServerURL": "https://plot.ly",
        "showLink": true
       },
       "data": [
        {
         "line": {
          "color": "rgba(255, 153, 51, 1.0)",
          "dash": "solid",
          "shape": "linear",
          "width": 1.3
         },
         "mode": "lines",
         "name": "Avocado",
         "text": "",
         "type": "scatter",
         "x": [
          0.21297486460124024,
          0.31946229690186034,
          0.3833547562822324,
          0.4259497292024805,
          0.4685447021227286,
          0.5111396750429765,
          0.5537346479632247,
          0.5963296208834726,
          0.6389245938037207,
          0.851899458404961
         ],
         "y": [
          2.0070466039745774e-08,
          6.565624336302249e-09,
          2.7367029305296124e-08,
          3.957103287705554e-08,
          1.4835278111994735e-08,
          2.0416897715773245e-08,
          3.5606087259970675e-06,
          2.0501210361418147,
          2.0501188801850168,
          3.990164216521555
         ]
        },
        {
         "line": {
          "color": "rgba(55, 128, 191, 1.0)",
          "dash": "solid",
          "shape": "linear",
          "width": 1.3
         },
         "mode": "lines",
         "name": "Chickpeas",
         "text": "",
         "type": "scatter",
         "x": [
          0.21297486460124024,
          0.31946229690186034,
          0.3833547562822324,
          0.4259497292024805,
          0.4685447021227286,
          0.5111396750429765,
          0.5537346479632247,
          0.5963296208834726,
          0.6389245938037207,
          0.851899458404961
         ],
         "y": [
          2.778234476979754,
          2.7782344802359784,
          2.778234475724123,
          2.778234472039415,
          2.7782344778947365,
          2.3601225649382345,
          2.360121478704481,
          1.726444571180896,
          1.7264451397898275,
          0.855326907147899
         ]
        },
        {
         "line": {
          "color": "rgba(50, 171, 96, 1.0)",
          "dash": "solid",
          "shape": "linear",
          "width": 1.3
         },
         "mode": "lines",
         "name": "Feta",
         "text": "",
         "type": "scatter",
         "x": [
          0.21297486460124024,
          0.31946229690186034,
          0.3833547562822324,
          0.4259497292024805,
          0.4685447021227286,
          0.5111396750429765,
          0.5537346479632247,
          0.5963296208834726,
          0.6389245938037207,
          0.851899458404961
         ],
         "y": [
          4.539394402053584e-11,
          2.630297588864166e-11,
          1.4437223099054105e-10,
          3.796811446593712e-10,
          2.7317803394826163e-10,
          0.4276262091102159,
          0.42762667394762827,
          0.7149441631525255,
          0.7149437617124471,
          1.0690514816265146
         ]
        },
        {
         "line": {
          "color": "rgba(128, 0, 128, 1.0)",
          "dash": "solid",
          "shape": "linear",
          "width": 1.3
         },
         "mode": "lines",
         "name": "Greek yogurt",
         "text": "",
         "type": "scatter",
         "x": [
          0.21297486460124024,
          0.31946229690186034,
          0.3833547562822324,
          0.4259497292024805,
          0.4685447021227286,
          0.5111396750429765,
          0.5537346479632247,
          0.5963296208834726,
          0.6389245938037207,
          0.851899458404961
         ],
         "y": [
          4.61538461555126,
          4.615384615365461,
          4.615384615097817,
          4.615384614434642,
          4.615384614600664,
          3.2255994359825073,
          3.225597934650899,
          2.291816085545944,
          2.291817397426237,
          1.140967348812746
         ]
        },
        {
         "line": {
          "color": "rgba(219, 64, 82, 1.0)",
          "dash": "solid",
          "shape": "linear",
          "width": 1.3
         },
         "mode": "lines",
         "name": "Rice",
         "text": "",
         "type": "scatter",
         "x": [
          0.21297486460124024,
          0.31946229690186034,
          0.3833547562822324,
          0.4259497292024805,
          0.4685447021227286,
          0.5111396750429765,
          0.5537346479632247,
          0.5963296208834726,
          0.6389245938037207,
          0.851899458404961
         ],
         "y": [
          1.6565199891749272,
          1.656519994289861,
          1.6565199868117069,
          1.6565199818793603,
          1.6565199910375112,
          1.5875817645064434,
          1.5875804857439608,
          0.8472442879677027,
          0.8472449549172483,
          0.15753023099622998
         ]
        },
        {
         "line": {
          "color": "rgba(0, 128, 128, 1.0)",
          "dash": "solid",
          "shape": "linear",
          "width": 1.3
         },
         "mode": "lines",
         "name": "Spinach",
         "text": "",
         "type": "scatter",
         "x": [
          0.21297486460124024,
          0.31946229690186034,
          0.3833547562822324,
          0.4259497292024805,
          0.4685447021227286,
          0.5111396750429765,
          0.5537346479632247,
          0.5963296208834726,
          0.6389245938037207,
          0.851899458404961
         ],
         "y": [
          6.63026940333752,
          6.63026941758147,
          6.630269394553364,
          6.630269378342575,
          6.6302694075707365,
          6.676808650691165,
          6.6768051517984475,
          4.64489159056589,
          4.644893334307635,
          3.714102977589696
         ]
        },
        {
         "line": {
          "color": "rgba(255, 255, 51, 1.0)",
          "dash": "solid",
          "shape": "linear",
          "width": 1.3
         },
         "mode": "lines",
         "name": "Whole Wheat Bread",
         "text": "",
         "type": "scatter",
         "x": [
          0.21297486460124024,
          0.31946229690186034,
          0.3833547562822324,
          0.4259497292024805,
          0.4685447021227286,
          0.5111396750429765,
          0.5537346479632247,
          0.5963296208834726,
          0.6389245938037207,
          0.851899458404961
         ],
         "y": [
          0.8646345366899542,
          0.8646345355298894,
          0.8646345369444569,
          0.8646345381030689,
          0.8646345362620084,
          0.8978564229649887,
          0.8978566618927094,
          1.0264715228587655,
          1.0264715015818713,
          0.983378221694394
         ]
        }
       ],
       "layout": {
        "legend": {
         "bgcolor": "#F5F6F9",
         "font": {
          "color": "#4D5663"
         }
        },
        "paper_bgcolor": "#F5F6F9",
        "plot_bgcolor": "#F5F6F9",
        "template": {
         "data": {
          "bar": [
           {
            "error_x": {
             "color": "#2a3f5f"
            },
            "error_y": {
             "color": "#2a3f5f"
            },
            "marker": {
             "line": {
              "color": "#E5ECF6",
              "width": 0.5
             },
             "pattern": {
              "fillmode": "overlay",
              "size": 10,
              "solidity": 0.2
             }
            },
            "type": "bar"
           }
          ],
          "barpolar": [
           {
            "marker": {
             "line": {
              "color": "#E5ECF6",
              "width": 0.5
             },
             "pattern": {
              "fillmode": "overlay",
              "size": 10,
              "solidity": 0.2
             }
            },
            "type": "barpolar"
           }
          ],
          "carpet": [
           {
            "aaxis": {
             "endlinecolor": "#2a3f5f",
             "gridcolor": "white",
             "linecolor": "white",
             "minorgridcolor": "white",
             "startlinecolor": "#2a3f5f"
            },
            "baxis": {
             "endlinecolor": "#2a3f5f",
             "gridcolor": "white",
             "linecolor": "white",
             "minorgridcolor": "white",
             "startlinecolor": "#2a3f5f"
            },
            "type": "carpet"
           }
          ],
          "choropleth": [
           {
            "colorbar": {
             "outlinewidth": 0,
             "ticks": ""
            },
            "type": "choropleth"
           }
          ],
          "contour": [
           {
            "colorbar": {
             "outlinewidth": 0,
             "ticks": ""
            },
            "colorscale": [
             [
              0,
              "#0d0887"
             ],
             [
              0.1111111111111111,
              "#46039f"
             ],
             [
              0.2222222222222222,
              "#7201a8"
             ],
             [
              0.3333333333333333,
              "#9c179e"
             ],
             [
              0.4444444444444444,
              "#bd3786"
             ],
             [
              0.5555555555555556,
              "#d8576b"
             ],
             [
              0.6666666666666666,
              "#ed7953"
             ],
             [
              0.7777777777777778,
              "#fb9f3a"
             ],
             [
              0.8888888888888888,
              "#fdca26"
             ],
             [
              1,
              "#f0f921"
             ]
            ],
            "type": "contour"
           }
          ],
          "contourcarpet": [
           {
            "colorbar": {
             "outlinewidth": 0,
             "ticks": ""
            },
            "type": "contourcarpet"
           }
          ],
          "heatmap": [
           {
            "colorbar": {
             "outlinewidth": 0,
             "ticks": ""
            },
            "colorscale": [
             [
              0,
              "#0d0887"
             ],
             [
              0.1111111111111111,
              "#46039f"
             ],
             [
              0.2222222222222222,
              "#7201a8"
             ],
             [
              0.3333333333333333,
              "#9c179e"
             ],
             [
              0.4444444444444444,
              "#bd3786"
             ],
             [
              0.5555555555555556,
              "#d8576b"
             ],
             [
              0.6666666666666666,
              "#ed7953"
             ],
             [
              0.7777777777777778,
              "#fb9f3a"
             ],
             [
              0.8888888888888888,
              "#fdca26"
             ],
             [
              1,
              "#f0f921"
             ]
            ],
            "type": "heatmap"
           }
          ],
          "heatmapgl": [
           {
            "colorbar": {
             "outlinewidth": 0,
             "ticks": ""
            },
            "colorscale": [
             [
              0,
              "#0d0887"
             ],
             [
              0.1111111111111111,
              "#46039f"
             ],
             [
              0.2222222222222222,
              "#7201a8"
             ],
             [
              0.3333333333333333,
              "#9c179e"
             ],
             [
              0.4444444444444444,
              "#bd3786"
             ],
             [
              0.5555555555555556,
              "#d8576b"
             ],
             [
              0.6666666666666666,
              "#ed7953"
             ],
             [
              0.7777777777777778,
              "#fb9f3a"
             ],
             [
              0.8888888888888888,
              "#fdca26"
             ],
             [
              1,
              "#f0f921"
             ]
            ],
            "type": "heatmapgl"
           }
          ],
          "histogram": [
           {
            "marker": {
             "pattern": {
              "fillmode": "overlay",
              "size": 10,
              "solidity": 0.2
             }
            },
            "type": "histogram"
           }
          ],
          "histogram2d": [
           {
            "colorbar": {
             "outlinewidth": 0,
             "ticks": ""
            },
            "colorscale": [
             [
              0,
              "#0d0887"
             ],
             [
              0.1111111111111111,
              "#46039f"
             ],
             [
              0.2222222222222222,
              "#7201a8"
             ],
             [
              0.3333333333333333,
              "#9c179e"
             ],
             [
              0.4444444444444444,
              "#bd3786"
             ],
             [
              0.5555555555555556,
              "#d8576b"
             ],
             [
              0.6666666666666666,
              "#ed7953"
             ],
             [
              0.7777777777777778,
              "#fb9f3a"
             ],
             [
              0.8888888888888888,
              "#fdca26"
             ],
             [
              1,
              "#f0f921"
             ]
            ],
            "type": "histogram2d"
           }
          ],
          "histogram2dcontour": [
           {
            "colorbar": {
             "outlinewidth": 0,
             "ticks": ""
            },
            "colorscale": [
             [
              0,
              "#0d0887"
             ],
             [
              0.1111111111111111,
              "#46039f"
             ],
             [
              0.2222222222222222,
              "#7201a8"
             ],
             [
              0.3333333333333333,
              "#9c179e"
             ],
             [
              0.4444444444444444,
              "#bd3786"
             ],
             [
              0.5555555555555556,
              "#d8576b"
             ],
             [
              0.6666666666666666,
              "#ed7953"
             ],
             [
              0.7777777777777778,
              "#fb9f3a"
             ],
             [
              0.8888888888888888,
              "#fdca26"
             ],
             [
              1,
              "#f0f921"
             ]
            ],
            "type": "histogram2dcontour"
           }
          ],
          "mesh3d": [
           {
            "colorbar": {
             "outlinewidth": 0,
             "ticks": ""
            },
            "type": "mesh3d"
           }
          ],
          "parcoords": [
           {
            "line": {
             "colorbar": {
              "outlinewidth": 0,
              "ticks": ""
             }
            },
            "type": "parcoords"
           }
          ],
          "pie": [
           {
            "automargin": true,
            "type": "pie"
           }
          ],
          "scatter": [
           {
            "marker": {
             "colorbar": {
              "outlinewidth": 0,
              "ticks": ""
             }
            },
            "type": "scatter"
           }
          ],
          "scatter3d": [
           {
            "line": {
             "colorbar": {
              "outlinewidth": 0,
              "ticks": ""
             }
            },
            "marker": {
             "colorbar": {
              "outlinewidth": 0,
              "ticks": ""
             }
            },
            "type": "scatter3d"
           }
          ],
          "scattercarpet": [
           {
            "marker": {
             "colorbar": {
              "outlinewidth": 0,
              "ticks": ""
             }
            },
            "type": "scattercarpet"
           }
          ],
          "scattergeo": [
           {
            "marker": {
             "colorbar": {
              "outlinewidth": 0,
              "ticks": ""
             }
            },
            "type": "scattergeo"
           }
          ],
          "scattergl": [
           {
            "marker": {
             "colorbar": {
              "outlinewidth": 0,
              "ticks": ""
             }
            },
            "type": "scattergl"
           }
          ],
          "scattermapbox": [
           {
            "marker": {
             "colorbar": {
              "outlinewidth": 0,
              "ticks": ""
             }
            },
            "type": "scattermapbox"
           }
          ],
          "scatterpolar": [
           {
            "marker": {
             "colorbar": {
              "outlinewidth": 0,
              "ticks": ""
             }
            },
            "type": "scatterpolar"
           }
          ],
          "scatterpolargl": [
           {
            "marker": {
             "colorbar": {
              "outlinewidth": 0,
              "ticks": ""
             }
            },
            "type": "scatterpolargl"
           }
          ],
          "scatterternary": [
           {
            "marker": {
             "colorbar": {
              "outlinewidth": 0,
              "ticks": ""
             }
            },
            "type": "scatterternary"
           }
          ],
          "surface": [
           {
            "colorbar": {
             "outlinewidth": 0,
             "ticks": ""
            },
            "colorscale": [
             [
              0,
              "#0d0887"
             ],
             [
              0.1111111111111111,
              "#46039f"
             ],
             [
              0.2222222222222222,
              "#7201a8"
             ],
             [
              0.3333333333333333,
              "#9c179e"
             ],
             [
              0.4444444444444444,
              "#bd3786"
             ],
             [
              0.5555555555555556,
              "#d8576b"
             ],
             [
              0.6666666666666666,
              "#ed7953"
             ],
             [
              0.7777777777777778,
              "#fb9f3a"
             ],
             [
              0.8888888888888888,
              "#fdca26"
             ],
             [
              1,
              "#f0f921"
             ]
            ],
            "type": "surface"
           }
          ],
          "table": [
           {
            "cells": {
             "fill": {
              "color": "#EBF0F8"
             },
             "line": {
              "color": "white"
             }
            },
            "header": {
             "fill": {
              "color": "#C8D4E3"
             },
             "line": {
              "color": "white"
             }
            },
            "type": "table"
           }
          ]
         },
         "layout": {
          "annotationdefaults": {
           "arrowcolor": "#2a3f5f",
           "arrowhead": 0,
           "arrowwidth": 1
          },
          "autotypenumbers": "strict",
          "coloraxis": {
           "colorbar": {
            "outlinewidth": 0,
            "ticks": ""
           }
          },
          "colorscale": {
           "diverging": [
            [
             0,
             "#8e0152"
            ],
            [
             0.1,
             "#c51b7d"
            ],
            [
             0.2,
             "#de77ae"
            ],
            [
             0.3,
             "#f1b6da"
            ],
            [
             0.4,
             "#fde0ef"
            ],
            [
             0.5,
             "#f7f7f7"
            ],
            [
             0.6,
             "#e6f5d0"
            ],
            [
             0.7,
             "#b8e186"
            ],
            [
             0.8,
             "#7fbc41"
            ],
            [
             0.9,
             "#4d9221"
            ],
            [
             1,
             "#276419"
            ]
           ],
           "sequential": [
            [
             0,
             "#0d0887"
            ],
            [
             0.1111111111111111,
             "#46039f"
            ],
            [
             0.2222222222222222,
             "#7201a8"
            ],
            [
             0.3333333333333333,
             "#9c179e"
            ],
            [
             0.4444444444444444,
             "#bd3786"
            ],
            [
             0.5555555555555556,
             "#d8576b"
            ],
            [
             0.6666666666666666,
             "#ed7953"
            ],
            [
             0.7777777777777778,
             "#fb9f3a"
            ],
            [
             0.8888888888888888,
             "#fdca26"
            ],
            [
             1,
             "#f0f921"
            ]
           ],
           "sequentialminus": [
            [
             0,
             "#0d0887"
            ],
            [
             0.1111111111111111,
             "#46039f"
            ],
            [
             0.2222222222222222,
             "#7201a8"
            ],
            [
             0.3333333333333333,
             "#9c179e"
            ],
            [
             0.4444444444444444,
             "#bd3786"
            ],
            [
             0.5555555555555556,
             "#d8576b"
            ],
            [
             0.6666666666666666,
             "#ed7953"
            ],
            [
             0.7777777777777778,
             "#fb9f3a"
            ],
            [
             0.8888888888888888,
             "#fdca26"
            ],
            [
             1,
             "#f0f921"
            ]
           ]
          },
          "colorway": [
           "#636efa",
           "#EF553B",
           "#00cc96",
           "#ab63fa",
           "#FFA15A",
           "#19d3f3",
           "#FF6692",
           "#B6E880",
           "#FF97FF",
           "#FECB52"
          ],
          "font": {
           "color": "#2a3f5f"
          },
          "geo": {
           "bgcolor": "white",
           "lakecolor": "white",
           "landcolor": "#E5ECF6",
           "showlakes": true,
           "showland": true,
           "subunitcolor": "white"
          },
          "hoverlabel": {
           "align": "left"
          },
          "hovermode": "closest",
          "mapbox": {
           "style": "light"
          },
          "paper_bgcolor": "white",
          "plot_bgcolor": "#E5ECF6",
          "polar": {
           "angularaxis": {
            "gridcolor": "white",
            "linecolor": "white",
            "ticks": ""
           },
           "bgcolor": "#E5ECF6",
           "radialaxis": {
            "gridcolor": "white",
            "linecolor": "white",
            "ticks": ""
           }
          },
          "scene": {
           "xaxis": {
            "backgroundcolor": "#E5ECF6",
            "gridcolor": "white",
            "gridwidth": 2,
            "linecolor": "white",
            "showbackground": true,
            "ticks": "",
            "zerolinecolor": "white"
           },
           "yaxis": {
            "backgroundcolor": "#E5ECF6",
            "gridcolor": "white",
            "gridwidth": 2,
            "linecolor": "white",
            "showbackground": true,
            "ticks": "",
            "zerolinecolor": "white"
           },
           "zaxis": {
            "backgroundcolor": "#E5ECF6",
            "gridcolor": "white",
            "gridwidth": 2,
            "linecolor": "white",
            "showbackground": true,
            "ticks": "",
            "zerolinecolor": "white"
           }
          },
          "shapedefaults": {
           "line": {
            "color": "#2a3f5f"
           }
          },
          "ternary": {
           "aaxis": {
            "gridcolor": "white",
            "linecolor": "white",
            "ticks": ""
           },
           "baxis": {
            "gridcolor": "white",
            "linecolor": "white",
            "ticks": ""
           },
           "bgcolor": "#E5ECF6",
           "caxis": {
            "gridcolor": "white",
            "linecolor": "white",
            "ticks": ""
           }
          },
          "title": {
           "x": 0.05
          },
          "xaxis": {
           "automargin": true,
           "gridcolor": "white",
           "linecolor": "white",
           "ticks": "",
           "title": {
            "standoff": 15
           },
           "zerolinecolor": "white",
           "zerolinewidth": 2
          },
          "yaxis": {
           "automargin": true,
           "gridcolor": "white",
           "linecolor": "white",
           "ticks": "",
           "title": {
            "standoff": 15
           },
           "zerolinecolor": "white",
           "zerolinewidth": 2
          }
         }
        },
        "title": {
         "font": {
          "color": "#4D5663"
         }
        },
        "xaxis": {
         "gridcolor": "#E1E5ED",
         "showgrid": true,
         "tickfont": {
          "color": "#4D5663"
         },
         "title": {
          "font": {
           "color": "#4D5663"
          },
          "text": ""
         },
         "zerolinecolor": "#E1E5ED"
        },
        "yaxis": {
         "gridcolor": "#E1E5ED",
         "showgrid": true,
         "tickfont": {
          "color": "#4D5663"
         },
         "title": {
          "font": {
           "color": "#4D5663"
          },
          "text": ""
         },
         "zerolinecolor": "#E1E5ED"
        }
       }
      },
      "text/html": [
       "<div>                            <div id=\"d6e140b2-573c-4fd7-8e4a-cea17031673b\" class=\"plotly-graph-div\" style=\"height:525px; width:100%;\"></div>            <script type=\"text/javascript\">                require([\"plotly\"], function(Plotly) {                    window.PLOTLYENV=window.PLOTLYENV || {};\n",
       "                    window.PLOTLYENV.BASE_URL='https://plot.ly';                                    if (document.getElementById(\"d6e140b2-573c-4fd7-8e4a-cea17031673b\")) {                    Plotly.newPlot(                        \"d6e140b2-573c-4fd7-8e4a-cea17031673b\",                        [{\"line\":{\"color\":\"rgba(255, 153, 51, 1.0)\",\"dash\":\"solid\",\"shape\":\"linear\",\"width\":1.3},\"mode\":\"lines\",\"name\":\"Avocado\",\"text\":\"\",\"type\":\"scatter\",\"x\":[0.21297486460124024,0.31946229690186034,0.3833547562822324,0.4259497292024805,0.4685447021227286,0.5111396750429765,0.5537346479632247,0.5963296208834726,0.6389245938037207,0.851899458404961],\"y\":[2.0070466039745774e-08,6.565624336302249e-09,2.7367029305296124e-08,3.957103287705554e-08,1.4835278111994735e-08,2.0416897715773245e-08,3.5606087259970675e-06,2.0501210361418147,2.0501188801850168,3.990164216521555]},{\"line\":{\"color\":\"rgba(55, 128, 191, 1.0)\",\"dash\":\"solid\",\"shape\":\"linear\",\"width\":1.3},\"mode\":\"lines\",\"name\":\"Chickpeas\",\"text\":\"\",\"type\":\"scatter\",\"x\":[0.21297486460124024,0.31946229690186034,0.3833547562822324,0.4259497292024805,0.4685447021227286,0.5111396750429765,0.5537346479632247,0.5963296208834726,0.6389245938037207,0.851899458404961],\"y\":[2.778234476979754,2.7782344802359784,2.778234475724123,2.778234472039415,2.7782344778947365,2.3601225649382345,2.360121478704481,1.726444571180896,1.7264451397898275,0.855326907147899]},{\"line\":{\"color\":\"rgba(50, 171, 96, 1.0)\",\"dash\":\"solid\",\"shape\":\"linear\",\"width\":1.3},\"mode\":\"lines\",\"name\":\"Feta\",\"text\":\"\",\"type\":\"scatter\",\"x\":[0.21297486460124024,0.31946229690186034,0.3833547562822324,0.4259497292024805,0.4685447021227286,0.5111396750429765,0.5537346479632247,0.5963296208834726,0.6389245938037207,0.851899458404961],\"y\":[4.539394402053584e-11,2.630297588864166e-11,1.4437223099054105e-10,3.796811446593712e-10,2.7317803394826163e-10,0.4276262091102159,0.42762667394762827,0.7149441631525255,0.7149437617124471,1.0690514816265146]},{\"line\":{\"color\":\"rgba(128, 0, 128, 1.0)\",\"dash\":\"solid\",\"shape\":\"linear\",\"width\":1.3},\"mode\":\"lines\",\"name\":\"Greek yogurt\",\"text\":\"\",\"type\":\"scatter\",\"x\":[0.21297486460124024,0.31946229690186034,0.3833547562822324,0.4259497292024805,0.4685447021227286,0.5111396750429765,0.5537346479632247,0.5963296208834726,0.6389245938037207,0.851899458404961],\"y\":[4.61538461555126,4.615384615365461,4.615384615097817,4.615384614434642,4.615384614600664,3.2255994359825073,3.225597934650899,2.291816085545944,2.291817397426237,1.140967348812746]},{\"line\":{\"color\":\"rgba(219, 64, 82, 1.0)\",\"dash\":\"solid\",\"shape\":\"linear\",\"width\":1.3},\"mode\":\"lines\",\"name\":\"Rice\",\"text\":\"\",\"type\":\"scatter\",\"x\":[0.21297486460124024,0.31946229690186034,0.3833547562822324,0.4259497292024805,0.4685447021227286,0.5111396750429765,0.5537346479632247,0.5963296208834726,0.6389245938037207,0.851899458404961],\"y\":[1.6565199891749272,1.656519994289861,1.6565199868117069,1.6565199818793603,1.6565199910375112,1.5875817645064434,1.5875804857439608,0.8472442879677027,0.8472449549172483,0.15753023099622998]},{\"line\":{\"color\":\"rgba(0, 128, 128, 1.0)\",\"dash\":\"solid\",\"shape\":\"linear\",\"width\":1.3},\"mode\":\"lines\",\"name\":\"Spinach\",\"text\":\"\",\"type\":\"scatter\",\"x\":[0.21297486460124024,0.31946229690186034,0.3833547562822324,0.4259497292024805,0.4685447021227286,0.5111396750429765,0.5537346479632247,0.5963296208834726,0.6389245938037207,0.851899458404961],\"y\":[6.63026940333752,6.63026941758147,6.630269394553364,6.630269378342575,6.6302694075707365,6.676808650691165,6.6768051517984475,4.64489159056589,4.644893334307635,3.714102977589696]},{\"line\":{\"color\":\"rgba(255, 255, 51, 1.0)\",\"dash\":\"solid\",\"shape\":\"linear\",\"width\":1.3},\"mode\":\"lines\",\"name\":\"Whole Wheat Bread\",\"text\":\"\",\"type\":\"scatter\",\"x\":[0.21297486460124024,0.31946229690186034,0.3833547562822324,0.4259497292024805,0.4685447021227286,0.5111396750429765,0.5537346479632247,0.5963296208834726,0.6389245938037207,0.851899458404961],\"y\":[0.8646345366899542,0.8646345355298894,0.8646345369444569,0.8646345381030689,0.8646345362620084,0.8978564229649887,0.8978566618927094,1.0264715228587655,1.0264715015818713,0.983378221694394]}],                        {\"legend\":{\"bgcolor\":\"#F5F6F9\",\"font\":{\"color\":\"#4D5663\"}},\"paper_bgcolor\":\"#F5F6F9\",\"plot_bgcolor\":\"#F5F6F9\",\"template\":{\"data\":{\"bar\":[{\"error_x\":{\"color\":\"#2a3f5f\"},\"error_y\":{\"color\":\"#2a3f5f\"},\"marker\":{\"line\":{\"color\":\"#E5ECF6\",\"width\":0.5},\"pattern\":{\"fillmode\":\"overlay\",\"size\":10,\"solidity\":0.2}},\"type\":\"bar\"}],\"barpolar\":[{\"marker\":{\"line\":{\"color\":\"#E5ECF6\",\"width\":0.5},\"pattern\":{\"fillmode\":\"overlay\",\"size\":10,\"solidity\":0.2}},\"type\":\"barpolar\"}],\"carpet\":[{\"aaxis\":{\"endlinecolor\":\"#2a3f5f\",\"gridcolor\":\"white\",\"linecolor\":\"white\",\"minorgridcolor\":\"white\",\"startlinecolor\":\"#2a3f5f\"},\"baxis\":{\"endlinecolor\":\"#2a3f5f\",\"gridcolor\":\"white\",\"linecolor\":\"white\",\"minorgridcolor\":\"white\",\"startlinecolor\":\"#2a3f5f\"},\"type\":\"carpet\"}],\"choropleth\":[{\"colorbar\":{\"outlinewidth\":0,\"ticks\":\"\"},\"type\":\"choropleth\"}],\"contour\":[{\"colorbar\":{\"outlinewidth\":0,\"ticks\":\"\"},\"colorscale\":[[0.0,\"#0d0887\"],[0.1111111111111111,\"#46039f\"],[0.2222222222222222,\"#7201a8\"],[0.3333333333333333,\"#9c179e\"],[0.4444444444444444,\"#bd3786\"],[0.5555555555555556,\"#d8576b\"],[0.6666666666666666,\"#ed7953\"],[0.7777777777777778,\"#fb9f3a\"],[0.8888888888888888,\"#fdca26\"],[1.0,\"#f0f921\"]],\"type\":\"contour\"}],\"contourcarpet\":[{\"colorbar\":{\"outlinewidth\":0,\"ticks\":\"\"},\"type\":\"contourcarpet\"}],\"heatmap\":[{\"colorbar\":{\"outlinewidth\":0,\"ticks\":\"\"},\"colorscale\":[[0.0,\"#0d0887\"],[0.1111111111111111,\"#46039f\"],[0.2222222222222222,\"#7201a8\"],[0.3333333333333333,\"#9c179e\"],[0.4444444444444444,\"#bd3786\"],[0.5555555555555556,\"#d8576b\"],[0.6666666666666666,\"#ed7953\"],[0.7777777777777778,\"#fb9f3a\"],[0.8888888888888888,\"#fdca26\"],[1.0,\"#f0f921\"]],\"type\":\"heatmap\"}],\"heatmapgl\":[{\"colorbar\":{\"outlinewidth\":0,\"ticks\":\"\"},\"colorscale\":[[0.0,\"#0d0887\"],[0.1111111111111111,\"#46039f\"],[0.2222222222222222,\"#7201a8\"],[0.3333333333333333,\"#9c179e\"],[0.4444444444444444,\"#bd3786\"],[0.5555555555555556,\"#d8576b\"],[0.6666666666666666,\"#ed7953\"],[0.7777777777777778,\"#fb9f3a\"],[0.8888888888888888,\"#fdca26\"],[1.0,\"#f0f921\"]],\"type\":\"heatmapgl\"}],\"histogram\":[{\"marker\":{\"pattern\":{\"fillmode\":\"overlay\",\"size\":10,\"solidity\":0.2}},\"type\":\"histogram\"}],\"histogram2d\":[{\"colorbar\":{\"outlinewidth\":0,\"ticks\":\"\"},\"colorscale\":[[0.0,\"#0d0887\"],[0.1111111111111111,\"#46039f\"],[0.2222222222222222,\"#7201a8\"],[0.3333333333333333,\"#9c179e\"],[0.4444444444444444,\"#bd3786\"],[0.5555555555555556,\"#d8576b\"],[0.6666666666666666,\"#ed7953\"],[0.7777777777777778,\"#fb9f3a\"],[0.8888888888888888,\"#fdca26\"],[1.0,\"#f0f921\"]],\"type\":\"histogram2d\"}],\"histogram2dcontour\":[{\"colorbar\":{\"outlinewidth\":0,\"ticks\":\"\"},\"colorscale\":[[0.0,\"#0d0887\"],[0.1111111111111111,\"#46039f\"],[0.2222222222222222,\"#7201a8\"],[0.3333333333333333,\"#9c179e\"],[0.4444444444444444,\"#bd3786\"],[0.5555555555555556,\"#d8576b\"],[0.6666666666666666,\"#ed7953\"],[0.7777777777777778,\"#fb9f3a\"],[0.8888888888888888,\"#fdca26\"],[1.0,\"#f0f921\"]],\"type\":\"histogram2dcontour\"}],\"mesh3d\":[{\"colorbar\":{\"outlinewidth\":0,\"ticks\":\"\"},\"type\":\"mesh3d\"}],\"parcoords\":[{\"line\":{\"colorbar\":{\"outlinewidth\":0,\"ticks\":\"\"}},\"type\":\"parcoords\"}],\"pie\":[{\"automargin\":true,\"type\":\"pie\"}],\"scatter\":[{\"marker\":{\"colorbar\":{\"outlinewidth\":0,\"ticks\":\"\"}},\"type\":\"scatter\"}],\"scatter3d\":[{\"line\":{\"colorbar\":{\"outlinewidth\":0,\"ticks\":\"\"}},\"marker\":{\"colorbar\":{\"outlinewidth\":0,\"ticks\":\"\"}},\"type\":\"scatter3d\"}],\"scattercarpet\":[{\"marker\":{\"colorbar\":{\"outlinewidth\":0,\"ticks\":\"\"}},\"type\":\"scattercarpet\"}],\"scattergeo\":[{\"marker\":{\"colorbar\":{\"outlinewidth\":0,\"ticks\":\"\"}},\"type\":\"scattergeo\"}],\"scattergl\":[{\"marker\":{\"colorbar\":{\"outlinewidth\":0,\"ticks\":\"\"}},\"type\":\"scattergl\"}],\"scattermapbox\":[{\"marker\":{\"colorbar\":{\"outlinewidth\":0,\"ticks\":\"\"}},\"type\":\"scattermapbox\"}],\"scatterpolar\":[{\"marker\":{\"colorbar\":{\"outlinewidth\":0,\"ticks\":\"\"}},\"type\":\"scatterpolar\"}],\"scatterpolargl\":[{\"marker\":{\"colorbar\":{\"outlinewidth\":0,\"ticks\":\"\"}},\"type\":\"scatterpolargl\"}],\"scatterternary\":[{\"marker\":{\"colorbar\":{\"outlinewidth\":0,\"ticks\":\"\"}},\"type\":\"scatterternary\"}],\"surface\":[{\"colorbar\":{\"outlinewidth\":0,\"ticks\":\"\"},\"colorscale\":[[0.0,\"#0d0887\"],[0.1111111111111111,\"#46039f\"],[0.2222222222222222,\"#7201a8\"],[0.3333333333333333,\"#9c179e\"],[0.4444444444444444,\"#bd3786\"],[0.5555555555555556,\"#d8576b\"],[0.6666666666666666,\"#ed7953\"],[0.7777777777777778,\"#fb9f3a\"],[0.8888888888888888,\"#fdca26\"],[1.0,\"#f0f921\"]],\"type\":\"surface\"}],\"table\":[{\"cells\":{\"fill\":{\"color\":\"#EBF0F8\"},\"line\":{\"color\":\"white\"}},\"header\":{\"fill\":{\"color\":\"#C8D4E3\"},\"line\":{\"color\":\"white\"}},\"type\":\"table\"}]},\"layout\":{\"annotationdefaults\":{\"arrowcolor\":\"#2a3f5f\",\"arrowhead\":0,\"arrowwidth\":1},\"autotypenumbers\":\"strict\",\"coloraxis\":{\"colorbar\":{\"outlinewidth\":0,\"ticks\":\"\"}},\"colorscale\":{\"diverging\":[[0,\"#8e0152\"],[0.1,\"#c51b7d\"],[0.2,\"#de77ae\"],[0.3,\"#f1b6da\"],[0.4,\"#fde0ef\"],[0.5,\"#f7f7f7\"],[0.6,\"#e6f5d0\"],[0.7,\"#b8e186\"],[0.8,\"#7fbc41\"],[0.9,\"#4d9221\"],[1,\"#276419\"]],\"sequential\":[[0.0,\"#0d0887\"],[0.1111111111111111,\"#46039f\"],[0.2222222222222222,\"#7201a8\"],[0.3333333333333333,\"#9c179e\"],[0.4444444444444444,\"#bd3786\"],[0.5555555555555556,\"#d8576b\"],[0.6666666666666666,\"#ed7953\"],[0.7777777777777778,\"#fb9f3a\"],[0.8888888888888888,\"#fdca26\"],[1.0,\"#f0f921\"]],\"sequentialminus\":[[0.0,\"#0d0887\"],[0.1111111111111111,\"#46039f\"],[0.2222222222222222,\"#7201a8\"],[0.3333333333333333,\"#9c179e\"],[0.4444444444444444,\"#bd3786\"],[0.5555555555555556,\"#d8576b\"],[0.6666666666666666,\"#ed7953\"],[0.7777777777777778,\"#fb9f3a\"],[0.8888888888888888,\"#fdca26\"],[1.0,\"#f0f921\"]]},\"colorway\":[\"#636efa\",\"#EF553B\",\"#00cc96\",\"#ab63fa\",\"#FFA15A\",\"#19d3f3\",\"#FF6692\",\"#B6E880\",\"#FF97FF\",\"#FECB52\"],\"font\":{\"color\":\"#2a3f5f\"},\"geo\":{\"bgcolor\":\"white\",\"lakecolor\":\"white\",\"landcolor\":\"#E5ECF6\",\"showlakes\":true,\"showland\":true,\"subunitcolor\":\"white\"},\"hoverlabel\":{\"align\":\"left\"},\"hovermode\":\"closest\",\"mapbox\":{\"style\":\"light\"},\"paper_bgcolor\":\"white\",\"plot_bgcolor\":\"#E5ECF6\",\"polar\":{\"angularaxis\":{\"gridcolor\":\"white\",\"linecolor\":\"white\",\"ticks\":\"\"},\"bgcolor\":\"#E5ECF6\",\"radialaxis\":{\"gridcolor\":\"white\",\"linecolor\":\"white\",\"ticks\":\"\"}},\"scene\":{\"xaxis\":{\"backgroundcolor\":\"#E5ECF6\",\"gridcolor\":\"white\",\"gridwidth\":2,\"linecolor\":\"white\",\"showbackground\":true,\"ticks\":\"\",\"zerolinecolor\":\"white\"},\"yaxis\":{\"backgroundcolor\":\"#E5ECF6\",\"gridcolor\":\"white\",\"gridwidth\":2,\"linecolor\":\"white\",\"showbackground\":true,\"ticks\":\"\",\"zerolinecolor\":\"white\"},\"zaxis\":{\"backgroundcolor\":\"#E5ECF6\",\"gridcolor\":\"white\",\"gridwidth\":2,\"linecolor\":\"white\",\"showbackground\":true,\"ticks\":\"\",\"zerolinecolor\":\"white\"}},\"shapedefaults\":{\"line\":{\"color\":\"#2a3f5f\"}},\"ternary\":{\"aaxis\":{\"gridcolor\":\"white\",\"linecolor\":\"white\",\"ticks\":\"\"},\"baxis\":{\"gridcolor\":\"white\",\"linecolor\":\"white\",\"ticks\":\"\"},\"bgcolor\":\"#E5ECF6\",\"caxis\":{\"gridcolor\":\"white\",\"linecolor\":\"white\",\"ticks\":\"\"}},\"title\":{\"x\":0.05},\"xaxis\":{\"automargin\":true,\"gridcolor\":\"white\",\"linecolor\":\"white\",\"ticks\":\"\",\"title\":{\"standoff\":15},\"zerolinecolor\":\"white\",\"zerolinewidth\":2},\"yaxis\":{\"automargin\":true,\"gridcolor\":\"white\",\"linecolor\":\"white\",\"ticks\":\"\",\"title\":{\"standoff\":15},\"zerolinecolor\":\"white\",\"zerolinewidth\":2}}},\"title\":{\"font\":{\"color\":\"#4D5663\"}},\"xaxis\":{\"gridcolor\":\"#E1E5ED\",\"showgrid\":true,\"tickfont\":{\"color\":\"#4D5663\"},\"title\":{\"font\":{\"color\":\"#4D5663\"},\"text\":\"\"},\"zerolinecolor\":\"#E1E5ED\"},\"yaxis\":{\"gridcolor\":\"#E1E5ED\",\"showgrid\":true,\"tickfont\":{\"color\":\"#4D5663\"},\"title\":{\"font\":{\"color\":\"#4D5663\"},\"text\":\"\"},\"zerolinecolor\":\"#E1E5ED\"}},                        {\"showLink\": true, \"linkText\": \"Export to plot.ly\", \"plotlyServerURL\": \"https://plot.ly\", \"responsive\": true}                    ).then(function(){\n",
       "                            \n",
       "var gd = document.getElementById('d6e140b2-573c-4fd7-8e4a-cea17031673b');\n",
       "var x = new MutationObserver(function (mutations, observer) {{\n",
       "        var display = window.getComputedStyle(gd).display;\n",
       "        if (!display || display === 'none') {{\n",
       "            console.log([gd, 'removed!']);\n",
       "            Plotly.purge(gd);\n",
       "            observer.disconnect();\n",
       "        }}\n",
       "}});\n",
       "\n",
       "// Listen for the removal of the full notebook cells\n",
       "var notebookContainer = gd.closest('#notebook-container');\n",
       "if (notebookContainer) {{\n",
       "    x.observe(notebookContainer, {childList: true});\n",
       "}}\n",
       "\n",
       "// Listen for the clearing of the current output cell\n",
       "var outputEl = gd.closest('.output');\n",
       "if (outputEl) {{\n",
       "    x.observe(outputEl, {childList: true});\n",
       "}}\n",
       "\n",
       "                        })                };                });            </script>        </div>"
      ]
     },
     "metadata": {},
     "output_type": "display_data"
    }
   ],
   "source": [
    "Diet_by_Place['Walmart'].iplot()"
   ]
  },
  {
   "cell_type": "code",
   "execution_count": 61,
   "id": "7d7d76df",
   "metadata": {},
   "outputs": [
    {
     "data": {
      "text/html": [
       "        <script type=\"text/javascript\">\n",
       "        window.PlotlyConfig = {MathJaxConfig: 'local'};\n",
       "        if (window.MathJax) {MathJax.Hub.Config({SVG: {font: \"STIX-Web\"}});}\n",
       "        if (typeof require !== 'undefined') {\n",
       "        require.undef(\"plotly\");\n",
       "        requirejs.config({\n",
       "            paths: {\n",
       "                'plotly': ['https://cdn.plot.ly/plotly-2.3.1.min']\n",
       "            }\n",
       "        });\n",
       "        require(['plotly'], function(Plotly) {\n",
       "            window._Plotly = Plotly;\n",
       "        });\n",
       "        }\n",
       "        </script>\n",
       "        "
      ]
     },
     "metadata": {},
     "output_type": "display_data"
    },
    {
     "ename": "KeyError",
     "evalue": "\"['Units'] not found in axis\"",
     "output_type": "error",
     "traceback": [
      "\u001b[0;31m---------------------------------------------------------------------------\u001b[0m",
      "\u001b[0;31mKeyError\u001b[0m                                  Traceback (most recent call last)",
      "Input \u001b[0;32mIn [61]\u001b[0m, in \u001b[0;36m<cell line: 25>\u001b[0;34m()\u001b[0m\n\u001b[1;32m     22\u001b[0m     Diet_response \u001b[38;5;241m=\u001b[39m Diet_response\u001b[38;5;241m.\u001b[39mloc[:,(Diet_response\u001b[38;5;241m>\u001b[39mtol)\u001b[38;5;241m.\u001b[39msum()\u001b[38;5;241m>\u001b[39m\u001b[38;5;241m0\u001b[39m]\n\u001b[1;32m     23\u001b[0m     \u001b[38;5;28;01mreturn\u001b[39;00m Diet_response\n\u001b[0;32m---> 25\u001b[0m FoodNutrients \u001b[38;5;241m=\u001b[39m \u001b[43mFoodNutrients\u001b[49m\u001b[38;5;241;43m.\u001b[39;49m\u001b[43mdrop\u001b[49m\u001b[43m(\u001b[49m\u001b[38;5;124;43m'\u001b[39;49m\u001b[38;5;124;43mUnits\u001b[39;49m\u001b[38;5;124;43m'\u001b[39;49m\u001b[43m,\u001b[49m\u001b[43maxis\u001b[49m\u001b[38;5;241;43m=\u001b[39;49m\u001b[38;5;241;43m1\u001b[39;49m\u001b[43m)\u001b[49m\n\u001b[1;32m     26\u001b[0m NutrientResponse \u001b[38;5;241m=\u001b[39m Diet_response\u001b[38;5;129m@FoodNutrients\u001b[39m\u001b[38;5;241m.\u001b[39mreindex(Diet_response\u001b[38;5;241m.\u001b[39mcolumns, axis \u001b[38;5;241m=\u001b[39m \u001b[38;5;241m1\u001b[39m)\u001b[38;5;241m.\u001b[39mT\n\u001b[1;32m     28\u001b[0m \u001b[38;5;66;03m# Drop columns of missing nutrients\u001b[39;00m\n",
      "File \u001b[0;32m/opt/conda/lib/python3.9/site-packages/pandas/util/_decorators.py:311\u001b[0m, in \u001b[0;36mdeprecate_nonkeyword_arguments.<locals>.decorate.<locals>.wrapper\u001b[0;34m(*args, **kwargs)\u001b[0m\n\u001b[1;32m    305\u001b[0m \u001b[38;5;28;01mif\u001b[39;00m \u001b[38;5;28mlen\u001b[39m(args) \u001b[38;5;241m>\u001b[39m num_allow_args:\n\u001b[1;32m    306\u001b[0m     warnings\u001b[38;5;241m.\u001b[39mwarn(\n\u001b[1;32m    307\u001b[0m         msg\u001b[38;5;241m.\u001b[39mformat(arguments\u001b[38;5;241m=\u001b[39marguments),\n\u001b[1;32m    308\u001b[0m         \u001b[38;5;167;01mFutureWarning\u001b[39;00m,\n\u001b[1;32m    309\u001b[0m         stacklevel\u001b[38;5;241m=\u001b[39mstacklevel,\n\u001b[1;32m    310\u001b[0m     )\n\u001b[0;32m--> 311\u001b[0m \u001b[38;5;28;01mreturn\u001b[39;00m \u001b[43mfunc\u001b[49m\u001b[43m(\u001b[49m\u001b[38;5;241;43m*\u001b[39;49m\u001b[43margs\u001b[49m\u001b[43m,\u001b[49m\u001b[43m \u001b[49m\u001b[38;5;241;43m*\u001b[39;49m\u001b[38;5;241;43m*\u001b[39;49m\u001b[43mkwargs\u001b[49m\u001b[43m)\u001b[49m\n",
      "File \u001b[0;32m/opt/conda/lib/python3.9/site-packages/pandas/core/frame.py:4906\u001b[0m, in \u001b[0;36mDataFrame.drop\u001b[0;34m(self, labels, axis, index, columns, level, inplace, errors)\u001b[0m\n\u001b[1;32m   4774\u001b[0m \u001b[38;5;129m@deprecate_nonkeyword_arguments\u001b[39m(version\u001b[38;5;241m=\u001b[39m\u001b[38;5;28;01mNone\u001b[39;00m, allowed_args\u001b[38;5;241m=\u001b[39m[\u001b[38;5;124m\"\u001b[39m\u001b[38;5;124mself\u001b[39m\u001b[38;5;124m\"\u001b[39m, \u001b[38;5;124m\"\u001b[39m\u001b[38;5;124mlabels\u001b[39m\u001b[38;5;124m\"\u001b[39m])\n\u001b[1;32m   4775\u001b[0m \u001b[38;5;28;01mdef\u001b[39;00m \u001b[38;5;21mdrop\u001b[39m(\n\u001b[1;32m   4776\u001b[0m     \u001b[38;5;28mself\u001b[39m,\n\u001b[0;32m   (...)\u001b[0m\n\u001b[1;32m   4783\u001b[0m     errors: \u001b[38;5;28mstr\u001b[39m \u001b[38;5;241m=\u001b[39m \u001b[38;5;124m\"\u001b[39m\u001b[38;5;124mraise\u001b[39m\u001b[38;5;124m\"\u001b[39m,\n\u001b[1;32m   4784\u001b[0m ):\n\u001b[1;32m   4785\u001b[0m     \u001b[38;5;124;03m\"\"\"\u001b[39;00m\n\u001b[1;32m   4786\u001b[0m \u001b[38;5;124;03m    Drop specified labels from rows or columns.\u001b[39;00m\n\u001b[1;32m   4787\u001b[0m \n\u001b[0;32m   (...)\u001b[0m\n\u001b[1;32m   4904\u001b[0m \u001b[38;5;124;03m            weight  1.0     0.8\u001b[39;00m\n\u001b[1;32m   4905\u001b[0m \u001b[38;5;124;03m    \"\"\"\u001b[39;00m\n\u001b[0;32m-> 4906\u001b[0m     \u001b[38;5;28;01mreturn\u001b[39;00m \u001b[38;5;28;43msuper\u001b[39;49m\u001b[43m(\u001b[49m\u001b[43m)\u001b[49m\u001b[38;5;241;43m.\u001b[39;49m\u001b[43mdrop\u001b[49m\u001b[43m(\u001b[49m\n\u001b[1;32m   4907\u001b[0m \u001b[43m        \u001b[49m\u001b[43mlabels\u001b[49m\u001b[38;5;241;43m=\u001b[39;49m\u001b[43mlabels\u001b[49m\u001b[43m,\u001b[49m\n\u001b[1;32m   4908\u001b[0m \u001b[43m        \u001b[49m\u001b[43maxis\u001b[49m\u001b[38;5;241;43m=\u001b[39;49m\u001b[43maxis\u001b[49m\u001b[43m,\u001b[49m\n\u001b[1;32m   4909\u001b[0m \u001b[43m        \u001b[49m\u001b[43mindex\u001b[49m\u001b[38;5;241;43m=\u001b[39;49m\u001b[43mindex\u001b[49m\u001b[43m,\u001b[49m\n\u001b[1;32m   4910\u001b[0m \u001b[43m        \u001b[49m\u001b[43mcolumns\u001b[49m\u001b[38;5;241;43m=\u001b[39;49m\u001b[43mcolumns\u001b[49m\u001b[43m,\u001b[49m\n\u001b[1;32m   4911\u001b[0m \u001b[43m        \u001b[49m\u001b[43mlevel\u001b[49m\u001b[38;5;241;43m=\u001b[39;49m\u001b[43mlevel\u001b[49m\u001b[43m,\u001b[49m\n\u001b[1;32m   4912\u001b[0m \u001b[43m        \u001b[49m\u001b[43minplace\u001b[49m\u001b[38;5;241;43m=\u001b[39;49m\u001b[43minplace\u001b[49m\u001b[43m,\u001b[49m\n\u001b[1;32m   4913\u001b[0m \u001b[43m        \u001b[49m\u001b[43merrors\u001b[49m\u001b[38;5;241;43m=\u001b[39;49m\u001b[43merrors\u001b[49m\u001b[43m,\u001b[49m\n\u001b[1;32m   4914\u001b[0m \u001b[43m    \u001b[49m\u001b[43m)\u001b[49m\n",
      "File \u001b[0;32m/opt/conda/lib/python3.9/site-packages/pandas/core/generic.py:4150\u001b[0m, in \u001b[0;36mNDFrame.drop\u001b[0;34m(self, labels, axis, index, columns, level, inplace, errors)\u001b[0m\n\u001b[1;32m   4148\u001b[0m \u001b[38;5;28;01mfor\u001b[39;00m axis, labels \u001b[38;5;129;01min\u001b[39;00m axes\u001b[38;5;241m.\u001b[39mitems():\n\u001b[1;32m   4149\u001b[0m     \u001b[38;5;28;01mif\u001b[39;00m labels \u001b[38;5;129;01mis\u001b[39;00m \u001b[38;5;129;01mnot\u001b[39;00m \u001b[38;5;28;01mNone\u001b[39;00m:\n\u001b[0;32m-> 4150\u001b[0m         obj \u001b[38;5;241m=\u001b[39m \u001b[43mobj\u001b[49m\u001b[38;5;241;43m.\u001b[39;49m\u001b[43m_drop_axis\u001b[49m\u001b[43m(\u001b[49m\u001b[43mlabels\u001b[49m\u001b[43m,\u001b[49m\u001b[43m \u001b[49m\u001b[43maxis\u001b[49m\u001b[43m,\u001b[49m\u001b[43m \u001b[49m\u001b[43mlevel\u001b[49m\u001b[38;5;241;43m=\u001b[39;49m\u001b[43mlevel\u001b[49m\u001b[43m,\u001b[49m\u001b[43m \u001b[49m\u001b[43merrors\u001b[49m\u001b[38;5;241;43m=\u001b[39;49m\u001b[43merrors\u001b[49m\u001b[43m)\u001b[49m\n\u001b[1;32m   4152\u001b[0m \u001b[38;5;28;01mif\u001b[39;00m inplace:\n\u001b[1;32m   4153\u001b[0m     \u001b[38;5;28mself\u001b[39m\u001b[38;5;241m.\u001b[39m_update_inplace(obj)\n",
      "File \u001b[0;32m/opt/conda/lib/python3.9/site-packages/pandas/core/generic.py:4185\u001b[0m, in \u001b[0;36mNDFrame._drop_axis\u001b[0;34m(self, labels, axis, level, errors)\u001b[0m\n\u001b[1;32m   4183\u001b[0m         new_axis \u001b[38;5;241m=\u001b[39m axis\u001b[38;5;241m.\u001b[39mdrop(labels, level\u001b[38;5;241m=\u001b[39mlevel, errors\u001b[38;5;241m=\u001b[39merrors)\n\u001b[1;32m   4184\u001b[0m     \u001b[38;5;28;01melse\u001b[39;00m:\n\u001b[0;32m-> 4185\u001b[0m         new_axis \u001b[38;5;241m=\u001b[39m \u001b[43maxis\u001b[49m\u001b[38;5;241;43m.\u001b[39;49m\u001b[43mdrop\u001b[49m\u001b[43m(\u001b[49m\u001b[43mlabels\u001b[49m\u001b[43m,\u001b[49m\u001b[43m \u001b[49m\u001b[43merrors\u001b[49m\u001b[38;5;241;43m=\u001b[39;49m\u001b[43merrors\u001b[49m\u001b[43m)\u001b[49m\n\u001b[1;32m   4186\u001b[0m     result \u001b[38;5;241m=\u001b[39m \u001b[38;5;28mself\u001b[39m\u001b[38;5;241m.\u001b[39mreindex(\u001b[38;5;241m*\u001b[39m\u001b[38;5;241m*\u001b[39m{axis_name: new_axis})\n\u001b[1;32m   4188\u001b[0m \u001b[38;5;66;03m# Case for non-unique axis\u001b[39;00m\n\u001b[1;32m   4189\u001b[0m \u001b[38;5;28;01melse\u001b[39;00m:\n",
      "File \u001b[0;32m/opt/conda/lib/python3.9/site-packages/pandas/core/indexes/base.py:6017\u001b[0m, in \u001b[0;36mIndex.drop\u001b[0;34m(self, labels, errors)\u001b[0m\n\u001b[1;32m   6015\u001b[0m \u001b[38;5;28;01mif\u001b[39;00m mask\u001b[38;5;241m.\u001b[39many():\n\u001b[1;32m   6016\u001b[0m     \u001b[38;5;28;01mif\u001b[39;00m errors \u001b[38;5;241m!=\u001b[39m \u001b[38;5;124m\"\u001b[39m\u001b[38;5;124mignore\u001b[39m\u001b[38;5;124m\"\u001b[39m:\n\u001b[0;32m-> 6017\u001b[0m         \u001b[38;5;28;01mraise\u001b[39;00m \u001b[38;5;167;01mKeyError\u001b[39;00m(\u001b[38;5;124mf\u001b[39m\u001b[38;5;124m\"\u001b[39m\u001b[38;5;132;01m{\u001b[39;00mlabels[mask]\u001b[38;5;132;01m}\u001b[39;00m\u001b[38;5;124m not found in axis\u001b[39m\u001b[38;5;124m\"\u001b[39m)\n\u001b[1;32m   6018\u001b[0m     indexer \u001b[38;5;241m=\u001b[39m indexer[\u001b[38;5;241m~\u001b[39mmask]\n\u001b[1;32m   6019\u001b[0m \u001b[38;5;28;01mreturn\u001b[39;00m \u001b[38;5;28mself\u001b[39m\u001b[38;5;241m.\u001b[39mdelete(indexer)\n",
      "\u001b[0;31mKeyError\u001b[0m: \"['Units'] not found in axis\""
     ]
    }
   ],
   "source": [
    "import cufflinks as cf\n",
    "cf.go_offline()\n",
    "\n",
    "def food_index(prices,FoodNutrients,bmin,bmax,ReferenceGood = 'Greek yogurt',tol=1e-6):\n",
    "    scale = [0.5,0.75,0.9,1.,1.1,1.2,1.3,1.4,1.5,2]\n",
    "    cost0 = solve_subsistence_problem(FoodNutrients,prices,bmin,bmax,tol=tol).fun\n",
    "    my_p = prices.copy()\n",
    "    diet = {}\n",
    "    for s in scale:\n",
    "        my_p[ReferenceGood] = prices[ReferenceGood]*s\n",
    "        result = solve_subsistence_problem(FoodNutrients,my_p,bmin,bmax,tol=tol)\n",
    "        diet[my_p[ReferenceGood]] = result.diet\n",
    "        \n",
    "\n",
    "    Diet_response = pd.DataFrame(diet).T\n",
    "    Diet_response.index.name = '%s Price' % ReferenceGood\n",
    "    Diet_response.reset_index(inplace=True)\n",
    "    # Get rid of units for index (cufflinks chokes)\n",
    "    Diet_response['%s Price' % ReferenceGood] = Diet_response['%s Price' % ReferenceGood].apply(lambda x: x.magnitude)\n",
    "    Diet_response = Diet_response.set_index('%s Price' % ReferenceGood)\n",
    "    # Just look at goods consumed in quantities greater than error tolerance\n",
    "    Diet_response = Diet_response.loc[:,(Diet_response>tol).sum()>0]\n",
    "    return Diet_response\n",
    "\n",
    "FoodNutrients = FoodNutrients.drop('Units',axis=1)\n",
    "NutrientResponse = Diet_response@FoodNutrients.reindex(Diet_response.columns, axis = 1).T\n",
    "\n",
    "# Drop columns of missing nutrients\n",
    "NutrientResponse = NutrientResponse.loc[:,NutrientResponse.count() > 0]\n",
    "\n",
    "\n",
    "NutrientResponse.iplot(xTitle='%s Price' % ReferenceGood,yTitle=r'%Change')\n"
   ]
  },
  {
   "cell_type": "code",
   "execution_count": 62,
   "id": "6bcc4b5b",
   "metadata": {},
   "outputs": [
    {
     "data": {
      "text/html": [
       "        <script type=\"text/javascript\">\n",
       "        window.PlotlyConfig = {MathJaxConfig: 'local'};\n",
       "        if (window.MathJax) {MathJax.Hub.Config({SVG: {font: \"STIX-Web\"}});}\n",
       "        if (typeof require !== 'undefined') {\n",
       "        require.undef(\"plotly\");\n",
       "        requirejs.config({\n",
       "            paths: {\n",
       "                'plotly': ['https://cdn.plot.ly/plotly-2.3.1.min']\n",
       "            }\n",
       "        });\n",
       "        require(['plotly'], function(Plotly) {\n",
       "            window._Plotly = Plotly;\n",
       "        });\n",
       "        }\n",
       "        </script>\n",
       "        "
      ]
     },
     "metadata": {},
     "output_type": "display_data"
    },
    {
     "data": {
      "application/vnd.plotly.v1+json": {
       "config": {
        "linkText": "Export to plot.ly",
        "plotlyServerURL": "https://plot.ly",
        "showLink": true
       },
       "data": [
        {
         "line": {
          "color": "rgba(255, 153, 51, 1.0)",
          "dash": "solid",
          "shape": "linear",
          "width": 1.3
         },
         "mode": "lines",
         "name": "Avocado",
         "text": "",
         "type": "scatter",
         "x": [
          0.21333333333333335,
          0.32,
          0.384,
          0.4266666666666667,
          0.4693333333333334,
          0.512,
          0.5546666666666668,
          0.5973333333333334,
          0.64,
          0.8533333333333334,
          1.7066666666666668
         ],
         "y": [
          9.88005137254198e-09,
          1.529697477624639e-09,
          1.9986850136665286e-08,
          3.1183158456190343e-07,
          1.62415936583656e-08,
          1.318702145187132e-08,
          6.659925913728377e-07,
          9.60744078816513e-11,
          0.8723135479015731,
          5.375408438837842,
          5.997928534351954
         ]
        },
        {
         "line": {
          "color": "rgba(55, 128, 191, 1.0)",
          "dash": "solid",
          "shape": "linear",
          "width": 1.3
         },
         "mode": "lines",
         "name": "Eggs",
         "text": "",
         "type": "scatter",
         "x": [
          0.21333333333333335,
          0.32,
          0.384,
          0.4266666666666667,
          0.4693333333333334,
          0.512,
          0.5546666666666668,
          0.5973333333333334,
          0.64,
          0.8533333333333334,
          1.7066666666666668
         ],
         "y": [
          8.566974417522073e-09,
          8.673452587040061e-10,
          1.8822415578906418e-10,
          9.445340426127871e-08,
          1.163616764725693e-09,
          6.504554375475088e-09,
          1.2615704407871927e-06,
          7.519464337921685e-11,
          0.17422209115596562,
          1.2607680285663553e-09,
          0.31246774553589896
         ]
        },
        {
         "line": {
          "color": "rgba(50, 171, 96, 1.0)",
          "dash": "solid",
          "shape": "linear",
          "width": 1.3
         },
         "mode": "lines",
         "name": "Feta",
         "text": "",
         "type": "scatter",
         "x": [
          0.21333333333333335,
          0.32,
          0.384,
          0.4266666666666667,
          0.4693333333333334,
          0.512,
          0.5546666666666668,
          0.5973333333333334,
          0.64,
          0.8533333333333334,
          1.7066666666666668
         ],
         "y": [
          4.2695536550048767e-10,
          2.105574196149109e-10,
          3.029554582499273e-09,
          5.603117010708136e-08,
          1.2520268591800639e-08,
          1.778615343565637e-08,
          0.04268471450827976,
          0.08371785793295335,
          0.6459507708242723,
          1.3263719265122351,
          1.4201183431825333
         ]
        },
        {
         "line": {
          "color": "rgba(128, 0, 128, 1.0)",
          "dash": "solid",
          "shape": "linear",
          "width": 1.3
         },
         "mode": "lines",
         "name": "Greek yogurt",
         "text": "",
         "type": "scatter",
         "x": [
          0.21333333333333335,
          0.32,
          0.384,
          0.4266666666666667,
          0.4693333333333334,
          0.512,
          0.5546666666666668,
          0.5973333333333334,
          0.64,
          0.8533333333333334,
          1.7066666666666668
         ],
         "y": [
          4.615384619880558,
          4.6153846149201145,
          4.615384606467894,
          4.615384453549303,
          4.615384576036626,
          4.6153845581612325,
          4.476659384034582,
          4.343301577106636,
          2.5160446110966688,
          0.30467585422462573,
          2.850466235240218e-12
         ]
        },
        {
         "line": {
          "color": "rgba(219, 64, 82, 1.0)",
          "dash": "solid",
          "shape": "linear",
          "width": 1.3
         },
         "mode": "lines",
         "name": "Milk",
         "text": "",
         "type": "scatter",
         "x": [
          0.21333333333333335,
          0.32,
          0.384,
          0.4266666666666667,
          0.4693333333333334,
          0.512,
          0.5546666666666668,
          0.5973333333333334,
          0.64,
          0.8533333333333334,
          1.7066666666666668
         ],
         "y": [
          0.5422014096188332,
          0.5422014011453382,
          0.542201355576188,
          0.5421989589201074,
          0.5422012655869067,
          0.5422013806456351,
          0.47874754972578637,
          1.709125503430874e-11,
          2.5794276357742626e-08,
          3.823694943469232e-10,
          6.905524530269553e-11
         ]
        },
        {
         "line": {
          "color": "rgba(0, 128, 128, 1.0)",
          "dash": "solid",
          "shape": "linear",
          "width": 1.3
         },
         "mode": "lines",
         "name": "Oranges",
         "text": "",
         "type": "scatter",
         "x": [
          0.21333333333333335,
          0.32,
          0.384,
          0.4266666666666667,
          0.4693333333333334,
          0.512,
          0.5546666666666668,
          0.5973333333333334,
          0.64,
          0.8533333333333334,
          1.7066666666666668
         ],
         "y": [
          1.3988262707889884e-09,
          5.640155466998468e-10,
          1.7908909196811094e-09,
          9.53033599791789e-08,
          1.3521771371858262e-08,
          1.010084412750852e-08,
          2.084143232177689e-06,
          9.20209314447993e-10,
          0.6445873107051184,
          1.4248458883940955,
          1.6412454840631936
         ]
        },
        {
         "line": {
          "color": "rgba(255, 255, 51, 1.0)",
          "dash": "solid",
          "shape": "linear",
          "width": 1.3
         },
         "mode": "lines",
         "name": "Spinach",
         "text": "",
         "type": "scatter",
         "x": [
          0.21333333333333335,
          0.32,
          0.384,
          0.4266666666666667,
          0.4693333333333334,
          0.512,
          0.5546666666666668,
          0.5973333333333334,
          0.64,
          0.8533333333333334,
          1.7066666666666668
         ],
         "y": [
          4.870358831779106,
          4.8703588428435935,
          4.870358839038573,
          4.870359226793414,
          4.870358886116204,
          4.870358884101796,
          5.010662145247317,
          5.209483171492961,
          5.732864838484936,
          2.5247766003584866,
          2.0424742774252684
         ]
        },
        {
         "line": {
          "color": "rgba(128, 128, 0, 1.0)",
          "dash": "solid",
          "shape": "linear",
          "width": 1.3
         },
         "mode": "lines",
         "name": "Sweet potatoes",
         "text": "",
         "type": "scatter",
         "x": [
          0.21333333333333335,
          0.32,
          0.384,
          0.4266666666666667,
          0.4693333333333334,
          0.512,
          0.5546666666666668,
          0.5973333333333334,
          0.64,
          0.8533333333333334,
          1.7066666666666668
         ],
         "y": [
          2.2958847748693856,
          2.2958847744304647,
          2.2958847926787738,
          2.295885342665298,
          2.2958847831474607,
          2.295884704750662,
          2.1148592028552144,
          2.144477271282979,
          5.323045677590363e-08,
          9.768858781174068e-11,
          2.261688731329157e-11
         ]
        },
        {
         "line": {
          "color": "rgba(251, 128, 114, 1.0)",
          "dash": "solid",
          "shape": "linear",
          "width": 1.3
         },
         "mode": "lines",
         "name": "Whole Wheat Bread",
         "text": "",
         "type": "scatter",
         "x": [
          0.21333333333333335,
          0.32,
          0.384,
          0.4266666666666667,
          0.4693333333333334,
          0.512,
          0.5546666666666668,
          0.5973333333333334,
          0.64,
          0.8533333333333334,
          1.7066666666666668
         ],
         "y": [
          2.962080076109312,
          2.9620800771310978,
          2.9620800671377814,
          2.9620797310875546,
          2.962080049538418,
          2.9620800571066,
          2.9168168580036022,
          2.832065261550591,
          2.2660311686076096,
          1.2040404135490437,
          1.0647649765352163
         ]
        }
       ],
       "layout": {
        "legend": {
         "bgcolor": "#F5F6F9",
         "font": {
          "color": "#4D5663"
         }
        },
        "paper_bgcolor": "#F5F6F9",
        "plot_bgcolor": "#F5F6F9",
        "template": {
         "data": {
          "bar": [
           {
            "error_x": {
             "color": "#2a3f5f"
            },
            "error_y": {
             "color": "#2a3f5f"
            },
            "marker": {
             "line": {
              "color": "#E5ECF6",
              "width": 0.5
             },
             "pattern": {
              "fillmode": "overlay",
              "size": 10,
              "solidity": 0.2
             }
            },
            "type": "bar"
           }
          ],
          "barpolar": [
           {
            "marker": {
             "line": {
              "color": "#E5ECF6",
              "width": 0.5
             },
             "pattern": {
              "fillmode": "overlay",
              "size": 10,
              "solidity": 0.2
             }
            },
            "type": "barpolar"
           }
          ],
          "carpet": [
           {
            "aaxis": {
             "endlinecolor": "#2a3f5f",
             "gridcolor": "white",
             "linecolor": "white",
             "minorgridcolor": "white",
             "startlinecolor": "#2a3f5f"
            },
            "baxis": {
             "endlinecolor": "#2a3f5f",
             "gridcolor": "white",
             "linecolor": "white",
             "minorgridcolor": "white",
             "startlinecolor": "#2a3f5f"
            },
            "type": "carpet"
           }
          ],
          "choropleth": [
           {
            "colorbar": {
             "outlinewidth": 0,
             "ticks": ""
            },
            "type": "choropleth"
           }
          ],
          "contour": [
           {
            "colorbar": {
             "outlinewidth": 0,
             "ticks": ""
            },
            "colorscale": [
             [
              0,
              "#0d0887"
             ],
             [
              0.1111111111111111,
              "#46039f"
             ],
             [
              0.2222222222222222,
              "#7201a8"
             ],
             [
              0.3333333333333333,
              "#9c179e"
             ],
             [
              0.4444444444444444,
              "#bd3786"
             ],
             [
              0.5555555555555556,
              "#d8576b"
             ],
             [
              0.6666666666666666,
              "#ed7953"
             ],
             [
              0.7777777777777778,
              "#fb9f3a"
             ],
             [
              0.8888888888888888,
              "#fdca26"
             ],
             [
              1,
              "#f0f921"
             ]
            ],
            "type": "contour"
           }
          ],
          "contourcarpet": [
           {
            "colorbar": {
             "outlinewidth": 0,
             "ticks": ""
            },
            "type": "contourcarpet"
           }
          ],
          "heatmap": [
           {
            "colorbar": {
             "outlinewidth": 0,
             "ticks": ""
            },
            "colorscale": [
             [
              0,
              "#0d0887"
             ],
             [
              0.1111111111111111,
              "#46039f"
             ],
             [
              0.2222222222222222,
              "#7201a8"
             ],
             [
              0.3333333333333333,
              "#9c179e"
             ],
             [
              0.4444444444444444,
              "#bd3786"
             ],
             [
              0.5555555555555556,
              "#d8576b"
             ],
             [
              0.6666666666666666,
              "#ed7953"
             ],
             [
              0.7777777777777778,
              "#fb9f3a"
             ],
             [
              0.8888888888888888,
              "#fdca26"
             ],
             [
              1,
              "#f0f921"
             ]
            ],
            "type": "heatmap"
           }
          ],
          "heatmapgl": [
           {
            "colorbar": {
             "outlinewidth": 0,
             "ticks": ""
            },
            "colorscale": [
             [
              0,
              "#0d0887"
             ],
             [
              0.1111111111111111,
              "#46039f"
             ],
             [
              0.2222222222222222,
              "#7201a8"
             ],
             [
              0.3333333333333333,
              "#9c179e"
             ],
             [
              0.4444444444444444,
              "#bd3786"
             ],
             [
              0.5555555555555556,
              "#d8576b"
             ],
             [
              0.6666666666666666,
              "#ed7953"
             ],
             [
              0.7777777777777778,
              "#fb9f3a"
             ],
             [
              0.8888888888888888,
              "#fdca26"
             ],
             [
              1,
              "#f0f921"
             ]
            ],
            "type": "heatmapgl"
           }
          ],
          "histogram": [
           {
            "marker": {
             "pattern": {
              "fillmode": "overlay",
              "size": 10,
              "solidity": 0.2
             }
            },
            "type": "histogram"
           }
          ],
          "histogram2d": [
           {
            "colorbar": {
             "outlinewidth": 0,
             "ticks": ""
            },
            "colorscale": [
             [
              0,
              "#0d0887"
             ],
             [
              0.1111111111111111,
              "#46039f"
             ],
             [
              0.2222222222222222,
              "#7201a8"
             ],
             [
              0.3333333333333333,
              "#9c179e"
             ],
             [
              0.4444444444444444,
              "#bd3786"
             ],
             [
              0.5555555555555556,
              "#d8576b"
             ],
             [
              0.6666666666666666,
              "#ed7953"
             ],
             [
              0.7777777777777778,
              "#fb9f3a"
             ],
             [
              0.8888888888888888,
              "#fdca26"
             ],
             [
              1,
              "#f0f921"
             ]
            ],
            "type": "histogram2d"
           }
          ],
          "histogram2dcontour": [
           {
            "colorbar": {
             "outlinewidth": 0,
             "ticks": ""
            },
            "colorscale": [
             [
              0,
              "#0d0887"
             ],
             [
              0.1111111111111111,
              "#46039f"
             ],
             [
              0.2222222222222222,
              "#7201a8"
             ],
             [
              0.3333333333333333,
              "#9c179e"
             ],
             [
              0.4444444444444444,
              "#bd3786"
             ],
             [
              0.5555555555555556,
              "#d8576b"
             ],
             [
              0.6666666666666666,
              "#ed7953"
             ],
             [
              0.7777777777777778,
              "#fb9f3a"
             ],
             [
              0.8888888888888888,
              "#fdca26"
             ],
             [
              1,
              "#f0f921"
             ]
            ],
            "type": "histogram2dcontour"
           }
          ],
          "mesh3d": [
           {
            "colorbar": {
             "outlinewidth": 0,
             "ticks": ""
            },
            "type": "mesh3d"
           }
          ],
          "parcoords": [
           {
            "line": {
             "colorbar": {
              "outlinewidth": 0,
              "ticks": ""
             }
            },
            "type": "parcoords"
           }
          ],
          "pie": [
           {
            "automargin": true,
            "type": "pie"
           }
          ],
          "scatter": [
           {
            "marker": {
             "colorbar": {
              "outlinewidth": 0,
              "ticks": ""
             }
            },
            "type": "scatter"
           }
          ],
          "scatter3d": [
           {
            "line": {
             "colorbar": {
              "outlinewidth": 0,
              "ticks": ""
             }
            },
            "marker": {
             "colorbar": {
              "outlinewidth": 0,
              "ticks": ""
             }
            },
            "type": "scatter3d"
           }
          ],
          "scattercarpet": [
           {
            "marker": {
             "colorbar": {
              "outlinewidth": 0,
              "ticks": ""
             }
            },
            "type": "scattercarpet"
           }
          ],
          "scattergeo": [
           {
            "marker": {
             "colorbar": {
              "outlinewidth": 0,
              "ticks": ""
             }
            },
            "type": "scattergeo"
           }
          ],
          "scattergl": [
           {
            "marker": {
             "colorbar": {
              "outlinewidth": 0,
              "ticks": ""
             }
            },
            "type": "scattergl"
           }
          ],
          "scattermapbox": [
           {
            "marker": {
             "colorbar": {
              "outlinewidth": 0,
              "ticks": ""
             }
            },
            "type": "scattermapbox"
           }
          ],
          "scatterpolar": [
           {
            "marker": {
             "colorbar": {
              "outlinewidth": 0,
              "ticks": ""
             }
            },
            "type": "scatterpolar"
           }
          ],
          "scatterpolargl": [
           {
            "marker": {
             "colorbar": {
              "outlinewidth": 0,
              "ticks": ""
             }
            },
            "type": "scatterpolargl"
           }
          ],
          "scatterternary": [
           {
            "marker": {
             "colorbar": {
              "outlinewidth": 0,
              "ticks": ""
             }
            },
            "type": "scatterternary"
           }
          ],
          "surface": [
           {
            "colorbar": {
             "outlinewidth": 0,
             "ticks": ""
            },
            "colorscale": [
             [
              0,
              "#0d0887"
             ],
             [
              0.1111111111111111,
              "#46039f"
             ],
             [
              0.2222222222222222,
              "#7201a8"
             ],
             [
              0.3333333333333333,
              "#9c179e"
             ],
             [
              0.4444444444444444,
              "#bd3786"
             ],
             [
              0.5555555555555556,
              "#d8576b"
             ],
             [
              0.6666666666666666,
              "#ed7953"
             ],
             [
              0.7777777777777778,
              "#fb9f3a"
             ],
             [
              0.8888888888888888,
              "#fdca26"
             ],
             [
              1,
              "#f0f921"
             ]
            ],
            "type": "surface"
           }
          ],
          "table": [
           {
            "cells": {
             "fill": {
              "color": "#EBF0F8"
             },
             "line": {
              "color": "white"
             }
            },
            "header": {
             "fill": {
              "color": "#C8D4E3"
             },
             "line": {
              "color": "white"
             }
            },
            "type": "table"
           }
          ]
         },
         "layout": {
          "annotationdefaults": {
           "arrowcolor": "#2a3f5f",
           "arrowhead": 0,
           "arrowwidth": 1
          },
          "autotypenumbers": "strict",
          "coloraxis": {
           "colorbar": {
            "outlinewidth": 0,
            "ticks": ""
           }
          },
          "colorscale": {
           "diverging": [
            [
             0,
             "#8e0152"
            ],
            [
             0.1,
             "#c51b7d"
            ],
            [
             0.2,
             "#de77ae"
            ],
            [
             0.3,
             "#f1b6da"
            ],
            [
             0.4,
             "#fde0ef"
            ],
            [
             0.5,
             "#f7f7f7"
            ],
            [
             0.6,
             "#e6f5d0"
            ],
            [
             0.7,
             "#b8e186"
            ],
            [
             0.8,
             "#7fbc41"
            ],
            [
             0.9,
             "#4d9221"
            ],
            [
             1,
             "#276419"
            ]
           ],
           "sequential": [
            [
             0,
             "#0d0887"
            ],
            [
             0.1111111111111111,
             "#46039f"
            ],
            [
             0.2222222222222222,
             "#7201a8"
            ],
            [
             0.3333333333333333,
             "#9c179e"
            ],
            [
             0.4444444444444444,
             "#bd3786"
            ],
            [
             0.5555555555555556,
             "#d8576b"
            ],
            [
             0.6666666666666666,
             "#ed7953"
            ],
            [
             0.7777777777777778,
             "#fb9f3a"
            ],
            [
             0.8888888888888888,
             "#fdca26"
            ],
            [
             1,
             "#f0f921"
            ]
           ],
           "sequentialminus": [
            [
             0,
             "#0d0887"
            ],
            [
             0.1111111111111111,
             "#46039f"
            ],
            [
             0.2222222222222222,
             "#7201a8"
            ],
            [
             0.3333333333333333,
             "#9c179e"
            ],
            [
             0.4444444444444444,
             "#bd3786"
            ],
            [
             0.5555555555555556,
             "#d8576b"
            ],
            [
             0.6666666666666666,
             "#ed7953"
            ],
            [
             0.7777777777777778,
             "#fb9f3a"
            ],
            [
             0.8888888888888888,
             "#fdca26"
            ],
            [
             1,
             "#f0f921"
            ]
           ]
          },
          "colorway": [
           "#636efa",
           "#EF553B",
           "#00cc96",
           "#ab63fa",
           "#FFA15A",
           "#19d3f3",
           "#FF6692",
           "#B6E880",
           "#FF97FF",
           "#FECB52"
          ],
          "font": {
           "color": "#2a3f5f"
          },
          "geo": {
           "bgcolor": "white",
           "lakecolor": "white",
           "landcolor": "#E5ECF6",
           "showlakes": true,
           "showland": true,
           "subunitcolor": "white"
          },
          "hoverlabel": {
           "align": "left"
          },
          "hovermode": "closest",
          "mapbox": {
           "style": "light"
          },
          "paper_bgcolor": "white",
          "plot_bgcolor": "#E5ECF6",
          "polar": {
           "angularaxis": {
            "gridcolor": "white",
            "linecolor": "white",
            "ticks": ""
           },
           "bgcolor": "#E5ECF6",
           "radialaxis": {
            "gridcolor": "white",
            "linecolor": "white",
            "ticks": ""
           }
          },
          "scene": {
           "xaxis": {
            "backgroundcolor": "#E5ECF6",
            "gridcolor": "white",
            "gridwidth": 2,
            "linecolor": "white",
            "showbackground": true,
            "ticks": "",
            "zerolinecolor": "white"
           },
           "yaxis": {
            "backgroundcolor": "#E5ECF6",
            "gridcolor": "white",
            "gridwidth": 2,
            "linecolor": "white",
            "showbackground": true,
            "ticks": "",
            "zerolinecolor": "white"
           },
           "zaxis": {
            "backgroundcolor": "#E5ECF6",
            "gridcolor": "white",
            "gridwidth": 2,
            "linecolor": "white",
            "showbackground": true,
            "ticks": "",
            "zerolinecolor": "white"
           }
          },
          "shapedefaults": {
           "line": {
            "color": "#2a3f5f"
           }
          },
          "ternary": {
           "aaxis": {
            "gridcolor": "white",
            "linecolor": "white",
            "ticks": ""
           },
           "baxis": {
            "gridcolor": "white",
            "linecolor": "white",
            "ticks": ""
           },
           "bgcolor": "#E5ECF6",
           "caxis": {
            "gridcolor": "white",
            "linecolor": "white",
            "ticks": ""
           }
          },
          "title": {
           "x": 0.05
          },
          "xaxis": {
           "automargin": true,
           "gridcolor": "white",
           "linecolor": "white",
           "ticks": "",
           "title": {
            "standoff": 15
           },
           "zerolinecolor": "white",
           "zerolinewidth": 2
          },
          "yaxis": {
           "automargin": true,
           "gridcolor": "white",
           "linecolor": "white",
           "ticks": "",
           "title": {
            "standoff": 15
           },
           "zerolinecolor": "white",
           "zerolinewidth": 2
          }
         }
        },
        "title": {
         "font": {
          "color": "#4D5663"
         }
        },
        "xaxis": {
         "gridcolor": "#E1E5ED",
         "showgrid": true,
         "tickfont": {
          "color": "#4D5663"
         },
         "title": {
          "font": {
           "color": "#4D5663"
          },
          "text": "Greek yogurt Price"
         },
         "zerolinecolor": "#E1E5ED"
        },
        "yaxis": {
         "gridcolor": "#E1E5ED",
         "showgrid": true,
         "tickfont": {
          "color": "#4D5663"
         },
         "title": {
          "font": {
           "color": "#4D5663"
          },
          "text": "Hectograms"
         },
         "zerolinecolor": "#E1E5ED"
        }
       }
      },
      "text/html": [
       "<div>                            <div id=\"1e5e4158-d56e-45dc-97e1-af0719003120\" class=\"plotly-graph-div\" style=\"height:525px; width:100%;\"></div>            <script type=\"text/javascript\">                require([\"plotly\"], function(Plotly) {                    window.PLOTLYENV=window.PLOTLYENV || {};\n",
       "                    window.PLOTLYENV.BASE_URL='https://plot.ly';                                    if (document.getElementById(\"1e5e4158-d56e-45dc-97e1-af0719003120\")) {                    Plotly.newPlot(                        \"1e5e4158-d56e-45dc-97e1-af0719003120\",                        [{\"line\":{\"color\":\"rgba(255, 153, 51, 1.0)\",\"dash\":\"solid\",\"shape\":\"linear\",\"width\":1.3},\"mode\":\"lines\",\"name\":\"Avocado\",\"text\":\"\",\"type\":\"scatter\",\"x\":[0.21333333333333335,0.32,0.384,0.4266666666666667,0.4693333333333334,0.512,0.5546666666666668,0.5973333333333334,0.64,0.8533333333333334,1.7066666666666668],\"y\":[9.88005137254198e-09,1.529697477624639e-09,1.9986850136665286e-08,3.1183158456190343e-07,1.62415936583656e-08,1.318702145187132e-08,6.659925913728377e-07,9.60744078816513e-11,0.8723135479015731,5.375408438837842,5.997928534351954]},{\"line\":{\"color\":\"rgba(55, 128, 191, 1.0)\",\"dash\":\"solid\",\"shape\":\"linear\",\"width\":1.3},\"mode\":\"lines\",\"name\":\"Eggs\",\"text\":\"\",\"type\":\"scatter\",\"x\":[0.21333333333333335,0.32,0.384,0.4266666666666667,0.4693333333333334,0.512,0.5546666666666668,0.5973333333333334,0.64,0.8533333333333334,1.7066666666666668],\"y\":[8.566974417522073e-09,8.673452587040061e-10,1.8822415578906418e-10,9.445340426127871e-08,1.163616764725693e-09,6.504554375475088e-09,1.2615704407871927e-06,7.519464337921685e-11,0.17422209115596562,1.2607680285663553e-09,0.31246774553589896]},{\"line\":{\"color\":\"rgba(50, 171, 96, 1.0)\",\"dash\":\"solid\",\"shape\":\"linear\",\"width\":1.3},\"mode\":\"lines\",\"name\":\"Feta\",\"text\":\"\",\"type\":\"scatter\",\"x\":[0.21333333333333335,0.32,0.384,0.4266666666666667,0.4693333333333334,0.512,0.5546666666666668,0.5973333333333334,0.64,0.8533333333333334,1.7066666666666668],\"y\":[4.2695536550048767e-10,2.105574196149109e-10,3.029554582499273e-09,5.603117010708136e-08,1.2520268591800639e-08,1.778615343565637e-08,0.04268471450827976,0.08371785793295335,0.6459507708242723,1.3263719265122351,1.4201183431825333]},{\"line\":{\"color\":\"rgba(128, 0, 128, 1.0)\",\"dash\":\"solid\",\"shape\":\"linear\",\"width\":1.3},\"mode\":\"lines\",\"name\":\"Greek yogurt\",\"text\":\"\",\"type\":\"scatter\",\"x\":[0.21333333333333335,0.32,0.384,0.4266666666666667,0.4693333333333334,0.512,0.5546666666666668,0.5973333333333334,0.64,0.8533333333333334,1.7066666666666668],\"y\":[4.615384619880558,4.6153846149201145,4.615384606467894,4.615384453549303,4.615384576036626,4.6153845581612325,4.476659384034582,4.343301577106636,2.5160446110966688,0.30467585422462573,2.850466235240218e-12]},{\"line\":{\"color\":\"rgba(219, 64, 82, 1.0)\",\"dash\":\"solid\",\"shape\":\"linear\",\"width\":1.3},\"mode\":\"lines\",\"name\":\"Milk\",\"text\":\"\",\"type\":\"scatter\",\"x\":[0.21333333333333335,0.32,0.384,0.4266666666666667,0.4693333333333334,0.512,0.5546666666666668,0.5973333333333334,0.64,0.8533333333333334,1.7066666666666668],\"y\":[0.5422014096188332,0.5422014011453382,0.542201355576188,0.5421989589201074,0.5422012655869067,0.5422013806456351,0.47874754972578637,1.709125503430874e-11,2.5794276357742626e-08,3.823694943469232e-10,6.905524530269553e-11]},{\"line\":{\"color\":\"rgba(0, 128, 128, 1.0)\",\"dash\":\"solid\",\"shape\":\"linear\",\"width\":1.3},\"mode\":\"lines\",\"name\":\"Oranges\",\"text\":\"\",\"type\":\"scatter\",\"x\":[0.21333333333333335,0.32,0.384,0.4266666666666667,0.4693333333333334,0.512,0.5546666666666668,0.5973333333333334,0.64,0.8533333333333334,1.7066666666666668],\"y\":[1.3988262707889884e-09,5.640155466998468e-10,1.7908909196811094e-09,9.53033599791789e-08,1.3521771371858262e-08,1.010084412750852e-08,2.084143232177689e-06,9.20209314447993e-10,0.6445873107051184,1.4248458883940955,1.6412454840631936]},{\"line\":{\"color\":\"rgba(255, 255, 51, 1.0)\",\"dash\":\"solid\",\"shape\":\"linear\",\"width\":1.3},\"mode\":\"lines\",\"name\":\"Spinach\",\"text\":\"\",\"type\":\"scatter\",\"x\":[0.21333333333333335,0.32,0.384,0.4266666666666667,0.4693333333333334,0.512,0.5546666666666668,0.5973333333333334,0.64,0.8533333333333334,1.7066666666666668],\"y\":[4.870358831779106,4.8703588428435935,4.870358839038573,4.870359226793414,4.870358886116204,4.870358884101796,5.010662145247317,5.209483171492961,5.732864838484936,2.5247766003584866,2.0424742774252684]},{\"line\":{\"color\":\"rgba(128, 128, 0, 1.0)\",\"dash\":\"solid\",\"shape\":\"linear\",\"width\":1.3},\"mode\":\"lines\",\"name\":\"Sweet potatoes\",\"text\":\"\",\"type\":\"scatter\",\"x\":[0.21333333333333335,0.32,0.384,0.4266666666666667,0.4693333333333334,0.512,0.5546666666666668,0.5973333333333334,0.64,0.8533333333333334,1.7066666666666668],\"y\":[2.2958847748693856,2.2958847744304647,2.2958847926787738,2.295885342665298,2.2958847831474607,2.295884704750662,2.1148592028552144,2.144477271282979,5.323045677590363e-08,9.768858781174068e-11,2.261688731329157e-11]},{\"line\":{\"color\":\"rgba(251, 128, 114, 1.0)\",\"dash\":\"solid\",\"shape\":\"linear\",\"width\":1.3},\"mode\":\"lines\",\"name\":\"Whole Wheat Bread\",\"text\":\"\",\"type\":\"scatter\",\"x\":[0.21333333333333335,0.32,0.384,0.4266666666666667,0.4693333333333334,0.512,0.5546666666666668,0.5973333333333334,0.64,0.8533333333333334,1.7066666666666668],\"y\":[2.962080076109312,2.9620800771310978,2.9620800671377814,2.9620797310875546,2.962080049538418,2.9620800571066,2.9168168580036022,2.832065261550591,2.2660311686076096,1.2040404135490437,1.0647649765352163]}],                        {\"legend\":{\"bgcolor\":\"#F5F6F9\",\"font\":{\"color\":\"#4D5663\"}},\"paper_bgcolor\":\"#F5F6F9\",\"plot_bgcolor\":\"#F5F6F9\",\"template\":{\"data\":{\"bar\":[{\"error_x\":{\"color\":\"#2a3f5f\"},\"error_y\":{\"color\":\"#2a3f5f\"},\"marker\":{\"line\":{\"color\":\"#E5ECF6\",\"width\":0.5},\"pattern\":{\"fillmode\":\"overlay\",\"size\":10,\"solidity\":0.2}},\"type\":\"bar\"}],\"barpolar\":[{\"marker\":{\"line\":{\"color\":\"#E5ECF6\",\"width\":0.5},\"pattern\":{\"fillmode\":\"overlay\",\"size\":10,\"solidity\":0.2}},\"type\":\"barpolar\"}],\"carpet\":[{\"aaxis\":{\"endlinecolor\":\"#2a3f5f\",\"gridcolor\":\"white\",\"linecolor\":\"white\",\"minorgridcolor\":\"white\",\"startlinecolor\":\"#2a3f5f\"},\"baxis\":{\"endlinecolor\":\"#2a3f5f\",\"gridcolor\":\"white\",\"linecolor\":\"white\",\"minorgridcolor\":\"white\",\"startlinecolor\":\"#2a3f5f\"},\"type\":\"carpet\"}],\"choropleth\":[{\"colorbar\":{\"outlinewidth\":0,\"ticks\":\"\"},\"type\":\"choropleth\"}],\"contour\":[{\"colorbar\":{\"outlinewidth\":0,\"ticks\":\"\"},\"colorscale\":[[0.0,\"#0d0887\"],[0.1111111111111111,\"#46039f\"],[0.2222222222222222,\"#7201a8\"],[0.3333333333333333,\"#9c179e\"],[0.4444444444444444,\"#bd3786\"],[0.5555555555555556,\"#d8576b\"],[0.6666666666666666,\"#ed7953\"],[0.7777777777777778,\"#fb9f3a\"],[0.8888888888888888,\"#fdca26\"],[1.0,\"#f0f921\"]],\"type\":\"contour\"}],\"contourcarpet\":[{\"colorbar\":{\"outlinewidth\":0,\"ticks\":\"\"},\"type\":\"contourcarpet\"}],\"heatmap\":[{\"colorbar\":{\"outlinewidth\":0,\"ticks\":\"\"},\"colorscale\":[[0.0,\"#0d0887\"],[0.1111111111111111,\"#46039f\"],[0.2222222222222222,\"#7201a8\"],[0.3333333333333333,\"#9c179e\"],[0.4444444444444444,\"#bd3786\"],[0.5555555555555556,\"#d8576b\"],[0.6666666666666666,\"#ed7953\"],[0.7777777777777778,\"#fb9f3a\"],[0.8888888888888888,\"#fdca26\"],[1.0,\"#f0f921\"]],\"type\":\"heatmap\"}],\"heatmapgl\":[{\"colorbar\":{\"outlinewidth\":0,\"ticks\":\"\"},\"colorscale\":[[0.0,\"#0d0887\"],[0.1111111111111111,\"#46039f\"],[0.2222222222222222,\"#7201a8\"],[0.3333333333333333,\"#9c179e\"],[0.4444444444444444,\"#bd3786\"],[0.5555555555555556,\"#d8576b\"],[0.6666666666666666,\"#ed7953\"],[0.7777777777777778,\"#fb9f3a\"],[0.8888888888888888,\"#fdca26\"],[1.0,\"#f0f921\"]],\"type\":\"heatmapgl\"}],\"histogram\":[{\"marker\":{\"pattern\":{\"fillmode\":\"overlay\",\"size\":10,\"solidity\":0.2}},\"type\":\"histogram\"}],\"histogram2d\":[{\"colorbar\":{\"outlinewidth\":0,\"ticks\":\"\"},\"colorscale\":[[0.0,\"#0d0887\"],[0.1111111111111111,\"#46039f\"],[0.2222222222222222,\"#7201a8\"],[0.3333333333333333,\"#9c179e\"],[0.4444444444444444,\"#bd3786\"],[0.5555555555555556,\"#d8576b\"],[0.6666666666666666,\"#ed7953\"],[0.7777777777777778,\"#fb9f3a\"],[0.8888888888888888,\"#fdca26\"],[1.0,\"#f0f921\"]],\"type\":\"histogram2d\"}],\"histogram2dcontour\":[{\"colorbar\":{\"outlinewidth\":0,\"ticks\":\"\"},\"colorscale\":[[0.0,\"#0d0887\"],[0.1111111111111111,\"#46039f\"],[0.2222222222222222,\"#7201a8\"],[0.3333333333333333,\"#9c179e\"],[0.4444444444444444,\"#bd3786\"],[0.5555555555555556,\"#d8576b\"],[0.6666666666666666,\"#ed7953\"],[0.7777777777777778,\"#fb9f3a\"],[0.8888888888888888,\"#fdca26\"],[1.0,\"#f0f921\"]],\"type\":\"histogram2dcontour\"}],\"mesh3d\":[{\"colorbar\":{\"outlinewidth\":0,\"ticks\":\"\"},\"type\":\"mesh3d\"}],\"parcoords\":[{\"line\":{\"colorbar\":{\"outlinewidth\":0,\"ticks\":\"\"}},\"type\":\"parcoords\"}],\"pie\":[{\"automargin\":true,\"type\":\"pie\"}],\"scatter\":[{\"marker\":{\"colorbar\":{\"outlinewidth\":0,\"ticks\":\"\"}},\"type\":\"scatter\"}],\"scatter3d\":[{\"line\":{\"colorbar\":{\"outlinewidth\":0,\"ticks\":\"\"}},\"marker\":{\"colorbar\":{\"outlinewidth\":0,\"ticks\":\"\"}},\"type\":\"scatter3d\"}],\"scattercarpet\":[{\"marker\":{\"colorbar\":{\"outlinewidth\":0,\"ticks\":\"\"}},\"type\":\"scattercarpet\"}],\"scattergeo\":[{\"marker\":{\"colorbar\":{\"outlinewidth\":0,\"ticks\":\"\"}},\"type\":\"scattergeo\"}],\"scattergl\":[{\"marker\":{\"colorbar\":{\"outlinewidth\":0,\"ticks\":\"\"}},\"type\":\"scattergl\"}],\"scattermapbox\":[{\"marker\":{\"colorbar\":{\"outlinewidth\":0,\"ticks\":\"\"}},\"type\":\"scattermapbox\"}],\"scatterpolar\":[{\"marker\":{\"colorbar\":{\"outlinewidth\":0,\"ticks\":\"\"}},\"type\":\"scatterpolar\"}],\"scatterpolargl\":[{\"marker\":{\"colorbar\":{\"outlinewidth\":0,\"ticks\":\"\"}},\"type\":\"scatterpolargl\"}],\"scatterternary\":[{\"marker\":{\"colorbar\":{\"outlinewidth\":0,\"ticks\":\"\"}},\"type\":\"scatterternary\"}],\"surface\":[{\"colorbar\":{\"outlinewidth\":0,\"ticks\":\"\"},\"colorscale\":[[0.0,\"#0d0887\"],[0.1111111111111111,\"#46039f\"],[0.2222222222222222,\"#7201a8\"],[0.3333333333333333,\"#9c179e\"],[0.4444444444444444,\"#bd3786\"],[0.5555555555555556,\"#d8576b\"],[0.6666666666666666,\"#ed7953\"],[0.7777777777777778,\"#fb9f3a\"],[0.8888888888888888,\"#fdca26\"],[1.0,\"#f0f921\"]],\"type\":\"surface\"}],\"table\":[{\"cells\":{\"fill\":{\"color\":\"#EBF0F8\"},\"line\":{\"color\":\"white\"}},\"header\":{\"fill\":{\"color\":\"#C8D4E3\"},\"line\":{\"color\":\"white\"}},\"type\":\"table\"}]},\"layout\":{\"annotationdefaults\":{\"arrowcolor\":\"#2a3f5f\",\"arrowhead\":0,\"arrowwidth\":1},\"autotypenumbers\":\"strict\",\"coloraxis\":{\"colorbar\":{\"outlinewidth\":0,\"ticks\":\"\"}},\"colorscale\":{\"diverging\":[[0,\"#8e0152\"],[0.1,\"#c51b7d\"],[0.2,\"#de77ae\"],[0.3,\"#f1b6da\"],[0.4,\"#fde0ef\"],[0.5,\"#f7f7f7\"],[0.6,\"#e6f5d0\"],[0.7,\"#b8e186\"],[0.8,\"#7fbc41\"],[0.9,\"#4d9221\"],[1,\"#276419\"]],\"sequential\":[[0.0,\"#0d0887\"],[0.1111111111111111,\"#46039f\"],[0.2222222222222222,\"#7201a8\"],[0.3333333333333333,\"#9c179e\"],[0.4444444444444444,\"#bd3786\"],[0.5555555555555556,\"#d8576b\"],[0.6666666666666666,\"#ed7953\"],[0.7777777777777778,\"#fb9f3a\"],[0.8888888888888888,\"#fdca26\"],[1.0,\"#f0f921\"]],\"sequentialminus\":[[0.0,\"#0d0887\"],[0.1111111111111111,\"#46039f\"],[0.2222222222222222,\"#7201a8\"],[0.3333333333333333,\"#9c179e\"],[0.4444444444444444,\"#bd3786\"],[0.5555555555555556,\"#d8576b\"],[0.6666666666666666,\"#ed7953\"],[0.7777777777777778,\"#fb9f3a\"],[0.8888888888888888,\"#fdca26\"],[1.0,\"#f0f921\"]]},\"colorway\":[\"#636efa\",\"#EF553B\",\"#00cc96\",\"#ab63fa\",\"#FFA15A\",\"#19d3f3\",\"#FF6692\",\"#B6E880\",\"#FF97FF\",\"#FECB52\"],\"font\":{\"color\":\"#2a3f5f\"},\"geo\":{\"bgcolor\":\"white\",\"lakecolor\":\"white\",\"landcolor\":\"#E5ECF6\",\"showlakes\":true,\"showland\":true,\"subunitcolor\":\"white\"},\"hoverlabel\":{\"align\":\"left\"},\"hovermode\":\"closest\",\"mapbox\":{\"style\":\"light\"},\"paper_bgcolor\":\"white\",\"plot_bgcolor\":\"#E5ECF6\",\"polar\":{\"angularaxis\":{\"gridcolor\":\"white\",\"linecolor\":\"white\",\"ticks\":\"\"},\"bgcolor\":\"#E5ECF6\",\"radialaxis\":{\"gridcolor\":\"white\",\"linecolor\":\"white\",\"ticks\":\"\"}},\"scene\":{\"xaxis\":{\"backgroundcolor\":\"#E5ECF6\",\"gridcolor\":\"white\",\"gridwidth\":2,\"linecolor\":\"white\",\"showbackground\":true,\"ticks\":\"\",\"zerolinecolor\":\"white\"},\"yaxis\":{\"backgroundcolor\":\"#E5ECF6\",\"gridcolor\":\"white\",\"gridwidth\":2,\"linecolor\":\"white\",\"showbackground\":true,\"ticks\":\"\",\"zerolinecolor\":\"white\"},\"zaxis\":{\"backgroundcolor\":\"#E5ECF6\",\"gridcolor\":\"white\",\"gridwidth\":2,\"linecolor\":\"white\",\"showbackground\":true,\"ticks\":\"\",\"zerolinecolor\":\"white\"}},\"shapedefaults\":{\"line\":{\"color\":\"#2a3f5f\"}},\"ternary\":{\"aaxis\":{\"gridcolor\":\"white\",\"linecolor\":\"white\",\"ticks\":\"\"},\"baxis\":{\"gridcolor\":\"white\",\"linecolor\":\"white\",\"ticks\":\"\"},\"bgcolor\":\"#E5ECF6\",\"caxis\":{\"gridcolor\":\"white\",\"linecolor\":\"white\",\"ticks\":\"\"}},\"title\":{\"x\":0.05},\"xaxis\":{\"automargin\":true,\"gridcolor\":\"white\",\"linecolor\":\"white\",\"ticks\":\"\",\"title\":{\"standoff\":15},\"zerolinecolor\":\"white\",\"zerolinewidth\":2},\"yaxis\":{\"automargin\":true,\"gridcolor\":\"white\",\"linecolor\":\"white\",\"ticks\":\"\",\"title\":{\"standoff\":15},\"zerolinecolor\":\"white\",\"zerolinewidth\":2}}},\"title\":{\"font\":{\"color\":\"#4D5663\"}},\"xaxis\":{\"gridcolor\":\"#E1E5ED\",\"showgrid\":true,\"tickfont\":{\"color\":\"#4D5663\"},\"title\":{\"font\":{\"color\":\"#4D5663\"},\"text\":\"Greek yogurt Price\"},\"zerolinecolor\":\"#E1E5ED\"},\"yaxis\":{\"gridcolor\":\"#E1E5ED\",\"showgrid\":true,\"tickfont\":{\"color\":\"#4D5663\"},\"title\":{\"font\":{\"color\":\"#4D5663\"},\"text\":\"Hectograms\"},\"zerolinecolor\":\"#E1E5ED\"}},                        {\"showLink\": true, \"linkText\": \"Export to plot.ly\", \"plotlyServerURL\": \"https://plot.ly\", \"responsive\": true}                    ).then(function(){\n",
       "                            \n",
       "var gd = document.getElementById('1e5e4158-d56e-45dc-97e1-af0719003120');\n",
       "var x = new MutationObserver(function (mutations, observer) {{\n",
       "        var display = window.getComputedStyle(gd).display;\n",
       "        if (!display || display === 'none') {{\n",
       "            console.log([gd, 'removed!']);\n",
       "            Plotly.purge(gd);\n",
       "            observer.disconnect();\n",
       "        }}\n",
       "}});\n",
       "\n",
       "// Listen for the removal of the full notebook cells\n",
       "var notebookContainer = gd.closest('#notebook-container');\n",
       "if (notebookContainer) {{\n",
       "    x.observe(notebookContainer, {childList: true});\n",
       "}}\n",
       "\n",
       "// Listen for the clearing of the current output cell\n",
       "var outputEl = gd.closest('.output');\n",
       "if (outputEl) {{\n",
       "    x.observe(outputEl, {childList: true});\n",
       "}}\n",
       "\n",
       "                        })                };                });            </script>        </div>"
      ]
     },
     "metadata": {},
     "output_type": "display_data"
    }
   ],
   "source": [
    "import cufflinks as cf\n",
    "cf.go_offline()\n",
    "ReferenceGood = 'Greek yogurt'\n",
    "scale = [0.5,0.75,0.9,1.,1.1,1.2,1.3,1.4,1.5,2,4]\n",
    "cost0 = solve_subsistence_problem(FoodNutrients,PricesIM,bminM22,bmaxM22,tol=tol).fun\n",
    "my_p = PricesIM.copy()\n",
    "diet = {}\n",
    "for s in scale:\n",
    "    my_p[ReferenceGood] = PricesIM[ReferenceGood]*s\n",
    "    result = solve_subsistence_problem(FoodNutrients,my_p,bminM22,bmaxM22,tol=tol)\n",
    "    diet[my_p[ReferenceGood]] = result.diet\n",
    "Diet_response = pd.DataFrame(diet).T\n",
    "Diet_response.index.name = '%s Price' % ReferenceGood\n",
    "Diet_response.reset_index(inplace=True)\n",
    "\n",
    "# Get rid of units for index (cufflinks chokes)\n",
    "Diet_response['%s Price' % ReferenceGood] = Diet_response['%s Price' % ReferenceGood].apply(lambda x: x.magnitude)\n",
    "Diet_response = Diet_response.set_index('%s Price' % ReferenceGood)\n",
    "# Just look at goods consumed in quantities greater than error tolerance\n",
    "Diet_response.loc[:,(Diet_response>tol).sum()>0].iplot(xTitle='%s Price' % ReferenceGood,yTitle='Hectograms')"
   ]
  },
  {
   "cell_type": "code",
   "execution_count": 64,
   "id": "329ae404",
   "metadata": {},
   "outputs": [],
   "source": [
    "Nutrient_by_Place = {}\n",
    "for k,v in Diet_by_Place.items():\n",
    "    \n",
    "    Nutrient_by_Place[k] = v@FoodNutrients.reindex(v.columns, axis = 1).T\n",
    "    Nutrient_by_Place[k] = Nutrient_by_Place[k]/Nutrient_by_Place[k].iloc[5,:]\n",
    "    Nutrient_by_Place[k] = Nutrient_by_Place[k].loc[:,Nutrient_by_Place[k].count() > 0]"
   ]
  },
  {
   "cell_type": "code",
   "execution_count": 68,
   "id": "cf0e75d6",
   "metadata": {},
   "outputs": [
    {
     "data": {
      "application/vnd.plotly.v1+json": {
       "config": {
        "linkText": "Export to plot.ly",
        "plotlyServerURL": "https://plot.ly",
        "showLink": true
       },
       "data": [
        {
         "line": {
          "color": "rgba(255, 153, 51, 1.0)",
          "dash": "solid",
          "shape": "linear",
          "width": 1.3
         },
         "mode": "lines",
         "name": "Water",
         "text": "",
         "type": "scatter",
         "x": [
          0.4238386990504271,
          0.6357580485756407,
          0.7629096582907687,
          0.8476773981008542,
          0.9324451379109396,
          1.017212877721025,
          1.1019806175311104,
          1.1867483573411959,
          1.2715160971512813,
          1.6953547962017084
         ],
         "y": [
          1.1926012893116915,
          1.1021478316603206,
          0.9961962212311745,
          0.9961962206704226,
          0.9999924927037916,
          1,
          1.0000000059719254,
          0.8988480245326698,
          0.7867490318738267,
          0.765744447543353
         ]
        },
        {
         "line": {
          "color": "rgba(55, 128, 191, 1.0)",
          "dash": "solid",
          "shape": "linear",
          "width": 1.3
         },
         "mode": "lines",
         "name": "Energy",
         "text": "",
         "type": "scatter",
         "x": [
          0.4238386990504271,
          0.6357580485756407,
          0.7629096582907687,
          0.8476773981008542,
          0.9324451379109396,
          1.017212877721025,
          1.1019806175311104,
          1.1867483573411959,
          1.2715160971512813,
          1.6953547962017084
         ],
         "y": [
          1.0000000007186918,
          1.000000000253671,
          1.0000000000662275,
          1.0000000000798075,
          0.9999999361934564,
          1,
          1.000000000027233,
          0.9999999989098315,
          0.9999998676255912,
          0.9999999999475487
         ]
        },
        {
         "line": {
          "color": "rgba(50, 171, 96, 1.0)",
          "dash": "solid",
          "shape": "linear",
          "width": 1.3
         },
         "mode": "lines",
         "name": "Nitrogen",
         "text": "",
         "type": "scatter",
         "x": [
          0.4238386990504271,
          0.6357580485756407,
          0.7629096582907687,
          0.8476773981008542,
          0.9324451379109396,
          1.017212877721025,
          1.1019806175311104,
          1.1867483573411959,
          1.2715160971512813,
          1.6953547962017084
         ],
         "y": [
          1.8590076065932302,
          1.8494502797422732,
          1.0589647377644094,
          1.058964733581986,
          1.000006583057914,
          1,
          1.000000006608093,
          1.7166673094329594,
          2.5867597891538456,
          2.87745378915964
         ]
        },
        {
         "line": {
          "color": "rgba(128, 0, 128, 1.0)",
          "dash": "solid",
          "shape": "linear",
          "width": 1.3
         },
         "mode": "lines",
         "name": "Protein",
         "text": "",
         "type": "scatter",
         "x": [
          0.4238386990504271,
          0.6357580485756407,
          0.7629096582907687,
          0.8476773981008542,
          0.9324451379109396,
          1.017212877721025,
          1.1019806175311104,
          1.1867483573411959,
          1.2715160971512813,
          1.6953547962017084
         ],
         "y": [
          1.1643594323474473,
          1.142190457958277,
          1.0073609003388067,
          1.0073608998052836,
          1.0000042943506535,
          1,
          0.9999999963162202,
          0.9710740068865527,
          0.9643338959885196,
          0.9459256947447391
         ]
        },
        {
         "line": {
          "color": "rgba(219, 64, 82, 1.0)",
          "dash": "solid",
          "shape": "linear",
          "width": 1.3
         },
         "mode": "lines",
         "name": "Total lipid (fat)",
         "text": "",
         "type": "scatter",
         "x": [
          0.4238386990504271,
          0.6357580485756407,
          0.7629096582907687,
          0.8476773981008542,
          0.9324451379109396,
          1.017212877721025,
          1.1019806175311104,
          1.1867483573411959,
          1.2715160971512813,
          1.6953547962017084
         ],
         "y": [
          0.5321041815436824,
          0.477867439759402,
          0.9564229954853269,
          0.9564229972715301,
          0.999960993909698,
          1,
          1.0000000347137985,
          1.3096374075599124,
          1.7087470299709242,
          1.9603073222914926
         ]
        },
        {
         "line": {
          "color": "rgba(0, 128, 128, 1.0)",
          "dash": "solid",
          "shape": "linear",
          "width": 1.3
         },
         "mode": "lines",
         "name": "Ash",
         "text": "",
         "type": "scatter",
         "x": [
          0.4238386990504271,
          0.6357580485756407,
          0.7629096582907687,
          0.8476773981008542,
          0.9324451379109396,
          1.017212877721025,
          1.1019806175311104,
          1.1867483573411959,
          1.2715160971512813,
          1.6953547962017084
         ],
         "y": [
          1.4914225052522214,
          1.423471596117943,
          1.0216871290196845,
          1.0216871266358505,
          1.0000022575135363,
          1,
          0.9999999971379686,
          0.775977446836872,
          0.5039959233718779,
          0.41312798468714146
         ]
        },
        {
         "line": {
          "color": "rgba(255, 255, 51, 1.0)",
          "dash": "solid",
          "shape": "linear",
          "width": 1.3
         },
         "mode": "lines",
         "name": "Carbohydrate, by difference",
         "text": "",
         "type": "scatter",
         "x": [
          0.4238386990504271,
          0.6357580485756407,
          0.7629096582907687,
          0.8476773981008542,
          0.9324451379109396,
          1.017212877721025,
          1.1019806175311104,
          1.1867483573411959,
          1.2715160971512813,
          1.6953547962017084
         ],
         "y": [
          0.7580115579851567,
          0.8613636127570513,
          1.0027943524972023,
          1.0027943539678241,
          1.0000197162546087,
          1,
          0.9999999835126498,
          1.0618771090177532,
          1.111891482294312,
          1.0531043954430208
         ]
        },
        {
         "line": {
          "color": "rgba(128, 128, 0, 1.0)",
          "dash": "solid",
          "shape": "linear",
          "width": 1.3
         },
         "mode": "lines",
         "name": "Selenium, Se",
         "text": "",
         "type": "scatter",
         "x": [
          0.4238386990504271,
          0.6357580485756407,
          0.7629096582907687,
          0.8476773981008542,
          0.9324451379109396,
          1.017212877721025,
          1.1019806175311104,
          1.1867483573411959,
          1.2715160971512813,
          1.6953547962017084
         ],
         "y": [
          1.312491293338389,
          1.2678478009756424,
          1.013514192628364,
          1.0135141912531407,
          0.9999989397937864,
          1,
          1.0000000026803966,
          1.0453769082560647,
          1.1053040914390402,
          1.1233891562887066
         ]
        },
        {
         "line": {
          "color": "rgba(251, 128, 114, 1.0)",
          "dash": "solid",
          "shape": "linear",
          "width": 1.3
         },
         "mode": "lines",
         "name": "Riboflavin",
         "text": "",
         "type": "scatter",
         "x": [
          0.4238386990504271,
          0.6357580485756407,
          0.7629096582907687,
          0.8476773981008542,
          0.9324451379109396,
          1.017212877721025,
          1.1019806175311104,
          1.1867483573411959,
          1.2715160971512813,
          1.6953547962017084
         ],
         "y": [
          1.3011519678343184,
          1.2097990263643714,
          1.0037068725491503,
          1.0037068716275073,
          0.9999983791714125,
          1,
          1.0000000005056326,
          0.8469425318516208,
          0.6881540200634376,
          0.6822623507368707
         ]
        },
        {
         "line": {
          "color": "rgba(128, 177, 211, 1.0)",
          "dash": "solid",
          "shape": "linear",
          "width": 1.3
         },
         "mode": "lines",
         "name": "Tryptophan",
         "text": "",
         "type": "scatter",
         "x": [
          0.4238386990504271,
          0.6357580485756407,
          0.7629096582907687,
          0.8476773981008542,
          0.9324451379109396,
          1.017212877721025,
          1.1019806175311104,
          1.1867483573411959,
          1.2715160971512813,
          1.6953547962017084
         ],
         "y": [
          1.4297992848826044,
          1.3520590764103253,
          1.0154377835207833,
          1.015437781438471,
          1.0000015323645204,
          1,
          0.9999999955503646,
          0.6182769891993196,
          0.1548342837658979,
          1.765017990381124e-11
         ]
        },
        {
         "line": {
          "color": "rgba(128, 177, 211, 0.9322033898305084)",
          "dash": "solid",
          "shape": "linear",
          "width": 1.3
         },
         "mode": "lines",
         "name": "Threonine",
         "text": "",
         "type": "scatter",
         "x": [
          0.4238386990504271,
          0.6357580485756407,
          0.7629096582907687,
          0.8476773981008542,
          0.9324451379109396,
          1.017212877721025,
          1.1019806175311104,
          1.1867483573411959,
          1.2715160971512813,
          1.6953547962017084
         ],
         "y": [
          1.4297992848826044,
          1.3520590764103253,
          1.015437783520783,
          1.015437781438471,
          1.0000015323645206,
          1,
          0.9999999955503646,
          0.6182769891993196,
          0.1548342837658979,
          1.765017990381124e-11
         ]
        },
        {
         "line": {
          "color": "rgba(255, 153, 51, 0.9322033898305084)",
          "dash": "solid",
          "shape": "linear",
          "width": 1.3
         },
         "mode": "lines",
         "name": "Isoleucine",
         "text": "",
         "type": "scatter",
         "x": [
          0.4238386990504271,
          0.6357580485756407,
          0.7629096582907687,
          0.8476773981008542,
          0.9324451379109396,
          1.017212877721025,
          1.1019806175311104,
          1.1867483573411959,
          1.2715160971512813,
          1.6953547962017084
         ],
         "y": [
          1.4297992848826047,
          1.3520590764103255,
          1.0154377835207833,
          1.015437781438471,
          1.0000015323645206,
          1,
          0.9999999955503647,
          0.6182769891993196,
          0.15483428376589792,
          1.7650179903811243e-11
         ]
        },
        {
         "line": {
          "color": "rgba(55, 128, 191, 0.9322033898305084)",
          "dash": "solid",
          "shape": "linear",
          "width": 1.3
         },
         "mode": "lines",
         "name": "Leucine",
         "text": "",
         "type": "scatter",
         "x": [
          0.4238386990504271,
          0.6357580485756407,
          0.7629096582907687,
          0.8476773981008542,
          0.9324451379109396,
          1.017212877721025,
          1.1019806175311104,
          1.1867483573411959,
          1.2715160971512813,
          1.6953547962017084
         ],
         "y": [
          1.4297992848826044,
          1.3520590764103255,
          1.0154377835207833,
          1.015437781438471,
          1.0000015323645206,
          1,
          0.9999999955503647,
          0.6182769891993196,
          0.1548342837658979,
          1.7650179903811243e-11
         ]
        },
        {
         "line": {
          "color": "rgba(50, 171, 96, 0.9322033898305084)",
          "dash": "solid",
          "shape": "linear",
          "width": 1.3
         },
         "mode": "lines",
         "name": "Lysine",
         "text": "",
         "type": "scatter",
         "x": [
          0.4238386990504271,
          0.6357580485756407,
          0.7629096582907687,
          0.8476773981008542,
          0.9324451379109396,
          1.017212877721025,
          1.1019806175311104,
          1.1867483573411959,
          1.2715160971512813,
          1.6953547962017084
         ],
         "y": [
          1.4297992848826047,
          1.3520590764103253,
          1.0154377835207833,
          1.015437781438471,
          1.0000015323645206,
          1,
          0.9999999955503647,
          0.6182769891993196,
          0.1548342837658979,
          1.7650179903811243e-11
         ]
        },
        {
         "line": {
          "color": "rgba(128, 0, 128, 0.9322033898305084)",
          "dash": "solid",
          "shape": "linear",
          "width": 1.3
         },
         "mode": "lines",
         "name": "Methionine",
         "text": "",
         "type": "scatter",
         "x": [
          0.4238386990504271,
          0.6357580485756407,
          0.7629096582907687,
          0.8476773981008542,
          0.9324451379109396,
          1.017212877721025,
          1.1019806175311104,
          1.1867483573411959,
          1.2715160971512813,
          1.6953547962017084
         ],
         "y": [
          1.4297992848826044,
          1.3520590764103253,
          1.015437783520783,
          1.015437781438471,
          1.0000015323645204,
          1,
          0.9999999955503647,
          0.6182769891993195,
          0.1548342837658979,
          1.7650179903811243e-11
         ]
        },
        {
         "line": {
          "color": "rgba(219, 64, 82, 0.9322033898305084)",
          "dash": "solid",
          "shape": "linear",
          "width": 1.3
         },
         "mode": "lines",
         "name": "Phenylalanine",
         "text": "",
         "type": "scatter",
         "x": [
          0.4238386990504271,
          0.6357580485756407,
          0.7629096582907687,
          0.8476773981008542,
          0.9324451379109396,
          1.017212877721025,
          1.1019806175311104,
          1.1867483573411959,
          1.2715160971512813,
          1.6953547962017084
         ],
         "y": [
          1.4297992848826047,
          1.3520590764103255,
          1.0154377835207833,
          1.015437781438471,
          1.0000015323645206,
          1,
          0.9999999955503647,
          0.6182769891993196,
          0.15483428376589792,
          1.7650179903811243e-11
         ]
        },
        {
         "line": {
          "color": "rgba(0, 128, 128, 0.9322033898305084)",
          "dash": "solid",
          "shape": "linear",
          "width": 1.3
         },
         "mode": "lines",
         "name": "Tyrosine",
         "text": "",
         "type": "scatter",
         "x": [
          0.4238386990504271,
          0.6357580485756407,
          0.7629096582907687,
          0.8476773981008542,
          0.9324451379109396,
          1.017212877721025,
          1.1019806175311104,
          1.1867483573411959,
          1.2715160971512813,
          1.6953547962017084
         ],
         "y": [
          1.4297992848826047,
          1.3520590764103253,
          1.0154377835207833,
          1.015437781438471,
          1.0000015323645206,
          1,
          0.9999999955503646,
          0.6182769891993196,
          0.1548342837658979,
          1.7650179903811243e-11
         ]
        },
        {
         "line": {
          "color": "rgba(255, 255, 51, 0.9322033898305084)",
          "dash": "solid",
          "shape": "linear",
          "width": 1.3
         },
         "mode": "lines",
         "name": "Valine",
         "text": "",
         "type": "scatter",
         "x": [
          0.4238386990504271,
          0.6357580485756407,
          0.7629096582907687,
          0.8476773981008542,
          0.9324451379109396,
          1.017212877721025,
          1.1019806175311104,
          1.1867483573411959,
          1.2715160971512813,
          1.6953547962017084
         ],
         "y": [
          1.4297992848826044,
          1.3520590764103255,
          1.015437783520783,
          1.015437781438471,
          1.0000015323645204,
          1,
          0.9999999955503646,
          0.6182769891993195,
          0.15483428376589792,
          1.7650179903811243e-11
         ]
        },
        {
         "line": {
          "color": "rgba(128, 128, 0, 0.9322033898305084)",
          "dash": "solid",
          "shape": "linear",
          "width": 1.3
         },
         "mode": "lines",
         "name": "Arginine",
         "text": "",
         "type": "scatter",
         "x": [
          0.4238386990504271,
          0.6357580485756407,
          0.7629096582907687,
          0.8476773981008542,
          0.9324451379109396,
          1.017212877721025,
          1.1019806175311104,
          1.1867483573411959,
          1.2715160971512813,
          1.6953547962017084
         ],
         "y": [
          1.4297992848826044,
          1.3520590764103253,
          1.0154377835207833,
          1.0154377814384712,
          1.0000015323645206,
          1,
          0.9999999955503647,
          0.6182769891993196,
          0.15483428376589792,
          1.7650179903811243e-11
         ]
        },
        {
         "line": {
          "color": "rgba(251, 128, 114, 0.9322033898305084)",
          "dash": "solid",
          "shape": "linear",
          "width": 1.3
         },
         "mode": "lines",
         "name": "Histidine",
         "text": "",
         "type": "scatter",
         "x": [
          0.4238386990504271,
          0.6357580485756407,
          0.7629096582907687,
          0.8476773981008542,
          0.9324451379109396,
          1.017212877721025,
          1.1019806175311104,
          1.1867483573411959,
          1.2715160971512813,
          1.6953547962017084
         ],
         "y": [
          1.4297992848826044,
          1.3520590764103253,
          1.0154377835207833,
          1.015437781438471,
          1.0000015323645206,
          1,
          0.9999999955503647,
          0.6182769891993196,
          0.15483428376589792,
          1.7650179903811243e-11
         ]
        },
        {
         "line": {
          "color": "rgba(251, 128, 114, 0.8644067796610169)",
          "dash": "solid",
          "shape": "linear",
          "width": 1.3
         },
         "mode": "lines",
         "name": "Alanine",
         "text": "",
         "type": "scatter",
         "x": [
          0.4238386990504271,
          0.6357580485756407,
          0.7629096582907687,
          0.8476773981008542,
          0.9324451379109396,
          1.017212877721025,
          1.1019806175311104,
          1.1867483573411959,
          1.2715160971512813,
          1.6953547962017084
         ],
         "y": [
          1.4297992848826044,
          1.3520590764103255,
          1.0154377835207833,
          1.0154377814384712,
          1.0000015323645206,
          1,
          0.9999999955503648,
          0.6182769891993196,
          0.15483428376589792,
          1.7650179903811243e-11
         ]
        },
        {
         "line": {
          "color": "rgba(128, 177, 211, 0.8644067796610169)",
          "dash": "solid",
          "shape": "linear",
          "width": 1.3
         },
         "mode": "lines",
         "name": "Aspartic acid",
         "text": "",
         "type": "scatter",
         "x": [
          0.4238386990504271,
          0.6357580485756407,
          0.7629096582907687,
          0.8476773981008542,
          0.9324451379109396,
          1.017212877721025,
          1.1019806175311104,
          1.1867483573411959,
          1.2715160971512813,
          1.6953547962017084
         ],
         "y": [
          1.4297992848826047,
          1.3520590764103255,
          1.0154377835207833,
          1.015437781438471,
          1.0000015323645206,
          1,
          0.9999999955503647,
          0.6182769891993196,
          0.15483428376589792,
          1.7650179903811243e-11
         ]
        },
        {
         "line": {
          "color": "rgba(255, 153, 51, 0.8644067796610169)",
          "dash": "solid",
          "shape": "linear",
          "width": 1.3
         },
         "mode": "lines",
         "name": "Glutamic acid",
         "text": "",
         "type": "scatter",
         "x": [
          0.4238386990504271,
          0.6357580485756407,
          0.7629096582907687,
          0.8476773981008542,
          0.9324451379109396,
          1.017212877721025,
          1.1019806175311104,
          1.1867483573411959,
          1.2715160971512813,
          1.6953547962017084
         ],
         "y": [
          1.4297992848826044,
          1.3520590764103253,
          1.015437783520783,
          1.015437781438471,
          1.0000015323645204,
          1,
          0.9999999955503646,
          0.6182769891993196,
          0.1548342837658979,
          1.765017990381124e-11
         ]
        },
        {
         "line": {
          "color": "rgba(55, 128, 191, 0.8644067796610169)",
          "dash": "solid",
          "shape": "linear",
          "width": 1.3
         },
         "mode": "lines",
         "name": "Glycine",
         "text": "",
         "type": "scatter",
         "x": [
          0.4238386990504271,
          0.6357580485756407,
          0.7629096582907687,
          0.8476773981008542,
          0.9324451379109396,
          1.017212877721025,
          1.1019806175311104,
          1.1867483573411959,
          1.2715160971512813,
          1.6953547962017084
         ],
         "y": [
          1.4297992848826044,
          1.3520590764103253,
          1.015437783520783,
          1.015437781438471,
          1.0000015323645204,
          1,
          0.9999999955503647,
          0.6182769891993196,
          0.1548342837658979,
          1.7650179903811243e-11
         ]
        },
        {
         "line": {
          "color": "rgba(50, 171, 96, 0.8644067796610169)",
          "dash": "solid",
          "shape": "linear",
          "width": 1.3
         },
         "mode": "lines",
         "name": "Proline",
         "text": "",
         "type": "scatter",
         "x": [
          0.4238386990504271,
          0.6357580485756407,
          0.7629096582907687,
          0.8476773981008542,
          0.9324451379109396,
          1.017212877721025,
          1.1019806175311104,
          1.1867483573411959,
          1.2715160971512813,
          1.6953547962017084
         ],
         "y": [
          1.4297992848826042,
          1.3520590764103253,
          1.015437783520783,
          1.015437781438471,
          1.0000015323645206,
          1,
          0.9999999955503646,
          0.6182769891993195,
          0.1548342837658979,
          1.7650179903811243e-11
         ]
        },
        {
         "line": {
          "color": "rgba(128, 0, 128, 0.8644067796610169)",
          "dash": "solid",
          "shape": "linear",
          "width": 1.3
         },
         "mode": "lines",
         "name": "Serine",
         "text": "",
         "type": "scatter",
         "x": [
          0.4238386990504271,
          0.6357580485756407,
          0.7629096582907687,
          0.8476773981008542,
          0.9324451379109396,
          1.017212877721025,
          1.1019806175311104,
          1.1867483573411959,
          1.2715160971512813,
          1.6953547962017084
         ],
         "y": [
          1.4297992848826044,
          1.3520590764103253,
          1.015437783520783,
          1.015437781438471,
          1.0000015323645204,
          1,
          0.9999999955503647,
          0.6182769891993196,
          0.1548342837658979,
          1.7650179903811243e-11
         ]
        },
        {
         "line": {
          "color": "rgba(219, 64, 82, 0.8644067796610169)",
          "dash": "solid",
          "shape": "linear",
          "width": 1.3
         },
         "mode": "lines",
         "name": "Fatty acids, total saturated",
         "text": "",
         "type": "scatter",
         "x": [
          0.4238386990504271,
          0.6357580485756407,
          0.7629096582907687,
          0.8476773981008542,
          0.9324451379109396,
          1.017212877721025,
          1.1019806175311104,
          1.1867483573411959,
          1.2715160971512813,
          1.6953547962017084
         ],
         "y": [
          0.7636103476080747,
          0.687172079355326,
          0.9685307842325911,
          0.9685307851740611,
          0.9999685698749525,
          1,
          1.0000000272087288,
          1.2743621812296546,
          1.7366152805687014,
          1.852063801162405
         ]
        },
        {
         "line": {
          "color": "rgba(0, 128, 128, 0.8644067796610169)",
          "dash": "solid",
          "shape": "linear",
          "width": 1.3
         },
         "mode": "lines",
         "name": "Fatty acids, total monounsaturated",
         "text": "",
         "type": "scatter",
         "x": [
          0.4238386990504271,
          0.6357580485756407,
          0.7629096582907687,
          0.8476773981008542,
          0.9324451379109396,
          1.017212877721025,
          1.1019806175311104,
          1.1867483573411959,
          1.2715160971512813,
          1.6953547962017084
         ],
         "y": [
          0.30807600810069086,
          0.25504282903156755,
          0.9407965789603369,
          0.940796581588682,
          0.9999482094020012,
          1,
          1.0000000464997592,
          1.4128428202280476,
          1.8956885559280923,
          2.341197371005206
         ]
        },
        {
         "line": {
          "color": "rgba(255, 255, 51, 0.8644067796610169)",
          "dash": "solid",
          "shape": "linear",
          "width": 1.3
         },
         "mode": "lines",
         "name": "Fatty acids, total trans",
         "text": "",
         "type": "scatter",
         "x": [
          0.4238386990504271,
          0.6357580485756407,
          0.7629096582907687,
          0.8476773981008542,
          0.9324451379109396,
          1.017212877721025,
          1.1019806175311104,
          1.1867483573411959,
          1.2715160971512813,
          1.6953547962017084
         ],
         "y": [
          1.4313356360562217,
          1.353839488206491,
          1.015593588252084,
          1.0155935861622545,
          1.0000015504434774,
          1,
          0.9999999955899458,
          0.622208677314907,
          0.16353936103341588,
          0.010299845762389619
         ]
        },
        {
         "line": {
          "color": "rgba(128, 128, 0, 0.8644067796610169)",
          "dash": "solid",
          "shape": "linear",
          "width": 1.3
         },
         "mode": "lines",
         "name": "Sodium, Na",
         "text": "",
         "type": "scatter",
         "x": [
          0.4238386990504271,
          0.6357580485756407,
          0.7629096582907687,
          0.8476773981008542,
          0.9324451379109396,
          1.017212877721025,
          1.1019806175311104,
          1.1867483573411959,
          1.2715160971512813,
          1.6953547962017084
         ],
         "y": [
          0.9999999990957766,
          0.9999999999318047,
          1.0000000000932094,
          1.0000000000654752,
          0.999999943769296,
          1,
          1.0000000000943252,
          0.999999999041232,
          0.9999998091714323,
          0.9999999999952123
         ]
        },
        {
         "line": {
          "color": "rgba(128, 128, 0, 0.7966101694915255)",
          "dash": "solid",
          "shape": "linear",
          "width": 1.3
         },
         "mode": "lines",
         "name": "Cholesterol",
         "text": "",
         "type": "scatter",
         "x": [
          0.4238386990504271,
          0.6357580485756407,
          0.7629096582907687,
          0.8476773981008542,
          0.9324451379109396,
          1.017212877721025,
          1.1019806175311104,
          1.1867483573411959,
          1.2715160971512813,
          1.6953547962017084
         ],
         "y": [
          1.5497740844647374,
          1.4910927492449533,
          1.0276046893105029,
          1.0276046868643491,
          1.0000033100861354,
          1,
          0.9999999982478286,
          1.2592876187443454,
          1.8551336973088395,
          1.7289772827625094
         ]
        },
        {
         "line": {
          "color": "rgba(251, 128, 114, 0.7966101694915255)",
          "dash": "solid",
          "shape": "linear",
          "width": 1.3
         },
         "mode": "lines",
         "name": "Fatty acids, total polyunsaturated",
         "text": "",
         "type": "scatter",
         "x": [
          0.4238386990504271,
          0.6357580485756407,
          0.7629096582907687,
          0.8476773981008542,
          0.9324451379109396,
          1.017212877721025,
          1.1019806175311104,
          1.1867483573411959,
          1.2715160971512813,
          1.6953547962017084
         ],
         "y": [
          0.7183000823439749,
          0.6528745392828427,
          0.9674464018522823,
          0.9674464029001981,
          0.9999702455209557,
          1,
          1.0000000261102788,
          1.1143504789609358,
          1.224552781490716,
          1.2917561761129508
         ]
        },
        {
         "line": {
          "color": "rgba(128, 177, 211, 0.7966101694915255)",
          "dash": "solid",
          "shape": "linear",
          "width": 1.3
         },
         "mode": "lines",
         "name": "Fiber, total dietary",
         "text": "",
         "type": "scatter",
         "x": [
          0.4238386990504271,
          0.6357580485756407,
          0.7629096582907687,
          0.8476773981008542,
          0.9324451379109396,
          1.017212877721025,
          1.1019806175311104,
          1.1867483573411959,
          1.2715160971512813,
          1.6953547962017084
         ],
         "y": [
          0.7486735935076592,
          0.7582042179470603,
          0.9840464904852096,
          0.9840464914404153,
          0.9999889081707539,
          1,
          1.0000000101555675,
          1.127461213344331,
          1.2708419379317812,
          1.2337308948950518
         ]
        },
        {
         "line": {
          "color": "rgba(255, 153, 51, 0.7966101694915255)",
          "dash": "solid",
          "shape": "linear",
          "width": 1.3
         },
         "mode": "lines",
         "name": "Sugars, total including NLEA",
         "text": "",
         "type": "scatter",
         "x": [
          0.4238386990504271,
          0.6357580485756407,
          0.7629096582907687,
          0.8476773981008542,
          0.9324451379109396,
          1.017212877721025,
          1.1019806175311104,
          1.1867483573411959,
          1.2715160971512813,
          1.6953547962017084
         ],
         "y": [
          0.889903563445815,
          0.977142530952698,
          1.0090244239355028,
          1.0090244237381965,
          1.0000061819034136,
          1,
          0.9999999934073568,
          1.0103602392768196,
          1.0577074155591228,
          0.9210664517236903
         ]
        },
        {
         "line": {
          "color": "rgba(55, 128, 191, 0.7966101694915255)",
          "dash": "solid",
          "shape": "linear",
          "width": 1.3
         },
         "mode": "lines",
         "name": "Calcium, Ca",
         "text": "",
         "type": "scatter",
         "x": [
          0.4238386990504271,
          0.6357580485756407,
          0.7629096582907687,
          0.8476773981008542,
          0.9324451379109396,
          1.017212877721025,
          1.1019806175311104,
          1.1867483573411959,
          1.2715160971512813,
          1.6953547962017084
         ],
         "y": [
          1.2850707842166647,
          1.2709875241339217,
          1.0174645404033575,
          1.0174645394286406,
          1.0000130887150482,
          1,
          0.9999999874838608,
          0.9168433103230937,
          0.9168434483941562,
          0.9168433105358308
         ]
        },
        {
         "line": {
          "color": "rgba(50, 171, 96, 0.7966101694915255)",
          "dash": "solid",
          "shape": "linear",
          "width": 1.3
         },
         "mode": "lines",
         "name": "Iron, Fe",
         "text": "",
         "type": "scatter",
         "x": [
          0.4238386990504271,
          0.6357580485756407,
          0.7629096582907687,
          0.8476773981008542,
          0.9324451379109396,
          1.017212877721025,
          1.1019806175311104,
          1.1867483573411959,
          1.2715160971512813,
          1.6953547962017084
         ],
         "y": [
          1.1413956939402454,
          1.2465183690128188,
          1.0302745774594548,
          1.0302745771861996,
          1.0000349232308554,
          1,
          0.999999969945218,
          0.9280860545371064,
          0.8395909949390835,
          0.9591897653700999
         ]
        },
        {
         "line": {
          "color": "rgba(128, 0, 128, 0.7966101694915255)",
          "dash": "solid",
          "shape": "linear",
          "width": 1.3
         },
         "mode": "lines",
         "name": "Magnesium, Mg",
         "text": "",
         "type": "scatter",
         "x": [
          0.4238386990504271,
          0.6357580485756407,
          0.7629096582907687,
          0.8476773981008542,
          0.9324451379109396,
          1.017212877721025,
          1.1019806175311104,
          1.1867483573411959,
          1.2715160971512813,
          1.6953547962017084
         ],
         "y": [
          1.128430551147921,
          1.215832092147079,
          1.0259405365976864,
          1.0259405360344827,
          1.000025108802243,
          1,
          0.999999978002058,
          0.925955445013332,
          0.8379372841444885,
          0.9345689866821895
         ]
        },
        {
         "line": {
          "color": "rgba(219, 64, 82, 0.7966101694915255)",
          "dash": "solid",
          "shape": "linear",
          "width": 1.3
         },
         "mode": "lines",
         "name": "Phosphorus, P",
         "text": "",
         "type": "scatter",
         "x": [
          0.4238386990504271,
          0.6357580485756407,
          0.7629096582907687,
          0.8476773981008542,
          0.9324451379109396,
          1.017212877721025,
          1.1019806175311104,
          1.1867483573411959,
          1.2715160971512813,
          1.6953547962017084
         ],
         "y": [
          1.119805310823646,
          1.0618287108028546,
          0.9973040375364605,
          0.9973040371546149,
          0.999994405230766,
          1,
          1.0000000045229438,
          0.9375167722069051,
          0.8676864788509763,
          0.844438142536786
         ]
        },
        {
         "line": {
          "color": "rgba(0, 128, 128, 0.7966101694915255)",
          "dash": "solid",
          "shape": "linear",
          "width": 1.3
         },
         "mode": "lines",
         "name": "Potassium, K",
         "text": "",
         "type": "scatter",
         "x": [
          0.4238386990504271,
          0.6357580485756407,
          0.7629096582907687,
          0.8476773981008542,
          0.9324451379109396,
          1.017212877721025,
          1.1019806175311104,
          1.1867483573411959,
          1.2715160971512813,
          1.6953547962017084
         ],
         "y": [
          1.1179600272396943,
          1.0746457083887426,
          1.0000000001237548,
          0.999999999976047,
          1.0000000357534715,
          1,
          0.9999999999363466,
          1.0000000005592915,
          1.0456122929353275,
          1.0638156328063264
         ]
        },
        {
         "line": {
          "color": "rgba(255, 255, 51, 0.7966101694915255)",
          "dash": "solid",
          "shape": "linear",
          "width": 1.3
         },
         "mode": "lines",
         "name": "Zinc, Zn",
         "text": "",
         "type": "scatter",
         "x": [
          0.4238386990504271,
          0.6357580485756407,
          0.7629096582907687,
          0.8476773981008542,
          0.9324451379109396,
          1.017212877721025,
          1.1019806175311104,
          1.1867483573411959,
          1.2715160971512813,
          1.6953547962017084
         ],
         "y": [
          1.0000000001017844,
          1.0000000000256584,
          1.000000000009631,
          1.0000000000175515,
          0.9999999971185104,
          1,
          1.0000000000091638,
          0.999999999501006,
          0.9999999604275597,
          0.9999999999610926
         ]
        },
        {
         "line": {
          "color": "rgba(255, 255, 51, 0.728813559322034)",
          "dash": "solid",
          "shape": "linear",
          "width": 1.3
         },
         "mode": "lines",
         "name": "Copper, Cu",
         "text": "",
         "type": "scatter",
         "x": [
          0.4238386990504271,
          0.6357580485756407,
          0.7629096582907687,
          0.8476773981008542,
          0.9324451379109396,
          1.017212877721025,
          1.1019806175311104,
          1.1867483573411959,
          1.2715160971512813,
          1.6953547962017084
         ],
         "y": [
          0.8087805657240846,
          0.9129012424426408,
          1.0065363585335116,
          1.0065363589522305,
          1.0000091286091448,
          1,
          0.9999999923237078,
          1.067220012486971,
          1.1248260359833733,
          1.1270977001572449
         ]
        },
        {
         "line": {
          "color": "rgba(128, 128, 0, 0.728813559322034)",
          "dash": "solid",
          "shape": "linear",
          "width": 1.3
         },
         "mode": "lines",
         "name": "Vitamin C, total ascorbic acid",
         "text": "",
         "type": "scatter",
         "x": [
          0.4238386990504271,
          0.6357580485756407,
          0.7629096582907687,
          0.8476773981008542,
          0.9324451379109396,
          1.017212877721025,
          1.1019806175311104,
          1.1867483573411959,
          1.2715160971512813,
          1.6953547962017084
         ],
         "y": [
          2.506537088776168,
          1.103876146326632,
          0.8362398591493494,
          0.8362398586185071,
          0.9998360057129196,
          1,
          1.000000142031553,
          0.6665600153648232,
          0.5548921459309669,
          0.5933465335690372
         ]
        },
        {
         "line": {
          "color": "rgba(251, 128, 114, 0.728813559322034)",
          "dash": "solid",
          "shape": "linear",
          "width": 1.3
         },
         "mode": "lines",
         "name": "Thiamin",
         "text": "",
         "type": "scatter",
         "x": [
          0.4238386990504271,
          0.6357580485756407,
          0.7629096582907687,
          0.8476773981008542,
          0.9324451379109396,
          1.017212877721025,
          1.1019806175311104,
          1.1867483573411959,
          1.2715160971512813,
          1.6953547962017084
         ],
         "y": [
          1.0000000100926651,
          0.9999999999350869,
          1.0000000000150606,
          1.0000000000915859,
          1.000000061739706,
          1,
          0.9999999999517778,
          0.9999999998874495,
          1.00000005108781,
          0.9999999999432084
         ]
        },
        {
         "line": {
          "color": "rgba(128, 177, 211, 0.728813559322034)",
          "dash": "solid",
          "shape": "linear",
          "width": 1.3
         },
         "mode": "lines",
         "name": "Niacin",
         "text": "",
         "type": "scatter",
         "x": [
          0.4238386990504271,
          0.6357580485756407,
          0.7629096582907687,
          0.8476773981008542,
          0.9324451379109396,
          1.017212877721025,
          1.1019806175311104,
          1.1867483573411959,
          1.2715160971512813,
          1.6953547962017084
         ],
         "y": [
          0.9999999997285738,
          0.9999999992896693,
          0.999999999173729,
          0.9999999995857329,
          1.000000033000085,
          1,
          1.0000000033919916,
          1.2567716003106946,
          1.5675657201194937,
          1.5896482906270561
         ]
        },
        {
         "line": {
          "color": "rgba(255, 153, 51, 0.728813559322034)",
          "dash": "solid",
          "shape": "linear",
          "width": 1.3
         },
         "mode": "lines",
         "name": "Vitamin B-6",
         "text": "",
         "type": "scatter",
         "x": [
          0.4238386990504271,
          0.6357580485756407,
          0.7629096582907687,
          0.8476773981008542,
          0.9324451379109396,
          1.017212877721025,
          1.1019806175311104,
          1.1867483573411959,
          1.2715160971512813,
          1.6953547962017084
         ],
         "y": [
          0.893973106543128,
          0.9396648210349308,
          1.0013030291357738,
          1.0013030294037988,
          1.000003411981322,
          1,
          0.9999999973205669,
          1.0415509062183488,
          1.0760304574707693,
          1.0893761295822288
         ]
        },
        {
         "line": {
          "color": "rgba(55, 128, 191, 0.728813559322034)",
          "dash": "solid",
          "shape": "linear",
          "width": 1.3
         },
         "mode": "lines",
         "name": "Folate, total",
         "text": "",
         "type": "scatter",
         "x": [
          0.4238386990504271,
          0.6357580485756407,
          0.7629096582907687,
          0.8476773981008542,
          0.9324451379109396,
          1.017212877721025,
          1.1019806175311104,
          1.1867483573411959,
          1.2715160971512813,
          1.6953547962017084
         ],
         "y": [
          1.3073805599158577,
          1.3239657812566379,
          1.0249560476918231,
          1.0249560471931252,
          1.000029072991307,
          1,
          0.9999999747005489,
          0.8799844461685146,
          0.7716125586521193,
          0.9203046266808381
         ]
        },
        {
         "line": {
          "color": "rgba(50, 171, 96, 0.728813559322034)",
          "dash": "solid",
          "shape": "linear",
          "width": 1.3
         },
         "mode": "lines",
         "name": "Folate, food",
         "text": "",
         "type": "scatter",
         "x": [
          0.4238386990504271,
          0.6357580485756407,
          0.7629096582907687,
          0.8476773981008542,
          0.9324451379109396,
          1.017212877721025,
          1.1019806175311104,
          1.1867483573411959,
          1.2715160971512813,
          1.6953547962017084
         ],
         "y": [
          1.307380565326421,
          1.3239657869499,
          1.024956052131792,
          1.024956051306634,
          1.000024159238388,
          1,
          0.999999978715599,
          0.8799844489192149,
          0.7716121280898358,
          0.920304630441786
         ]
        },
        {
         "line": {
          "color": "rgba(128, 0, 128, 0.728813559322034)",
          "dash": "solid",
          "shape": "linear",
          "width": 1.3
         },
         "mode": "lines",
         "name": "Folate, DFE",
         "text": "",
         "type": "scatter",
         "x": [
          0.4238386990504271,
          0.6357580485756407,
          0.7629096582907687,
          0.8476773981008542,
          0.9324451379109396,
          1.017212877721025,
          1.1019806175311104,
          1.1867483573411959,
          1.2715160971512813,
          1.6953547962017084
         ],
         "y": [
          1.307380565326421,
          1.3239657869499,
          1.024956052131792,
          1.024956051306634,
          1.000024159238388,
          1,
          0.999999978715599,
          0.8799844489192149,
          0.7716121280898358,
          0.920304630441786
         ]
        },
        {
         "line": {
          "color": "rgba(219, 64, 82, 0.728813559322034)",
          "dash": "solid",
          "shape": "linear",
          "width": 1.3
         },
         "mode": "lines",
         "name": "Choline, total",
         "text": "",
         "type": "scatter",
         "x": [
          0.4238386990504271,
          0.6357580485756407,
          0.7629096582907687,
          0.8476773981008542,
          0.9324451379109396,
          1.017212877721025,
          1.1019806175311104,
          1.1867483573411959,
          1.2715160971512813,
          1.6953547962017084
         ],
         "y": [
          1.0833925353379614,
          1.0318143597433926,
          0.9959599438598377,
          0.9959599437447489,
          0.9999965616411226,
          1,
          1.0000000025542066,
          0.936933592145564,
          0.868799411174775,
          0.876233381923013
         ]
        },
        {
         "line": {
          "color": "rgba(0, 128, 128, 0.728813559322034)",
          "dash": "solid",
          "shape": "linear",
          "width": 1.3
         },
         "mode": "lines",
         "name": "Vitamin B-12",
         "text": "",
         "type": "scatter",
         "x": [
          0.4238386990504271,
          0.6357580485756407,
          0.7629096582907687,
          0.8476773981008542,
          0.9324451379109396,
          1.017212877721025,
          1.1019806175311104,
          1.1867483573411959,
          1.2715160971512813,
          1.6953547962017084
         ],
         "y": [
          1.5789618267833914,
          1.524917179236452,
          1.0305646829953834,
          1.030564680183221,
          1.0000032876293343,
          1,
          0.9999999993932511,
          0.999999998465039,
          1.0000000733089798,
          0.9999999992717287
         ]
        },
        {
         "line": {
          "color": "rgba(0, 128, 128, 0.6610169491525424)",
          "dash": "solid",
          "shape": "linear",
          "width": 1.3
         },
         "mode": "lines",
         "name": "Vitamin A, RAE",
         "text": "",
         "type": "scatter",
         "x": [
          0.4238386990504271,
          0.6357580485756407,
          0.7629096582907687,
          0.8476773981008542,
          0.9324451379109396,
          1.017212877721025,
          1.1019806175311104,
          1.1867483573411959,
          1.2715160971512813,
          1.6953547962017084
         ],
         "y": [
          0.9389219545898754,
          1.38525361227206,
          1.0817200736432002,
          1.0817200719445967,
          1.0000726451970359,
          1,
          0.9999999349509674,
          0.7447926373664273,
          0.30965263438119084,
          0.3096524628349359
         ]
        },
        {
         "line": {
          "color": "rgba(255, 255, 51, 0.6610169491525424)",
          "dash": "solid",
          "shape": "linear",
          "width": 1.3
         },
         "mode": "lines",
         "name": "Retinol",
         "text": "",
         "type": "scatter",
         "x": [
          0.4238386990504271,
          0.6357580485756407,
          0.7629096582907687,
          0.8476773981008542,
          0.9324451379109396,
          1.017212877721025,
          1.1019806175311104,
          1.1867483573411959,
          1.2715160971512813,
          1.6953547962017084
         ],
         "y": [
          1.4297992848826047,
          1.3520590764103255,
          1.0154377835207833,
          1.015437781438471,
          1.0000015323645206,
          1,
          0.9999999955503646,
          0.6182769891993196,
          0.1548342837658979,
          1.765017990381124e-11
         ]
        },
        {
         "line": {
          "color": "rgba(128, 128, 0, 0.6610169491525424)",
          "dash": "solid",
          "shape": "linear",
          "width": 1.3
         },
         "mode": "lines",
         "name": "Carotene, beta",
         "text": "",
         "type": "scatter",
         "x": [
          0.4238386990504271,
          0.6357580485756407,
          0.7629096582907687,
          0.8476773981008542,
          0.9324451379109396,
          1.017212877721025,
          1.1019806175311104,
          1.1867483573411959,
          1.2715160971512813,
          1.6953547962017084
         ],
         "y": [
          0.8888466825965113,
          1.3914274676154426,
          1.0890190448917412,
          1.0890190432216216,
          1.0000803897928887,
          1,
          0.9999999283347883,
          0.7563269551430306,
          0.32178652770734945,
          0.338072490663899
         ]
        },
        {
         "line": {
          "color": "rgba(251, 128, 114, 0.6610169491525424)",
          "dash": "solid",
          "shape": "linear",
          "width": 1.3
         },
         "mode": "lines",
         "name": "Carotene, alpha",
         "text": "",
         "type": "scatter",
         "x": [
          0.4238386990504271,
          0.6357580485756407,
          0.7629096582907687,
          0.8476773981008542,
          0.9324451379109396,
          1.017212877721025,
          1.1019806175311104,
          1.1867483573411959,
          1.2715160971512813,
          1.6953547962017084
         ],
         "y": [
          1.3562817141373245,
          1.626805421559321e-08,
          0.7637569030311496,
          0.7637569063654741,
          0.9997756709243327,
          1,
          1.0000001973396662,
          1.3506888138914652,
          2.033876241660961,
          1.7699211470739926
         ]
        },
        {
         "line": {
          "color": "rgba(128, 177, 211, 0.6610169491525424)",
          "dash": "solid",
          "shape": "linear",
          "width": 1.3
         },
         "mode": "lines",
         "name": "Cryptoxanthin, beta",
         "text": "",
         "type": "scatter",
         "x": [
          0.4238386990504271,
          0.6357580485756407,
          0.7629096582907687,
          0.8476773981008542,
          0.9324451379109396,
          1.017212877721025,
          1.1019806175311104,
          1.1867483573411959,
          1.2715160971512813,
          1.6953547962017084
         ],
         "y": [
          0.058479631148890376,
          1.606497412085244e-08,
          0.922078262429836,
          0.9220782663204005,
          0.9999346997639967,
          1,
          1.000000059261184,
          1.6306769686083233,
          2.3966895853914223,
          2.136813179665097
         ]
        },
        {
         "line": {
          "color": "rgba(255, 153, 51, 0.6610169491525424)",
          "dash": "solid",
          "shape": "linear",
          "width": 1.3
         },
         "mode": "lines",
         "name": "Lutein + zeaxanthin",
         "text": "",
         "type": "scatter",
         "x": [
          0.4238386990504271,
          0.6357580485756407,
          0.7629096582907687,
          0.8476773981008542,
          0.9324451379109396,
          1.017212877721025,
          1.1019806175311104,
          1.1867483573411959,
          1.2715160971512813,
          1.6953547962017084
         ],
         "y": [
          1.6873626978647553,
          1.8561542570586715,
          1.0811963895146102,
          1.0811963870341947,
          1.0000756793457404,
          1,
          0.9999999331308738,
          0.6531258820727381,
          0.27524769109795694,
          0.6073712742028486
         ]
        },
        {
         "line": {
          "color": "rgba(55, 128, 191, 0.6610169491525424)",
          "dash": "solid",
          "shape": "linear",
          "width": 1.3
         },
         "mode": "lines",
         "name": "Vitamin E (alpha-tocopherol)",
         "text": "",
         "type": "scatter",
         "x": [
          0.4238386990504271,
          0.6357580485756407,
          0.7629096582907687,
          0.8476773981008542,
          0.9324451379109396,
          1.017212877721025,
          1.1019806175311104,
          1.1867483573411959,
          1.2715160971512813,
          1.6953547962017084
         ],
         "y": [
          1.000000000179791,
          1.0000000000092621,
          0.9999999999519619,
          0.9999999999777776,
          1.0000000188929954,
          1,
          0.9999999999532622,
          0.999999999990792,
          1.0000000300452736,
          0.9999999999493667
         ]
        },
        {
         "line": {
          "color": "rgba(50, 171, 96, 0.6610169491525424)",
          "dash": "solid",
          "shape": "linear",
          "width": 1.3
         },
         "mode": "lines",
         "name": "Vitamin D (D2 + D3)",
         "text": "",
         "type": "scatter",
         "x": [
          0.4238386990504271,
          0.6357580485756407,
          0.7629096582907687,
          0.8476773981008542,
          0.9324451379109396,
          1.017212877721025,
          1.1019806175311104,
          1.1867483573411959,
          1.2715160971512813,
          1.6953547962017084
         ],
         "y": [
          1.8590076065932302,
          1.849450279742273,
          1.0589647377644094,
          1.058964733581986,
          1.000006583057914,
          1,
          1.0000000066080927,
          1.7166673094329594,
          2.5867597891538456,
          2.87745378915964
         ]
        },
        {
         "line": {
          "color": "rgba(128, 0, 128, 0.6610169491525424)",
          "dash": "solid",
          "shape": "linear",
          "width": 1.3
         },
         "mode": "lines",
         "name": "Vitamin K (phylloquinone)",
         "text": "",
         "type": "scatter",
         "x": [
          0.4238386990504271,
          0.6357580485756407,
          0.7629096582907687,
          0.8476773981008542,
          0.9324451379109396,
          1.017212877721025,
          1.1019806175311104,
          1.1867483573411959,
          1.2715160971512813,
          1.6953547962017084
         ],
         "y": [
          1.7330414136934604,
          1.7819692956350628,
          1.061322607767481,
          1.0613226054897085,
          1.0000564026406729,
          1,
          0.9999999499695655,
          0.663101589724847,
          0.31554056782173223,
          0.6207645141151841
         ]
        },
        {
         "line": {
          "color": "rgba(219, 64, 82, 0.6610169491525424)",
          "dash": "solid",
          "shape": "linear",
          "width": 1.3
         },
         "mode": "lines",
         "name": "SFA 4:0",
         "text": "",
         "type": "scatter",
         "x": [
          0.4238386990504271,
          0.6357580485756407,
          0.7629096582907687,
          0.8476773981008542,
          0.9324451379109396,
          1.017212877721025,
          1.1019806175311104,
          1.1867483573411959,
          1.2715160971512813,
          1.6953547962017084
         ],
         "y": [
          1.4307812058735225,
          1.3531969827335373,
          1.0155373622751562,
          1.0155373601880395,
          1.0000015439192402,
          1,
          0.999999995575662,
          0.6207898307662311,
          0.16039791937429554,
          0.006582892596933909
         ]
        },
        {
         "line": {
          "color": "rgba(219, 64, 82, 0.5932203389830508)",
          "dash": "solid",
          "shape": "linear",
          "width": 1.3
         },
         "mode": "lines",
         "name": "SFA 6:0",
         "text": "",
         "type": "scatter",
         "x": [
          0.4238386990504271,
          0.6357580485756407,
          0.7629096582907687,
          0.8476773981008542,
          0.9324451379109396,
          1.017212877721025,
          1.1019806175311104,
          1.1867483573411959,
          1.2715160971512813,
          1.6953547962017084
         ],
         "y": [
          1.4297992848826044,
          1.3520590764103255,
          1.0154377835207833,
          1.015437781438471,
          1.0000015323645206,
          1,
          0.9999999955503647,
          0.6182769891993196,
          0.15483428376589792,
          1.7650179903811243e-11
         ]
        },
        {
         "line": {
          "color": "rgba(0, 128, 128, 0.5932203389830508)",
          "dash": "solid",
          "shape": "linear",
          "width": 1.3
         },
         "mode": "lines",
         "name": "SFA 8:0",
         "text": "",
         "type": "scatter",
         "x": [
          0.4238386990504271,
          0.6357580485756407,
          0.7629096582907687,
          0.8476773981008542,
          0.9324451379109396,
          1.017212877721025,
          1.1019806175311104,
          1.1867483573411959,
          1.2715160971512813,
          1.6953547962017084
         ],
         "y": [
          1.3694774196020767,
          1.3007104496064341,
          1.0128975945744312,
          1.012897592733976,
          1.000000193562637,
          1,
          0.9999999969879475,
          0.6616025841879207,
          0.24966935474147312,
          0.0964993100658289
         ]
        },
        {
         "line": {
          "color": "rgba(255, 255, 51, 0.5932203389830508)",
          "dash": "solid",
          "shape": "linear",
          "width": 1.3
         },
         "mode": "lines",
         "name": "SFA 10:0",
         "text": "",
         "type": "scatter",
         "x": [
          0.4238386990504271,
          0.6357580485756407,
          0.7629096582907687,
          0.8476773981008542,
          0.9324451379109396,
          1.017212877721025,
          1.1019806175311104,
          1.1867483573411959,
          1.2715160971512813,
          1.6953547962017084
         ],
         "y": [
          1.4013774489796171,
          1.333730959522248,
          1.015371730231486,
          1.0153717282633723,
          1.0000020620357106,
          1,
          0.9999999952973436,
          0.6431025363052115,
          0.20867142937222632,
          0.06186774312664779
         ]
        },
        {
         "line": {
          "color": "rgba(128, 128, 0, 0.5932203389830508)",
          "dash": "solid",
          "shape": "linear",
          "width": 1.3
         },
         "mode": "lines",
         "name": "SFA 12:0",
         "text": "",
         "type": "scatter",
         "x": [
          0.4238386990504271,
          0.6357580485756407,
          0.7629096582907687,
          0.8476773981008542,
          0.9324451379109396,
          1.017212877721025,
          1.1019806175311104,
          1.1867483573411959,
          1.2715160971512813,
          1.6953547962017084
         ],
         "y": [
          1.3789174066392458,
          1.3180846035181693,
          1.0150953751288687,
          1.015095373252979,
          1.0000024118236632,
          1,
          0.9999999950592544,
          0.6549554797204101,
          0.23411275116142372,
          0.09066775424869197
         ]
        },
        {
         "line": {
          "color": "rgba(251, 128, 114, 0.5932203389830508)",
          "dash": "solid",
          "shape": "linear",
          "width": 1.3
         },
         "mode": "lines",
         "name": "SFA 14:0",
         "text": "",
         "type": "scatter",
         "x": [
          0.4238386990504271,
          0.6357580485756407,
          0.7629096582907687,
          0.8476773981008542,
          0.9324451379109396,
          1.017212877721025,
          1.1019806175311104,
          1.1867483573411959,
          1.2715160971512813,
          1.6953547962017084
         ],
         "y": [
          1.4228281183323572,
          1.361049708184988,
          1.018021418965588,
          1.0180214169564,
          1.0000050417458193,
          1,
          0.9999999928116367,
          0.6424205333186327,
          0.20999668700477672,
          0.08790421546492283
         ]
        },
        {
         "line": {
          "color": "rgba(128, 177, 211, 0.5932203389830508)",
          "dash": "solid",
          "shape": "linear",
          "width": 1.3
         },
         "mode": "lines",
         "name": "SFA 16:0",
         "text": "",
         "type": "scatter",
         "x": [
          0.4238386990504271,
          0.6357580485756407,
          0.7629096582907687,
          0.8476773981008542,
          0.9324451379109396,
          1.017212877721025,
          1.1019806175311104,
          1.1867483573411959,
          1.2715160971512813,
          1.6953547962017084
         ],
         "y": [
          0.5879129474082277,
          0.5230618484497725,
          0.9583273392273701,
          0.95832734068365,
          0.9999611407120661,
          1,
          1.0000000344407336,
          1.231839856770008,
          1.501548759910861,
          1.311337524816632
         ]
        },
        {
         "line": {
          "color": "rgba(255, 153, 51, 0.5932203389830508)",
          "dash": "solid",
          "shape": "linear",
          "width": 1.3
         },
         "mode": "lines",
         "name": "SFA 18:0",
         "text": "",
         "type": "scatter",
         "x": [
          0.4238386990504271,
          0.6357580485756407,
          0.7629096582907687,
          0.8476773981008542,
          0.9324451379109396,
          1.017212877721025,
          1.1019806175311104,
          1.1867483573411959,
          1.2715160971512813,
          1.6953547962017084
         ],
         "y": [
          1.110697846565179,
          0.9845360057439896,
          0.9835146210900201,
          0.9835146206067621,
          0.999977724136689,
          1,
          1.000000018159254,
          0.8688520128724782,
          0.6970324963415727,
          0.5538518925117378
         ]
        },
        {
         "line": {
          "color": "rgba(55, 128, 191, 0.5932203389830508)",
          "dash": "solid",
          "shape": "linear",
          "width": 1.3
         },
         "mode": "lines",
         "name": "MUFA 16:1",
         "text": "",
         "type": "scatter",
         "x": [
          0.4238386990504271,
          0.6357580485756407,
          0.7629096582907687,
          0.8476773981008542,
          0.9324451379109396,
          1.017212877721025,
          1.1019806175311104,
          1.1867483573411959,
          1.2715160971512813,
          1.6953547962017084
         ],
         "y": [
          0.13174192281875766,
          0.12352782372563945,
          0.9369544996095266,
          0.9369545027181182,
          0.9999464171266039,
          1,
          1.0000000488324836,
          1.5486098763095184,
          2.2030468905561644,
          1.95846869639383
         ]
        },
        {
         "line": {
          "color": "rgba(50, 171, 96, 0.5932203389830508)",
          "dash": "solid",
          "shape": "linear",
          "width": 1.3
         },
         "mode": "lines",
         "name": "MUFA 18:1",
         "text": "",
         "type": "scatter",
         "x": [
          0.4238386990504271,
          0.6357580485756407,
          0.7629096582907687,
          0.8476773981008542,
          0.9324451379109396,
          1.017212877721025,
          1.1019806175311104,
          1.1867483573411959,
          1.2715160971512813,
          1.6953547962017084
         ],
         "y": [
          0.31256271553593484,
          0.2574881910826866,
          0.9407206534422519,
          0.9407206559283766,
          0.9999477561997467,
          1,
          1.0000000469524908,
          1.4070662369194396,
          1.8823454835249538,
          1.648289385810615
         ]
        },
        {
         "line": {
          "color": "rgba(128, 0, 128, 0.5932203389830508)",
          "dash": "solid",
          "shape": "linear",
          "width": 1.3
         },
         "mode": "lines",
         "name": "MUFA 20:1",
         "text": "",
         "type": "scatter",
         "x": [
          0.4238386990504271,
          0.6357580485756407,
          0.7629096582907687,
          0.8476773981008542,
          0.9324451379109396,
          1.017212877721025,
          1.1019806175311104,
          1.1867483573411959,
          1.2715160971512813,
          1.6953547962017084
         ],
         "y": [
          0.6097746343600344,
          0.48851089761653177,
          0.9489996737029941,
          0.9489996751135,
          0.9999503135034594,
          1,
          1.0000000437401557,
          1.2007469946516547,
          1.4174110097500763,
          1.187241793097453
         ]
        },
        {
         "line": {
          "color": "rgba(128, 0, 128, 0.5254237288135595)",
          "dash": "solid",
          "shape": "linear",
          "width": 1.3
         },
         "mode": "lines",
         "name": "PUFA 18:2",
         "text": "",
         "type": "scatter",
         "x": [
          0.4238386990504271,
          0.6357580485756407,
          0.7629096582907687,
          0.8476773981008542,
          0.9324451379109396,
          1.017212877721025,
          1.1019806175311104,
          1.1867483573411959,
          1.2715160971512813,
          1.6953547962017084
         ],
         "y": [
          0.6675762481904534,
          0.6140337366431398,
          0.9661465845828616,
          0.9661465857349757,
          0.9999695774175055,
          1,
          1.0000000267168352,
          1.1298150969750502,
          1.254423613656671,
          1.112052890126317
         ]
        },
        {
         "line": {
          "color": "rgba(219, 64, 82, 0.5254237288135595)",
          "dash": "solid",
          "shape": "linear",
          "width": 1.3
         },
         "mode": "lines",
         "name": "PUFA 18:3",
         "text": "",
         "type": "scatter",
         "x": [
          0.4238386990504271,
          0.6357580485756407,
          0.7629096582907687,
          0.8476773981008542,
          0.9324451379109396,
          1.017212877721025,
          1.1019806175311104,
          1.1867483573411959,
          1.2715160971512813,
          1.6953547962017084
         ],
         "y": [
          1.1132992809646045,
          0.9370033855884404,
          0.9740339428382604,
          0.9740339428486713,
          0.9999731489991562,
          1,
          1.00000002293414,
          0.9357566627900863,
          0.8652059904000556,
          0.8063537224897155
         ]
        },
        {
         "line": {
          "color": "rgba(0, 128, 128, 0.5254237288135595)",
          "dash": "solid",
          "shape": "linear",
          "width": 1.3
         },
         "mode": "lines",
         "name": "PUFA 18:4",
         "text": "",
         "type": "scatter",
         "x": [
          0.4238386990504271,
          0.6357580485756407,
          0.7629096582907687,
          0.8476773981008542,
          0.9324451379109396,
          1.017212877721025,
          1.1019806175311104,
          1.1867483573411959,
          1.2715160971512813,
          1.6953547962017084
         ],
         "y": [
          1.8590076065932304,
          1.8494502797422732,
          1.0589647377644094,
          1.058964733581986,
          1.000006583057914,
          1,
          1.000000006608093,
          1.7166673094329596,
          2.5867597891538456,
          2.87745378915964
         ]
        },
        {
         "line": {
          "color": "rgba(255, 255, 51, 0.5254237288135595)",
          "dash": "solid",
          "shape": "linear",
          "width": 1.3
         },
         "mode": "lines",
         "name": "PUFA 20:4",
         "text": "",
         "type": "scatter",
         "x": [
          0.4238386990504271,
          0.6357580485756407,
          0.7629096582907687,
          0.8476773981008542,
          0.9324451379109396,
          1.017212877721025,
          1.1019806175311104,
          1.1867483573411959,
          1.2715160971512813,
          1.6953547962017084
         ],
         "y": [
          1.425833770790492,
          1.4364636710027865,
          1.0321930342232175,
          1.0321930320088009,
          1.000006750160053,
          1,
          0.999999998367686,
          1.2024891824073327,
          1.441451670902072,
          1.5111622675308123
         ]
        },
        {
         "line": {
          "color": "rgba(128, 128, 0, 0.5254237288135595)",
          "dash": "solid",
          "shape": "linear",
          "width": 1.3
         },
         "mode": "lines",
         "name": "PUFA 2:5 n-3 (EPA)",
         "text": "",
         "type": "scatter",
         "x": [
          0.4238386990504271,
          0.6357580485756407,
          0.7629096582907687,
          0.8476773981008542,
          0.9324451379109396,
          1.017212877721025,
          1.1019806175311104,
          1.1867483573411959,
          1.2715160971512813,
          1.6953547962017084
         ],
         "y": [
          1.8590076065932304,
          1.8494502797422732,
          1.0589647377644094,
          1.058964733581986,
          1.000006583057914,
          1,
          1.000000006608093,
          1.7166673094329596,
          2.586759789153846,
          2.87745378915964
         ]
        },
        {
         "line": {
          "color": "rgba(251, 128, 114, 0.5254237288135595)",
          "dash": "solid",
          "shape": "linear",
          "width": 1.3
         },
         "mode": "lines",
         "name": "PUFA 22:5 n-3 (DPA)",
         "text": "",
         "type": "scatter",
         "x": [
          0.4238386990504271,
          0.6357580485756407,
          0.7629096582907687,
          0.8476773981008542,
          0.9324451379109396,
          1.017212877721025,
          1.1019806175311104,
          1.1867483573411959,
          1.2715160971512813,
          1.6953547962017084
         ],
         "y": [
          1.8590076065932304,
          1.8494502797422732,
          1.0589647377644094,
          1.058964733581986,
          1.000006583057914,
          1,
          1.000000006608093,
          1.7166673094329596,
          2.5867597891538456,
          2.87745378915964
         ]
        },
        {
         "line": {
          "color": "rgba(128, 177, 211, 0.5254237288135595)",
          "dash": "solid",
          "shape": "linear",
          "width": 1.3
         },
         "mode": "lines",
         "name": "PUFA 22:6 n-3 (DHA)",
         "text": "",
         "type": "scatter",
         "x": [
          0.4238386990504271,
          0.6357580485756407,
          0.7629096582907687,
          0.8476773981008542,
          0.9324451379109396,
          1.017212877721025,
          1.1019806175311104,
          1.1867483573411959,
          1.2715160971512813,
          1.6953547962017084
         ],
         "y": [
          1.85900760659323,
          1.849450279742273,
          1.0589647377644091,
          1.058964733581986,
          1.000006583057914,
          1,
          1.000000006608093,
          1.7166673094329592,
          2.5867597891538456,
          2.87745378915964
         ]
        },
        {
         "line": {
          "color": "rgba(255, 153, 51, 0.5254237288135595)",
          "dash": "solid",
          "shape": "linear",
          "width": 1.3
         },
         "mode": "lines",
         "name": "Total fat (NLEA)",
         "text": "",
         "type": "scatter",
         "x": [
          0.4238386990504271,
          0.6357580485756407,
          0.7629096582907687,
          0.8476773981008542,
          0.9324451379109396,
          1.017212877721025,
          1.1019806175311104,
          1.1867483573411959,
          1.2715160971512813,
          1.6953547962017084
         ],
         "y": [
          1.8590076065932302,
          1.849450279742273,
          1.0589647377644094,
          1.058964733581986,
          1.000006583057914,
          1,
          1.0000000066080927,
          1.7166673094329594,
          2.5867597891538456,
          2.87745378915964
         ]
        },
        {
         "line": {
          "color": "rgba(55, 128, 191, 0.5254237288135595)",
          "dash": "solid",
          "shape": "linear",
          "width": 1.3
         },
         "mode": "lines",
         "name": "Lactose",
         "text": "",
         "type": "scatter",
         "x": [
          0.4238386990504271,
          0.6357580485756407,
          0.7629096582907687,
          0.8476773981008542,
          0.9324451379109396,
          1.017212877721025,
          1.1019806175311104,
          1.1867483573411959,
          1.2715160971512813,
          1.6953547962017084
         ],
         "y": [
          1.4297992848826044,
          1.3520590764103253,
          1.0154377835207833,
          1.015437781438471,
          1.0000015323645204,
          1,
          0.9999999955503646,
          0.6182769891993196,
          0.1548342837658979,
          1.7650179903811243e-11
         ]
        },
        {
         "line": {
          "color": "rgba(50, 171, 96, 0.5254237288135595)",
          "dash": "solid",
          "shape": "linear",
          "width": 1.3
         },
         "mode": "lines",
         "name": "Galactose",
         "text": "",
         "type": "scatter",
         "x": [
          0.4238386990504271,
          0.6357580485756407,
          0.7629096582907687,
          0.8476773981008542,
          0.9324451379109396,
          1.017212877721025,
          1.1019806175311104,
          1.1867483573411959,
          1.2715160971512813,
          1.6953547962017084
         ],
         "y": [
          1.4297992848826044,
          1.3520590764103255,
          1.0154377835207833,
          1.015437781438471,
          1.0000015323645206,
          1,
          0.9999999955503646,
          0.6182769891993196,
          0.15483428376589792,
          1.7650179903811243e-11
         ]
        },
        {
         "line": {
          "color": "rgba(50, 171, 96, 0.45762711864406797)",
          "dash": "solid",
          "shape": "linear",
          "width": 1.3
         },
         "mode": "lines",
         "name": "Manganese, Mn",
         "text": "",
         "type": "scatter",
         "x": [
          0.4238386990504271,
          0.6357580485756407,
          0.7629096582907687,
          0.8476773981008542,
          0.9324451379109396,
          1.017212877721025,
          1.1019806175311104,
          1.1867483573411959,
          1.2715160971512813,
          1.6953547962017084
         ],
         "y": [
          1.5269368401439227,
          1.4646276428994094,
          1.0252887153627983,
          1.0252887128051933,
          1.000002675427187,
          1,
          0.9999999980529273,
          0.8668624546557105,
          0.7052227227167612,
          0.6512194948789728
         ]
        },
        {
         "line": {
          "color": "rgba(128, 0, 128, 0.45762711864406797)",
          "dash": "solid",
          "shape": "linear",
          "width": 1.3
         },
         "mode": "lines",
         "name": "Pantothenic acid",
         "text": "",
         "type": "scatter",
         "x": [
          0.4238386990504271,
          0.6357580485756407,
          0.7629096582907687,
          0.8476773981008542,
          0.9324451379109396,
          1.017212877721025,
          1.1019806175311104,
          1.1867483573411959,
          1.2715160971512813,
          1.6953547962017084
         ],
         "y": [
          1.4438869545894697,
          1.3683846755033575,
          1.0168664449043419,
          1.016866442753099,
          1.000001698140664,
          1,
          0.9999999959133063,
          0.6543288531962673,
          0.2346560428945701,
          0.09444509003044532
         ]
        },
        {
         "line": {
          "color": "rgba(219, 64, 82, 0.45762711864406797)",
          "dash": "solid",
          "shape": "linear",
          "width": 1.3
         },
         "mode": "lines",
         "name": "Vitamin D (D2 + D3), International Units",
         "text": "",
         "type": "scatter",
         "x": [
          0.4238386990504271,
          0.6357580485756407,
          0.7629096582907687,
          0.8476773981008542,
          0.9324451379109396,
          1.017212877721025,
          1.1019806175311104,
          1.1867483573411959,
          1.2715160971512813,
          1.6953547962017084
         ],
         "y": [
          1.8590076065932302,
          1.8494502797422732,
          1.0589647377644094,
          1.0589647335819863,
          1.000006583057914,
          1,
          1.0000000066080927,
          1.7166673094329594,
          2.5867597891538456,
          2.87745378915964
         ]
        },
        {
         "line": {
          "color": "rgba(0, 128, 128, 0.45762711864406797)",
          "dash": "solid",
          "shape": "linear",
          "width": 1.3
         },
         "mode": "lines",
         "name": "Vitamin D3 (cholecalciferol)",
         "text": "",
         "type": "scatter",
         "x": [
          0.4238386990504271,
          0.6357580485756407,
          0.7629096582907687,
          0.8476773981008542,
          0.9324451379109396,
          1.017212877721025,
          1.1019806175311104,
          1.1867483573411959,
          1.2715160971512813,
          1.6953547962017084
         ],
         "y": [
          1.8590076065932302,
          1.849450279742273,
          1.0589647377644094,
          1.058964733581986,
          1.000006583057914,
          1,
          1.0000000066080927,
          1.7166673094329594,
          2.5867597891538456,
          2.87745378915964
         ]
        },
        {
         "line": {
          "color": "rgba(255, 255, 51, 0.45762711864406797)",
          "dash": "solid",
          "shape": "linear",
          "width": 1.3
         },
         "mode": "lines",
         "name": "SFA 15:0",
         "text": "",
         "type": "scatter",
         "x": [
          0.4238386990504271,
          0.6357580485756407,
          0.7629096582907687,
          0.8476773981008542,
          0.9324451379109396,
          1.017212877721025,
          1.1019806175311104,
          1.1867483573411959,
          1.2715160971512813,
          1.6953547962017084
         ],
         "y": [
          1.4405371146042976,
          1.3645026889320027,
          1.0165267303079963,
          1.016526728173144,
          1.0000016587215432,
          1,
          0.9999999958270043,
          0.645756251902377,
          0.21567560638662708,
          0.0719874412133459
         ]
        },
        {
         "line": {
          "color": "rgba(128, 128, 0, 0.45762711864406797)",
          "dash": "solid",
          "shape": "linear",
          "width": 1.3
         },
         "mode": "lines",
         "name": "SFA 17:0",
         "text": "",
         "type": "scatter",
         "x": [
          0.4238386990504271,
          0.6357580485756407,
          0.7629096582907687,
          0.8476773981008542,
          0.9324451379109396,
          1.017212877721025,
          1.1019806175311104,
          1.1867483573411959,
          1.2715160971512813,
          1.6953547962017084
         ],
         "y": [
          1.4551860440134237,
          1.3814787079366913,
          1.0180123102649925,
          1.018012308058463,
          1.00000183110229,
          1,
          0.9999999962044058,
          0.6832444399240857,
          0.2986775037279836,
          0.17019527014631358
         ]
        },
        {
         "line": {
          "color": "rgba(251, 128, 114, 0.45762711864406797)",
          "dash": "solid",
          "shape": "linear",
          "width": 1.3
         },
         "mode": "lines",
         "name": "SFA 20:0",
         "text": "",
         "type": "scatter",
         "x": [
          0.4238386990504271,
          0.6357580485756407,
          0.7629096582907687,
          0.8476773981008542,
          0.9324451379109396,
          1.017212877721025,
          1.1019806175311104,
          1.1867483573411959,
          1.2715160971512813,
          1.6953547962017084
         ],
         "y": [
          1.4585696232735736,
          1.385399793513661,
          1.0183554464349744,
          1.0183554442118896,
          1.0000018709184364,
          1,
          0.9999999962915772,
          0.6919033836563038,
          0.31784910941695305,
          0.19287911030154947
         ]
        },
        {
         "line": {
          "color": "rgba(128, 177, 211, 0.45762711864406797)",
          "dash": "solid",
          "shape": "linear",
          "width": 1.3
         },
         "mode": "lines",
         "name": "SFA 21:0",
         "text": "",
         "type": "scatter",
         "x": [
          0.4238386990504271,
          0.6357580485756407,
          0.7629096582907687,
          0.8476773981008542,
          0.9324451379109396,
          1.017212877721025,
          1.1019806175311104,
          1.1867483573411959,
          1.2715160971512813,
          1.6953547962017084
         ],
         "y": [
          1.8590076065932304,
          1.8494502797422732,
          1.0589647377644094,
          1.058964733581986,
          1.000006583057914,
          1,
          1.000000006608093,
          1.7166673094329596,
          2.5867597891538456,
          2.87745378915964
         ]
        },
        {
         "line": {
          "color": "rgba(255, 153, 51, 0.45762711864406797)",
          "dash": "solid",
          "shape": "linear",
          "width": 1.3
         },
         "mode": "lines",
         "name": "SFA 22:0",
         "text": "",
         "type": "scatter",
         "x": [
          0.4238386990504271,
          0.6357580485756407,
          0.7629096582907687,
          0.8476773981008542,
          0.9324451379109396,
          1.017212877721025,
          1.1019806175311104,
          1.1867483573411959,
          1.2715160971512813,
          1.6953547962017084
         ],
         "y": [
          1.8590076065932304,
          1.8494502797422732,
          1.0589647377644094,
          1.058964733581986,
          1.000006583057914,
          1,
          1.000000006608093,
          1.7166673094329596,
          2.5867597891538456,
          2.87745378915964
         ]
        },
        {
         "line": {
          "color": "rgba(55, 128, 191, 0.45762711864406797)",
          "dash": "solid",
          "shape": "linear",
          "width": 1.3
         },
         "mode": "lines",
         "name": "SFA 24:0",
         "text": "",
         "type": "scatter",
         "x": [
          0.4238386990504271,
          0.6357580485756407,
          0.7629096582907687,
          0.8476773981008542,
          0.9324451379109396,
          1.017212877721025,
          1.1019806175311104,
          1.1867483573411959,
          1.2715160971512813,
          1.6953547962017084
         ],
         "y": [
          1.8590076065932304,
          1.8494502797422732,
          1.0589647377644094,
          1.058964733581986,
          1.000006583057914,
          1,
          1.000000006608093,
          1.7166673094329596,
          2.5867597891538456,
          2.87745378915964
         ]
        },
        {
         "line": {
          "color": "rgba(55, 128, 191, 0.3898305084745764)",
          "dash": "solid",
          "shape": "linear",
          "width": 1.3
         },
         "mode": "lines",
         "name": "MUFA 16:1 c",
         "text": "",
         "type": "scatter",
         "x": [
          0.4238386990504271,
          0.6357580485756407,
          0.7629096582907687,
          0.8476773981008542,
          0.9324451379109396,
          1.017212877721025,
          1.1019806175311104,
          1.1867483573411959,
          1.2715160971512813,
          1.6953547962017084
         ],
         "y": [
          1.4564941656466297,
          1.3829946342604205,
          1.0181449697396425,
          1.0181449675267127,
          1.0000018464955638,
          1,
          0.9999999962381069,
          0.6865920640658435,
          0.30608941585323035,
          0.17896504314401765
         ]
        },
        {
         "line": {
          "color": "rgba(50, 171, 96, 0.3898305084745764)",
          "dash": "solid",
          "shape": "linear",
          "width": 1.3
         },
         "mode": "lines",
         "name": "MUFA 17:1",
         "text": "",
         "type": "scatter",
         "x": [
          0.4238386990504271,
          0.6357580485756407,
          0.7629096582907687,
          0.8476773981008542,
          0.9324451379109396,
          1.017212877721025,
          1.1019806175311104,
          1.1867483573411959,
          1.2715160971512813,
          1.6953547962017084
         ],
         "y": [
          1.4715553145888032,
          1.4004483568864232,
          1.0196723537806827,
          1.0196723514940587,
          1.0000020237270888,
          1,
          0.9999999966261285,
          0.7251351662679342,
          0.39142697899025836,
          0.27993643139614804
         ]
        },
        {
         "line": {
          "color": "rgba(128, 0, 128, 0.3898305084745764)",
          "dash": "solid",
          "shape": "linear",
          "width": 1.3
         },
         "mode": "lines",
         "name": "MUFA 17:1 c",
         "text": "",
         "type": "scatter",
         "x": [
          0.4238386990504271,
          0.6357580485756407,
          0.7629096582907687,
          0.8476773981008542,
          0.9324451379109396,
          1.017212877721025,
          1.1019806175311104,
          1.1867483573411959,
          1.2715160971512813,
          1.6953547962017084
         ],
         "y": [
          1.8590076065932302,
          1.8494502797422732,
          1.0589647377644094,
          1.0589647335819863,
          1.000006583057914,
          1,
          1.000000006608093,
          1.7166673094329594,
          2.5867597891538456,
          2.87745378915964
         ]
        },
        {
         "line": {
          "color": "rgba(219, 64, 82, 0.3898305084745764)",
          "dash": "solid",
          "shape": "linear",
          "width": 1.3
         },
         "mode": "lines",
         "name": "MUFA 18:1 c",
         "text": "",
         "type": "scatter",
         "x": [
          0.4238386990504271,
          0.6357580485756407,
          0.7629096582907687,
          0.8476773981008542,
          0.9324451379109396,
          1.017212877721025,
          1.1019806175311104,
          1.1867483573411959,
          1.2715160971512813,
          1.6953547962017084
         ],
         "y": [
          1.4399923380076445,
          1.363871370587856,
          1.0164714833223345,
          1.0164714811901479,
          1.000001652310904,
          1,
          0.999999995812969,
          0.6443621099200676,
          0.21258886264676166,
          0.06833520661540773
         ]
        },
        {
         "line": {
          "color": "rgba(0, 128, 128, 0.3898305084745764)",
          "dash": "solid",
          "shape": "linear",
          "width": 1.3
         },
         "mode": "lines",
         "name": "MUFA 20:1 c",
         "text": "",
         "type": "scatter",
         "x": [
          0.4238386990504271,
          0.6357580485756407,
          0.7629096582907687,
          0.8476773981008542,
          0.9324451379109396,
          1.017212877721025,
          1.1019806175311104,
          1.1867483573411959,
          1.2715160971512813,
          1.6953547962017084
         ],
         "y": [
          1.8590076065932302,
          1.8494502797422732,
          1.0589647377644094,
          1.0589647335819863,
          1.000006583057914,
          1,
          1.000000006608093,
          1.7166673094329594,
          2.5867597891538456,
          2.87745378915964
         ]
        },
        {
         "line": {
          "color": "rgba(255, 255, 51, 0.3898305084745764)",
          "dash": "solid",
          "shape": "linear",
          "width": 1.3
         },
         "mode": "lines",
         "name": "MUFA 24:1 c",
         "text": "",
         "type": "scatter",
         "x": [
          0.4238386990504271,
          0.6357580485756407,
          0.7629096582907687,
          0.8476773981008542,
          0.9324451379109396,
          1.017212877721025,
          1.1019806175311104,
          1.1867483573411959,
          1.2715160971512813,
          1.6953547962017084
         ],
         "y": [
          1.8590076065932302,
          1.8494502797422732,
          1.0589647377644094,
          1.0589647335819863,
          1.000006583057914,
          1,
          1.000000006608093,
          1.7166673094329594,
          2.5867597891538456,
          2.87745378915964
         ]
        },
        {
         "line": {
          "color": "rgba(128, 128, 0, 0.3898305084745764)",
          "dash": "solid",
          "shape": "linear",
          "width": 1.3
         },
         "mode": "lines",
         "name": "PUFA 18:2 c",
         "text": "",
         "type": "scatter",
         "x": [
          0.4238386990504271,
          0.6357580485756407,
          0.7629096582907687,
          0.8476773981008542,
          0.9324451379109396,
          1.017212877721025,
          1.1019806175311104,
          1.1867483573411959,
          1.2715160971512813,
          1.6953547962017084
         ],
         "y": [
          1.8590076065932302,
          1.8494502797422732,
          1.0589647377644094,
          1.0589647335819863,
          1.000006583057914,
          1,
          1.0000000066080927,
          1.7166673094329594,
          2.5867597891538456,
          2.87745378915964
         ]
        },
        {
         "line": {
          "color": "rgba(251, 128, 114, 0.3898305084745764)",
          "dash": "solid",
          "shape": "linear",
          "width": 1.3
         },
         "mode": "lines",
         "name": "PUFA 18:2 n-6 c,c",
         "text": "",
         "type": "scatter",
         "x": [
          0.4238386990504271,
          0.6357580485756407,
          0.7629096582907687,
          0.8476773981008542,
          0.9324451379109396,
          1.017212877721025,
          1.1019806175311104,
          1.1867483573411959,
          1.2715160971512813,
          1.6953547962017084
         ],
         "y": [
          1.4419716938144411,
          1.3661651615438208,
          1.0166722141219866,
          1.016672211980115,
          1.000001675602902,
          1,
          0.9999999958639634,
          0.6494274946027754,
          0.2238040363218702,
          0.08160499794570537
         ]
        },
        {
         "line": {
          "color": "rgba(128, 177, 211, 0.3898305084745764)",
          "dash": "solid",
          "shape": "linear",
          "width": 1.3
         },
         "mode": "lines",
         "name": "PUFA 18:2 CLAs",
         "text": "",
         "type": "scatter",
         "x": [
          0.4238386990504271,
          0.6357580485756407,
          0.7629096582907687,
          0.8476773981008542,
          0.9324451379109396,
          1.017212877721025,
          1.1019806175311104,
          1.1867483573411959,
          1.2715160971512813,
          1.6953547962017084
         ],
         "y": [
          1.4297992848826042,
          1.3520590764103253,
          1.015437783520783,
          1.015437781438471,
          1.0000015323645206,
          1,
          0.9999999955503646,
          0.6182769891993195,
          0.1548342837658979,
          1.765017990381124e-11
         ]
        },
        {
         "line": {
          "color": "rgba(255, 153, 51, 0.3898305084745764)",
          "dash": "solid",
          "shape": "linear",
          "width": 1.3
         },
         "mode": "lines",
         "name": "PUFA 18:3 c",
         "text": "",
         "type": "scatter",
         "x": [
          0.4238386990504271,
          0.6357580485756407,
          0.7629096582907687,
          0.8476773981008542,
          0.9324451379109396,
          1.017212877721025,
          1.1019806175311104,
          1.1867483573411959,
          1.2715160971512813,
          1.6953547962017084
         ],
         "y": [
          1.8590076065932304,
          1.8494502797422732,
          1.0589647377644094,
          1.058964733581986,
          1.000006583057914,
          1,
          1.000000006608093,
          1.7166673094329596,
          2.5867597891538456,
          2.87745378915964
         ]
        },
        {
         "line": {
          "color": "rgba(255, 153, 51, 0.32203389830508483)",
          "dash": "solid",
          "shape": "linear",
          "width": 1.3
         },
         "mode": "lines",
         "name": "PUFA 18:3 n-3 c,c,c (ALA)",
         "text": "",
         "type": "scatter",
         "x": [
          0.4238386990504271,
          0.6357580485756407,
          0.7629096582907687,
          0.8476773981008542,
          0.9324451379109396,
          1.017212877721025,
          1.1019806175311104,
          1.1867483573411959,
          1.2715160971512813,
          1.6953547962017084
         ],
         "y": [
          1.4426205287943568,
          1.3669170687066128,
          1.0167380138957884,
          1.016738011750742,
          1.0000016832380443,
          1,
          0.9999999958806793,
          0.6510879331947578,
          0.2274803824144991,
          0.08595484993376815
         ]
        },
        {
         "line": {
          "color": "rgba(55, 128, 191, 0.32203389830508483)",
          "dash": "solid",
          "shape": "linear",
          "width": 1.3
         },
         "mode": "lines",
         "name": "PUFA 20:2 c",
         "text": "",
         "type": "scatter",
         "x": [
          0.4238386990504271,
          0.6357580485756407,
          0.7629096582907687,
          0.8476773981008542,
          0.9324451379109396,
          1.017212877721025,
          1.1019806175311104,
          1.1867483573411959,
          1.2715160971512813,
          1.6953547962017084
         ],
         "y": [
          1.8590076065932304,
          1.8494502797422732,
          1.0589647377644094,
          1.058964733581986,
          1.000006583057914,
          1,
          1.000000006608093,
          1.7166673094329596,
          2.5867597891538456,
          2.87745378915964
         ]
        },
        {
         "line": {
          "color": "rgba(50, 171, 96, 0.32203389830508483)",
          "dash": "solid",
          "shape": "linear",
          "width": 1.3
         },
         "mode": "lines",
         "name": "PUFA 20:2 n-6 c,c",
         "text": "",
         "type": "scatter",
         "x": [
          0.4238386990504271,
          0.6357580485756407,
          0.7629096582907687,
          0.8476773981008542,
          0.9324451379109396,
          1.017212877721025,
          1.1019806175311104,
          1.1867483573411959,
          1.2715160971512813,
          1.6953547962017084
         ],
         "y": [
          1.8590076065932304,
          1.8494502797422732,
          1.0589647377644094,
          1.058964733581986,
          1.000006583057914,
          1,
          1.000000006608093,
          1.7166673094329596,
          2.5867597891538456,
          2.87745378915964
         ]
        },
        {
         "line": {
          "color": "rgba(128, 0, 128, 0.32203389830508483)",
          "dash": "solid",
          "shape": "linear",
          "width": 1.3
         },
         "mode": "lines",
         "name": "PUFA 20:3 n-6",
         "text": "",
         "type": "scatter",
         "x": [
          0.4238386990504271,
          0.6357580485756407,
          0.7629096582907687,
          0.8476773981008542,
          0.9324451379109396,
          1.017212877721025,
          1.1019806175311104,
          1.1867483573411959,
          1.2715160971512813,
          1.6953547962017084
         ],
         "y": [
          1.4297992848826042,
          1.3520590764103253,
          1.015437783520783,
          1.015437781438471,
          1.0000015323645206,
          1,
          0.9999999955503646,
          0.6182769891993195,
          0.1548342837658979,
          1.765017990381124e-11
         ]
        },
        {
         "line": {
          "color": "rgba(219, 64, 82, 0.32203389830508483)",
          "dash": "solid",
          "shape": "linear",
          "width": 1.3
         },
         "mode": "lines",
         "name": "PUFA 2:4 c",
         "text": "",
         "type": "scatter",
         "x": [
          0.4238386990504271,
          0.6357580485756407,
          0.7629096582907687,
          0.8476773981008542,
          0.9324451379109396,
          1.017212877721025,
          1.1019806175311104,
          1.1867483573411959,
          1.2715160971512813,
          1.6953547962017084
         ],
         "y": [
          1.8590076065932302,
          1.8494502797422732,
          1.0589647377644094,
          1.0589647335819863,
          1.000006583057914,
          1,
          1.0000000066080927,
          1.7166673094329594,
          2.5867597891538456,
          2.87745378915964
         ]
        },
        {
         "line": {
          "color": "rgba(0, 128, 128, 0.32203389830508483)",
          "dash": "solid",
          "shape": "linear",
          "width": 1.3
         },
         "mode": "lines",
         "name": "PUFA 2:5 c",
         "text": "",
         "type": "scatter",
         "x": [
          0.4238386990504271,
          0.6357580485756407,
          0.7629096582907687,
          0.8476773981008542,
          0.9324451379109396,
          1.017212877721025,
          1.1019806175311104,
          1.1867483573411959,
          1.2715160971512813,
          1.6953547962017084
         ],
         "y": [
          1.8590076065932304,
          1.8494502797422732,
          1.0589647377644094,
          1.058964733581986,
          1.000006583057914,
          1,
          1.000000006608093,
          1.7166673094329596,
          2.586759789153846,
          2.87745378915964
         ]
        },
        {
         "line": {
          "color": "rgba(255, 255, 51, 0.32203389830508483)",
          "dash": "solid",
          "shape": "linear",
          "width": 1.3
         },
         "mode": "lines",
         "name": "PUFA 22:5 c",
         "text": "",
         "type": "scatter",
         "x": [
          0.4238386990504271,
          0.6357580485756407,
          0.7629096582907687,
          0.8476773981008542,
          0.9324451379109396,
          1.017212877721025,
          1.1019806175311104,
          1.1867483573411959,
          1.2715160971512813,
          1.6953547962017084
         ],
         "y": [
          1.8590076065932304,
          1.8494502797422732,
          1.0589647377644094,
          1.058964733581986,
          1.000006583057914,
          1,
          1.000000006608093,
          1.7166673094329596,
          2.5867597891538456,
          2.87745378915964
         ]
        },
        {
         "line": {
          "color": "rgba(128, 128, 0, 0.32203389830508483)",
          "dash": "solid",
          "shape": "linear",
          "width": 1.3
         },
         "mode": "lines",
         "name": "PUFA 22:4",
         "text": "",
         "type": "scatter",
         "x": [
          0.4238386990504271,
          0.6357580485756407,
          0.7629096582907687,
          0.8476773981008542,
          0.9324451379109396,
          1.017212877721025,
          1.1019806175311104,
          1.1867483573411959,
          1.2715160971512813,
          1.6953547962017084
         ],
         "y": [
          1.8590076065932304,
          1.8494502797422732,
          1.0589647377644094,
          1.058964733581986,
          1.000006583057914,
          1,
          1.000000006608093,
          1.7166673094329596,
          2.5867597891538456,
          2.87745378915964
         ]
        },
        {
         "line": {
          "color": "rgba(251, 128, 114, 0.32203389830508483)",
          "dash": "solid",
          "shape": "linear",
          "width": 1.3
         },
         "mode": "lines",
         "name": "PUFA 22:6 c",
         "text": "",
         "type": "scatter",
         "x": [
          0.4238386990504271,
          0.6357580485756407,
          0.7629096582907687,
          0.8476773981008542,
          0.9324451379109396,
          1.017212877721025,
          1.1019806175311104,
          1.1867483573411959,
          1.2715160971512813,
          1.6953547962017084
         ],
         "y": [
          1.85900760659323,
          1.849450279742273,
          1.0589647377644091,
          1.058964733581986,
          1.000006583057914,
          1,
          1.000000006608093,
          1.7166673094329592,
          2.5867597891538456,
          2.87745378915964
         ]
        },
        {
         "line": {
          "color": "rgba(128, 177, 211, 0.32203389830508483)",
          "dash": "solid",
          "shape": "linear",
          "width": 1.3
         },
         "mode": "lines",
         "name": "Fatty acids, total trans-monoenoic",
         "text": "",
         "type": "scatter",
         "x": [
          0.4238386990504271,
          0.6357580485756407,
          0.7629096582907687,
          0.8476773981008542,
          0.9324451379109396,
          1.017212877721025,
          1.1019806175311104,
          1.1867483573411959,
          1.2715160971512813,
          1.6953547962017084
         ],
         "y": [
          1.4316056158348158,
          1.3541523562478535,
          1.0156209674916634,
          1.0156209654005128,
          1.0000015536204547,
          1,
          0.9999999955969012,
          0.6228995846446731,
          0.16506908605571954,
          0.01210981611387488
         ]
        },
        {
         "line": {
          "color": "rgba(128, 177, 211, 0.2542372881355935)",
          "dash": "solid",
          "shape": "linear",
          "width": 1.3
         },
         "mode": "lines",
         "name": "TFA 16:1 t",
         "text": "",
         "type": "scatter",
         "x": [
          0.4238386990504271,
          0.6357580485756407,
          0.7629096582907687,
          0.8476773981008542,
          0.9324451379109396,
          1.017212877721025,
          1.1019806175311104,
          1.1867483573411959,
          1.2715160971512813,
          1.6953547962017084
         ],
         "y": [
          1.438855311686065,
          1.3625537193175905,
          1.0163561749972865,
          1.0163561728706632,
          1.0000016389309883,
          1,
          0.9999999957836758,
          0.6414523371074237,
          0.206146388976338,
          0.06071247301055957
         ]
        },
        {
         "line": {
          "color": "rgba(255, 153, 51, 0.2542372881355935)",
          "dash": "solid",
          "shape": "linear",
          "width": 1.3
         },
         "mode": "lines",
         "name": "TFA 18:1 t",
         "text": "",
         "type": "scatter",
         "x": [
          0.4238386990504271,
          0.6357580485756407,
          0.7629096582907687,
          0.8476773981008542,
          0.9324451379109396,
          1.017212877721025,
          1.1019806175311104,
          1.1867483573411959,
          1.2715160971512813,
          1.6953547962017084
         ],
         "y": [
          1.4308025020883393,
          1.3532216620078623,
          1.015539521970859,
          1.0155395198836379,
          1.0000015441698427,
          1,
          0.9999999955762107,
          0.6208443300735116,
          0.16051858527325688,
          0.006725664465322653
         ]
        },
        {
         "line": {
          "color": "rgba(55, 128, 191, 0.2542372881355935)",
          "dash": "solid",
          "shape": "linear",
          "width": 1.3
         },
         "mode": "lines",
         "name": "TFA 18:2 t not further defined",
         "text": "",
         "type": "scatter",
         "x": [
          0.4238386990504271,
          0.6357580485756407,
          0.7629096582907687,
          0.8476773981008542,
          0.9324451379109396,
          1.017212877721025,
          1.1019806175311104,
          1.1867483573411959,
          1.2715160971512813,
          1.6953547962017084
         ],
         "y": [
          1.4297992848826044,
          1.3520590764103253,
          1.0154377835207833,
          1.015437781438471,
          1.0000015323645206,
          1,
          0.9999999955503646,
          0.6182769891993196,
          0.1548342837658979,
          1.765017990381124e-11
         ]
        },
        {
         "line": {
          "color": "rgba(50, 171, 96, 0.2542372881355935)",
          "dash": "solid",
          "shape": "linear",
          "width": 1.3
         },
         "mode": "lines",
         "name": "Fatty acids, total trans-polyenoic",
         "text": "",
         "type": "scatter",
         "x": [
          0.4238386990504271,
          0.6357580485756407,
          0.7629096582907687,
          0.8476773981008542,
          0.9324451379109396,
          1.017212877721025,
          1.1019806175311104,
          1.1867483573411959,
          1.2715160971512813,
          1.6953547962017084
         ],
         "y": [
          1.4297992848826044,
          1.3520590764103253,
          1.0154377835207833,
          1.015437781438471,
          1.0000015323645206,
          1,
          0.9999999955503646,
          0.6182769891993196,
          0.1548342837658979,
          1.765017990381124e-11
         ]
        },
        {
         "line": {
          "color": "rgba(128, 0, 128, 0.2542372881355935)",
          "dash": "solid",
          "shape": "linear",
          "width": 1.3
         },
         "mode": "lines",
         "name": "Vitamin A, IU",
         "text": "",
         "type": "scatter",
         "x": [
          0.4238386990504271,
          0.6357580485756407,
          0.7629096582907687,
          0.8476773981008542,
          0.9324451379109396,
          1.017212877721025,
          1.1019806175311104,
          1.1867483573411959,
          1.2715160971512813,
          1.6953547962017084
         ],
         "y": [
          1.4297992848826044,
          1.3520590764103253,
          1.015437783520783,
          1.015437781438471,
          1.0000015323645204,
          1,
          0.9999999955503646,
          0.6182769891993196,
          0.1548342837658979,
          1.765017990381124e-11
         ]
        },
        {
         "line": {
          "color": "rgba(219, 64, 82, 0.2542372881355935)",
          "dash": "solid",
          "shape": "linear",
          "width": 1.3
         },
         "mode": "lines",
         "name": "Cystine",
         "text": "",
         "type": "scatter",
         "x": [
          0.4238386990504271,
          0.6357580485756407,
          0.7629096582907687,
          0.8476773981008542,
          0.9324451379109396,
          1.017212877721025,
          1.1019806175311104,
          1.1867483573411959,
          1.2715160971512813,
          1.6953547962017084
         ],
         "y": [
          1.4297992848826044,
          1.3520590764103253,
          1.0154377835207833,
          1.015437781438471,
          1.0000015323645206,
          1,
          0.9999999955503647,
          0.6182769891993196,
          0.15483428376589792,
          1.7650179903811243e-11
         ]
        },
        {
         "line": {
          "color": "rgba(0, 128, 128, 0.2542372881355935)",
          "dash": "solid",
          "shape": "linear",
          "width": 1.3
         },
         "mode": "lines",
         "name": "MUFA 14:1",
         "text": "",
         "type": "scatter",
         "x": [
          0.4238386990504271,
          0.6357580485756407,
          0.7629096582907687,
          0.8476773981008542,
          0.9324451379109396,
          1.017212877721025,
          1.1019806175311104,
          1.1867483573411959,
          1.2715160971512813,
          1.6953547962017084
         ],
         "y": [
          1.4297992848826047,
          1.3520590764103255,
          1.0154377835207833,
          1.0154377814384712,
          1.0000015323645206,
          1,
          0.9999999955503647,
          0.6182769891993197,
          0.15483428376589792,
          1.7650179903811243e-11
         ]
        },
        {
         "line": {
          "color": "rgba(255, 255, 51, 0.2542372881355935)",
          "dash": "solid",
          "shape": "linear",
          "width": 1.3
         },
         "mode": "lines",
         "name": "PUFA 20:3",
         "text": "",
         "type": "scatter",
         "x": [
          0.4238386990504271,
          0.6357580485756407,
          0.7629096582907687,
          0.8476773981008542,
          0.9324451379109396,
          1.017212877721025,
          1.1019806175311104,
          1.1867483573411959,
          1.2715160971512813,
          1.6953547962017084
         ],
         "y": [
          1.4297992848826042,
          1.3520590764103253,
          1.015437783520783,
          1.015437781438471,
          1.0000015323645206,
          1,
          0.9999999955503646,
          0.6182769891993195,
          0.1548342837658979,
          1.765017990381124e-11
         ]
        }
       ],
       "layout": {
        "legend": {
         "bgcolor": "#F5F6F9",
         "font": {
          "color": "#4D5663"
         }
        },
        "paper_bgcolor": "#F5F6F9",
        "plot_bgcolor": "#F5F6F9",
        "template": {
         "data": {
          "bar": [
           {
            "error_x": {
             "color": "#2a3f5f"
            },
            "error_y": {
             "color": "#2a3f5f"
            },
            "marker": {
             "line": {
              "color": "#E5ECF6",
              "width": 0.5
             },
             "pattern": {
              "fillmode": "overlay",
              "size": 10,
              "solidity": 0.2
             }
            },
            "type": "bar"
           }
          ],
          "barpolar": [
           {
            "marker": {
             "line": {
              "color": "#E5ECF6",
              "width": 0.5
             },
             "pattern": {
              "fillmode": "overlay",
              "size": 10,
              "solidity": 0.2
             }
            },
            "type": "barpolar"
           }
          ],
          "carpet": [
           {
            "aaxis": {
             "endlinecolor": "#2a3f5f",
             "gridcolor": "white",
             "linecolor": "white",
             "minorgridcolor": "white",
             "startlinecolor": "#2a3f5f"
            },
            "baxis": {
             "endlinecolor": "#2a3f5f",
             "gridcolor": "white",
             "linecolor": "white",
             "minorgridcolor": "white",
             "startlinecolor": "#2a3f5f"
            },
            "type": "carpet"
           }
          ],
          "choropleth": [
           {
            "colorbar": {
             "outlinewidth": 0,
             "ticks": ""
            },
            "type": "choropleth"
           }
          ],
          "contour": [
           {
            "colorbar": {
             "outlinewidth": 0,
             "ticks": ""
            },
            "colorscale": [
             [
              0,
              "#0d0887"
             ],
             [
              0.1111111111111111,
              "#46039f"
             ],
             [
              0.2222222222222222,
              "#7201a8"
             ],
             [
              0.3333333333333333,
              "#9c179e"
             ],
             [
              0.4444444444444444,
              "#bd3786"
             ],
             [
              0.5555555555555556,
              "#d8576b"
             ],
             [
              0.6666666666666666,
              "#ed7953"
             ],
             [
              0.7777777777777778,
              "#fb9f3a"
             ],
             [
              0.8888888888888888,
              "#fdca26"
             ],
             [
              1,
              "#f0f921"
             ]
            ],
            "type": "contour"
           }
          ],
          "contourcarpet": [
           {
            "colorbar": {
             "outlinewidth": 0,
             "ticks": ""
            },
            "type": "contourcarpet"
           }
          ],
          "heatmap": [
           {
            "colorbar": {
             "outlinewidth": 0,
             "ticks": ""
            },
            "colorscale": [
             [
              0,
              "#0d0887"
             ],
             [
              0.1111111111111111,
              "#46039f"
             ],
             [
              0.2222222222222222,
              "#7201a8"
             ],
             [
              0.3333333333333333,
              "#9c179e"
             ],
             [
              0.4444444444444444,
              "#bd3786"
             ],
             [
              0.5555555555555556,
              "#d8576b"
             ],
             [
              0.6666666666666666,
              "#ed7953"
             ],
             [
              0.7777777777777778,
              "#fb9f3a"
             ],
             [
              0.8888888888888888,
              "#fdca26"
             ],
             [
              1,
              "#f0f921"
             ]
            ],
            "type": "heatmap"
           }
          ],
          "heatmapgl": [
           {
            "colorbar": {
             "outlinewidth": 0,
             "ticks": ""
            },
            "colorscale": [
             [
              0,
              "#0d0887"
             ],
             [
              0.1111111111111111,
              "#46039f"
             ],
             [
              0.2222222222222222,
              "#7201a8"
             ],
             [
              0.3333333333333333,
              "#9c179e"
             ],
             [
              0.4444444444444444,
              "#bd3786"
             ],
             [
              0.5555555555555556,
              "#d8576b"
             ],
             [
              0.6666666666666666,
              "#ed7953"
             ],
             [
              0.7777777777777778,
              "#fb9f3a"
             ],
             [
              0.8888888888888888,
              "#fdca26"
             ],
             [
              1,
              "#f0f921"
             ]
            ],
            "type": "heatmapgl"
           }
          ],
          "histogram": [
           {
            "marker": {
             "pattern": {
              "fillmode": "overlay",
              "size": 10,
              "solidity": 0.2
             }
            },
            "type": "histogram"
           }
          ],
          "histogram2d": [
           {
            "colorbar": {
             "outlinewidth": 0,
             "ticks": ""
            },
            "colorscale": [
             [
              0,
              "#0d0887"
             ],
             [
              0.1111111111111111,
              "#46039f"
             ],
             [
              0.2222222222222222,
              "#7201a8"
             ],
             [
              0.3333333333333333,
              "#9c179e"
             ],
             [
              0.4444444444444444,
              "#bd3786"
             ],
             [
              0.5555555555555556,
              "#d8576b"
             ],
             [
              0.6666666666666666,
              "#ed7953"
             ],
             [
              0.7777777777777778,
              "#fb9f3a"
             ],
             [
              0.8888888888888888,
              "#fdca26"
             ],
             [
              1,
              "#f0f921"
             ]
            ],
            "type": "histogram2d"
           }
          ],
          "histogram2dcontour": [
           {
            "colorbar": {
             "outlinewidth": 0,
             "ticks": ""
            },
            "colorscale": [
             [
              0,
              "#0d0887"
             ],
             [
              0.1111111111111111,
              "#46039f"
             ],
             [
              0.2222222222222222,
              "#7201a8"
             ],
             [
              0.3333333333333333,
              "#9c179e"
             ],
             [
              0.4444444444444444,
              "#bd3786"
             ],
             [
              0.5555555555555556,
              "#d8576b"
             ],
             [
              0.6666666666666666,
              "#ed7953"
             ],
             [
              0.7777777777777778,
              "#fb9f3a"
             ],
             [
              0.8888888888888888,
              "#fdca26"
             ],
             [
              1,
              "#f0f921"
             ]
            ],
            "type": "histogram2dcontour"
           }
          ],
          "mesh3d": [
           {
            "colorbar": {
             "outlinewidth": 0,
             "ticks": ""
            },
            "type": "mesh3d"
           }
          ],
          "parcoords": [
           {
            "line": {
             "colorbar": {
              "outlinewidth": 0,
              "ticks": ""
             }
            },
            "type": "parcoords"
           }
          ],
          "pie": [
           {
            "automargin": true,
            "type": "pie"
           }
          ],
          "scatter": [
           {
            "marker": {
             "colorbar": {
              "outlinewidth": 0,
              "ticks": ""
             }
            },
            "type": "scatter"
           }
          ],
          "scatter3d": [
           {
            "line": {
             "colorbar": {
              "outlinewidth": 0,
              "ticks": ""
             }
            },
            "marker": {
             "colorbar": {
              "outlinewidth": 0,
              "ticks": ""
             }
            },
            "type": "scatter3d"
           }
          ],
          "scattercarpet": [
           {
            "marker": {
             "colorbar": {
              "outlinewidth": 0,
              "ticks": ""
             }
            },
            "type": "scattercarpet"
           }
          ],
          "scattergeo": [
           {
            "marker": {
             "colorbar": {
              "outlinewidth": 0,
              "ticks": ""
             }
            },
            "type": "scattergeo"
           }
          ],
          "scattergl": [
           {
            "marker": {
             "colorbar": {
              "outlinewidth": 0,
              "ticks": ""
             }
            },
            "type": "scattergl"
           }
          ],
          "scattermapbox": [
           {
            "marker": {
             "colorbar": {
              "outlinewidth": 0,
              "ticks": ""
             }
            },
            "type": "scattermapbox"
           }
          ],
          "scatterpolar": [
           {
            "marker": {
             "colorbar": {
              "outlinewidth": 0,
              "ticks": ""
             }
            },
            "type": "scatterpolar"
           }
          ],
          "scatterpolargl": [
           {
            "marker": {
             "colorbar": {
              "outlinewidth": 0,
              "ticks": ""
             }
            },
            "type": "scatterpolargl"
           }
          ],
          "scatterternary": [
           {
            "marker": {
             "colorbar": {
              "outlinewidth": 0,
              "ticks": ""
             }
            },
            "type": "scatterternary"
           }
          ],
          "surface": [
           {
            "colorbar": {
             "outlinewidth": 0,
             "ticks": ""
            },
            "colorscale": [
             [
              0,
              "#0d0887"
             ],
             [
              0.1111111111111111,
              "#46039f"
             ],
             [
              0.2222222222222222,
              "#7201a8"
             ],
             [
              0.3333333333333333,
              "#9c179e"
             ],
             [
              0.4444444444444444,
              "#bd3786"
             ],
             [
              0.5555555555555556,
              "#d8576b"
             ],
             [
              0.6666666666666666,
              "#ed7953"
             ],
             [
              0.7777777777777778,
              "#fb9f3a"
             ],
             [
              0.8888888888888888,
              "#fdca26"
             ],
             [
              1,
              "#f0f921"
             ]
            ],
            "type": "surface"
           }
          ],
          "table": [
           {
            "cells": {
             "fill": {
              "color": "#EBF0F8"
             },
             "line": {
              "color": "white"
             }
            },
            "header": {
             "fill": {
              "color": "#C8D4E3"
             },
             "line": {
              "color": "white"
             }
            },
            "type": "table"
           }
          ]
         },
         "layout": {
          "annotationdefaults": {
           "arrowcolor": "#2a3f5f",
           "arrowhead": 0,
           "arrowwidth": 1
          },
          "autotypenumbers": "strict",
          "coloraxis": {
           "colorbar": {
            "outlinewidth": 0,
            "ticks": ""
           }
          },
          "colorscale": {
           "diverging": [
            [
             0,
             "#8e0152"
            ],
            [
             0.1,
             "#c51b7d"
            ],
            [
             0.2,
             "#de77ae"
            ],
            [
             0.3,
             "#f1b6da"
            ],
            [
             0.4,
             "#fde0ef"
            ],
            [
             0.5,
             "#f7f7f7"
            ],
            [
             0.6,
             "#e6f5d0"
            ],
            [
             0.7,
             "#b8e186"
            ],
            [
             0.8,
             "#7fbc41"
            ],
            [
             0.9,
             "#4d9221"
            ],
            [
             1,
             "#276419"
            ]
           ],
           "sequential": [
            [
             0,
             "#0d0887"
            ],
            [
             0.1111111111111111,
             "#46039f"
            ],
            [
             0.2222222222222222,
             "#7201a8"
            ],
            [
             0.3333333333333333,
             "#9c179e"
            ],
            [
             0.4444444444444444,
             "#bd3786"
            ],
            [
             0.5555555555555556,
             "#d8576b"
            ],
            [
             0.6666666666666666,
             "#ed7953"
            ],
            [
             0.7777777777777778,
             "#fb9f3a"
            ],
            [
             0.8888888888888888,
             "#fdca26"
            ],
            [
             1,
             "#f0f921"
            ]
           ],
           "sequentialminus": [
            [
             0,
             "#0d0887"
            ],
            [
             0.1111111111111111,
             "#46039f"
            ],
            [
             0.2222222222222222,
             "#7201a8"
            ],
            [
             0.3333333333333333,
             "#9c179e"
            ],
            [
             0.4444444444444444,
             "#bd3786"
            ],
            [
             0.5555555555555556,
             "#d8576b"
            ],
            [
             0.6666666666666666,
             "#ed7953"
            ],
            [
             0.7777777777777778,
             "#fb9f3a"
            ],
            [
             0.8888888888888888,
             "#fdca26"
            ],
            [
             1,
             "#f0f921"
            ]
           ]
          },
          "colorway": [
           "#636efa",
           "#EF553B",
           "#00cc96",
           "#ab63fa",
           "#FFA15A",
           "#19d3f3",
           "#FF6692",
           "#B6E880",
           "#FF97FF",
           "#FECB52"
          ],
          "font": {
           "color": "#2a3f5f"
          },
          "geo": {
           "bgcolor": "white",
           "lakecolor": "white",
           "landcolor": "#E5ECF6",
           "showlakes": true,
           "showland": true,
           "subunitcolor": "white"
          },
          "hoverlabel": {
           "align": "left"
          },
          "hovermode": "closest",
          "mapbox": {
           "style": "light"
          },
          "paper_bgcolor": "white",
          "plot_bgcolor": "#E5ECF6",
          "polar": {
           "angularaxis": {
            "gridcolor": "white",
            "linecolor": "white",
            "ticks": ""
           },
           "bgcolor": "#E5ECF6",
           "radialaxis": {
            "gridcolor": "white",
            "linecolor": "white",
            "ticks": ""
           }
          },
          "scene": {
           "xaxis": {
            "backgroundcolor": "#E5ECF6",
            "gridcolor": "white",
            "gridwidth": 2,
            "linecolor": "white",
            "showbackground": true,
            "ticks": "",
            "zerolinecolor": "white"
           },
           "yaxis": {
            "backgroundcolor": "#E5ECF6",
            "gridcolor": "white",
            "gridwidth": 2,
            "linecolor": "white",
            "showbackground": true,
            "ticks": "",
            "zerolinecolor": "white"
           },
           "zaxis": {
            "backgroundcolor": "#E5ECF6",
            "gridcolor": "white",
            "gridwidth": 2,
            "linecolor": "white",
            "showbackground": true,
            "ticks": "",
            "zerolinecolor": "white"
           }
          },
          "shapedefaults": {
           "line": {
            "color": "#2a3f5f"
           }
          },
          "ternary": {
           "aaxis": {
            "gridcolor": "white",
            "linecolor": "white",
            "ticks": ""
           },
           "baxis": {
            "gridcolor": "white",
            "linecolor": "white",
            "ticks": ""
           },
           "bgcolor": "#E5ECF6",
           "caxis": {
            "gridcolor": "white",
            "linecolor": "white",
            "ticks": ""
           }
          },
          "title": {
           "x": 0.05
          },
          "xaxis": {
           "automargin": true,
           "gridcolor": "white",
           "linecolor": "white",
           "ticks": "",
           "title": {
            "standoff": 15
           },
           "zerolinecolor": "white",
           "zerolinewidth": 2
          },
          "yaxis": {
           "automargin": true,
           "gridcolor": "white",
           "linecolor": "white",
           "ticks": "",
           "title": {
            "standoff": 15
           },
           "zerolinecolor": "white",
           "zerolinewidth": 2
          }
         }
        },
        "title": {
         "font": {
          "color": "#4D5663"
         }
        },
        "xaxis": {
         "gridcolor": "#E1E5ED",
         "showgrid": true,
         "tickfont": {
          "color": "#4D5663"
         },
         "title": {
          "font": {
           "color": "#4D5663"
          },
          "text": "Greek yogurt Price"
         },
         "zerolinecolor": "#E1E5ED"
        },
        "yaxis": {
         "gridcolor": "#E1E5ED",
         "showgrid": true,
         "tickfont": {
          "color": "#4D5663"
         },
         "title": {
          "font": {
           "color": "#4D5663"
          },
          "text": "%Change"
         },
         "zerolinecolor": "#E1E5ED"
        }
       }
      },
      "text/html": [
       "<div>                            <div id=\"78fa9cfc-4c15-4a46-9259-ab8fd328835b\" class=\"plotly-graph-div\" style=\"height:525px; width:100%;\"></div>            <script type=\"text/javascript\">                require([\"plotly\"], function(Plotly) {                    window.PLOTLYENV=window.PLOTLYENV || {};\n",
       "                    window.PLOTLYENV.BASE_URL='https://plot.ly';                                    if (document.getElementById(\"78fa9cfc-4c15-4a46-9259-ab8fd328835b\")) {                    Plotly.newPlot(                        \"78fa9cfc-4c15-4a46-9259-ab8fd328835b\",                        [{\"line\":{\"color\":\"rgba(255, 153, 51, 1.0)\",\"dash\":\"solid\",\"shape\":\"linear\",\"width\":1.3},\"mode\":\"lines\",\"name\":\"Water\",\"text\":\"\",\"type\":\"scatter\",\"x\":[0.4238386990504271,0.6357580485756407,0.7629096582907687,0.8476773981008542,0.9324451379109396,1.017212877721025,1.1019806175311104,1.1867483573411959,1.2715160971512813,1.6953547962017084],\"y\":[1.1926012893116915,1.1021478316603206,0.9961962212311745,0.9961962206704226,0.9999924927037916,1.0,1.0000000059719254,0.8988480245326698,0.7867490318738267,0.765744447543353]},{\"line\":{\"color\":\"rgba(55, 128, 191, 1.0)\",\"dash\":\"solid\",\"shape\":\"linear\",\"width\":1.3},\"mode\":\"lines\",\"name\":\"Energy\",\"text\":\"\",\"type\":\"scatter\",\"x\":[0.4238386990504271,0.6357580485756407,0.7629096582907687,0.8476773981008542,0.9324451379109396,1.017212877721025,1.1019806175311104,1.1867483573411959,1.2715160971512813,1.6953547962017084],\"y\":[1.0000000007186918,1.000000000253671,1.0000000000662275,1.0000000000798075,0.9999999361934564,1.0,1.000000000027233,0.9999999989098315,0.9999998676255912,0.9999999999475487]},{\"line\":{\"color\":\"rgba(50, 171, 96, 1.0)\",\"dash\":\"solid\",\"shape\":\"linear\",\"width\":1.3},\"mode\":\"lines\",\"name\":\"Nitrogen\",\"text\":\"\",\"type\":\"scatter\",\"x\":[0.4238386990504271,0.6357580485756407,0.7629096582907687,0.8476773981008542,0.9324451379109396,1.017212877721025,1.1019806175311104,1.1867483573411959,1.2715160971512813,1.6953547962017084],\"y\":[1.8590076065932302,1.8494502797422732,1.0589647377644094,1.058964733581986,1.000006583057914,1.0,1.000000006608093,1.7166673094329594,2.5867597891538456,2.87745378915964]},{\"line\":{\"color\":\"rgba(128, 0, 128, 1.0)\",\"dash\":\"solid\",\"shape\":\"linear\",\"width\":1.3},\"mode\":\"lines\",\"name\":\"Protein\",\"text\":\"\",\"type\":\"scatter\",\"x\":[0.4238386990504271,0.6357580485756407,0.7629096582907687,0.8476773981008542,0.9324451379109396,1.017212877721025,1.1019806175311104,1.1867483573411959,1.2715160971512813,1.6953547962017084],\"y\":[1.1643594323474473,1.142190457958277,1.0073609003388067,1.0073608998052836,1.0000042943506535,1.0,0.9999999963162202,0.9710740068865527,0.9643338959885196,0.9459256947447391]},{\"line\":{\"color\":\"rgba(219, 64, 82, 1.0)\",\"dash\":\"solid\",\"shape\":\"linear\",\"width\":1.3},\"mode\":\"lines\",\"name\":\"Total lipid (fat)\",\"text\":\"\",\"type\":\"scatter\",\"x\":[0.4238386990504271,0.6357580485756407,0.7629096582907687,0.8476773981008542,0.9324451379109396,1.017212877721025,1.1019806175311104,1.1867483573411959,1.2715160971512813,1.6953547962017084],\"y\":[0.5321041815436824,0.477867439759402,0.9564229954853269,0.9564229972715301,0.999960993909698,1.0,1.0000000347137985,1.3096374075599124,1.7087470299709242,1.9603073222914926]},{\"line\":{\"color\":\"rgba(0, 128, 128, 1.0)\",\"dash\":\"solid\",\"shape\":\"linear\",\"width\":1.3},\"mode\":\"lines\",\"name\":\"Ash\",\"text\":\"\",\"type\":\"scatter\",\"x\":[0.4238386990504271,0.6357580485756407,0.7629096582907687,0.8476773981008542,0.9324451379109396,1.017212877721025,1.1019806175311104,1.1867483573411959,1.2715160971512813,1.6953547962017084],\"y\":[1.4914225052522214,1.423471596117943,1.0216871290196845,1.0216871266358505,1.0000022575135363,1.0,0.9999999971379686,0.775977446836872,0.5039959233718779,0.41312798468714146]},{\"line\":{\"color\":\"rgba(255, 255, 51, 1.0)\",\"dash\":\"solid\",\"shape\":\"linear\",\"width\":1.3},\"mode\":\"lines\",\"name\":\"Carbohydrate, by difference\",\"text\":\"\",\"type\":\"scatter\",\"x\":[0.4238386990504271,0.6357580485756407,0.7629096582907687,0.8476773981008542,0.9324451379109396,1.017212877721025,1.1019806175311104,1.1867483573411959,1.2715160971512813,1.6953547962017084],\"y\":[0.7580115579851567,0.8613636127570513,1.0027943524972023,1.0027943539678241,1.0000197162546087,1.0,0.9999999835126498,1.0618771090177532,1.111891482294312,1.0531043954430208]},{\"line\":{\"color\":\"rgba(128, 128, 0, 1.0)\",\"dash\":\"solid\",\"shape\":\"linear\",\"width\":1.3},\"mode\":\"lines\",\"name\":\"Selenium, Se\",\"text\":\"\",\"type\":\"scatter\",\"x\":[0.4238386990504271,0.6357580485756407,0.7629096582907687,0.8476773981008542,0.9324451379109396,1.017212877721025,1.1019806175311104,1.1867483573411959,1.2715160971512813,1.6953547962017084],\"y\":[1.312491293338389,1.2678478009756424,1.013514192628364,1.0135141912531407,0.9999989397937864,1.0,1.0000000026803966,1.0453769082560647,1.1053040914390402,1.1233891562887066]},{\"line\":{\"color\":\"rgba(251, 128, 114, 1.0)\",\"dash\":\"solid\",\"shape\":\"linear\",\"width\":1.3},\"mode\":\"lines\",\"name\":\"Riboflavin\",\"text\":\"\",\"type\":\"scatter\",\"x\":[0.4238386990504271,0.6357580485756407,0.7629096582907687,0.8476773981008542,0.9324451379109396,1.017212877721025,1.1019806175311104,1.1867483573411959,1.2715160971512813,1.6953547962017084],\"y\":[1.3011519678343184,1.2097990263643714,1.0037068725491503,1.0037068716275073,0.9999983791714125,1.0,1.0000000005056326,0.8469425318516208,0.6881540200634376,0.6822623507368707]},{\"line\":{\"color\":\"rgba(128, 177, 211, 1.0)\",\"dash\":\"solid\",\"shape\":\"linear\",\"width\":1.3},\"mode\":\"lines\",\"name\":\"Tryptophan\",\"text\":\"\",\"type\":\"scatter\",\"x\":[0.4238386990504271,0.6357580485756407,0.7629096582907687,0.8476773981008542,0.9324451379109396,1.017212877721025,1.1019806175311104,1.1867483573411959,1.2715160971512813,1.6953547962017084],\"y\":[1.4297992848826044,1.3520590764103253,1.0154377835207833,1.015437781438471,1.0000015323645204,1.0,0.9999999955503646,0.6182769891993196,0.1548342837658979,1.765017990381124e-11]},{\"line\":{\"color\":\"rgba(128, 177, 211, 0.9322033898305084)\",\"dash\":\"solid\",\"shape\":\"linear\",\"width\":1.3},\"mode\":\"lines\",\"name\":\"Threonine\",\"text\":\"\",\"type\":\"scatter\",\"x\":[0.4238386990504271,0.6357580485756407,0.7629096582907687,0.8476773981008542,0.9324451379109396,1.017212877721025,1.1019806175311104,1.1867483573411959,1.2715160971512813,1.6953547962017084],\"y\":[1.4297992848826044,1.3520590764103253,1.015437783520783,1.015437781438471,1.0000015323645206,1.0,0.9999999955503646,0.6182769891993196,0.1548342837658979,1.765017990381124e-11]},{\"line\":{\"color\":\"rgba(255, 153, 51, 0.9322033898305084)\",\"dash\":\"solid\",\"shape\":\"linear\",\"width\":1.3},\"mode\":\"lines\",\"name\":\"Isoleucine\",\"text\":\"\",\"type\":\"scatter\",\"x\":[0.4238386990504271,0.6357580485756407,0.7629096582907687,0.8476773981008542,0.9324451379109396,1.017212877721025,1.1019806175311104,1.1867483573411959,1.2715160971512813,1.6953547962017084],\"y\":[1.4297992848826047,1.3520590764103255,1.0154377835207833,1.015437781438471,1.0000015323645206,1.0,0.9999999955503647,0.6182769891993196,0.15483428376589792,1.7650179903811243e-11]},{\"line\":{\"color\":\"rgba(55, 128, 191, 0.9322033898305084)\",\"dash\":\"solid\",\"shape\":\"linear\",\"width\":1.3},\"mode\":\"lines\",\"name\":\"Leucine\",\"text\":\"\",\"type\":\"scatter\",\"x\":[0.4238386990504271,0.6357580485756407,0.7629096582907687,0.8476773981008542,0.9324451379109396,1.017212877721025,1.1019806175311104,1.1867483573411959,1.2715160971512813,1.6953547962017084],\"y\":[1.4297992848826044,1.3520590764103255,1.0154377835207833,1.015437781438471,1.0000015323645206,1.0,0.9999999955503647,0.6182769891993196,0.1548342837658979,1.7650179903811243e-11]},{\"line\":{\"color\":\"rgba(50, 171, 96, 0.9322033898305084)\",\"dash\":\"solid\",\"shape\":\"linear\",\"width\":1.3},\"mode\":\"lines\",\"name\":\"Lysine\",\"text\":\"\",\"type\":\"scatter\",\"x\":[0.4238386990504271,0.6357580485756407,0.7629096582907687,0.8476773981008542,0.9324451379109396,1.017212877721025,1.1019806175311104,1.1867483573411959,1.2715160971512813,1.6953547962017084],\"y\":[1.4297992848826047,1.3520590764103253,1.0154377835207833,1.015437781438471,1.0000015323645206,1.0,0.9999999955503647,0.6182769891993196,0.1548342837658979,1.7650179903811243e-11]},{\"line\":{\"color\":\"rgba(128, 0, 128, 0.9322033898305084)\",\"dash\":\"solid\",\"shape\":\"linear\",\"width\":1.3},\"mode\":\"lines\",\"name\":\"Methionine\",\"text\":\"\",\"type\":\"scatter\",\"x\":[0.4238386990504271,0.6357580485756407,0.7629096582907687,0.8476773981008542,0.9324451379109396,1.017212877721025,1.1019806175311104,1.1867483573411959,1.2715160971512813,1.6953547962017084],\"y\":[1.4297992848826044,1.3520590764103253,1.015437783520783,1.015437781438471,1.0000015323645204,1.0,0.9999999955503647,0.6182769891993195,0.1548342837658979,1.7650179903811243e-11]},{\"line\":{\"color\":\"rgba(219, 64, 82, 0.9322033898305084)\",\"dash\":\"solid\",\"shape\":\"linear\",\"width\":1.3},\"mode\":\"lines\",\"name\":\"Phenylalanine\",\"text\":\"\",\"type\":\"scatter\",\"x\":[0.4238386990504271,0.6357580485756407,0.7629096582907687,0.8476773981008542,0.9324451379109396,1.017212877721025,1.1019806175311104,1.1867483573411959,1.2715160971512813,1.6953547962017084],\"y\":[1.4297992848826047,1.3520590764103255,1.0154377835207833,1.015437781438471,1.0000015323645206,1.0,0.9999999955503647,0.6182769891993196,0.15483428376589792,1.7650179903811243e-11]},{\"line\":{\"color\":\"rgba(0, 128, 128, 0.9322033898305084)\",\"dash\":\"solid\",\"shape\":\"linear\",\"width\":1.3},\"mode\":\"lines\",\"name\":\"Tyrosine\",\"text\":\"\",\"type\":\"scatter\",\"x\":[0.4238386990504271,0.6357580485756407,0.7629096582907687,0.8476773981008542,0.9324451379109396,1.017212877721025,1.1019806175311104,1.1867483573411959,1.2715160971512813,1.6953547962017084],\"y\":[1.4297992848826047,1.3520590764103253,1.0154377835207833,1.015437781438471,1.0000015323645206,1.0,0.9999999955503646,0.6182769891993196,0.1548342837658979,1.7650179903811243e-11]},{\"line\":{\"color\":\"rgba(255, 255, 51, 0.9322033898305084)\",\"dash\":\"solid\",\"shape\":\"linear\",\"width\":1.3},\"mode\":\"lines\",\"name\":\"Valine\",\"text\":\"\",\"type\":\"scatter\",\"x\":[0.4238386990504271,0.6357580485756407,0.7629096582907687,0.8476773981008542,0.9324451379109396,1.017212877721025,1.1019806175311104,1.1867483573411959,1.2715160971512813,1.6953547962017084],\"y\":[1.4297992848826044,1.3520590764103255,1.015437783520783,1.015437781438471,1.0000015323645204,1.0,0.9999999955503646,0.6182769891993195,0.15483428376589792,1.7650179903811243e-11]},{\"line\":{\"color\":\"rgba(128, 128, 0, 0.9322033898305084)\",\"dash\":\"solid\",\"shape\":\"linear\",\"width\":1.3},\"mode\":\"lines\",\"name\":\"Arginine\",\"text\":\"\",\"type\":\"scatter\",\"x\":[0.4238386990504271,0.6357580485756407,0.7629096582907687,0.8476773981008542,0.9324451379109396,1.017212877721025,1.1019806175311104,1.1867483573411959,1.2715160971512813,1.6953547962017084],\"y\":[1.4297992848826044,1.3520590764103253,1.0154377835207833,1.0154377814384712,1.0000015323645206,1.0,0.9999999955503647,0.6182769891993196,0.15483428376589792,1.7650179903811243e-11]},{\"line\":{\"color\":\"rgba(251, 128, 114, 0.9322033898305084)\",\"dash\":\"solid\",\"shape\":\"linear\",\"width\":1.3},\"mode\":\"lines\",\"name\":\"Histidine\",\"text\":\"\",\"type\":\"scatter\",\"x\":[0.4238386990504271,0.6357580485756407,0.7629096582907687,0.8476773981008542,0.9324451379109396,1.017212877721025,1.1019806175311104,1.1867483573411959,1.2715160971512813,1.6953547962017084],\"y\":[1.4297992848826044,1.3520590764103253,1.0154377835207833,1.015437781438471,1.0000015323645206,1.0,0.9999999955503647,0.6182769891993196,0.15483428376589792,1.7650179903811243e-11]},{\"line\":{\"color\":\"rgba(251, 128, 114, 0.8644067796610169)\",\"dash\":\"solid\",\"shape\":\"linear\",\"width\":1.3},\"mode\":\"lines\",\"name\":\"Alanine\",\"text\":\"\",\"type\":\"scatter\",\"x\":[0.4238386990504271,0.6357580485756407,0.7629096582907687,0.8476773981008542,0.9324451379109396,1.017212877721025,1.1019806175311104,1.1867483573411959,1.2715160971512813,1.6953547962017084],\"y\":[1.4297992848826044,1.3520590764103255,1.0154377835207833,1.0154377814384712,1.0000015323645206,1.0,0.9999999955503648,0.6182769891993196,0.15483428376589792,1.7650179903811243e-11]},{\"line\":{\"color\":\"rgba(128, 177, 211, 0.8644067796610169)\",\"dash\":\"solid\",\"shape\":\"linear\",\"width\":1.3},\"mode\":\"lines\",\"name\":\"Aspartic acid\",\"text\":\"\",\"type\":\"scatter\",\"x\":[0.4238386990504271,0.6357580485756407,0.7629096582907687,0.8476773981008542,0.9324451379109396,1.017212877721025,1.1019806175311104,1.1867483573411959,1.2715160971512813,1.6953547962017084],\"y\":[1.4297992848826047,1.3520590764103255,1.0154377835207833,1.015437781438471,1.0000015323645206,1.0,0.9999999955503647,0.6182769891993196,0.15483428376589792,1.7650179903811243e-11]},{\"line\":{\"color\":\"rgba(255, 153, 51, 0.8644067796610169)\",\"dash\":\"solid\",\"shape\":\"linear\",\"width\":1.3},\"mode\":\"lines\",\"name\":\"Glutamic acid\",\"text\":\"\",\"type\":\"scatter\",\"x\":[0.4238386990504271,0.6357580485756407,0.7629096582907687,0.8476773981008542,0.9324451379109396,1.017212877721025,1.1019806175311104,1.1867483573411959,1.2715160971512813,1.6953547962017084],\"y\":[1.4297992848826044,1.3520590764103253,1.015437783520783,1.015437781438471,1.0000015323645204,1.0,0.9999999955503646,0.6182769891993196,0.1548342837658979,1.765017990381124e-11]},{\"line\":{\"color\":\"rgba(55, 128, 191, 0.8644067796610169)\",\"dash\":\"solid\",\"shape\":\"linear\",\"width\":1.3},\"mode\":\"lines\",\"name\":\"Glycine\",\"text\":\"\",\"type\":\"scatter\",\"x\":[0.4238386990504271,0.6357580485756407,0.7629096582907687,0.8476773981008542,0.9324451379109396,1.017212877721025,1.1019806175311104,1.1867483573411959,1.2715160971512813,1.6953547962017084],\"y\":[1.4297992848826044,1.3520590764103253,1.015437783520783,1.015437781438471,1.0000015323645204,1.0,0.9999999955503647,0.6182769891993196,0.1548342837658979,1.7650179903811243e-11]},{\"line\":{\"color\":\"rgba(50, 171, 96, 0.8644067796610169)\",\"dash\":\"solid\",\"shape\":\"linear\",\"width\":1.3},\"mode\":\"lines\",\"name\":\"Proline\",\"text\":\"\",\"type\":\"scatter\",\"x\":[0.4238386990504271,0.6357580485756407,0.7629096582907687,0.8476773981008542,0.9324451379109396,1.017212877721025,1.1019806175311104,1.1867483573411959,1.2715160971512813,1.6953547962017084],\"y\":[1.4297992848826042,1.3520590764103253,1.015437783520783,1.015437781438471,1.0000015323645206,1.0,0.9999999955503646,0.6182769891993195,0.1548342837658979,1.7650179903811243e-11]},{\"line\":{\"color\":\"rgba(128, 0, 128, 0.8644067796610169)\",\"dash\":\"solid\",\"shape\":\"linear\",\"width\":1.3},\"mode\":\"lines\",\"name\":\"Serine\",\"text\":\"\",\"type\":\"scatter\",\"x\":[0.4238386990504271,0.6357580485756407,0.7629096582907687,0.8476773981008542,0.9324451379109396,1.017212877721025,1.1019806175311104,1.1867483573411959,1.2715160971512813,1.6953547962017084],\"y\":[1.4297992848826044,1.3520590764103253,1.015437783520783,1.015437781438471,1.0000015323645204,1.0,0.9999999955503647,0.6182769891993196,0.1548342837658979,1.7650179903811243e-11]},{\"line\":{\"color\":\"rgba(219, 64, 82, 0.8644067796610169)\",\"dash\":\"solid\",\"shape\":\"linear\",\"width\":1.3},\"mode\":\"lines\",\"name\":\"Fatty acids, total saturated\",\"text\":\"\",\"type\":\"scatter\",\"x\":[0.4238386990504271,0.6357580485756407,0.7629096582907687,0.8476773981008542,0.9324451379109396,1.017212877721025,1.1019806175311104,1.1867483573411959,1.2715160971512813,1.6953547962017084],\"y\":[0.7636103476080747,0.687172079355326,0.9685307842325911,0.9685307851740611,0.9999685698749525,1.0,1.0000000272087288,1.2743621812296546,1.7366152805687014,1.852063801162405]},{\"line\":{\"color\":\"rgba(0, 128, 128, 0.8644067796610169)\",\"dash\":\"solid\",\"shape\":\"linear\",\"width\":1.3},\"mode\":\"lines\",\"name\":\"Fatty acids, total monounsaturated\",\"text\":\"\",\"type\":\"scatter\",\"x\":[0.4238386990504271,0.6357580485756407,0.7629096582907687,0.8476773981008542,0.9324451379109396,1.017212877721025,1.1019806175311104,1.1867483573411959,1.2715160971512813,1.6953547962017084],\"y\":[0.30807600810069086,0.25504282903156755,0.9407965789603369,0.940796581588682,0.9999482094020012,1.0,1.0000000464997592,1.4128428202280476,1.8956885559280923,2.341197371005206]},{\"line\":{\"color\":\"rgba(255, 255, 51, 0.8644067796610169)\",\"dash\":\"solid\",\"shape\":\"linear\",\"width\":1.3},\"mode\":\"lines\",\"name\":\"Fatty acids, total trans\",\"text\":\"\",\"type\":\"scatter\",\"x\":[0.4238386990504271,0.6357580485756407,0.7629096582907687,0.8476773981008542,0.9324451379109396,1.017212877721025,1.1019806175311104,1.1867483573411959,1.2715160971512813,1.6953547962017084],\"y\":[1.4313356360562217,1.353839488206491,1.015593588252084,1.0155935861622545,1.0000015504434774,1.0,0.9999999955899458,0.622208677314907,0.16353936103341588,0.010299845762389619]},{\"line\":{\"color\":\"rgba(128, 128, 0, 0.8644067796610169)\",\"dash\":\"solid\",\"shape\":\"linear\",\"width\":1.3},\"mode\":\"lines\",\"name\":\"Sodium, Na\",\"text\":\"\",\"type\":\"scatter\",\"x\":[0.4238386990504271,0.6357580485756407,0.7629096582907687,0.8476773981008542,0.9324451379109396,1.017212877721025,1.1019806175311104,1.1867483573411959,1.2715160971512813,1.6953547962017084],\"y\":[0.9999999990957766,0.9999999999318047,1.0000000000932094,1.0000000000654752,0.999999943769296,1.0,1.0000000000943252,0.999999999041232,0.9999998091714323,0.9999999999952123]},{\"line\":{\"color\":\"rgba(128, 128, 0, 0.7966101694915255)\",\"dash\":\"solid\",\"shape\":\"linear\",\"width\":1.3},\"mode\":\"lines\",\"name\":\"Cholesterol\",\"text\":\"\",\"type\":\"scatter\",\"x\":[0.4238386990504271,0.6357580485756407,0.7629096582907687,0.8476773981008542,0.9324451379109396,1.017212877721025,1.1019806175311104,1.1867483573411959,1.2715160971512813,1.6953547962017084],\"y\":[1.5497740844647374,1.4910927492449533,1.0276046893105029,1.0276046868643491,1.0000033100861354,1.0,0.9999999982478286,1.2592876187443454,1.8551336973088395,1.7289772827625094]},{\"line\":{\"color\":\"rgba(251, 128, 114, 0.7966101694915255)\",\"dash\":\"solid\",\"shape\":\"linear\",\"width\":1.3},\"mode\":\"lines\",\"name\":\"Fatty acids, total polyunsaturated\",\"text\":\"\",\"type\":\"scatter\",\"x\":[0.4238386990504271,0.6357580485756407,0.7629096582907687,0.8476773981008542,0.9324451379109396,1.017212877721025,1.1019806175311104,1.1867483573411959,1.2715160971512813,1.6953547962017084],\"y\":[0.7183000823439749,0.6528745392828427,0.9674464018522823,0.9674464029001981,0.9999702455209557,1.0,1.0000000261102788,1.1143504789609358,1.224552781490716,1.2917561761129508]},{\"line\":{\"color\":\"rgba(128, 177, 211, 0.7966101694915255)\",\"dash\":\"solid\",\"shape\":\"linear\",\"width\":1.3},\"mode\":\"lines\",\"name\":\"Fiber, total dietary\",\"text\":\"\",\"type\":\"scatter\",\"x\":[0.4238386990504271,0.6357580485756407,0.7629096582907687,0.8476773981008542,0.9324451379109396,1.017212877721025,1.1019806175311104,1.1867483573411959,1.2715160971512813,1.6953547962017084],\"y\":[0.7486735935076592,0.7582042179470603,0.9840464904852096,0.9840464914404153,0.9999889081707539,1.0,1.0000000101555675,1.127461213344331,1.2708419379317812,1.2337308948950518]},{\"line\":{\"color\":\"rgba(255, 153, 51, 0.7966101694915255)\",\"dash\":\"solid\",\"shape\":\"linear\",\"width\":1.3},\"mode\":\"lines\",\"name\":\"Sugars, total including NLEA\",\"text\":\"\",\"type\":\"scatter\",\"x\":[0.4238386990504271,0.6357580485756407,0.7629096582907687,0.8476773981008542,0.9324451379109396,1.017212877721025,1.1019806175311104,1.1867483573411959,1.2715160971512813,1.6953547962017084],\"y\":[0.889903563445815,0.977142530952698,1.0090244239355028,1.0090244237381965,1.0000061819034136,1.0,0.9999999934073568,1.0103602392768196,1.0577074155591228,0.9210664517236903]},{\"line\":{\"color\":\"rgba(55, 128, 191, 0.7966101694915255)\",\"dash\":\"solid\",\"shape\":\"linear\",\"width\":1.3},\"mode\":\"lines\",\"name\":\"Calcium, Ca\",\"text\":\"\",\"type\":\"scatter\",\"x\":[0.4238386990504271,0.6357580485756407,0.7629096582907687,0.8476773981008542,0.9324451379109396,1.017212877721025,1.1019806175311104,1.1867483573411959,1.2715160971512813,1.6953547962017084],\"y\":[1.2850707842166647,1.2709875241339217,1.0174645404033575,1.0174645394286406,1.0000130887150482,1.0,0.9999999874838608,0.9168433103230937,0.9168434483941562,0.9168433105358308]},{\"line\":{\"color\":\"rgba(50, 171, 96, 0.7966101694915255)\",\"dash\":\"solid\",\"shape\":\"linear\",\"width\":1.3},\"mode\":\"lines\",\"name\":\"Iron, Fe\",\"text\":\"\",\"type\":\"scatter\",\"x\":[0.4238386990504271,0.6357580485756407,0.7629096582907687,0.8476773981008542,0.9324451379109396,1.017212877721025,1.1019806175311104,1.1867483573411959,1.2715160971512813,1.6953547962017084],\"y\":[1.1413956939402454,1.2465183690128188,1.0302745774594548,1.0302745771861996,1.0000349232308554,1.0,0.999999969945218,0.9280860545371064,0.8395909949390835,0.9591897653700999]},{\"line\":{\"color\":\"rgba(128, 0, 128, 0.7966101694915255)\",\"dash\":\"solid\",\"shape\":\"linear\",\"width\":1.3},\"mode\":\"lines\",\"name\":\"Magnesium, Mg\",\"text\":\"\",\"type\":\"scatter\",\"x\":[0.4238386990504271,0.6357580485756407,0.7629096582907687,0.8476773981008542,0.9324451379109396,1.017212877721025,1.1019806175311104,1.1867483573411959,1.2715160971512813,1.6953547962017084],\"y\":[1.128430551147921,1.215832092147079,1.0259405365976864,1.0259405360344827,1.000025108802243,1.0,0.999999978002058,0.925955445013332,0.8379372841444885,0.9345689866821895]},{\"line\":{\"color\":\"rgba(219, 64, 82, 0.7966101694915255)\",\"dash\":\"solid\",\"shape\":\"linear\",\"width\":1.3},\"mode\":\"lines\",\"name\":\"Phosphorus, P\",\"text\":\"\",\"type\":\"scatter\",\"x\":[0.4238386990504271,0.6357580485756407,0.7629096582907687,0.8476773981008542,0.9324451379109396,1.017212877721025,1.1019806175311104,1.1867483573411959,1.2715160971512813,1.6953547962017084],\"y\":[1.119805310823646,1.0618287108028546,0.9973040375364605,0.9973040371546149,0.999994405230766,1.0,1.0000000045229438,0.9375167722069051,0.8676864788509763,0.844438142536786]},{\"line\":{\"color\":\"rgba(0, 128, 128, 0.7966101694915255)\",\"dash\":\"solid\",\"shape\":\"linear\",\"width\":1.3},\"mode\":\"lines\",\"name\":\"Potassium, K\",\"text\":\"\",\"type\":\"scatter\",\"x\":[0.4238386990504271,0.6357580485756407,0.7629096582907687,0.8476773981008542,0.9324451379109396,1.017212877721025,1.1019806175311104,1.1867483573411959,1.2715160971512813,1.6953547962017084],\"y\":[1.1179600272396943,1.0746457083887426,1.0000000001237548,0.999999999976047,1.0000000357534715,1.0,0.9999999999363466,1.0000000005592915,1.0456122929353275,1.0638156328063264]},{\"line\":{\"color\":\"rgba(255, 255, 51, 0.7966101694915255)\",\"dash\":\"solid\",\"shape\":\"linear\",\"width\":1.3},\"mode\":\"lines\",\"name\":\"Zinc, Zn\",\"text\":\"\",\"type\":\"scatter\",\"x\":[0.4238386990504271,0.6357580485756407,0.7629096582907687,0.8476773981008542,0.9324451379109396,1.017212877721025,1.1019806175311104,1.1867483573411959,1.2715160971512813,1.6953547962017084],\"y\":[1.0000000001017844,1.0000000000256584,1.000000000009631,1.0000000000175515,0.9999999971185104,1.0,1.0000000000091638,0.999999999501006,0.9999999604275597,0.9999999999610926]},{\"line\":{\"color\":\"rgba(255, 255, 51, 0.728813559322034)\",\"dash\":\"solid\",\"shape\":\"linear\",\"width\":1.3},\"mode\":\"lines\",\"name\":\"Copper, Cu\",\"text\":\"\",\"type\":\"scatter\",\"x\":[0.4238386990504271,0.6357580485756407,0.7629096582907687,0.8476773981008542,0.9324451379109396,1.017212877721025,1.1019806175311104,1.1867483573411959,1.2715160971512813,1.6953547962017084],\"y\":[0.8087805657240846,0.9129012424426408,1.0065363585335116,1.0065363589522305,1.0000091286091448,1.0,0.9999999923237078,1.067220012486971,1.1248260359833733,1.1270977001572449]},{\"line\":{\"color\":\"rgba(128, 128, 0, 0.728813559322034)\",\"dash\":\"solid\",\"shape\":\"linear\",\"width\":1.3},\"mode\":\"lines\",\"name\":\"Vitamin C, total ascorbic acid\",\"text\":\"\",\"type\":\"scatter\",\"x\":[0.4238386990504271,0.6357580485756407,0.7629096582907687,0.8476773981008542,0.9324451379109396,1.017212877721025,1.1019806175311104,1.1867483573411959,1.2715160971512813,1.6953547962017084],\"y\":[2.506537088776168,1.103876146326632,0.8362398591493494,0.8362398586185071,0.9998360057129196,1.0,1.000000142031553,0.6665600153648232,0.5548921459309669,0.5933465335690372]},{\"line\":{\"color\":\"rgba(251, 128, 114, 0.728813559322034)\",\"dash\":\"solid\",\"shape\":\"linear\",\"width\":1.3},\"mode\":\"lines\",\"name\":\"Thiamin\",\"text\":\"\",\"type\":\"scatter\",\"x\":[0.4238386990504271,0.6357580485756407,0.7629096582907687,0.8476773981008542,0.9324451379109396,1.017212877721025,1.1019806175311104,1.1867483573411959,1.2715160971512813,1.6953547962017084],\"y\":[1.0000000100926651,0.9999999999350869,1.0000000000150606,1.0000000000915859,1.000000061739706,1.0,0.9999999999517778,0.9999999998874495,1.00000005108781,0.9999999999432084]},{\"line\":{\"color\":\"rgba(128, 177, 211, 0.728813559322034)\",\"dash\":\"solid\",\"shape\":\"linear\",\"width\":1.3},\"mode\":\"lines\",\"name\":\"Niacin\",\"text\":\"\",\"type\":\"scatter\",\"x\":[0.4238386990504271,0.6357580485756407,0.7629096582907687,0.8476773981008542,0.9324451379109396,1.017212877721025,1.1019806175311104,1.1867483573411959,1.2715160971512813,1.6953547962017084],\"y\":[0.9999999997285738,0.9999999992896693,0.999999999173729,0.9999999995857329,1.000000033000085,1.0,1.0000000033919916,1.2567716003106946,1.5675657201194937,1.5896482906270561]},{\"line\":{\"color\":\"rgba(255, 153, 51, 0.728813559322034)\",\"dash\":\"solid\",\"shape\":\"linear\",\"width\":1.3},\"mode\":\"lines\",\"name\":\"Vitamin B-6\",\"text\":\"\",\"type\":\"scatter\",\"x\":[0.4238386990504271,0.6357580485756407,0.7629096582907687,0.8476773981008542,0.9324451379109396,1.017212877721025,1.1019806175311104,1.1867483573411959,1.2715160971512813,1.6953547962017084],\"y\":[0.893973106543128,0.9396648210349308,1.0013030291357738,1.0013030294037988,1.000003411981322,1.0,0.9999999973205669,1.0415509062183488,1.0760304574707693,1.0893761295822288]},{\"line\":{\"color\":\"rgba(55, 128, 191, 0.728813559322034)\",\"dash\":\"solid\",\"shape\":\"linear\",\"width\":1.3},\"mode\":\"lines\",\"name\":\"Folate, total\",\"text\":\"\",\"type\":\"scatter\",\"x\":[0.4238386990504271,0.6357580485756407,0.7629096582907687,0.8476773981008542,0.9324451379109396,1.017212877721025,1.1019806175311104,1.1867483573411959,1.2715160971512813,1.6953547962017084],\"y\":[1.3073805599158577,1.3239657812566379,1.0249560476918231,1.0249560471931252,1.000029072991307,1.0,0.9999999747005489,0.8799844461685146,0.7716125586521193,0.9203046266808381]},{\"line\":{\"color\":\"rgba(50, 171, 96, 0.728813559322034)\",\"dash\":\"solid\",\"shape\":\"linear\",\"width\":1.3},\"mode\":\"lines\",\"name\":\"Folate, food\",\"text\":\"\",\"type\":\"scatter\",\"x\":[0.4238386990504271,0.6357580485756407,0.7629096582907687,0.8476773981008542,0.9324451379109396,1.017212877721025,1.1019806175311104,1.1867483573411959,1.2715160971512813,1.6953547962017084],\"y\":[1.307380565326421,1.3239657869499,1.024956052131792,1.024956051306634,1.000024159238388,1.0,0.999999978715599,0.8799844489192149,0.7716121280898358,0.920304630441786]},{\"line\":{\"color\":\"rgba(128, 0, 128, 0.728813559322034)\",\"dash\":\"solid\",\"shape\":\"linear\",\"width\":1.3},\"mode\":\"lines\",\"name\":\"Folate, DFE\",\"text\":\"\",\"type\":\"scatter\",\"x\":[0.4238386990504271,0.6357580485756407,0.7629096582907687,0.8476773981008542,0.9324451379109396,1.017212877721025,1.1019806175311104,1.1867483573411959,1.2715160971512813,1.6953547962017084],\"y\":[1.307380565326421,1.3239657869499,1.024956052131792,1.024956051306634,1.000024159238388,1.0,0.999999978715599,0.8799844489192149,0.7716121280898358,0.920304630441786]},{\"line\":{\"color\":\"rgba(219, 64, 82, 0.728813559322034)\",\"dash\":\"solid\",\"shape\":\"linear\",\"width\":1.3},\"mode\":\"lines\",\"name\":\"Choline, total\",\"text\":\"\",\"type\":\"scatter\",\"x\":[0.4238386990504271,0.6357580485756407,0.7629096582907687,0.8476773981008542,0.9324451379109396,1.017212877721025,1.1019806175311104,1.1867483573411959,1.2715160971512813,1.6953547962017084],\"y\":[1.0833925353379614,1.0318143597433926,0.9959599438598377,0.9959599437447489,0.9999965616411226,1.0,1.0000000025542066,0.936933592145564,0.868799411174775,0.876233381923013]},{\"line\":{\"color\":\"rgba(0, 128, 128, 0.728813559322034)\",\"dash\":\"solid\",\"shape\":\"linear\",\"width\":1.3},\"mode\":\"lines\",\"name\":\"Vitamin B-12\",\"text\":\"\",\"type\":\"scatter\",\"x\":[0.4238386990504271,0.6357580485756407,0.7629096582907687,0.8476773981008542,0.9324451379109396,1.017212877721025,1.1019806175311104,1.1867483573411959,1.2715160971512813,1.6953547962017084],\"y\":[1.5789618267833914,1.524917179236452,1.0305646829953834,1.030564680183221,1.0000032876293343,1.0,0.9999999993932511,0.999999998465039,1.0000000733089798,0.9999999992717287]},{\"line\":{\"color\":\"rgba(0, 128, 128, 0.6610169491525424)\",\"dash\":\"solid\",\"shape\":\"linear\",\"width\":1.3},\"mode\":\"lines\",\"name\":\"Vitamin A, RAE\",\"text\":\"\",\"type\":\"scatter\",\"x\":[0.4238386990504271,0.6357580485756407,0.7629096582907687,0.8476773981008542,0.9324451379109396,1.017212877721025,1.1019806175311104,1.1867483573411959,1.2715160971512813,1.6953547962017084],\"y\":[0.9389219545898754,1.38525361227206,1.0817200736432002,1.0817200719445967,1.0000726451970359,1.0,0.9999999349509674,0.7447926373664273,0.30965263438119084,0.3096524628349359]},{\"line\":{\"color\":\"rgba(255, 255, 51, 0.6610169491525424)\",\"dash\":\"solid\",\"shape\":\"linear\",\"width\":1.3},\"mode\":\"lines\",\"name\":\"Retinol\",\"text\":\"\",\"type\":\"scatter\",\"x\":[0.4238386990504271,0.6357580485756407,0.7629096582907687,0.8476773981008542,0.9324451379109396,1.017212877721025,1.1019806175311104,1.1867483573411959,1.2715160971512813,1.6953547962017084],\"y\":[1.4297992848826047,1.3520590764103255,1.0154377835207833,1.015437781438471,1.0000015323645206,1.0,0.9999999955503646,0.6182769891993196,0.1548342837658979,1.765017990381124e-11]},{\"line\":{\"color\":\"rgba(128, 128, 0, 0.6610169491525424)\",\"dash\":\"solid\",\"shape\":\"linear\",\"width\":1.3},\"mode\":\"lines\",\"name\":\"Carotene, beta\",\"text\":\"\",\"type\":\"scatter\",\"x\":[0.4238386990504271,0.6357580485756407,0.7629096582907687,0.8476773981008542,0.9324451379109396,1.017212877721025,1.1019806175311104,1.1867483573411959,1.2715160971512813,1.6953547962017084],\"y\":[0.8888466825965113,1.3914274676154426,1.0890190448917412,1.0890190432216216,1.0000803897928887,1.0,0.9999999283347883,0.7563269551430306,0.32178652770734945,0.338072490663899]},{\"line\":{\"color\":\"rgba(251, 128, 114, 0.6610169491525424)\",\"dash\":\"solid\",\"shape\":\"linear\",\"width\":1.3},\"mode\":\"lines\",\"name\":\"Carotene, alpha\",\"text\":\"\",\"type\":\"scatter\",\"x\":[0.4238386990504271,0.6357580485756407,0.7629096582907687,0.8476773981008542,0.9324451379109396,1.017212877721025,1.1019806175311104,1.1867483573411959,1.2715160971512813,1.6953547962017084],\"y\":[1.3562817141373245,1.626805421559321e-08,0.7637569030311496,0.7637569063654741,0.9997756709243327,1.0,1.0000001973396662,1.3506888138914652,2.033876241660961,1.7699211470739926]},{\"line\":{\"color\":\"rgba(128, 177, 211, 0.6610169491525424)\",\"dash\":\"solid\",\"shape\":\"linear\",\"width\":1.3},\"mode\":\"lines\",\"name\":\"Cryptoxanthin, beta\",\"text\":\"\",\"type\":\"scatter\",\"x\":[0.4238386990504271,0.6357580485756407,0.7629096582907687,0.8476773981008542,0.9324451379109396,1.017212877721025,1.1019806175311104,1.1867483573411959,1.2715160971512813,1.6953547962017084],\"y\":[0.058479631148890376,1.606497412085244e-08,0.922078262429836,0.9220782663204005,0.9999346997639967,1.0,1.000000059261184,1.6306769686083233,2.3966895853914223,2.136813179665097]},{\"line\":{\"color\":\"rgba(255, 153, 51, 0.6610169491525424)\",\"dash\":\"solid\",\"shape\":\"linear\",\"width\":1.3},\"mode\":\"lines\",\"name\":\"Lutein + zeaxanthin\",\"text\":\"\",\"type\":\"scatter\",\"x\":[0.4238386990504271,0.6357580485756407,0.7629096582907687,0.8476773981008542,0.9324451379109396,1.017212877721025,1.1019806175311104,1.1867483573411959,1.2715160971512813,1.6953547962017084],\"y\":[1.6873626978647553,1.8561542570586715,1.0811963895146102,1.0811963870341947,1.0000756793457404,1.0,0.9999999331308738,0.6531258820727381,0.27524769109795694,0.6073712742028486]},{\"line\":{\"color\":\"rgba(55, 128, 191, 0.6610169491525424)\",\"dash\":\"solid\",\"shape\":\"linear\",\"width\":1.3},\"mode\":\"lines\",\"name\":\"Vitamin E (alpha-tocopherol)\",\"text\":\"\",\"type\":\"scatter\",\"x\":[0.4238386990504271,0.6357580485756407,0.7629096582907687,0.8476773981008542,0.9324451379109396,1.017212877721025,1.1019806175311104,1.1867483573411959,1.2715160971512813,1.6953547962017084],\"y\":[1.000000000179791,1.0000000000092621,0.9999999999519619,0.9999999999777776,1.0000000188929954,1.0,0.9999999999532622,0.999999999990792,1.0000000300452736,0.9999999999493667]},{\"line\":{\"color\":\"rgba(50, 171, 96, 0.6610169491525424)\",\"dash\":\"solid\",\"shape\":\"linear\",\"width\":1.3},\"mode\":\"lines\",\"name\":\"Vitamin D (D2 + D3)\",\"text\":\"\",\"type\":\"scatter\",\"x\":[0.4238386990504271,0.6357580485756407,0.7629096582907687,0.8476773981008542,0.9324451379109396,1.017212877721025,1.1019806175311104,1.1867483573411959,1.2715160971512813,1.6953547962017084],\"y\":[1.8590076065932302,1.849450279742273,1.0589647377644094,1.058964733581986,1.000006583057914,1.0,1.0000000066080927,1.7166673094329594,2.5867597891538456,2.87745378915964]},{\"line\":{\"color\":\"rgba(128, 0, 128, 0.6610169491525424)\",\"dash\":\"solid\",\"shape\":\"linear\",\"width\":1.3},\"mode\":\"lines\",\"name\":\"Vitamin K (phylloquinone)\",\"text\":\"\",\"type\":\"scatter\",\"x\":[0.4238386990504271,0.6357580485756407,0.7629096582907687,0.8476773981008542,0.9324451379109396,1.017212877721025,1.1019806175311104,1.1867483573411959,1.2715160971512813,1.6953547962017084],\"y\":[1.7330414136934604,1.7819692956350628,1.061322607767481,1.0613226054897085,1.0000564026406729,1.0,0.9999999499695655,0.663101589724847,0.31554056782173223,0.6207645141151841]},{\"line\":{\"color\":\"rgba(219, 64, 82, 0.6610169491525424)\",\"dash\":\"solid\",\"shape\":\"linear\",\"width\":1.3},\"mode\":\"lines\",\"name\":\"SFA 4:0\",\"text\":\"\",\"type\":\"scatter\",\"x\":[0.4238386990504271,0.6357580485756407,0.7629096582907687,0.8476773981008542,0.9324451379109396,1.017212877721025,1.1019806175311104,1.1867483573411959,1.2715160971512813,1.6953547962017084],\"y\":[1.4307812058735225,1.3531969827335373,1.0155373622751562,1.0155373601880395,1.0000015439192402,1.0,0.999999995575662,0.6207898307662311,0.16039791937429554,0.006582892596933909]},{\"line\":{\"color\":\"rgba(219, 64, 82, 0.5932203389830508)\",\"dash\":\"solid\",\"shape\":\"linear\",\"width\":1.3},\"mode\":\"lines\",\"name\":\"SFA 6:0\",\"text\":\"\",\"type\":\"scatter\",\"x\":[0.4238386990504271,0.6357580485756407,0.7629096582907687,0.8476773981008542,0.9324451379109396,1.017212877721025,1.1019806175311104,1.1867483573411959,1.2715160971512813,1.6953547962017084],\"y\":[1.4297992848826044,1.3520590764103255,1.0154377835207833,1.015437781438471,1.0000015323645206,1.0,0.9999999955503647,0.6182769891993196,0.15483428376589792,1.7650179903811243e-11]},{\"line\":{\"color\":\"rgba(0, 128, 128, 0.5932203389830508)\",\"dash\":\"solid\",\"shape\":\"linear\",\"width\":1.3},\"mode\":\"lines\",\"name\":\"SFA 8:0\",\"text\":\"\",\"type\":\"scatter\",\"x\":[0.4238386990504271,0.6357580485756407,0.7629096582907687,0.8476773981008542,0.9324451379109396,1.017212877721025,1.1019806175311104,1.1867483573411959,1.2715160971512813,1.6953547962017084],\"y\":[1.3694774196020767,1.3007104496064341,1.0128975945744312,1.012897592733976,1.000000193562637,1.0,0.9999999969879475,0.6616025841879207,0.24966935474147312,0.0964993100658289]},{\"line\":{\"color\":\"rgba(255, 255, 51, 0.5932203389830508)\",\"dash\":\"solid\",\"shape\":\"linear\",\"width\":1.3},\"mode\":\"lines\",\"name\":\"SFA 10:0\",\"text\":\"\",\"type\":\"scatter\",\"x\":[0.4238386990504271,0.6357580485756407,0.7629096582907687,0.8476773981008542,0.9324451379109396,1.017212877721025,1.1019806175311104,1.1867483573411959,1.2715160971512813,1.6953547962017084],\"y\":[1.4013774489796171,1.333730959522248,1.015371730231486,1.0153717282633723,1.0000020620357106,1.0,0.9999999952973436,0.6431025363052115,0.20867142937222632,0.06186774312664779]},{\"line\":{\"color\":\"rgba(128, 128, 0, 0.5932203389830508)\",\"dash\":\"solid\",\"shape\":\"linear\",\"width\":1.3},\"mode\":\"lines\",\"name\":\"SFA 12:0\",\"text\":\"\",\"type\":\"scatter\",\"x\":[0.4238386990504271,0.6357580485756407,0.7629096582907687,0.8476773981008542,0.9324451379109396,1.017212877721025,1.1019806175311104,1.1867483573411959,1.2715160971512813,1.6953547962017084],\"y\":[1.3789174066392458,1.3180846035181693,1.0150953751288687,1.015095373252979,1.0000024118236632,1.0,0.9999999950592544,0.6549554797204101,0.23411275116142372,0.09066775424869197]},{\"line\":{\"color\":\"rgba(251, 128, 114, 0.5932203389830508)\",\"dash\":\"solid\",\"shape\":\"linear\",\"width\":1.3},\"mode\":\"lines\",\"name\":\"SFA 14:0\",\"text\":\"\",\"type\":\"scatter\",\"x\":[0.4238386990504271,0.6357580485756407,0.7629096582907687,0.8476773981008542,0.9324451379109396,1.017212877721025,1.1019806175311104,1.1867483573411959,1.2715160971512813,1.6953547962017084],\"y\":[1.4228281183323572,1.361049708184988,1.018021418965588,1.0180214169564,1.0000050417458193,1.0,0.9999999928116367,0.6424205333186327,0.20999668700477672,0.08790421546492283]},{\"line\":{\"color\":\"rgba(128, 177, 211, 0.5932203389830508)\",\"dash\":\"solid\",\"shape\":\"linear\",\"width\":1.3},\"mode\":\"lines\",\"name\":\"SFA 16:0\",\"text\":\"\",\"type\":\"scatter\",\"x\":[0.4238386990504271,0.6357580485756407,0.7629096582907687,0.8476773981008542,0.9324451379109396,1.017212877721025,1.1019806175311104,1.1867483573411959,1.2715160971512813,1.6953547962017084],\"y\":[0.5879129474082277,0.5230618484497725,0.9583273392273701,0.95832734068365,0.9999611407120661,1.0,1.0000000344407336,1.231839856770008,1.501548759910861,1.311337524816632]},{\"line\":{\"color\":\"rgba(255, 153, 51, 0.5932203389830508)\",\"dash\":\"solid\",\"shape\":\"linear\",\"width\":1.3},\"mode\":\"lines\",\"name\":\"SFA 18:0\",\"text\":\"\",\"type\":\"scatter\",\"x\":[0.4238386990504271,0.6357580485756407,0.7629096582907687,0.8476773981008542,0.9324451379109396,1.017212877721025,1.1019806175311104,1.1867483573411959,1.2715160971512813,1.6953547962017084],\"y\":[1.110697846565179,0.9845360057439896,0.9835146210900201,0.9835146206067621,0.999977724136689,1.0,1.000000018159254,0.8688520128724782,0.6970324963415727,0.5538518925117378]},{\"line\":{\"color\":\"rgba(55, 128, 191, 0.5932203389830508)\",\"dash\":\"solid\",\"shape\":\"linear\",\"width\":1.3},\"mode\":\"lines\",\"name\":\"MUFA 16:1\",\"text\":\"\",\"type\":\"scatter\",\"x\":[0.4238386990504271,0.6357580485756407,0.7629096582907687,0.8476773981008542,0.9324451379109396,1.017212877721025,1.1019806175311104,1.1867483573411959,1.2715160971512813,1.6953547962017084],\"y\":[0.13174192281875766,0.12352782372563945,0.9369544996095266,0.9369545027181182,0.9999464171266039,1.0,1.0000000488324836,1.5486098763095184,2.2030468905561644,1.95846869639383]},{\"line\":{\"color\":\"rgba(50, 171, 96, 0.5932203389830508)\",\"dash\":\"solid\",\"shape\":\"linear\",\"width\":1.3},\"mode\":\"lines\",\"name\":\"MUFA 18:1\",\"text\":\"\",\"type\":\"scatter\",\"x\":[0.4238386990504271,0.6357580485756407,0.7629096582907687,0.8476773981008542,0.9324451379109396,1.017212877721025,1.1019806175311104,1.1867483573411959,1.2715160971512813,1.6953547962017084],\"y\":[0.31256271553593484,0.2574881910826866,0.9407206534422519,0.9407206559283766,0.9999477561997467,1.0,1.0000000469524908,1.4070662369194396,1.8823454835249538,1.648289385810615]},{\"line\":{\"color\":\"rgba(128, 0, 128, 0.5932203389830508)\",\"dash\":\"solid\",\"shape\":\"linear\",\"width\":1.3},\"mode\":\"lines\",\"name\":\"MUFA 20:1\",\"text\":\"\",\"type\":\"scatter\",\"x\":[0.4238386990504271,0.6357580485756407,0.7629096582907687,0.8476773981008542,0.9324451379109396,1.017212877721025,1.1019806175311104,1.1867483573411959,1.2715160971512813,1.6953547962017084],\"y\":[0.6097746343600344,0.48851089761653177,0.9489996737029941,0.9489996751135,0.9999503135034594,1.0,1.0000000437401557,1.2007469946516547,1.4174110097500763,1.187241793097453]},{\"line\":{\"color\":\"rgba(128, 0, 128, 0.5254237288135595)\",\"dash\":\"solid\",\"shape\":\"linear\",\"width\":1.3},\"mode\":\"lines\",\"name\":\"PUFA 18:2\",\"text\":\"\",\"type\":\"scatter\",\"x\":[0.4238386990504271,0.6357580485756407,0.7629096582907687,0.8476773981008542,0.9324451379109396,1.017212877721025,1.1019806175311104,1.1867483573411959,1.2715160971512813,1.6953547962017084],\"y\":[0.6675762481904534,0.6140337366431398,0.9661465845828616,0.9661465857349757,0.9999695774175055,1.0,1.0000000267168352,1.1298150969750502,1.254423613656671,1.112052890126317]},{\"line\":{\"color\":\"rgba(219, 64, 82, 0.5254237288135595)\",\"dash\":\"solid\",\"shape\":\"linear\",\"width\":1.3},\"mode\":\"lines\",\"name\":\"PUFA 18:3\",\"text\":\"\",\"type\":\"scatter\",\"x\":[0.4238386990504271,0.6357580485756407,0.7629096582907687,0.8476773981008542,0.9324451379109396,1.017212877721025,1.1019806175311104,1.1867483573411959,1.2715160971512813,1.6953547962017084],\"y\":[1.1132992809646045,0.9370033855884404,0.9740339428382604,0.9740339428486713,0.9999731489991562,1.0,1.00000002293414,0.9357566627900863,0.8652059904000556,0.8063537224897155]},{\"line\":{\"color\":\"rgba(0, 128, 128, 0.5254237288135595)\",\"dash\":\"solid\",\"shape\":\"linear\",\"width\":1.3},\"mode\":\"lines\",\"name\":\"PUFA 18:4\",\"text\":\"\",\"type\":\"scatter\",\"x\":[0.4238386990504271,0.6357580485756407,0.7629096582907687,0.8476773981008542,0.9324451379109396,1.017212877721025,1.1019806175311104,1.1867483573411959,1.2715160971512813,1.6953547962017084],\"y\":[1.8590076065932304,1.8494502797422732,1.0589647377644094,1.058964733581986,1.000006583057914,1.0,1.000000006608093,1.7166673094329596,2.5867597891538456,2.87745378915964]},{\"line\":{\"color\":\"rgba(255, 255, 51, 0.5254237288135595)\",\"dash\":\"solid\",\"shape\":\"linear\",\"width\":1.3},\"mode\":\"lines\",\"name\":\"PUFA 20:4\",\"text\":\"\",\"type\":\"scatter\",\"x\":[0.4238386990504271,0.6357580485756407,0.7629096582907687,0.8476773981008542,0.9324451379109396,1.017212877721025,1.1019806175311104,1.1867483573411959,1.2715160971512813,1.6953547962017084],\"y\":[1.425833770790492,1.4364636710027865,1.0321930342232175,1.0321930320088009,1.000006750160053,1.0,0.999999998367686,1.2024891824073327,1.441451670902072,1.5111622675308123]},{\"line\":{\"color\":\"rgba(128, 128, 0, 0.5254237288135595)\",\"dash\":\"solid\",\"shape\":\"linear\",\"width\":1.3},\"mode\":\"lines\",\"name\":\"PUFA 2:5 n-3 (EPA)\",\"text\":\"\",\"type\":\"scatter\",\"x\":[0.4238386990504271,0.6357580485756407,0.7629096582907687,0.8476773981008542,0.9324451379109396,1.017212877721025,1.1019806175311104,1.1867483573411959,1.2715160971512813,1.6953547962017084],\"y\":[1.8590076065932304,1.8494502797422732,1.0589647377644094,1.058964733581986,1.000006583057914,1.0,1.000000006608093,1.7166673094329596,2.586759789153846,2.87745378915964]},{\"line\":{\"color\":\"rgba(251, 128, 114, 0.5254237288135595)\",\"dash\":\"solid\",\"shape\":\"linear\",\"width\":1.3},\"mode\":\"lines\",\"name\":\"PUFA 22:5 n-3 (DPA)\",\"text\":\"\",\"type\":\"scatter\",\"x\":[0.4238386990504271,0.6357580485756407,0.7629096582907687,0.8476773981008542,0.9324451379109396,1.017212877721025,1.1019806175311104,1.1867483573411959,1.2715160971512813,1.6953547962017084],\"y\":[1.8590076065932304,1.8494502797422732,1.0589647377644094,1.058964733581986,1.000006583057914,1.0,1.000000006608093,1.7166673094329596,2.5867597891538456,2.87745378915964]},{\"line\":{\"color\":\"rgba(128, 177, 211, 0.5254237288135595)\",\"dash\":\"solid\",\"shape\":\"linear\",\"width\":1.3},\"mode\":\"lines\",\"name\":\"PUFA 22:6 n-3 (DHA)\",\"text\":\"\",\"type\":\"scatter\",\"x\":[0.4238386990504271,0.6357580485756407,0.7629096582907687,0.8476773981008542,0.9324451379109396,1.017212877721025,1.1019806175311104,1.1867483573411959,1.2715160971512813,1.6953547962017084],\"y\":[1.85900760659323,1.849450279742273,1.0589647377644091,1.058964733581986,1.000006583057914,1.0,1.000000006608093,1.7166673094329592,2.5867597891538456,2.87745378915964]},{\"line\":{\"color\":\"rgba(255, 153, 51, 0.5254237288135595)\",\"dash\":\"solid\",\"shape\":\"linear\",\"width\":1.3},\"mode\":\"lines\",\"name\":\"Total fat (NLEA)\",\"text\":\"\",\"type\":\"scatter\",\"x\":[0.4238386990504271,0.6357580485756407,0.7629096582907687,0.8476773981008542,0.9324451379109396,1.017212877721025,1.1019806175311104,1.1867483573411959,1.2715160971512813,1.6953547962017084],\"y\":[1.8590076065932302,1.849450279742273,1.0589647377644094,1.058964733581986,1.000006583057914,1.0,1.0000000066080927,1.7166673094329594,2.5867597891538456,2.87745378915964]},{\"line\":{\"color\":\"rgba(55, 128, 191, 0.5254237288135595)\",\"dash\":\"solid\",\"shape\":\"linear\",\"width\":1.3},\"mode\":\"lines\",\"name\":\"Lactose\",\"text\":\"\",\"type\":\"scatter\",\"x\":[0.4238386990504271,0.6357580485756407,0.7629096582907687,0.8476773981008542,0.9324451379109396,1.017212877721025,1.1019806175311104,1.1867483573411959,1.2715160971512813,1.6953547962017084],\"y\":[1.4297992848826044,1.3520590764103253,1.0154377835207833,1.015437781438471,1.0000015323645204,1.0,0.9999999955503646,0.6182769891993196,0.1548342837658979,1.7650179903811243e-11]},{\"line\":{\"color\":\"rgba(50, 171, 96, 0.5254237288135595)\",\"dash\":\"solid\",\"shape\":\"linear\",\"width\":1.3},\"mode\":\"lines\",\"name\":\"Galactose\",\"text\":\"\",\"type\":\"scatter\",\"x\":[0.4238386990504271,0.6357580485756407,0.7629096582907687,0.8476773981008542,0.9324451379109396,1.017212877721025,1.1019806175311104,1.1867483573411959,1.2715160971512813,1.6953547962017084],\"y\":[1.4297992848826044,1.3520590764103255,1.0154377835207833,1.015437781438471,1.0000015323645206,1.0,0.9999999955503646,0.6182769891993196,0.15483428376589792,1.7650179903811243e-11]},{\"line\":{\"color\":\"rgba(50, 171, 96, 0.45762711864406797)\",\"dash\":\"solid\",\"shape\":\"linear\",\"width\":1.3},\"mode\":\"lines\",\"name\":\"Manganese, Mn\",\"text\":\"\",\"type\":\"scatter\",\"x\":[0.4238386990504271,0.6357580485756407,0.7629096582907687,0.8476773981008542,0.9324451379109396,1.017212877721025,1.1019806175311104,1.1867483573411959,1.2715160971512813,1.6953547962017084],\"y\":[1.5269368401439227,1.4646276428994094,1.0252887153627983,1.0252887128051933,1.000002675427187,1.0,0.9999999980529273,0.8668624546557105,0.7052227227167612,0.6512194948789728]},{\"line\":{\"color\":\"rgba(128, 0, 128, 0.45762711864406797)\",\"dash\":\"solid\",\"shape\":\"linear\",\"width\":1.3},\"mode\":\"lines\",\"name\":\"Pantothenic acid\",\"text\":\"\",\"type\":\"scatter\",\"x\":[0.4238386990504271,0.6357580485756407,0.7629096582907687,0.8476773981008542,0.9324451379109396,1.017212877721025,1.1019806175311104,1.1867483573411959,1.2715160971512813,1.6953547962017084],\"y\":[1.4438869545894697,1.3683846755033575,1.0168664449043419,1.016866442753099,1.000001698140664,1.0,0.9999999959133063,0.6543288531962673,0.2346560428945701,0.09444509003044532]},{\"line\":{\"color\":\"rgba(219, 64, 82, 0.45762711864406797)\",\"dash\":\"solid\",\"shape\":\"linear\",\"width\":1.3},\"mode\":\"lines\",\"name\":\"Vitamin D (D2 + D3), International Units\",\"text\":\"\",\"type\":\"scatter\",\"x\":[0.4238386990504271,0.6357580485756407,0.7629096582907687,0.8476773981008542,0.9324451379109396,1.017212877721025,1.1019806175311104,1.1867483573411959,1.2715160971512813,1.6953547962017084],\"y\":[1.8590076065932302,1.8494502797422732,1.0589647377644094,1.0589647335819863,1.000006583057914,1.0,1.0000000066080927,1.7166673094329594,2.5867597891538456,2.87745378915964]},{\"line\":{\"color\":\"rgba(0, 128, 128, 0.45762711864406797)\",\"dash\":\"solid\",\"shape\":\"linear\",\"width\":1.3},\"mode\":\"lines\",\"name\":\"Vitamin D3 (cholecalciferol)\",\"text\":\"\",\"type\":\"scatter\",\"x\":[0.4238386990504271,0.6357580485756407,0.7629096582907687,0.8476773981008542,0.9324451379109396,1.017212877721025,1.1019806175311104,1.1867483573411959,1.2715160971512813,1.6953547962017084],\"y\":[1.8590076065932302,1.849450279742273,1.0589647377644094,1.058964733581986,1.000006583057914,1.0,1.0000000066080927,1.7166673094329594,2.5867597891538456,2.87745378915964]},{\"line\":{\"color\":\"rgba(255, 255, 51, 0.45762711864406797)\",\"dash\":\"solid\",\"shape\":\"linear\",\"width\":1.3},\"mode\":\"lines\",\"name\":\"SFA 15:0\",\"text\":\"\",\"type\":\"scatter\",\"x\":[0.4238386990504271,0.6357580485756407,0.7629096582907687,0.8476773981008542,0.9324451379109396,1.017212877721025,1.1019806175311104,1.1867483573411959,1.2715160971512813,1.6953547962017084],\"y\":[1.4405371146042976,1.3645026889320027,1.0165267303079963,1.016526728173144,1.0000016587215432,1.0,0.9999999958270043,0.645756251902377,0.21567560638662708,0.0719874412133459]},{\"line\":{\"color\":\"rgba(128, 128, 0, 0.45762711864406797)\",\"dash\":\"solid\",\"shape\":\"linear\",\"width\":1.3},\"mode\":\"lines\",\"name\":\"SFA 17:0\",\"text\":\"\",\"type\":\"scatter\",\"x\":[0.4238386990504271,0.6357580485756407,0.7629096582907687,0.8476773981008542,0.9324451379109396,1.017212877721025,1.1019806175311104,1.1867483573411959,1.2715160971512813,1.6953547962017084],\"y\":[1.4551860440134237,1.3814787079366913,1.0180123102649925,1.018012308058463,1.00000183110229,1.0,0.9999999962044058,0.6832444399240857,0.2986775037279836,0.17019527014631358]},{\"line\":{\"color\":\"rgba(251, 128, 114, 0.45762711864406797)\",\"dash\":\"solid\",\"shape\":\"linear\",\"width\":1.3},\"mode\":\"lines\",\"name\":\"SFA 20:0\",\"text\":\"\",\"type\":\"scatter\",\"x\":[0.4238386990504271,0.6357580485756407,0.7629096582907687,0.8476773981008542,0.9324451379109396,1.017212877721025,1.1019806175311104,1.1867483573411959,1.2715160971512813,1.6953547962017084],\"y\":[1.4585696232735736,1.385399793513661,1.0183554464349744,1.0183554442118896,1.0000018709184364,1.0,0.9999999962915772,0.6919033836563038,0.31784910941695305,0.19287911030154947]},{\"line\":{\"color\":\"rgba(128, 177, 211, 0.45762711864406797)\",\"dash\":\"solid\",\"shape\":\"linear\",\"width\":1.3},\"mode\":\"lines\",\"name\":\"SFA 21:0\",\"text\":\"\",\"type\":\"scatter\",\"x\":[0.4238386990504271,0.6357580485756407,0.7629096582907687,0.8476773981008542,0.9324451379109396,1.017212877721025,1.1019806175311104,1.1867483573411959,1.2715160971512813,1.6953547962017084],\"y\":[1.8590076065932304,1.8494502797422732,1.0589647377644094,1.058964733581986,1.000006583057914,1.0,1.000000006608093,1.7166673094329596,2.5867597891538456,2.87745378915964]},{\"line\":{\"color\":\"rgba(255, 153, 51, 0.45762711864406797)\",\"dash\":\"solid\",\"shape\":\"linear\",\"width\":1.3},\"mode\":\"lines\",\"name\":\"SFA 22:0\",\"text\":\"\",\"type\":\"scatter\",\"x\":[0.4238386990504271,0.6357580485756407,0.7629096582907687,0.8476773981008542,0.9324451379109396,1.017212877721025,1.1019806175311104,1.1867483573411959,1.2715160971512813,1.6953547962017084],\"y\":[1.8590076065932304,1.8494502797422732,1.0589647377644094,1.058964733581986,1.000006583057914,1.0,1.000000006608093,1.7166673094329596,2.5867597891538456,2.87745378915964]},{\"line\":{\"color\":\"rgba(55, 128, 191, 0.45762711864406797)\",\"dash\":\"solid\",\"shape\":\"linear\",\"width\":1.3},\"mode\":\"lines\",\"name\":\"SFA 24:0\",\"text\":\"\",\"type\":\"scatter\",\"x\":[0.4238386990504271,0.6357580485756407,0.7629096582907687,0.8476773981008542,0.9324451379109396,1.017212877721025,1.1019806175311104,1.1867483573411959,1.2715160971512813,1.6953547962017084],\"y\":[1.8590076065932304,1.8494502797422732,1.0589647377644094,1.058964733581986,1.000006583057914,1.0,1.000000006608093,1.7166673094329596,2.5867597891538456,2.87745378915964]},{\"line\":{\"color\":\"rgba(55, 128, 191, 0.3898305084745764)\",\"dash\":\"solid\",\"shape\":\"linear\",\"width\":1.3},\"mode\":\"lines\",\"name\":\"MUFA 16:1 c\",\"text\":\"\",\"type\":\"scatter\",\"x\":[0.4238386990504271,0.6357580485756407,0.7629096582907687,0.8476773981008542,0.9324451379109396,1.017212877721025,1.1019806175311104,1.1867483573411959,1.2715160971512813,1.6953547962017084],\"y\":[1.4564941656466297,1.3829946342604205,1.0181449697396425,1.0181449675267127,1.0000018464955638,1.0,0.9999999962381069,0.6865920640658435,0.30608941585323035,0.17896504314401765]},{\"line\":{\"color\":\"rgba(50, 171, 96, 0.3898305084745764)\",\"dash\":\"solid\",\"shape\":\"linear\",\"width\":1.3},\"mode\":\"lines\",\"name\":\"MUFA 17:1\",\"text\":\"\",\"type\":\"scatter\",\"x\":[0.4238386990504271,0.6357580485756407,0.7629096582907687,0.8476773981008542,0.9324451379109396,1.017212877721025,1.1019806175311104,1.1867483573411959,1.2715160971512813,1.6953547962017084],\"y\":[1.4715553145888032,1.4004483568864232,1.0196723537806827,1.0196723514940587,1.0000020237270888,1.0,0.9999999966261285,0.7251351662679342,0.39142697899025836,0.27993643139614804]},{\"line\":{\"color\":\"rgba(128, 0, 128, 0.3898305084745764)\",\"dash\":\"solid\",\"shape\":\"linear\",\"width\":1.3},\"mode\":\"lines\",\"name\":\"MUFA 17:1 c\",\"text\":\"\",\"type\":\"scatter\",\"x\":[0.4238386990504271,0.6357580485756407,0.7629096582907687,0.8476773981008542,0.9324451379109396,1.017212877721025,1.1019806175311104,1.1867483573411959,1.2715160971512813,1.6953547962017084],\"y\":[1.8590076065932302,1.8494502797422732,1.0589647377644094,1.0589647335819863,1.000006583057914,1.0,1.000000006608093,1.7166673094329594,2.5867597891538456,2.87745378915964]},{\"line\":{\"color\":\"rgba(219, 64, 82, 0.3898305084745764)\",\"dash\":\"solid\",\"shape\":\"linear\",\"width\":1.3},\"mode\":\"lines\",\"name\":\"MUFA 18:1 c\",\"text\":\"\",\"type\":\"scatter\",\"x\":[0.4238386990504271,0.6357580485756407,0.7629096582907687,0.8476773981008542,0.9324451379109396,1.017212877721025,1.1019806175311104,1.1867483573411959,1.2715160971512813,1.6953547962017084],\"y\":[1.4399923380076445,1.363871370587856,1.0164714833223345,1.0164714811901479,1.000001652310904,1.0,0.999999995812969,0.6443621099200676,0.21258886264676166,0.06833520661540773]},{\"line\":{\"color\":\"rgba(0, 128, 128, 0.3898305084745764)\",\"dash\":\"solid\",\"shape\":\"linear\",\"width\":1.3},\"mode\":\"lines\",\"name\":\"MUFA 20:1 c\",\"text\":\"\",\"type\":\"scatter\",\"x\":[0.4238386990504271,0.6357580485756407,0.7629096582907687,0.8476773981008542,0.9324451379109396,1.017212877721025,1.1019806175311104,1.1867483573411959,1.2715160971512813,1.6953547962017084],\"y\":[1.8590076065932302,1.8494502797422732,1.0589647377644094,1.0589647335819863,1.000006583057914,1.0,1.000000006608093,1.7166673094329594,2.5867597891538456,2.87745378915964]},{\"line\":{\"color\":\"rgba(255, 255, 51, 0.3898305084745764)\",\"dash\":\"solid\",\"shape\":\"linear\",\"width\":1.3},\"mode\":\"lines\",\"name\":\"MUFA 24:1 c\",\"text\":\"\",\"type\":\"scatter\",\"x\":[0.4238386990504271,0.6357580485756407,0.7629096582907687,0.8476773981008542,0.9324451379109396,1.017212877721025,1.1019806175311104,1.1867483573411959,1.2715160971512813,1.6953547962017084],\"y\":[1.8590076065932302,1.8494502797422732,1.0589647377644094,1.0589647335819863,1.000006583057914,1.0,1.000000006608093,1.7166673094329594,2.5867597891538456,2.87745378915964]},{\"line\":{\"color\":\"rgba(128, 128, 0, 0.3898305084745764)\",\"dash\":\"solid\",\"shape\":\"linear\",\"width\":1.3},\"mode\":\"lines\",\"name\":\"PUFA 18:2 c\",\"text\":\"\",\"type\":\"scatter\",\"x\":[0.4238386990504271,0.6357580485756407,0.7629096582907687,0.8476773981008542,0.9324451379109396,1.017212877721025,1.1019806175311104,1.1867483573411959,1.2715160971512813,1.6953547962017084],\"y\":[1.8590076065932302,1.8494502797422732,1.0589647377644094,1.0589647335819863,1.000006583057914,1.0,1.0000000066080927,1.7166673094329594,2.5867597891538456,2.87745378915964]},{\"line\":{\"color\":\"rgba(251, 128, 114, 0.3898305084745764)\",\"dash\":\"solid\",\"shape\":\"linear\",\"width\":1.3},\"mode\":\"lines\",\"name\":\"PUFA 18:2 n-6 c,c\",\"text\":\"\",\"type\":\"scatter\",\"x\":[0.4238386990504271,0.6357580485756407,0.7629096582907687,0.8476773981008542,0.9324451379109396,1.017212877721025,1.1019806175311104,1.1867483573411959,1.2715160971512813,1.6953547962017084],\"y\":[1.4419716938144411,1.3661651615438208,1.0166722141219866,1.016672211980115,1.000001675602902,1.0,0.9999999958639634,0.6494274946027754,0.2238040363218702,0.08160499794570537]},{\"line\":{\"color\":\"rgba(128, 177, 211, 0.3898305084745764)\",\"dash\":\"solid\",\"shape\":\"linear\",\"width\":1.3},\"mode\":\"lines\",\"name\":\"PUFA 18:2 CLAs\",\"text\":\"\",\"type\":\"scatter\",\"x\":[0.4238386990504271,0.6357580485756407,0.7629096582907687,0.8476773981008542,0.9324451379109396,1.017212877721025,1.1019806175311104,1.1867483573411959,1.2715160971512813,1.6953547962017084],\"y\":[1.4297992848826042,1.3520590764103253,1.015437783520783,1.015437781438471,1.0000015323645206,1.0,0.9999999955503646,0.6182769891993195,0.1548342837658979,1.765017990381124e-11]},{\"line\":{\"color\":\"rgba(255, 153, 51, 0.3898305084745764)\",\"dash\":\"solid\",\"shape\":\"linear\",\"width\":1.3},\"mode\":\"lines\",\"name\":\"PUFA 18:3 c\",\"text\":\"\",\"type\":\"scatter\",\"x\":[0.4238386990504271,0.6357580485756407,0.7629096582907687,0.8476773981008542,0.9324451379109396,1.017212877721025,1.1019806175311104,1.1867483573411959,1.2715160971512813,1.6953547962017084],\"y\":[1.8590076065932304,1.8494502797422732,1.0589647377644094,1.058964733581986,1.000006583057914,1.0,1.000000006608093,1.7166673094329596,2.5867597891538456,2.87745378915964]},{\"line\":{\"color\":\"rgba(255, 153, 51, 0.32203389830508483)\",\"dash\":\"solid\",\"shape\":\"linear\",\"width\":1.3},\"mode\":\"lines\",\"name\":\"PUFA 18:3 n-3 c,c,c (ALA)\",\"text\":\"\",\"type\":\"scatter\",\"x\":[0.4238386990504271,0.6357580485756407,0.7629096582907687,0.8476773981008542,0.9324451379109396,1.017212877721025,1.1019806175311104,1.1867483573411959,1.2715160971512813,1.6953547962017084],\"y\":[1.4426205287943568,1.3669170687066128,1.0167380138957884,1.016738011750742,1.0000016832380443,1.0,0.9999999958806793,0.6510879331947578,0.2274803824144991,0.08595484993376815]},{\"line\":{\"color\":\"rgba(55, 128, 191, 0.32203389830508483)\",\"dash\":\"solid\",\"shape\":\"linear\",\"width\":1.3},\"mode\":\"lines\",\"name\":\"PUFA 20:2 c\",\"text\":\"\",\"type\":\"scatter\",\"x\":[0.4238386990504271,0.6357580485756407,0.7629096582907687,0.8476773981008542,0.9324451379109396,1.017212877721025,1.1019806175311104,1.1867483573411959,1.2715160971512813,1.6953547962017084],\"y\":[1.8590076065932304,1.8494502797422732,1.0589647377644094,1.058964733581986,1.000006583057914,1.0,1.000000006608093,1.7166673094329596,2.5867597891538456,2.87745378915964]},{\"line\":{\"color\":\"rgba(50, 171, 96, 0.32203389830508483)\",\"dash\":\"solid\",\"shape\":\"linear\",\"width\":1.3},\"mode\":\"lines\",\"name\":\"PUFA 20:2 n-6 c,c\",\"text\":\"\",\"type\":\"scatter\",\"x\":[0.4238386990504271,0.6357580485756407,0.7629096582907687,0.8476773981008542,0.9324451379109396,1.017212877721025,1.1019806175311104,1.1867483573411959,1.2715160971512813,1.6953547962017084],\"y\":[1.8590076065932304,1.8494502797422732,1.0589647377644094,1.058964733581986,1.000006583057914,1.0,1.000000006608093,1.7166673094329596,2.5867597891538456,2.87745378915964]},{\"line\":{\"color\":\"rgba(128, 0, 128, 0.32203389830508483)\",\"dash\":\"solid\",\"shape\":\"linear\",\"width\":1.3},\"mode\":\"lines\",\"name\":\"PUFA 20:3 n-6\",\"text\":\"\",\"type\":\"scatter\",\"x\":[0.4238386990504271,0.6357580485756407,0.7629096582907687,0.8476773981008542,0.9324451379109396,1.017212877721025,1.1019806175311104,1.1867483573411959,1.2715160971512813,1.6953547962017084],\"y\":[1.4297992848826042,1.3520590764103253,1.015437783520783,1.015437781438471,1.0000015323645206,1.0,0.9999999955503646,0.6182769891993195,0.1548342837658979,1.765017990381124e-11]},{\"line\":{\"color\":\"rgba(219, 64, 82, 0.32203389830508483)\",\"dash\":\"solid\",\"shape\":\"linear\",\"width\":1.3},\"mode\":\"lines\",\"name\":\"PUFA 2:4 c\",\"text\":\"\",\"type\":\"scatter\",\"x\":[0.4238386990504271,0.6357580485756407,0.7629096582907687,0.8476773981008542,0.9324451379109396,1.017212877721025,1.1019806175311104,1.1867483573411959,1.2715160971512813,1.6953547962017084],\"y\":[1.8590076065932302,1.8494502797422732,1.0589647377644094,1.0589647335819863,1.000006583057914,1.0,1.0000000066080927,1.7166673094329594,2.5867597891538456,2.87745378915964]},{\"line\":{\"color\":\"rgba(0, 128, 128, 0.32203389830508483)\",\"dash\":\"solid\",\"shape\":\"linear\",\"width\":1.3},\"mode\":\"lines\",\"name\":\"PUFA 2:5 c\",\"text\":\"\",\"type\":\"scatter\",\"x\":[0.4238386990504271,0.6357580485756407,0.7629096582907687,0.8476773981008542,0.9324451379109396,1.017212877721025,1.1019806175311104,1.1867483573411959,1.2715160971512813,1.6953547962017084],\"y\":[1.8590076065932304,1.8494502797422732,1.0589647377644094,1.058964733581986,1.000006583057914,1.0,1.000000006608093,1.7166673094329596,2.586759789153846,2.87745378915964]},{\"line\":{\"color\":\"rgba(255, 255, 51, 0.32203389830508483)\",\"dash\":\"solid\",\"shape\":\"linear\",\"width\":1.3},\"mode\":\"lines\",\"name\":\"PUFA 22:5 c\",\"text\":\"\",\"type\":\"scatter\",\"x\":[0.4238386990504271,0.6357580485756407,0.7629096582907687,0.8476773981008542,0.9324451379109396,1.017212877721025,1.1019806175311104,1.1867483573411959,1.2715160971512813,1.6953547962017084],\"y\":[1.8590076065932304,1.8494502797422732,1.0589647377644094,1.058964733581986,1.000006583057914,1.0,1.000000006608093,1.7166673094329596,2.5867597891538456,2.87745378915964]},{\"line\":{\"color\":\"rgba(128, 128, 0, 0.32203389830508483)\",\"dash\":\"solid\",\"shape\":\"linear\",\"width\":1.3},\"mode\":\"lines\",\"name\":\"PUFA 22:4\",\"text\":\"\",\"type\":\"scatter\",\"x\":[0.4238386990504271,0.6357580485756407,0.7629096582907687,0.8476773981008542,0.9324451379109396,1.017212877721025,1.1019806175311104,1.1867483573411959,1.2715160971512813,1.6953547962017084],\"y\":[1.8590076065932304,1.8494502797422732,1.0589647377644094,1.058964733581986,1.000006583057914,1.0,1.000000006608093,1.7166673094329596,2.5867597891538456,2.87745378915964]},{\"line\":{\"color\":\"rgba(251, 128, 114, 0.32203389830508483)\",\"dash\":\"solid\",\"shape\":\"linear\",\"width\":1.3},\"mode\":\"lines\",\"name\":\"PUFA 22:6 c\",\"text\":\"\",\"type\":\"scatter\",\"x\":[0.4238386990504271,0.6357580485756407,0.7629096582907687,0.8476773981008542,0.9324451379109396,1.017212877721025,1.1019806175311104,1.1867483573411959,1.2715160971512813,1.6953547962017084],\"y\":[1.85900760659323,1.849450279742273,1.0589647377644091,1.058964733581986,1.000006583057914,1.0,1.000000006608093,1.7166673094329592,2.5867597891538456,2.87745378915964]},{\"line\":{\"color\":\"rgba(128, 177, 211, 0.32203389830508483)\",\"dash\":\"solid\",\"shape\":\"linear\",\"width\":1.3},\"mode\":\"lines\",\"name\":\"Fatty acids, total trans-monoenoic\",\"text\":\"\",\"type\":\"scatter\",\"x\":[0.4238386990504271,0.6357580485756407,0.7629096582907687,0.8476773981008542,0.9324451379109396,1.017212877721025,1.1019806175311104,1.1867483573411959,1.2715160971512813,1.6953547962017084],\"y\":[1.4316056158348158,1.3541523562478535,1.0156209674916634,1.0156209654005128,1.0000015536204547,1.0,0.9999999955969012,0.6228995846446731,0.16506908605571954,0.01210981611387488]},{\"line\":{\"color\":\"rgba(128, 177, 211, 0.2542372881355935)\",\"dash\":\"solid\",\"shape\":\"linear\",\"width\":1.3},\"mode\":\"lines\",\"name\":\"TFA 16:1 t\",\"text\":\"\",\"type\":\"scatter\",\"x\":[0.4238386990504271,0.6357580485756407,0.7629096582907687,0.8476773981008542,0.9324451379109396,1.017212877721025,1.1019806175311104,1.1867483573411959,1.2715160971512813,1.6953547962017084],\"y\":[1.438855311686065,1.3625537193175905,1.0163561749972865,1.0163561728706632,1.0000016389309883,1.0,0.9999999957836758,0.6414523371074237,0.206146388976338,0.06071247301055957]},{\"line\":{\"color\":\"rgba(255, 153, 51, 0.2542372881355935)\",\"dash\":\"solid\",\"shape\":\"linear\",\"width\":1.3},\"mode\":\"lines\",\"name\":\"TFA 18:1 t\",\"text\":\"\",\"type\":\"scatter\",\"x\":[0.4238386990504271,0.6357580485756407,0.7629096582907687,0.8476773981008542,0.9324451379109396,1.017212877721025,1.1019806175311104,1.1867483573411959,1.2715160971512813,1.6953547962017084],\"y\":[1.4308025020883393,1.3532216620078623,1.015539521970859,1.0155395198836379,1.0000015441698427,1.0,0.9999999955762107,0.6208443300735116,0.16051858527325688,0.006725664465322653]},{\"line\":{\"color\":\"rgba(55, 128, 191, 0.2542372881355935)\",\"dash\":\"solid\",\"shape\":\"linear\",\"width\":1.3},\"mode\":\"lines\",\"name\":\"TFA 18:2 t not further defined\",\"text\":\"\",\"type\":\"scatter\",\"x\":[0.4238386990504271,0.6357580485756407,0.7629096582907687,0.8476773981008542,0.9324451379109396,1.017212877721025,1.1019806175311104,1.1867483573411959,1.2715160971512813,1.6953547962017084],\"y\":[1.4297992848826044,1.3520590764103253,1.0154377835207833,1.015437781438471,1.0000015323645206,1.0,0.9999999955503646,0.6182769891993196,0.1548342837658979,1.765017990381124e-11]},{\"line\":{\"color\":\"rgba(50, 171, 96, 0.2542372881355935)\",\"dash\":\"solid\",\"shape\":\"linear\",\"width\":1.3},\"mode\":\"lines\",\"name\":\"Fatty acids, total trans-polyenoic\",\"text\":\"\",\"type\":\"scatter\",\"x\":[0.4238386990504271,0.6357580485756407,0.7629096582907687,0.8476773981008542,0.9324451379109396,1.017212877721025,1.1019806175311104,1.1867483573411959,1.2715160971512813,1.6953547962017084],\"y\":[1.4297992848826044,1.3520590764103253,1.0154377835207833,1.015437781438471,1.0000015323645206,1.0,0.9999999955503646,0.6182769891993196,0.1548342837658979,1.765017990381124e-11]},{\"line\":{\"color\":\"rgba(128, 0, 128, 0.2542372881355935)\",\"dash\":\"solid\",\"shape\":\"linear\",\"width\":1.3},\"mode\":\"lines\",\"name\":\"Vitamin A, IU\",\"text\":\"\",\"type\":\"scatter\",\"x\":[0.4238386990504271,0.6357580485756407,0.7629096582907687,0.8476773981008542,0.9324451379109396,1.017212877721025,1.1019806175311104,1.1867483573411959,1.2715160971512813,1.6953547962017084],\"y\":[1.4297992848826044,1.3520590764103253,1.015437783520783,1.015437781438471,1.0000015323645204,1.0,0.9999999955503646,0.6182769891993196,0.1548342837658979,1.765017990381124e-11]},{\"line\":{\"color\":\"rgba(219, 64, 82, 0.2542372881355935)\",\"dash\":\"solid\",\"shape\":\"linear\",\"width\":1.3},\"mode\":\"lines\",\"name\":\"Cystine\",\"text\":\"\",\"type\":\"scatter\",\"x\":[0.4238386990504271,0.6357580485756407,0.7629096582907687,0.8476773981008542,0.9324451379109396,1.017212877721025,1.1019806175311104,1.1867483573411959,1.2715160971512813,1.6953547962017084],\"y\":[1.4297992848826044,1.3520590764103253,1.0154377835207833,1.015437781438471,1.0000015323645206,1.0,0.9999999955503647,0.6182769891993196,0.15483428376589792,1.7650179903811243e-11]},{\"line\":{\"color\":\"rgba(0, 128, 128, 0.2542372881355935)\",\"dash\":\"solid\",\"shape\":\"linear\",\"width\":1.3},\"mode\":\"lines\",\"name\":\"MUFA 14:1\",\"text\":\"\",\"type\":\"scatter\",\"x\":[0.4238386990504271,0.6357580485756407,0.7629096582907687,0.8476773981008542,0.9324451379109396,1.017212877721025,1.1019806175311104,1.1867483573411959,1.2715160971512813,1.6953547962017084],\"y\":[1.4297992848826047,1.3520590764103255,1.0154377835207833,1.0154377814384712,1.0000015323645206,1.0,0.9999999955503647,0.6182769891993197,0.15483428376589792,1.7650179903811243e-11]},{\"line\":{\"color\":\"rgba(255, 255, 51, 0.2542372881355935)\",\"dash\":\"solid\",\"shape\":\"linear\",\"width\":1.3},\"mode\":\"lines\",\"name\":\"PUFA 20:3\",\"text\":\"\",\"type\":\"scatter\",\"x\":[0.4238386990504271,0.6357580485756407,0.7629096582907687,0.8476773981008542,0.9324451379109396,1.017212877721025,1.1019806175311104,1.1867483573411959,1.2715160971512813,1.6953547962017084],\"y\":[1.4297992848826042,1.3520590764103253,1.015437783520783,1.015437781438471,1.0000015323645206,1.0,0.9999999955503646,0.6182769891993195,0.1548342837658979,1.765017990381124e-11]}],                        {\"legend\":{\"bgcolor\":\"#F5F6F9\",\"font\":{\"color\":\"#4D5663\"}},\"paper_bgcolor\":\"#F5F6F9\",\"plot_bgcolor\":\"#F5F6F9\",\"template\":{\"data\":{\"bar\":[{\"error_x\":{\"color\":\"#2a3f5f\"},\"error_y\":{\"color\":\"#2a3f5f\"},\"marker\":{\"line\":{\"color\":\"#E5ECF6\",\"width\":0.5},\"pattern\":{\"fillmode\":\"overlay\",\"size\":10,\"solidity\":0.2}},\"type\":\"bar\"}],\"barpolar\":[{\"marker\":{\"line\":{\"color\":\"#E5ECF6\",\"width\":0.5},\"pattern\":{\"fillmode\":\"overlay\",\"size\":10,\"solidity\":0.2}},\"type\":\"barpolar\"}],\"carpet\":[{\"aaxis\":{\"endlinecolor\":\"#2a3f5f\",\"gridcolor\":\"white\",\"linecolor\":\"white\",\"minorgridcolor\":\"white\",\"startlinecolor\":\"#2a3f5f\"},\"baxis\":{\"endlinecolor\":\"#2a3f5f\",\"gridcolor\":\"white\",\"linecolor\":\"white\",\"minorgridcolor\":\"white\",\"startlinecolor\":\"#2a3f5f\"},\"type\":\"carpet\"}],\"choropleth\":[{\"colorbar\":{\"outlinewidth\":0,\"ticks\":\"\"},\"type\":\"choropleth\"}],\"contour\":[{\"colorbar\":{\"outlinewidth\":0,\"ticks\":\"\"},\"colorscale\":[[0.0,\"#0d0887\"],[0.1111111111111111,\"#46039f\"],[0.2222222222222222,\"#7201a8\"],[0.3333333333333333,\"#9c179e\"],[0.4444444444444444,\"#bd3786\"],[0.5555555555555556,\"#d8576b\"],[0.6666666666666666,\"#ed7953\"],[0.7777777777777778,\"#fb9f3a\"],[0.8888888888888888,\"#fdca26\"],[1.0,\"#f0f921\"]],\"type\":\"contour\"}],\"contourcarpet\":[{\"colorbar\":{\"outlinewidth\":0,\"ticks\":\"\"},\"type\":\"contourcarpet\"}],\"heatmap\":[{\"colorbar\":{\"outlinewidth\":0,\"ticks\":\"\"},\"colorscale\":[[0.0,\"#0d0887\"],[0.1111111111111111,\"#46039f\"],[0.2222222222222222,\"#7201a8\"],[0.3333333333333333,\"#9c179e\"],[0.4444444444444444,\"#bd3786\"],[0.5555555555555556,\"#d8576b\"],[0.6666666666666666,\"#ed7953\"],[0.7777777777777778,\"#fb9f3a\"],[0.8888888888888888,\"#fdca26\"],[1.0,\"#f0f921\"]],\"type\":\"heatmap\"}],\"heatmapgl\":[{\"colorbar\":{\"outlinewidth\":0,\"ticks\":\"\"},\"colorscale\":[[0.0,\"#0d0887\"],[0.1111111111111111,\"#46039f\"],[0.2222222222222222,\"#7201a8\"],[0.3333333333333333,\"#9c179e\"],[0.4444444444444444,\"#bd3786\"],[0.5555555555555556,\"#d8576b\"],[0.6666666666666666,\"#ed7953\"],[0.7777777777777778,\"#fb9f3a\"],[0.8888888888888888,\"#fdca26\"],[1.0,\"#f0f921\"]],\"type\":\"heatmapgl\"}],\"histogram\":[{\"marker\":{\"pattern\":{\"fillmode\":\"overlay\",\"size\":10,\"solidity\":0.2}},\"type\":\"histogram\"}],\"histogram2d\":[{\"colorbar\":{\"outlinewidth\":0,\"ticks\":\"\"},\"colorscale\":[[0.0,\"#0d0887\"],[0.1111111111111111,\"#46039f\"],[0.2222222222222222,\"#7201a8\"],[0.3333333333333333,\"#9c179e\"],[0.4444444444444444,\"#bd3786\"],[0.5555555555555556,\"#d8576b\"],[0.6666666666666666,\"#ed7953\"],[0.7777777777777778,\"#fb9f3a\"],[0.8888888888888888,\"#fdca26\"],[1.0,\"#f0f921\"]],\"type\":\"histogram2d\"}],\"histogram2dcontour\":[{\"colorbar\":{\"outlinewidth\":0,\"ticks\":\"\"},\"colorscale\":[[0.0,\"#0d0887\"],[0.1111111111111111,\"#46039f\"],[0.2222222222222222,\"#7201a8\"],[0.3333333333333333,\"#9c179e\"],[0.4444444444444444,\"#bd3786\"],[0.5555555555555556,\"#d8576b\"],[0.6666666666666666,\"#ed7953\"],[0.7777777777777778,\"#fb9f3a\"],[0.8888888888888888,\"#fdca26\"],[1.0,\"#f0f921\"]],\"type\":\"histogram2dcontour\"}],\"mesh3d\":[{\"colorbar\":{\"outlinewidth\":0,\"ticks\":\"\"},\"type\":\"mesh3d\"}],\"parcoords\":[{\"line\":{\"colorbar\":{\"outlinewidth\":0,\"ticks\":\"\"}},\"type\":\"parcoords\"}],\"pie\":[{\"automargin\":true,\"type\":\"pie\"}],\"scatter\":[{\"marker\":{\"colorbar\":{\"outlinewidth\":0,\"ticks\":\"\"}},\"type\":\"scatter\"}],\"scatter3d\":[{\"line\":{\"colorbar\":{\"outlinewidth\":0,\"ticks\":\"\"}},\"marker\":{\"colorbar\":{\"outlinewidth\":0,\"ticks\":\"\"}},\"type\":\"scatter3d\"}],\"scattercarpet\":[{\"marker\":{\"colorbar\":{\"outlinewidth\":0,\"ticks\":\"\"}},\"type\":\"scattercarpet\"}],\"scattergeo\":[{\"marker\":{\"colorbar\":{\"outlinewidth\":0,\"ticks\":\"\"}},\"type\":\"scattergeo\"}],\"scattergl\":[{\"marker\":{\"colorbar\":{\"outlinewidth\":0,\"ticks\":\"\"}},\"type\":\"scattergl\"}],\"scattermapbox\":[{\"marker\":{\"colorbar\":{\"outlinewidth\":0,\"ticks\":\"\"}},\"type\":\"scattermapbox\"}],\"scatterpolar\":[{\"marker\":{\"colorbar\":{\"outlinewidth\":0,\"ticks\":\"\"}},\"type\":\"scatterpolar\"}],\"scatterpolargl\":[{\"marker\":{\"colorbar\":{\"outlinewidth\":0,\"ticks\":\"\"}},\"type\":\"scatterpolargl\"}],\"scatterternary\":[{\"marker\":{\"colorbar\":{\"outlinewidth\":0,\"ticks\":\"\"}},\"type\":\"scatterternary\"}],\"surface\":[{\"colorbar\":{\"outlinewidth\":0,\"ticks\":\"\"},\"colorscale\":[[0.0,\"#0d0887\"],[0.1111111111111111,\"#46039f\"],[0.2222222222222222,\"#7201a8\"],[0.3333333333333333,\"#9c179e\"],[0.4444444444444444,\"#bd3786\"],[0.5555555555555556,\"#d8576b\"],[0.6666666666666666,\"#ed7953\"],[0.7777777777777778,\"#fb9f3a\"],[0.8888888888888888,\"#fdca26\"],[1.0,\"#f0f921\"]],\"type\":\"surface\"}],\"table\":[{\"cells\":{\"fill\":{\"color\":\"#EBF0F8\"},\"line\":{\"color\":\"white\"}},\"header\":{\"fill\":{\"color\":\"#C8D4E3\"},\"line\":{\"color\":\"white\"}},\"type\":\"table\"}]},\"layout\":{\"annotationdefaults\":{\"arrowcolor\":\"#2a3f5f\",\"arrowhead\":0,\"arrowwidth\":1},\"autotypenumbers\":\"strict\",\"coloraxis\":{\"colorbar\":{\"outlinewidth\":0,\"ticks\":\"\"}},\"colorscale\":{\"diverging\":[[0,\"#8e0152\"],[0.1,\"#c51b7d\"],[0.2,\"#de77ae\"],[0.3,\"#f1b6da\"],[0.4,\"#fde0ef\"],[0.5,\"#f7f7f7\"],[0.6,\"#e6f5d0\"],[0.7,\"#b8e186\"],[0.8,\"#7fbc41\"],[0.9,\"#4d9221\"],[1,\"#276419\"]],\"sequential\":[[0.0,\"#0d0887\"],[0.1111111111111111,\"#46039f\"],[0.2222222222222222,\"#7201a8\"],[0.3333333333333333,\"#9c179e\"],[0.4444444444444444,\"#bd3786\"],[0.5555555555555556,\"#d8576b\"],[0.6666666666666666,\"#ed7953\"],[0.7777777777777778,\"#fb9f3a\"],[0.8888888888888888,\"#fdca26\"],[1.0,\"#f0f921\"]],\"sequentialminus\":[[0.0,\"#0d0887\"],[0.1111111111111111,\"#46039f\"],[0.2222222222222222,\"#7201a8\"],[0.3333333333333333,\"#9c179e\"],[0.4444444444444444,\"#bd3786\"],[0.5555555555555556,\"#d8576b\"],[0.6666666666666666,\"#ed7953\"],[0.7777777777777778,\"#fb9f3a\"],[0.8888888888888888,\"#fdca26\"],[1.0,\"#f0f921\"]]},\"colorway\":[\"#636efa\",\"#EF553B\",\"#00cc96\",\"#ab63fa\",\"#FFA15A\",\"#19d3f3\",\"#FF6692\",\"#B6E880\",\"#FF97FF\",\"#FECB52\"],\"font\":{\"color\":\"#2a3f5f\"},\"geo\":{\"bgcolor\":\"white\",\"lakecolor\":\"white\",\"landcolor\":\"#E5ECF6\",\"showlakes\":true,\"showland\":true,\"subunitcolor\":\"white\"},\"hoverlabel\":{\"align\":\"left\"},\"hovermode\":\"closest\",\"mapbox\":{\"style\":\"light\"},\"paper_bgcolor\":\"white\",\"plot_bgcolor\":\"#E5ECF6\",\"polar\":{\"angularaxis\":{\"gridcolor\":\"white\",\"linecolor\":\"white\",\"ticks\":\"\"},\"bgcolor\":\"#E5ECF6\",\"radialaxis\":{\"gridcolor\":\"white\",\"linecolor\":\"white\",\"ticks\":\"\"}},\"scene\":{\"xaxis\":{\"backgroundcolor\":\"#E5ECF6\",\"gridcolor\":\"white\",\"gridwidth\":2,\"linecolor\":\"white\",\"showbackground\":true,\"ticks\":\"\",\"zerolinecolor\":\"white\"},\"yaxis\":{\"backgroundcolor\":\"#E5ECF6\",\"gridcolor\":\"white\",\"gridwidth\":2,\"linecolor\":\"white\",\"showbackground\":true,\"ticks\":\"\",\"zerolinecolor\":\"white\"},\"zaxis\":{\"backgroundcolor\":\"#E5ECF6\",\"gridcolor\":\"white\",\"gridwidth\":2,\"linecolor\":\"white\",\"showbackground\":true,\"ticks\":\"\",\"zerolinecolor\":\"white\"}},\"shapedefaults\":{\"line\":{\"color\":\"#2a3f5f\"}},\"ternary\":{\"aaxis\":{\"gridcolor\":\"white\",\"linecolor\":\"white\",\"ticks\":\"\"},\"baxis\":{\"gridcolor\":\"white\",\"linecolor\":\"white\",\"ticks\":\"\"},\"bgcolor\":\"#E5ECF6\",\"caxis\":{\"gridcolor\":\"white\",\"linecolor\":\"white\",\"ticks\":\"\"}},\"title\":{\"x\":0.05},\"xaxis\":{\"automargin\":true,\"gridcolor\":\"white\",\"linecolor\":\"white\",\"ticks\":\"\",\"title\":{\"standoff\":15},\"zerolinecolor\":\"white\",\"zerolinewidth\":2},\"yaxis\":{\"automargin\":true,\"gridcolor\":\"white\",\"linecolor\":\"white\",\"ticks\":\"\",\"title\":{\"standoff\":15},\"zerolinecolor\":\"white\",\"zerolinewidth\":2}}},\"title\":{\"font\":{\"color\":\"#4D5663\"}},\"xaxis\":{\"gridcolor\":\"#E1E5ED\",\"showgrid\":true,\"tickfont\":{\"color\":\"#4D5663\"},\"title\":{\"font\":{\"color\":\"#4D5663\"},\"text\":\"Greek yogurt Price\"},\"zerolinecolor\":\"#E1E5ED\"},\"yaxis\":{\"gridcolor\":\"#E1E5ED\",\"showgrid\":true,\"tickfont\":{\"color\":\"#4D5663\"},\"title\":{\"font\":{\"color\":\"#4D5663\"},\"text\":\"%Change\"},\"zerolinecolor\":\"#E1E5ED\"}},                        {\"showLink\": true, \"linkText\": \"Export to plot.ly\", \"plotlyServerURL\": \"https://plot.ly\", \"responsive\": true}                    ).then(function(){\n",
       "                            \n",
       "var gd = document.getElementById('78fa9cfc-4c15-4a46-9259-ab8fd328835b');\n",
       "var x = new MutationObserver(function (mutations, observer) {{\n",
       "        var display = window.getComputedStyle(gd).display;\n",
       "        if (!display || display === 'none') {{\n",
       "            console.log([gd, 'removed!']);\n",
       "            Plotly.purge(gd);\n",
       "            observer.disconnect();\n",
       "        }}\n",
       "}});\n",
       "\n",
       "// Listen for the removal of the full notebook cells\n",
       "var notebookContainer = gd.closest('#notebook-container');\n",
       "if (notebookContainer) {{\n",
       "    x.observe(notebookContainer, {childList: true});\n",
       "}}\n",
       "\n",
       "// Listen for the clearing of the current output cell\n",
       "var outputEl = gd.closest('.output');\n",
       "if (outputEl) {{\n",
       "    x.observe(outputEl, {childList: true});\n",
       "}}\n",
       "\n",
       "                        })                };                });            </script>        </div>"
      ]
     },
     "metadata": {},
     "output_type": "display_data"
    }
   ],
   "source": [
    "Nutrient_by_Place['BerkeleyBowl'].iplot(xTitle='%s Price' % ReferenceGood, yTitle=r'%Change')\n"
   ]
  },
  {
   "cell_type": "code",
   "execution_count": 70,
   "id": "de8bd406",
   "metadata": {},
   "outputs": [
    {
     "ename": "NameError",
     "evalue": "name 'NutrientResponse' is not defined",
     "output_type": "error",
     "traceback": [
      "\u001b[0;31m---------------------------------------------------------------------------\u001b[0m",
      "\u001b[0;31mNameError\u001b[0m                                 Traceback (most recent call last)",
      "Input \u001b[0;32mIn [70]\u001b[0m, in \u001b[0;36m<cell line: 2>\u001b[0;34m()\u001b[0m\n\u001b[1;32m      1\u001b[0m \u001b[38;5;66;03m# Drop columns of missing nutrients\u001b[39;00m\n\u001b[0;32m----> 2\u001b[0m NutrientResponse \u001b[38;5;241m=\u001b[39m \u001b[43mNutrientResponse\u001b[49m\u001b[38;5;241m.\u001b[39mloc[:,NutrientResponse\u001b[38;5;241m.\u001b[39mcount() \u001b[38;5;241m>\u001b[39m \u001b[38;5;241m0\u001b[39m]\n\u001b[1;32m      3\u001b[0m NutrientResponse\n",
      "\u001b[0;31mNameError\u001b[0m: name 'NutrientResponse' is not defined"
     ]
    }
   ],
   "source": [
    "# Drop columns of missing nutrients\n",
    "NutrientResponse = NutrientResponse.loc[:,NutrientResponse.count() > 0]\n",
    "NutrientResponse"
   ]
  },
  {
   "cell_type": "code",
   "execution_count": null,
   "id": "e97c129f",
   "metadata": {},
   "outputs": [],
   "source": []
  }
 ],
 "metadata": {
  "kernelspec": {
   "display_name": "Python 3 (ipykernel)",
   "language": "python",
   "name": "python3"
  },
  "language_info": {
   "codemirror_mode": {
    "name": "ipython",
    "version": 3
   },
   "file_extension": ".py",
   "mimetype": "text/x-python",
   "name": "python",
   "nbconvert_exporter": "python",
   "pygments_lexer": "ipython3",
   "version": "3.9.10"
  }
 },
 "nbformat": 4,
 "nbformat_minor": 5
}
